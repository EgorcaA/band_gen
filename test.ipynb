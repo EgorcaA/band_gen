{
 "cells": [
  {
   "cell_type": "code",
   "execution_count": 96,
   "metadata": {},
   "outputs": [],
   "source": [
    "# from train_autoencoder import *\n",
    "import numpy as np\n",
    "import matplotlib.pyplot as plt\n",
    "from mpcontribs.client import Client\n",
    "\n",
    "from mp_api.client import MPRester\n",
    "import numpy as np\n",
    "import matplotlib.pyplot as plt\n",
    "import csv\n",
    "\n",
    "from tqdm import tqdm"
   ]
  },
  {
   "cell_type": "code",
   "execution_count": 4,
   "metadata": {},
   "outputs": [],
   "source": [
    "apikey = 'SFTntPIf0QnTef7f6sZKkBSwGILrxlXZ'\n",
    "client = Client(apikey=apikey, project=\"2dmatpedia\")\n"
   ]
  },
  {
   "cell_type": "code",
   "execution_count": 11,
   "metadata": {},
   "outputs": [
    {
     "name": "stdout",
     "output_type": "stream",
     "text": [
      "Totals: 100%|##########| 50/50 [00:05<00:00,  9.80it/s]\n",
      "Totals: 100%|##########| 50/50 [00:05<00:00,  9.78it/s]\n"
     ]
    },
    {
     "data": {
      "text/plain": [
       "{'total_count': 6349,\n",
       " 'data': [{'identifier': 'mp-972889', 'formula': 'ScSn3'},\n",
       "  {'identifier': 'mp-570356', 'formula': 'Ca5Ir'},\n",
       "  {'identifier': 'mp-570356', 'formula': 'Ca5Ir'},\n",
       "  {'identifier': 'mp-525', 'formula': 'NbSe3'},\n",
       "  {'identifier': 'mp-1443', 'formula': 'Sn3F8'},\n",
       "  {'identifier': 'mp-567471', 'formula': 'HgI2'},\n",
       "  {'identifier': 'mp-27975', 'formula': 'NdBr3'},\n",
       "  {'identifier': 'mp-484', 'formula': 'Te3As2'},\n",
       "  {'identifier': 'mp-11675', 'formula': 'NbTe2'},\n",
       "  {'identifier': 'mp-27734', 'formula': 'CrBr3'},\n",
       "  {'identifier': 'mp-542634', 'formula': 'Ta2Te3'},\n",
       "  {'identifier': 'mp-28233', 'formula': 'MnCl2'},\n",
       "  {'identifier': 'mp-1880', 'formula': 'SbF3'},\n",
       "  {'identifier': 'mp-29803', 'formula': 'SiH'},\n",
       "  {'identifier': 'mp-570922', 'formula': 'MgCl2'},\n",
       "  {'identifier': 'mp-665', 'formula': 'SnSe2'},\n",
       "  {'identifier': 'mp-12693', 'formula': 'Mg2Rh'},\n",
       "  {'identifier': 'mp-2632', 'formula': 'TlF3'},\n",
       "  {'identifier': 'mp-29671', 'formula': 'TmI2'},\n",
       "  {'identifier': 'mp-2809', 'formula': 'Sb2S3'},\n",
       "  {'identifier': 'mp-998972', 'formula': 'TiAu'},\n",
       "  {'identifier': 'mp-567510', 'formula': 'BaSn2'},\n",
       "  {'identifier': 'mp-573810', 'formula': 'U2Te5'},\n",
       "  {'identifier': 'mp-667', 'formula': 'Tl2S'},\n",
       "  {'identifier': 'mp-667', 'formula': 'Tl2S'},\n",
       "  {'identifier': 'mp-28572', 'formula': 'LaBr2'},\n",
       "  {'identifier': 'mp-22116', 'formula': 'EuGe2'},\n",
       "  {'identifier': 'mp-995193', 'formula': 'Si3H'},\n",
       "  {'identifier': 'mp-7542', 'formula': 'GeP3'},\n",
       "  {'identifier': 'mp-12693', 'formula': 'Mg2Rh'},\n",
       "  {'identifier': 'mvc-15980', 'formula': 'BiF4'},\n",
       "  {'identifier': 'mp-19932', 'formula': 'In4Se3'},\n",
       "  {'identifier': 'mp-9254', 'formula': 'Al2Te5'},\n",
       "  {'identifier': 'mp-23192', 'formula': 'HgI2'},\n",
       "  {'identifier': 'mp-863878', 'formula': 'VF4'},\n",
       "  {'identifier': 'mp-7655', 'formula': 'BaSi2'},\n",
       "  {'identifier': 'mp-8094', 'formula': 'Ba2Hg'},\n",
       "  {'identifier': 'mp-1880', 'formula': 'SbF3'},\n",
       "  {'identifier': 'mvc-14464', 'formula': 'SnF3'},\n",
       "  {'identifier': 'mp-25643', 'formula': 'V2O5'},\n",
       "  {'identifier': 'mp-1379', 'formula': 'SnS'},\n",
       "  {'identifier': 'mp-23273', 'formula': 'TeI'},\n",
       "  {'identifier': 'mp-568128', 'formula': 'GaSe'},\n",
       "  {'identifier': 'mvc-13455', 'formula': 'MoN2'},\n",
       "  {'identifier': 'mvc-11686', 'formula': 'SnO2'},\n",
       "  {'identifier': 'mp-1008902', 'formula': 'LuSb2'},\n",
       "  {'identifier': 'mp-13152', 'formula': 'TiSe'},\n",
       "  {'identifier': 'mp-568128', 'formula': 'GaSe'},\n",
       "  {'identifier': 'mp-977242', 'formula': 'Hg3Sb'},\n",
       "  {'identifier': 'mp-34260', 'formula': 'ZrF4'},\n",
       "  {'identifier': 'mp-684670', 'formula': 'PtCl2'},\n",
       "  {'identifier': 'mp-27922', 'formula': 'GeI2'},\n",
       "  {'identifier': 'mvc-13455', 'formula': 'MoN2'},\n",
       "  {'identifier': 'mp-765923', 'formula': 'Mn2F7'},\n",
       "  {'identifier': 'mp-685136', 'formula': 'BiF3'},\n",
       "  {'identifier': 'mp-643430', 'formula': 'Al2S3'},\n",
       "  {'identifier': 'mvc-14624', 'formula': 'MoN'},\n",
       "  {'identifier': 'mp-680599', 'formula': 'VCo3'},\n",
       "  {'identifier': 'mp-990084', 'formula': 'Na2Cl'},\n",
       "  {'identifier': 'mp-995181', 'formula': 'SnGe'},\n",
       "  {'identifier': 'mp-765268', 'formula': 'Mn2F7'},\n",
       "  {'identifier': 'mp-635425', 'formula': 'AlF3'},\n",
       "  {'identifier': 'mp-1014298', 'formula': 'C3N'},\n",
       "  {'identifier': 'mp-1019086', 'formula': 'CN2'},\n",
       "  {'identifier': 'mvc-6067', 'formula': 'TaF5'},\n",
       "  {'identifier': 'mp-978259', 'formula': 'Mg2As'},\n",
       "  {'identifier': 'mp-1072327', 'formula': 'Sr2GdS3'},\n",
       "  {'identifier': 'mp-1094400', 'formula': 'MgTi'},\n",
       "  {'identifier': 'mp-1018159', 'formula': 'ErSb2'},\n",
       "  {'identifier': 'mp-1100385', 'formula': 'mp-1100385'},\n",
       "  {'identifier': 'mp-27863', 'formula': 'AlClO'},\n",
       "  {'identifier': 'mp-1025442', 'formula': 'IrI3'},\n",
       "  {'identifier': 'mp-1094585', 'formula': 'MgSb'},\n",
       "  {'identifier': 'mp-24422', 'formula': 'CaHBr'},\n",
       "  {'identifier': 'mp-20242', 'formula': 'RbMnAs'},\n",
       "  {'identifier': 'mp-2173', 'formula': 'P2O5'},\n",
       "  {'identifier': 'mp-23162', 'formula': 'ZrCl2'},\n",
       "  {'identifier': 'mp-1880', 'formula': 'SbF3'},\n",
       "  {'identifier': 'mp-29027', 'formula': 'TaI2O'},\n",
       "  {'identifier': 'mp-17945', 'formula': 'RbPSe6'},\n",
       "  {'identifier': 'mp-25142', 'formula': 'V2Pb3O8'},\n",
       "  {'identifier': 'mp-1683', 'formula': 'ZrSe3'},\n",
       "  {'identifier': 'mp-673168', 'formula': 'SiO2'},\n",
       "  {'identifier': 'mp-15956', 'formula': 'YBC'},\n",
       "  {'identifier': 'mp-715574', 'formula': 'MoO3'},\n",
       "  {'identifier': 'mp-763057', 'formula': 'Mn(CoO3)2'},\n",
       "  {'identifier': 'mp-9399', 'formula': 'SmTe3'},\n",
       "  {'identifier': 'mp-31013', 'formula': 'U(BO3)2'},\n",
       "  {'identifier': 'mp-849098', 'formula': 'VS2'},\n",
       "  {'identifier': 'mp-775831', 'formula': 'TiMn2O6'},\n",
       "  {'identifier': 'mp-625913', 'formula': 'TeHO3'},\n",
       "  {'identifier': 'mp-771797', 'formula': 'MnCoO4'},\n",
       "  {'identifier': 'mp-676040', 'formula': 'NiPS3'},\n",
       "  {'identifier': 'mp-996955', 'formula': 'HAuO2'},\n",
       "  {'identifier': 'mp-557619', 'formula': 'Bi14Te13S8'},\n",
       "  {'identifier': 'mp-772395', 'formula': 'LiV(OF)2'},\n",
       "  {'identifier': 'mp-568949', 'formula': 'TlBr'},\n",
       "  {'identifier': 'mp-765254', 'formula': 'W(OF)2'},\n",
       "  {'identifier': 'mp-754503', 'formula': 'ZrBrO'},\n",
       "  {'identifier': 'mp-643708', 'formula': 'LiH2IO'},\n",
       "  {'identifier': 'mp-625557', 'formula': 'Cd(HO)2'},\n",
       "  {'identifier': 'mp-570590', 'formula': 'CdBiSe2Br'},\n",
       "  {'identifier': 'mvc-1059', 'formula': 'Ba(MoO2)4'},\n",
       "  {'identifier': 'mp-977371', 'formula': 'PW4Cl11'},\n",
       "  {'identifier': 'mp-777556', 'formula': 'LiVF4'},\n",
       "  {'identifier': 'mp-28965', 'formula': 'AgBi2F12'},\n",
       "  {'identifier': 'mp-765215', 'formula': 'VF4'},\n",
       "  {'identifier': 'mp-567720', 'formula': 'CuHgSeBr'},\n",
       "  {'identifier': 'mp-1018798', 'formula': 'MgCuGe'},\n",
       "  {'identifier': 'mp-753163', 'formula': 'HoIO'},\n",
       "  {'identifier': 'mp-625513', 'formula': 'Te(HO2)2'},\n",
       "  {'identifier': 'mp-756439', 'formula': 'SrLaBr5'},\n",
       "  {'identifier': 'mp-504957', 'formula': 'RbReCl4'},\n",
       "  {'identifier': 'mp-1066497', 'formula': 'FeSe'},\n",
       "  {'identifier': 'mp-1064405', 'formula': 'ZnBi'},\n",
       "  {'identifier': 'mp-1039120', 'formula': 'CaMg'},\n",
       "  {'identifier': 'mp-1077788', 'formula': 'BPt2'},\n",
       "  {'identifier': 'mp-1025442', 'formula': 'IrI3'},\n",
       "  {'identifier': 'mp-1078607', 'formula': 'BiSe'},\n",
       "  {'identifier': 'mp-1025442', 'formula': 'IrI3'},\n",
       "  {'identifier': 'mp-1077288', 'formula': 'Na2Cl'},\n",
       "  {'identifier': 'mp-1077369', 'formula': 'RbC2'},\n",
       "  {'identifier': 'mp-1063118', 'formula': 'Si2O'},\n",
       "  {'identifier': 'mp-1077369', 'formula': 'RbC2'},\n",
       "  {'identifier': 'mp-1038761', 'formula': 'mp-1038761'},\n",
       "  {'identifier': 'mp-1016240', 'formula': 'mp-1016240'},\n",
       "  {'identifier': 'mp-765913', 'formula': 'LiFePO4'},\n",
       "  {'identifier': 'mp-23334', 'formula': 'Bi2TeO5'},\n",
       "  {'identifier': 'mp-20738', 'formula': 'FeSi2'},\n",
       "  {'identifier': 'mp-20050', 'formula': 'InP3'},\n",
       "  {'identifier': 'mp-27678', 'formula': 'Y2Cl3'},\n",
       "  {'identifier': 'mp-23293', 'formula': 'TbCl3'},\n",
       "  {'identifier': 'mvc-15980', 'formula': 'BiF4'},\n",
       "  {'identifier': 'mp-27924', 'formula': 'TbBr'},\n",
       "  {'identifier': 'mp-1863', 'formula': 'SiAs'},\n",
       "  {'identifier': 'mp-7655', 'formula': 'BaSi2'},\n",
       "  {'identifier': 'mp-1880', 'formula': 'SbF3'},\n",
       "  {'identifier': 'mp-568746', 'formula': 'Bi2Pd'},\n",
       "  {'identifier': 'mp-570219', 'formula': 'InBr3'},\n",
       "  {'identifier': 'mp-571558', 'formula': 'HgBr2'},\n",
       "  {'identifier': 'mp-570922', 'formula': 'MgCl2'},\n",
       "  {'identifier': 'mp-27507', 'formula': 'ScCl'},\n",
       "  {'identifier': 'mp-8732', 'formula': 'Ta2Se'},\n",
       "  {'identifier': 'mp-1379', 'formula': 'SnS'},\n",
       "  {'identifier': 'mp-571258', 'formula': 'Er6I7'},\n",
       "  {'identifier': 'mp-765332', 'formula': 'Mn3F8'},\n",
       "  {'identifier': 'mp-720', 'formula': 'TlF'},\n",
       "  {'identifier': 'mp-20662', 'formula': 'Sn4Pt'},\n",
       "  {'identifier': 'mp-998972', 'formula': 'TiAu'},\n",
       "  {'identifier': 'mp-570122', 'formula': 'Cr3Te4'},\n",
       "  {'identifier': 'mp-27513', 'formula': 'Sc7Cl10'},\n",
       "  {'identifier': 'mp-9996', 'formula': 'SiP2'},\n",
       "  {'identifier': 'mp-21405', 'formula': 'InSe'},\n",
       "  {'identifier': 'mp-1863', 'formula': 'SiAs'},\n",
       "  {'identifier': 'mp-570922', 'formula': 'MgCl2'},\n",
       "  {'identifier': 'mp-27747', 'formula': 'PdI2'},\n",
       "  {'identifier': 'mp-569581', 'formula': 'Bi2Pt'},\n",
       "  {'identifier': 'mp-28149', 'formula': 'Bi9I2'},\n",
       "  {'identifier': 'mvc-13531', 'formula': 'MoF4'},\n",
       "  {'identifier': 'mp-863878', 'formula': 'VF4'},\n",
       "  {'identifier': 'mp-752602', 'formula': 'BiBr3'},\n",
       "  {'identifier': 'mp-542449', 'formula': 'Sc5Cl8'},\n",
       "  {'identifier': 'mp-972889', 'formula': 'ScSn3'},\n",
       "  {'identifier': 'mp-27922', 'formula': 'GeI2'},\n",
       "  {'identifier': 'mp-29652', 'formula': 'TaSe3'},\n",
       "  {'identifier': 'mvc-14580', 'formula': 'SbO2'},\n",
       "  {'identifier': 'mvc-6083', 'formula': 'BiF5'},\n",
       "  {'identifier': 'mp-554055', 'formula': 'HoS'},\n",
       "  {'identifier': 'mp-1001825', 'formula': 'LiBe'},\n",
       "  {'identifier': 'mp-850099', 'formula': 'CuS2'},\n",
       "  {'identifier': 'mp-32580', 'formula': 'Ga2Te3'},\n",
       "  {'identifier': 'mp-27922', 'formula': 'GeI2'},\n",
       "  {'identifier': 'mvc-15178', 'formula': 'SbF4'},\n",
       "  {'identifier': 'mp-628781', 'formula': 'GeTe'},\n",
       "  {'identifier': 'mp-990084', 'formula': 'Na2Cl'},\n",
       "  {'identifier': 'mp-568128', 'formula': 'GaSe'},\n",
       "  {'identifier': 'mvc-11234', 'formula': 'FeS2'},\n",
       "  {'identifier': 'mp-29663', 'formula': 'Si3Ir'},\n",
       "  {'identifier': 'mvc-6392', 'formula': 'WF5'},\n",
       "  {'identifier': 'mp-571387', 'formula': 'MgCl2'},\n",
       "  {'identifier': 'mvc-13985', 'formula': 'SnF4'},\n",
       "  {'identifier': 'mp-685068', 'formula': 'YbBr3'},\n",
       "  {'identifier': 'mp-570782', 'formula': 'MgCl2'},\n",
       "  {'identifier': 'mvc-13455', 'formula': 'MoN2'},\n",
       "  {'identifier': 'mp-29663', 'formula': 'Si3Ir'},\n",
       "  {'identifier': 'mp-7096', 'formula': 'Fe3S4'},\n",
       "  {'identifier': 'mp-672271', 'formula': 'NbSe2'},\n",
       "  {'identifier': 'mp-1067644', 'formula': 'PdN'},\n",
       "  {'identifier': 'mp-1091368', 'formula': 'SrTa2O7'},\n",
       "  {'identifier': 'mp-1115', 'formula': 'PtSe2'},\n",
       "  {'identifier': 'mp-1078140', 'formula': 'Mn(InSe2)2'},\n",
       "  {'identifier': 'mp-1096941', 'formula': 'CuS'},\n",
       "  {'identifier': 'mp-23173', 'formula': 'HgI2'},\n",
       "  {'identifier': 'mp-1025406', 'formula': 'LiP3'},\n",
       "  {'identifier': 'mp-27679', 'formula': 'LaBr'},\n",
       "  {'identifier': 'mp-22035', 'formula': 'KFe2S3'},\n",
       "  {'identifier': 'mp-21096', 'formula': 'CaMnSi'},\n",
       "  {'identifier': 'mp-29251', 'formula': 'Te6Br2O11'},\n",
       "  {'identifier': 'mp-753445', 'formula': 'Sb4O5F2'},\n",
       "  {'identifier': 'mp-3525', 'formula': 'Sb2Te2Se'},\n",
       "  {'identifier': 'mp-755231', 'formula': 'LiTeO3'},\n",
       "  {'identifier': 'mp-675634', 'formula': 'KBi2F7'},\n",
       "  {'identifier': 'mvc-1121', 'formula': 'Ba2Cr3O8'},\n",
       "  {'identifier': 'mp-554799', 'formula': 'VF4'},\n",
       "  {'identifier': 'mvc-7329', 'formula': 'Ca(SbO2)2'},\n",
       "  {'identifier': 'mp-31903', 'formula': 'Ta2MnZn2O8'},\n",
       "  {'identifier': 'mp-557322', 'formula': 'Bi4Te2Br2O9'},\n",
       "  {'identifier': 'mp-642653', 'formula': 'BaH2O3'},\n",
       "  {'identifier': 'mp-753059', 'formula': 'TiOF'},\n",
       "  {'identifier': 'mp-33746', 'formula': 'SrCO3'},\n",
       "  {'identifier': 'mvc-11221', 'formula': 'WO2'},\n",
       "  {'identifier': 'mp-721216', 'formula': 'Al2Si2H4O9'},\n",
       "  {'identifier': 'mp-554921', 'formula': 'Hg(BiS2)2'},\n",
       "  {'identifier': 'mvc-11545', 'formula': 'NiO2'},\n",
       "  {'identifier': 'mp-626169', 'formula': 'U(HO2)2'},\n",
       "  {'identifier': 'mp-566329', 'formula': 'Ca3Fe2Cl2O5'},\n",
       "  {'identifier': 'mvc-3234', 'formula': 'Sr2CrSO3'},\n",
       "  {'identifier': 'mp-782683', 'formula': 'LiFe2O2F3'},\n",
       "  {'identifier': 'mp-761663', 'formula': 'Li2CoP2O7'},\n",
       "  {'identifier': 'mp-764228', 'formula': 'VOF3'},\n",
       "  {'identifier': 'mp-558944', 'formula': 'Tl2Cu3(SeO3)6'},\n",
       "  {'identifier': 'mp-971787', 'formula': 'VBr2'},\n",
       "  {'identifier': 'mp-765917', 'formula': 'LiV2OF5'},\n",
       "  {'identifier': 'mp-8998', 'formula': 'TaNiTe5'},\n",
       "  {'identifier': 'mp-764243', 'formula': 'VOF3'},\n",
       "  {'identifier': 'mp-29394', 'formula': 'Gd2CCl2'},\n",
       "  {'identifier': 'mp-579909', 'formula': 'C'},\n",
       "  {'identifier': 'mp-765847', 'formula': 'Co3SbO8'},\n",
       "  {'identifier': 'mp-561591', 'formula': 'ZnWO4'},\n",
       "  {'identifier': 'mvc-3', 'formula': 'Nb2Zn2SbO8'},\n",
       "  {'identifier': 'mp-574486', 'formula': 'Ag2CN2'},\n",
       "  {'identifier': 'mp-616597', 'formula': 'ReHgO4'},\n",
       "  {'identifier': 'mp-762785', 'formula': 'LiVF5'},\n",
       "  {'identifier': 'mp-560333', 'formula': 'Ta2Te4Br10O'},\n",
       "  {'identifier': 'mp-24522', 'formula': 'CuH2SO5'},\n",
       "  {'identifier': 'mp-22342', 'formula': 'PbSeO4'},\n",
       "  {'identifier': 'mp-766790', 'formula': 'VF4'},\n",
       "  {'identifier': 'mp-1014111', 'formula': 'Ni'},\n",
       "  {'identifier': 'mp-27656', 'formula': 'Zn2(PS3)3'},\n",
       "  {'identifier': 'mp-558381', 'formula': 'PtCI2O'},\n",
       "  {'identifier': 'mp-1077788', 'formula': 'BPt2'},\n",
       "  {'identifier': 'mp-1078313', 'formula': 'Bi2Pt'},\n",
       "  {'identifier': 'mp-1025400', 'formula': 'YbCl3'},\n",
       "  {'identifier': 'mp-624889', 'formula': 'C'},\n",
       "  {'identifier': 'mp-1018891', 'formula': 'PdCl2'},\n",
       "  {'identifier': 'mp-1025395', 'formula': 'HoTe3'},\n",
       "  {'identifier': 'mp-1016240', 'formula': 'mp-1016240'},\n",
       "  {'identifier': 'mp-1077823', 'formula': 'TeO2'},\n",
       "  {'identifier': 'mp-1016240', 'formula': 'mp-1016240'},\n",
       "  {'identifier': 'mp-1071032', 'formula': 'GeS2'},\n",
       "  {'identifier': 'mp-1078313', 'formula': 'Bi2Pt'},\n",
       "  {'identifier': 'mp-1070580', 'formula': 'Al3Ru2'},\n",
       "  {'identifier': 'mp-1038761', 'formula': 'mp-1038761'},\n",
       "  {'identifier': 'mp-1064979', 'formula': 'NaI'},\n",
       "  {'identifier': 'mp-28253', 'formula': 'LiBiO2'},\n",
       "  {'identifier': 'mp-632403', 'formula': 'CdCl2'},\n",
       "  {'identifier': 'mp-9548', 'formula': 'GeAs'},\n",
       "  {'identifier': 'mp-20078', 'formula': 'Pb2O3'},\n",
       "  {'identifier': 'mp-562100', 'formula': 'NbS3'},\n",
       "  {'identifier': 'mp-1662', 'formula': 'Te2Au'},\n",
       "  {'identifier': 'mp-556516', 'formula': 'Tl2S'},\n",
       "  {'identifier': 'mp-22858', 'formula': 'TlI'},\n",
       "  {'identifier': 'mp-568971', 'formula': 'Ag2Se'},\n",
       "  {'identifier': 'mp-582549', 'formula': 'In2Te5'},\n",
       "  {'identifier': 'mp-27772', 'formula': 'Nb3I8'},\n",
       "  {'identifier': 'mp-720', 'formula': 'TlF'},\n",
       "  {'identifier': 'mp-8094', 'formula': 'Ba2Hg'},\n",
       "  {'identifier': 'mp-570922', 'formula': 'MgCl2'},\n",
       "  {'identifier': 'mp-569224', 'formula': 'SbI3'},\n",
       "  {'identifier': 'mp-23170', 'formula': 'IO2'},\n",
       "  {'identifier': 'mp-570858', 'formula': 'AgCl'},\n",
       "  {'identifier': 'mp-720', 'formula': 'TlF'},\n",
       "  {'identifier': 'mp-556516', 'formula': 'Tl2S'},\n",
       "  {'identifier': 'mp-984703', 'formula': 'CeGe5'},\n",
       "  {'identifier': 'mp-23174', 'formula': 'ReCl3'},\n",
       "  {'identifier': 'mp-7991', 'formula': 'BN'},\n",
       "  {'identifier': 'mp-2125', 'formula': 'TeO2'},\n",
       "  {'identifier': 'mp-765939', 'formula': 'MnF3'},\n",
       "  {'identifier': 'mp-23240', 'formula': 'CoCl2'},\n",
       "  {'identifier': 'mp-28117', 'formula': 'VCl3'},\n",
       "  {'identifier': 'mp-540922', 'formula': 'CrTe3'},\n",
       "  {'identifier': 'mvc-13239', 'formula': 'TiF4'},\n",
       "  {'identifier': 'mp-554340', 'formula': 'CrF2'},\n",
       "  {'identifier': 'mp-568746', 'formula': 'Bi2Pd'},\n",
       "  {'identifier': 'mp-20662', 'formula': 'Sn4Pt'},\n",
       "  {'identifier': 'mp-7542', 'formula': 'GeP3'},\n",
       "  {'identifier': 'mp-2632', 'formula': 'TlF3'},\n",
       "  {'identifier': 'mp-765939', 'formula': 'MnF3'},\n",
       "  {'identifier': 'mp-1863', 'formula': 'SiAs'},\n",
       "  {'identifier': 'mp-12693', 'formula': 'Mg2Rh'},\n",
       "  {'identifier': 'mp-720', 'formula': 'TlF'},\n",
       "  {'identifier': 'mp-1168', 'formula': 'HfTe5'},\n",
       "  {'identifier': 'mvc-6083', 'formula': 'BiF5'},\n",
       "  {'identifier': 'mp-765924', 'formula': 'Mn2F5'},\n",
       "  {'identifier': 'mp-978259', 'formula': 'Mg2As'},\n",
       "  {'identifier': 'mp-850099', 'formula': 'CuS2'},\n",
       "  {'identifier': 'mp-32554', 'formula': 'Ta2I5'},\n",
       "  {'identifier': 'mp-850032', 'formula': 'Fe3S4'},\n",
       "  {'identifier': 'mp-32554', 'formula': 'Ta2I5'},\n",
       "  {'identifier': 'mp-581693', 'formula': 'BiS'},\n",
       "  {'identifier': 'mp-7096', 'formula': 'Fe3S4'},\n",
       "  {'identifier': 'mp-556485', 'formula': 'ZnS'},\n",
       "  {'identifier': 'mp-978525', 'formula': 'Si3Mo'},\n",
       "  {'identifier': 'mvc-13836', 'formula': 'TaF5'},\n",
       "  {'identifier': 'mvc-14624', 'formula': 'MoN'},\n",
       "  {'identifier': 'mp-1861', 'formula': 'Cu2Te'},\n",
       "  {'identifier': 'mvc-14624', 'formula': 'MoN'},\n",
       "  {'identifier': 'mp-7096', 'formula': 'Fe3S4'},\n",
       "  {'identifier': 'mp-971684', 'formula': 'C3N4'},\n",
       "  {'identifier': 'mp-1007824', 'formula': 'GaN'},\n",
       "  {'identifier': 'mp-620029', 'formula': 'MoCl2'},\n",
       "  {'identifier': 'mp-568128', 'formula': 'GaSe'},\n",
       "  {'identifier': 'mp-1372', 'formula': 'Cd3As2'},\n",
       "  {'identifier': 'mp-12527', 'formula': 'Ti2Te2P'},\n",
       "  {'identifier': 'mp-1094006', 'formula': 'Zn(GaS2)2'},\n",
       "  {'identifier': 'mp-1100795', 'formula': 'ZrCl3'},\n",
       "  {'identifier': 'mp-1094186', 'formula': 'LaMg5'},\n",
       "  {'identifier': 'mp-1029309', 'formula': 'Na2HfN2'},\n",
       "  {'identifier': 'mp-1634', 'formula': 'MoSe2'},\n",
       "  {'identifier': 'mp-23062', 'formula': 'YCI'},\n",
       "  {'identifier': 'mp-1943', 'formula': 'GaSe'},\n",
       "  {'identifier': 'mp-15622', 'formula': 'HfSe3'},\n",
       "  {'identifier': 'mp-1030980', 'formula': 'RbNaMg6O7'},\n",
       "  {'identifier': 'mp-20560', 'formula': 'CeS'},\n",
       "  {'identifier': 'mp-23194', 'formula': 'LaI2'},\n",
       "  {'identifier': 'mp-632657', 'formula': 'ZrNCl'},\n",
       "  {'identifier': 'mp-625668', 'formula': 'Mn(HO)2'},\n",
       "  {'identifier': 'mp-28233', 'formula': 'MnCl2'},\n",
       "  {'identifier': 'mp-19607', 'formula': 'K(MoO3)3'},\n",
       "  {'identifier': 'mp-626864', 'formula': 'U(HO2)2'},\n",
       "  {'identifier': 'mp-667', 'formula': 'Tl2S'},\n",
       "  {'identifier': 'mp-863878', 'formula': 'VF4'},\n",
       "  {'identifier': 'mp-766870', 'formula': 'Mn5O9F'},\n",
       "  {'identifier': 'mvc-9477', 'formula': 'SbO2'},\n",
       "  {'identifier': 'mp-753712', 'formula': 'YIO'},\n",
       "  {'identifier': 'mvc-3990', 'formula': 'Zn2W2O5'},\n",
       "  {'identifier': 'mp-554055', 'formula': 'HoS'},\n",
       "  {'identifier': 'mp-550086', 'formula': 'V2CuO6'},\n",
       "  {'identifier': 'mp-30002', 'formula': 'Sc(IO3)3'},\n",
       "  {'identifier': 'mp-765852', 'formula': 'Cr(CoO3)2'},\n",
       "  {'identifier': 'mp-997035', 'formula': 'CuO2F'},\n",
       "  {'identifier': 'mvc-8147', 'formula': 'W3O8'},\n",
       "  {'identifier': 'mp-694', 'formula': 'VSe2'},\n",
       "  {'identifier': 'mp-567519', 'formula': 'NpBr3'},\n",
       "  {'identifier': 'mp-541780', 'formula': 'CoH2SeO4'},\n",
       "  {'identifier': 'mp-569435', 'formula': 'KBi(PSe3)2'},\n",
       "  {'identifier': 'mvc-370', 'formula': 'BaTl(NiO3)2'},\n",
       "  {'identifier': 'mp-770028', 'formula': 'LiVBO4'},\n",
       "  {'identifier': 'mp-7991', 'formula': 'BN'},\n",
       "  {'identifier': 'mvc-7369', 'formula': 'WO2'},\n",
       "  {'identifier': 'mp-9912', 'formula': 'Li2CeP2'},\n",
       "  {'identifier': 'mp-29269', 'formula': 'NaSbF4'},\n",
       "  {'identifier': 'mp-6511', 'formula': 'KCSN'},\n",
       "  {'identifier': 'mp-645124', 'formula': 'ZnWO4'},\n",
       "  {'identifier': 'mvc-1220', 'formula': 'Bi3Se2ClO8'},\n",
       "  {'identifier': 'mvc-13985', 'formula': 'SnF4'},\n",
       "  {'identifier': 'mp-782', 'formula': 'Te2Pd'},\n",
       "  {'identifier': 'mp-765939', 'formula': 'MnF3'},\n",
       "  {'identifier': 'mp-771699', 'formula': 'Sb2O5'},\n",
       "  {'identifier': 'mp-753195', 'formula': 'Li2WS4'},\n",
       "  {'identifier': 'mp-753380', 'formula': 'La(BiO2)2'},\n",
       "  {'identifier': 'mp-778704', 'formula': 'LiFe2F5'},\n",
       "  {'identifier': 'mvc-11096', 'formula': 'MoO3'},\n",
       "  {'identifier': 'mp-626569', 'formula': 'Ti3H2O7'},\n",
       "  {'identifier': 'mp-673126', 'formula': 'LiSb(PO3)4'},\n",
       "  {'identifier': 'mp-571219', 'formula': 'Tl3BiI6'},\n",
       "  {'identifier': 'mp-683666', 'formula': 'Cu2WO4'},\n",
       "  {'identifier': 'mp-567826', 'formula': 'Sr'},\n",
       "  {'identifier': 'mp-1021511', 'formula': 'CdS'},\n",
       "  {'identifier': 'mp-1057273', 'formula': 'Pb'},\n",
       "  {'identifier': 'mp-1067619', 'formula': 'Ge'},\n",
       "  {'identifier': 'mp-1018127', 'formula': 'TbSb2'},\n",
       "  {'identifier': 'mp-505127', 'formula': 'MoAs2O7'},\n",
       "  {'identifier': 'mp-1025472', 'formula': 'NpTe3'},\n",
       "  {'identifier': 'mp-1077788', 'formula': 'BPt2'},\n",
       "  {'identifier': 'mp-1071032', 'formula': 'GeS2'},\n",
       "  {'identifier': 'mp-1025100', 'formula': 'LaGe5'},\n",
       "  {'identifier': 'mp-1025482', 'formula': 'DyTe3'},\n",
       "  {'identifier': 'mp-1019239', 'formula': 'PdN2'},\n",
       "  {'identifier': 'mp-1023900', 'formula': 'SiS'},\n",
       "  {'identifier': 'mp-1066497', 'formula': 'FeSe'},\n",
       "  {'identifier': 'mp-1016240', 'formula': 'mp-1016240'},\n",
       "  {'identifier': 'mp-1071473', 'formula': 'TbGe5'},\n",
       "  {'identifier': 'mp-641', 'formula': 'As2S3'},\n",
       "  {'identifier': 'mp-23162', 'formula': 'ZrCl2'},\n",
       "  {'identifier': 'mp-22231', 'formula': 'UTe3'},\n",
       "  {'identifier': 'mp-27182', 'formula': 'GdBr3'},\n",
       "  {'identifier': 'mp-27356', 'formula': 'AsO2'},\n",
       "  {'identifier': 'mp-570506', 'formula': 'ZrI2'},\n",
       "  {'identifier': 'mp-945077', 'formula': 'YTe3'},\n",
       "  {'identifier': 'mp-28149', 'formula': 'Bi9I2'},\n",
       "  {'identifier': 'mp-17524', 'formula': 'GeAs2'},\n",
       "  {'identifier': 'mvc-5760', 'formula': 'BiO2'},\n",
       "  {'identifier': 'mp-9889', 'formula': 'GaS'},\n",
       "  {'identifier': 'mp-22858', 'formula': 'TlI'},\n",
       "  {'identifier': 'mp-570122', 'formula': 'Cr3Te4'},\n",
       "  {'identifier': 'mp-23210', 'formula': 'MgCl2'},\n",
       "  {'identifier': 'mp-765332', 'formula': 'Mn3F8'},\n",
       "  {'identifier': 'mp-850131', 'formula': 'NiS2'},\n",
       "  {'identifier': 'mp-765939', 'formula': 'MnF3'},\n",
       "  {'identifier': 'mp-20050', 'formula': 'InP3'},\n",
       "  {'identifier': 'mp-863878', 'formula': 'VF4'},\n",
       "  {'identifier': 'mp-974434', 'formula': 'RuF4'},\n",
       "  {'identifier': 'mp-20662', 'formula': 'Sn4Pt'},\n",
       "  {'identifier': 'mp-570506', 'formula': 'ZrI2'},\n",
       "  {'identifier': 'mp-27411', 'formula': 'TlP5'},\n",
       "  {'identifier': 'mp-562100', 'formula': 'NbS3'},\n",
       "  {'identifier': 'mp-20050', 'formula': 'InP3'},\n",
       "  {'identifier': 'mp-1416', 'formula': 'NbF4'},\n",
       "  {'identifier': 'mp-556516', 'formula': 'Tl2S'},\n",
       "  {'identifier': 'mp-8094', 'formula': 'Ba2Hg'},\n",
       "  {'identifier': 'mvc-14464', 'formula': 'SnF3'},\n",
       "  {'identifier': 'mp-971684', 'formula': 'C3N4'},\n",
       "  {'identifier': 'mp-542495', 'formula': 'TaSe2'},\n",
       "  {'identifier': 'mp-684898', 'formula': 'Cu18S11'},\n",
       "  {'identifier': 'mp-540922', 'formula': 'CrTe3'},\n",
       "  {'identifier': 'mp-28149', 'formula': 'Bi9I2'},\n",
       "  {'identifier': 'mp-9254', 'formula': 'Al2Te5'},\n",
       "  {'identifier': 'mp-27678', 'formula': 'Y2Cl3'},\n",
       "  {'identifier': 'mp-10128', 'formula': 'ThGe2'},\n",
       "  {'identifier': 'mp-685136', 'formula': 'BiF3'},\n",
       "  {'identifier': 'mp-568128', 'formula': 'GaSe'},\n",
       "  {'identifier': 'mp-978259', 'formula': 'Mg2As'},\n",
       "  {'identifier': 'mp-33154', 'formula': 'AgI2'},\n",
       "  {'identifier': 'mp-554055', 'formula': 'HoS'},\n",
       "  {'identifier': 'mp-27922', 'formula': 'GeI2'},\n",
       "  {'identifier': 'mp-685151', 'formula': 'TiO'},\n",
       "  {'identifier': 'mvc-9642', 'formula': 'SbO2'},\n",
       "  {'identifier': 'mvc-671', 'formula': 'W3O8'},\n",
       "  {'identifier': 'mp-850099', 'formula': 'CuS2'},\n",
       "  {'identifier': 'mp-28677', 'formula': 'BiS'},\n",
       "  {'identifier': 'mp-21042', 'formula': 'Te4Pt3'},\n",
       "  {'identifier': 'mp-684588', 'formula': 'Sn3P4'},\n",
       "  {'identifier': 'mp-685136', 'formula': 'BiF3'},\n",
       "  {'identifier': 'mvc-11234', 'formula': 'FeS2'},\n",
       "  {'identifier': 'mp-32580', 'formula': 'Ga2Te3'},\n",
       "  {'identifier': 'mvc-13455', 'formula': 'MoN2'},\n",
       "  {'identifier': 'mvc-9642', 'formula': 'SbO2'},\n",
       "  {'identifier': 'mp-581693', 'formula': 'BiS'},\n",
       "  {'identifier': 'mp-978259', 'formula': 'Mg2As'},\n",
       "  {'identifier': 'mp-1201', 'formula': 'Sb2Te3'},\n",
       "  {'identifier': 'mp-1077788', 'formula': 'BPt2'},\n",
       "  {'identifier': 'mp-1080587', 'formula': 'CdNCl3'},\n",
       "  {'identifier': 'mp-1070573', 'formula': 'LaAl3Cu'},\n",
       "  {'identifier': 'mp-1001082', 'formula': 'Si(CO)2'},\n",
       "  {'identifier': 'mp-12406', 'formula': 'US3'},\n",
       "  {'identifier': 'mp-1086673', 'formula': 'DyTe3'},\n",
       "  {'identifier': 'mp-1096814', 'formula': 'Al2ZnS4'},\n",
       "  {'identifier': 'mp-1039088', 'formula': 'CeMg5'},\n",
       "  {'identifier': 'mp-1096866', 'formula': 'CdO2'},\n",
       "  {'identifier': 'mp-12307', 'formula': 'Tl2Ge2S5'},\n",
       "  {'identifier': 'mp-1025100', 'formula': 'LaGe5'},\n",
       "  {'identifier': 'mp-22693', 'formula': 'Te2W'},\n",
       "  {'identifier': 'mp-27249', 'formula': 'CuCO3'},\n",
       "  {'identifier': 'mp-23144', 'formula': 'TlRe3(Se2Cl)2'},\n",
       "  {'identifier': 'mp-25975', 'formula': 'LiCu(PO3)2'},\n",
       "  {'identifier': 'mp-20235', 'formula': 'CaMnGe'},\n",
       "  {'identifier': 'mp-23210', 'formula': 'MgCl2'},\n",
       "  {'identifier': 'mp-27762', 'formula': 'UBrN'},\n",
       "  {'identifier': 'mp-27734', 'formula': 'CrBr3'},\n",
       "  {'identifier': 'mp-25643', 'formula': 'V2O5'},\n",
       "  {'identifier': 'mp-626102', 'formula': 'FeHO2'},\n",
       "  {'identifier': 'mvc-13455', 'formula': 'MoN2'},\n",
       "  {'identifier': 'mp-30890', 'formula': 'Hg3SO6'},\n",
       "  {'identifier': 'mp-775687', 'formula': 'Li3Fe2F9'},\n",
       "  {'identifier': 'mvc-845', 'formula': 'Sr2CrCu2O7'},\n",
       "  {'identifier': 'mp-29419', 'formula': 'Hf(Te2Cl3)2'},\n",
       "  {'identifier': 'mp-557597', 'formula': 'K2Ca(NO2)4'},\n",
       "  {'identifier': 'mp-676315', 'formula': 'Y2GeI2'},\n",
       "  {'identifier': 'mp-696944', 'formula': 'LaHBr2'},\n",
       "  {'identifier': 'mp-761828', 'formula': 'LiCoPO4'},\n",
       "  {'identifier': 'mp-6027', 'formula': 'Ba2Tl2CuO6'},\n",
       "  {'identifier': 'mp-559469', 'formula': 'CaH6C2O7'},\n",
       "  {'identifier': 'mp-32403', 'formula': 'Ni(HO)2'},\n",
       "  {'identifier': 'mp-989189', 'formula': 'SbBrO'},\n",
       "  {'identifier': 'mp-561909', 'formula': 'V2CdO6'},\n",
       "  {'identifier': 'mp-768906', 'formula': 'YBrO'},\n",
       "  {'identifier': 'mp-9797', 'formula': 'K(SbSe2)2'},\n",
       "  {'identifier': 'mp-557038', 'formula': 'MnAs2F12'},\n",
       "  {'identifier': 'mp-625996', 'formula': 'NaHO'},\n",
       "  {'identifier': 'mp-973147', 'formula': 'Mg5Sc'},\n",
       "  {'identifier': 'mp-766952', 'formula': 'LiVF4'},\n",
       "  {'identifier': 'mp-764039', 'formula': 'LiCo7O7F'},\n",
       "  {'identifier': 'mp-541588', 'formula': 'VHgO3'},\n",
       "  {'identifier': 'mp-767158', 'formula': 'Mn2CrO6'},\n",
       "  {'identifier': 'mp-13384', 'formula': 'ErAg(PSe3)2'},\n",
       "  {'identifier': 'mp-20459', 'formula': 'TiPbO3'},\n",
       "  {'identifier': 'mvc-6860', 'formula': 'Zn(SnO2)2'},\n",
       "  {'identifier': 'mp-9391', 'formula': 'TaNi2Te3'},\n",
       "  {'identifier': 'mp-23546', 'formula': 'Na2UI6'},\n",
       "  {'identifier': 'mp-28836', 'formula': 'TeCF2'},\n",
       "  {'identifier': 'mp-560460', 'formula': 'AgCN3O2'},\n",
       "  {'identifier': 'mp-622262', 'formula': 'Te6MoBr3'},\n",
       "  {'identifier': 'mp-5572', 'formula': 'Ho2Te5O13'},\n",
       "  {'identifier': 'mvc-12967', 'formula': 'ZnNi2S5'},\n",
       "  {'identifier': 'mp-764332', 'formula': 'LiMn5O5F'},\n",
       "  {'identifier': 'mvc-8433', 'formula': 'CaGe2WO6'},\n",
       "  {'identifier': 'mvc-7254', 'formula': 'Mg(SbO2)2'},\n",
       "  {'identifier': 'mp-23904', 'formula': 'BaH4O3'},\n",
       "  {'identifier': 'mvc-8085', 'formula': 'ZnCu(GeO3)2'},\n",
       "  {'identifier': 'mp-1071032', 'formula': 'GeS2'},\n",
       "  {'identifier': 'mvc-1646', 'formula': 'Mo3Se2ClO8'},\n",
       "  {'identifier': 'mp-1025100', 'formula': 'LaGe5'},\n",
       "  {'identifier': 'mp-1025388', 'formula': 'YbCl3'},\n",
       "  {'identifier': 'mp-1071152', 'formula': 'CaC2'},\n",
       "  {'identifier': 'mp-1039304', 'formula': 'CeMg2'},\n",
       "  {'identifier': 'mp-1077788', 'formula': 'BPt2'},\n",
       "  {'identifier': 'mp-1038761', 'formula': 'mp-1038761'},\n",
       "  {'identifier': 'mp-1581', 'formula': 'As2O3'},\n",
       "  {'identifier': 'mp-690644', 'formula': 'TlInS2'},\n",
       "  {'identifier': 'mp-2798', 'formula': 'SiP'},\n",
       "  {'identifier': 'mp-998591', 'formula': 'LiSnCl3'},\n",
       "  {'identifier': 'mp-1416', 'formula': 'NbF4'},\n",
       "  {'identifier': 'mp-22849', 'formula': 'BiI3'},\n",
       "  {'identifier': 'mp-569581', 'formula': 'Bi2Pt'},\n",
       "  {'identifier': 'mp-9481', 'formula': 'TcS2'},\n",
       "  {'identifier': 'mp-973147', 'formula': 'Mg5Sc'},\n",
       "  {'identifier': 'mp-29671', 'formula': 'TmI2'},\n",
       "  {'identifier': 'mp-909', 'formula': 'As2Se3'},\n",
       "  {'identifier': 'mp-1379', 'formula': 'SnS'},\n",
       "  {'identifier': 'mp-22883', 'formula': 'PbI2'},\n",
       "  {'identifier': 'mp-568301', 'formula': 'BiBr3'},\n",
       "  {'identifier': 'mvc-15980', 'formula': 'BiF4'},\n",
       "  {'identifier': 'mp-29652', 'formula': 'TaSe3'},\n",
       "  {'identifier': 'mvc-15980', 'formula': 'BiF4'},\n",
       "  {'identifier': 'mp-28500', 'formula': 'UTe5'},\n",
       "  {'identifier': 'mp-909', 'formula': 'As2Se3'},\n",
       "  {'identifier': 'mp-2125', 'formula': 'TeO2'},\n",
       "  {'identifier': 'mp-23313', 'formula': 'InBi'},\n",
       "  {'identifier': 'mp-2294', 'formula': 'Al3Ir'},\n",
       "  {'identifier': 'mp-30031', 'formula': 'CaI2'},\n",
       "  {'identifier': 'mp-1892', 'formula': 'Ba2N'},\n",
       "  {'identifier': 'mp-1080586', 'formula': 'Sn4Ir'},\n",
       "  {'identifier': 'mp-23315', 'formula': 'IO3'},\n",
       "  {'identifier': 'mp-557835', 'formula': 'TlF'},\n",
       "  {'identifier': 'mp-1078500', 'formula': 'PbS'},\n",
       "  {'identifier': 'mp-2294', 'formula': 'Al3Ir'},\n",
       "  {'identifier': 'mp-7541', 'formula': 'SnP3'},\n",
       "  {'identifier': 'mvc-14464', 'formula': 'SnF3'},\n",
       "  {'identifier': 'mp-1892', 'formula': 'Ba2N'},\n",
       "  {'identifier': 'mp-27513', 'formula': 'Sc7Cl10'},\n",
       "  {'identifier': 'mp-11693', 'formula': 'TePt'},\n",
       "  {'identifier': 'mp-571279', 'formula': 'ZrI2'},\n",
       "  {'identifier': 'mp-9254', 'formula': 'Al2Te5'},\n",
       "  {'identifier': 'mp-557835', 'formula': 'TlF'},\n",
       "  {'identifier': 'mp-23194', 'formula': 'LaI2'},\n",
       "  {'identifier': 'mp-556225', 'formula': 'Ag2S'},\n",
       "  {'identifier': 'mp-998972', 'formula': 'TiAu'},\n",
       "  {'identifier': 'mp-974434', 'formula': 'RuF4'},\n",
       "  {'identifier': 'mp-30527', 'formula': 'TaS3'},\n",
       "  {'identifier': 'mp-27771', 'formula': 'Nb3Br8'},\n",
       "  {'identifier': 'mp-973147', 'formula': 'Mg5Sc'},\n",
       "  {'identifier': 'mp-972889', 'formula': 'ScSn3'},\n",
       "  {'identifier': 'mp-10128', 'formula': 'ThGe2'},\n",
       "  {'identifier': 'mp-27979', 'formula': 'LaI3'},\n",
       "  {'identifier': 'mp-34260', 'formula': 'ZrF4'},\n",
       "  {'identifier': 'mp-1861', 'formula': 'Cu2Te'},\n",
       "  {'identifier': 'mp-32580', 'formula': 'Ga2Te3'},\n",
       "  {'identifier': 'mp-22858', 'formula': 'TlI'},\n",
       "  {'identifier': 'mp-37036', 'formula': 'Bi2O3'},\n",
       "  {'identifier': 'mp-569655', 'formula': 'BN'},\n",
       "  {'identifier': 'mvc-6067', 'formula': 'TaF5'},\n",
       "  {'identifier': 'mp-849098', 'formula': 'VS2'},\n",
       "  {'identifier': 'mp-628781', 'formula': 'GeTe'},\n",
       "  {'identifier': 'mp-570782', 'formula': 'MgCl2'},\n",
       "  {'identifier': 'mp-1008600', 'formula': 'ZrN2'},\n",
       "  {'identifier': 'mp-1001825', 'formula': 'LiBe'},\n",
       "  {'identifier': 'mp-571387', 'formula': 'MgCl2'},\n",
       "  {'identifier': 'mp-34260', 'formula': 'ZrF4'},\n",
       "  {'identifier': 'mvc-12466', 'formula': 'TiO2'},\n",
       "  {'identifier': 'mp-705538', 'formula': 'MoO3'},\n",
       "  {'identifier': 'mvc-10495', 'formula': 'Cr4O9'},\n",
       "  {'identifier': 'mp-643430', 'formula': 'Al2S3'},\n",
       "  {'identifier': 'mp-850032', 'formula': 'Fe3S4'},\n",
       "  {'identifier': 'mp-10128', 'formula': 'ThGe2'},\n",
       "  {'identifier': 'mvc-13836', 'formula': 'TaF5'},\n",
       "  {'identifier': 'mp-997569', 'formula': 'AlP'},\n",
       "  {'identifier': 'mp-14242', 'formula': 'Tl2GeSe3'},\n",
       "  {'identifier': 'mp-1094457', 'formula': 'SrMg2'},\n",
       "  {'identifier': 'mp-1096811', 'formula': 'Al(BiO2)2'},\n",
       "  {'identifier': 'mp-1096816', 'formula': 'Al2ZnS4'},\n",
       "  {'identifier': 'mp-1029763', 'formula': 'ZnSiN2'},\n",
       "  {'identifier': 'mp-1018891', 'formula': 'PdCl2'},\n",
       "  {'identifier': 'mp-13683', 'formula': 'HfGe2'},\n",
       "  {'identifier': 'mp-20078', 'formula': 'Pb2O3'},\n",
       "  {'identifier': 'mp-1984', 'formula': 'TaS2'},\n",
       "  {'identifier': 'mp-23229', 'formula': 'FeCl2'},\n",
       "  {'identifier': 'mp-28928', 'formula': 'DySBr'},\n",
       "  {'identifier': 'mp-14653', 'formula': 'AgSb2F12'},\n",
       "  {'identifier': 'mp-2129', 'formula': 'NdGe2'},\n",
       "  {'identifier': 'mp-23261', 'formula': 'I2O5'},\n",
       "  {'identifier': 'mp-23313', 'formula': 'InBi'},\n",
       "  {'identifier': 'mp-23219', 'formula': 'CuBr2'},\n",
       "  {'identifier': 'mp-764241', 'formula': 'VOF3'},\n",
       "  {'identifier': 'mp-684956', 'formula': 'Tl2O3'},\n",
       "  {'identifier': 'mvc-11600', 'formula': 'TiO2'},\n",
       "  {'identifier': 'mp-554879', 'formula': 'CuHgSBr'},\n",
       "  {'identifier': 'mp-642462', 'formula': 'B3C10N3'},\n",
       "  {'identifier': 'mp-3779', 'formula': 'CrSiTe3'},\n",
       "  {'identifier': 'mp-626083', 'formula': 'Si2H2O5'},\n",
       "  {'identifier': 'mp-722902', 'formula': 'LiH2NO3'},\n",
       "  {'identifier': 'mp-30058', 'formula': 'TlSbO3'},\n",
       "  {'identifier': 'mp-777677', 'formula': 'LiFeF4'},\n",
       "  {'identifier': 'mp-767678', 'formula': 'Li8Cr3TeO12'},\n",
       "  {'identifier': 'mp-754960', 'formula': 'SmIO'},\n",
       "  {'identifier': 'mp-755463', 'formula': 'Li3SbS3'},\n",
       "  {'identifier': 'mp-542449', 'formula': 'Sc5Cl8'},\n",
       "  {'identifier': 'mp-556004', 'formula': 'Ba3In2Br2O5'},\n",
       "  {'identifier': 'mp-542495', 'formula': 'TaSe2'},\n",
       "  {'identifier': 'mp-978991', 'formula': 'TmMg5'},\n",
       "  {'identifier': 'mp-764225', 'formula': 'LiCo5O5F'},\n",
       "  {'identifier': 'mp-568730', 'formula': 'Ge4Te7As2'},\n",
       "  {'identifier': 'mp-755689', 'formula': 'ErClO'},\n",
       "  {'identifier': 'mp-561070', 'formula': 'FeBiO3'},\n",
       "  {'identifier': 'mp-775789', 'formula': 'Li2VF6'},\n",
       "  {'identifier': 'mvc-1177', 'formula': 'BaBi4O7'},\n",
       "  {'identifier': 'mp-8190', 'formula': 'Tl2SiS3'},\n",
       "  {'identifier': 'mp-572822', 'formula': 'TiO2'},\n",
       "  {'identifier': 'mvc-13941', 'formula': 'CoF4'},\n",
       "  {'identifier': 'mp-571210', 'formula': 'YGaI'},\n",
       "  {'identifier': 'mp-7542', 'formula': 'GeP3'},\n",
       "  {'identifier': 'mp-625930', 'formula': 'V3(HO2)4'},\n",
       "  {'identifier': 'mvc-10455', 'formula': 'ZnCr4O9'},\n",
       "  {'identifier': 'mp-23674', 'formula': 'NaH4BrO2'},\n",
       "  {'identifier': 'mp-763482', 'formula': 'VPO5'},\n",
       "  {'identifier': 'mp-22688', 'formula': 'CuSeO3'},\n",
       "  {'identifier': 'mp-646579', 'formula': 'V2Ni(PO5)2'},\n",
       "  {'identifier': 'mp-672273', 'formula': 'AlBiCl6'},\n",
       "  {'identifier': 'mp-16819', 'formula': 'ZnTeO3'},\n",
       "  {'identifier': 'mvc-14222', 'formula': 'ZnFeF5'},\n",
       "  {'identifier': 'mp-675152', 'formula': 'NdPb8F19'},\n",
       "  {'identifier': 'mp-1064979', 'formula': 'NaI'},\n",
       "  {'identifier': 'mp-104', 'formula': 'Sb'},\n",
       "  {'identifier': 'mp-1021323', 'formula': 'LiC12'},\n",
       "  {'identifier': 'mp-1014509', 'formula': 'Cr3N2'},\n",
       "  {'identifier': 'mp-1025100', 'formula': 'LaGe5'},\n",
       "  {'identifier': 'mp-1018158', 'formula': 'DySb2'},\n",
       "  {'identifier': 'mp-1038862', 'formula': 'CaMg'},\n",
       "  {'identifier': 'mp-22231', 'formula': 'UTe3'},\n",
       "  {'identifier': 'mp-22777', 'formula': 'NaN3'},\n",
       "  {'identifier': 'mp-570219', 'formula': 'InBr3'},\n",
       "  {'identifier': 'mp-569890', 'formula': 'CrCl3'},\n",
       "  {'identifier': 'mp-9399', 'formula': 'SmTe3'},\n",
       "  {'identifier': 'mp-1168', 'formula': 'HfTe5'},\n",
       "  {'identifier': 'mvc-15980', 'formula': 'BiF4'},\n",
       "  {'identifier': 'mp-30031', 'formula': 'CaI2'},\n",
       "  {'identifier': 'mp-995193', 'formula': 'Si3H'},\n",
       "  {'identifier': 'mp-484', 'formula': 'Te3As2'},\n",
       "  {'identifier': 'mp-23273', 'formula': 'TeI'},\n",
       "  {'identifier': 'mp-7188', 'formula': 'Al2Os'},\n",
       "  {'identifier': 'mp-7655', 'formula': 'BaSi2'},\n",
       "  {'identifier': 'mp-1443', 'formula': 'Sn3F8'},\n",
       "  {'identifier': 'mp-9889', 'formula': 'GaS'},\n",
       "  {'identifier': 'mp-28306', 'formula': 'MnBr2'},\n",
       "  {'identifier': 'mp-1863', 'formula': 'SiAs'},\n",
       "  {'identifier': 'mp-27734', 'formula': 'CrBr3'},\n",
       "  {'identifier': 'mp-27411', 'formula': 'TlP5'},\n",
       "  {'identifier': 'mp-25469', 'formula': 'AlCl3'},\n",
       "  {'identifier': 'mp-28117', 'formula': 'VCl3'},\n",
       "  {'identifier': 'mp-19932', 'formula': 'In4Se3'},\n",
       "  {'identifier': 'mp-27215', 'formula': 'CrI2'},\n",
       "  {'identifier': 'mp-1170', 'formula': 'SnS2'},\n",
       "  {'identifier': 'mp-23313', 'formula': 'InBi'},\n",
       "  {'identifier': 'mp-684690', 'formula': 'Sc2Se3'},\n",
       "  {'identifier': 'mp-2798', 'formula': 'SiP'},\n",
       "  {'identifier': 'mp-505531', 'formula': 'FeS'},\n",
       "  {'identifier': 'mp-604910', 'formula': 'MnSe'},\n",
       "  {'identifier': 'mp-583234', 'formula': 'Bi4I'},\n",
       "  {'identifier': 'mp-1170', 'formula': 'SnS2'},\n",
       "  {'identifier': 'mp-641', 'formula': 'As2S3'},\n",
       "  {'identifier': 'mp-23313', 'formula': 'InBi'},\n",
       "  {'identifier': 'mp-1057015', 'formula': 'PbS'},\n",
       "  {'identifier': 'mp-567471', 'formula': 'HgI2'},\n",
       "  {'identifier': 'mp-570922', 'formula': 'MgCl2'},\n",
       "  {'identifier': 'mp-22877', 'formula': 'VCl2'},\n",
       "  {'identifier': 'mp-971684', 'formula': 'C3N4'},\n",
       "  {'identifier': 'mp-1371', 'formula': 'Sn3Pd'},\n",
       "  {'identifier': 'mp-765924', 'formula': 'Mn2F5'},\n",
       "  {'identifier': 'mp-569581', 'formula': 'Bi2Pt'},\n",
       "  {'identifier': 'mp-1416', 'formula': 'NbF4'},\n",
       "  {'identifier': 'mvc-15178', 'formula': 'SbF4'},\n",
       "  {'identifier': 'mvc-13985', 'formula': 'SnF4'},\n",
       "  {'identifier': 'mp-1100795', 'formula': 'ZrCl3'},\n",
       "  {'identifier': 'mp-560607', 'formula': 'Sb2O3'},\n",
       "  {'identifier': 'mp-604915', 'formula': 'CrSe'},\n",
       "  {'identifier': 'mp-685136', 'formula': 'BiF3'},\n",
       "  {'identifier': 'mp-1861', 'formula': 'Cu2Te'},\n",
       "  {'identifier': 'mp-1067644', 'formula': 'PdN'},\n",
       "  {'identifier': 'mp-684588', 'formula': 'Sn3P4'},\n",
       "  {'identifier': 'mp-1001825', 'formula': 'LiBe'},\n",
       "  {'identifier': 'mp-978525', 'formula': 'Si3Mo'},\n",
       "  {'identifier': 'mp-638765', 'formula': 'Al2O3'},\n",
       "  {'identifier': 'mp-554799', 'formula': 'VF4'},\n",
       "  {'identifier': 'mp-1879', 'formula': 'SmS'},\n",
       "  {'identifier': 'mp-978259', 'formula': 'Mg2As'},\n",
       "  {'identifier': 'mp-615366', 'formula': 'FeS2'},\n",
       "  {'identifier': 'mp-977242', 'formula': 'Hg3Sb'},\n",
       "  {'identifier': 'mp-849098', 'formula': 'VS2'},\n",
       "  {'identifier': 'mp-21042', 'formula': 'Te4Pt3'},\n",
       "  {'identifier': 'mvc-6392', 'formula': 'WF5'},\n",
       "  {'identifier': 'mp-568128', 'formula': 'GaSe'},\n",
       "  {'identifier': 'mp-1008600', 'formula': 'ZrN2'},\n",
       "  {'identifier': 'mp-1067482', 'formula': 'NiHO2'},\n",
       "  {'identifier': 'mp-1019322', 'formula': 'Te2W'},\n",
       "  {'identifier': 'mp-1094454', 'formula': 'YMg2'},\n",
       "  {'identifier': 'mp-1025457', 'formula': 'HfAl5Ni2'},\n",
       "  {'identifier': 'mp-1094129', 'formula': 'LiO2'},\n",
       "  {'identifier': 'mp-28299', 'formula': 'USe2O7'},\n",
       "  {'identifier': 'mp-27702', 'formula': 'InClO'},\n",
       "  {'identifier': 'mp-29234', 'formula': 'InTeI'},\n",
       "  {'identifier': 'mp-20422', 'formula': 'KMnP'},\n",
       "  {'identifier': 'mp-23244', 'formula': 'UI3'},\n",
       "  {'identifier': 'mp-20793', 'formula': 'Ga2FeS4'},\n",
       "  {'identifier': 'mp-18625', 'formula': 'KPSe6'},\n",
       "  {'identifier': 'mp-28037', 'formula': 'Mo2SBr2'},\n",
       "  {'identifier': 'mp-31725', 'formula': 'CrBrO'},\n",
       "  {'identifier': 'mp-19090', 'formula': 'MnTeMoO6'},\n",
       "  {'identifier': 'mp-540724', 'formula': 'Fe4Cu2S7'},\n",
       "  {'identifier': 'mp-566907', 'formula': 'Hg2MoO4'},\n",
       "  {'identifier': 'mp-754632', 'formula': 'Pr(ReO4)2'},\n",
       "  {'identifier': 'mp-510727', 'formula': 'InTeO3F'},\n",
       "  {'identifier': 'mp-655275', 'formula': 'HgC2(SN)2'},\n",
       "  {'identifier': 'mvc-8404', 'formula': 'CaGe2WO6'},\n",
       "  {'identifier': 'mp-765294', 'formula': 'SrP2(H2O3)2'},\n",
       "  {'identifier': 'mp-765790', 'formula': 'LiV(OF)2'},\n",
       "  {'identifier': 'mp-774101', 'formula': 'LiFeO2'},\n",
       "  {'identifier': 'mp-676295', 'formula': 'Li3MnP2'},\n",
       "  {'identifier': 'mp-9518', 'formula': 'NdZnPO'},\n",
       "  {'identifier': 'mp-766275', 'formula': 'Ca2Bi10O17'},\n",
       "  {'identifier': 'mp-692', 'formula': 'Tb2C'},\n",
       "  {'identifier': 'mp-555474', 'formula': 'Sr(ClO2)2'},\n",
       "  {'identifier': 'mp-626378', 'formula': 'As3HO6'},\n",
       "  {'identifier': 'mp-638765', 'formula': 'Al2O3'},\n",
       "  {'identifier': 'mvc-11944', 'formula': 'V2O5'},\n",
       "  {'identifier': 'mp-567809', 'formula': 'AgI'},\n",
       "  {'identifier': 'mvc-10874', 'formula': 'Ba(FeO2)4'},\n",
       "  {'identifier': 'mp-772318', 'formula': 'Li2Cr2O7'},\n",
       "  {'identifier': 'mp-760546', 'formula': 'LiCu2(CO3)2'},\n",
       "  {'identifier': 'mp-606382', 'formula': 'Cr(OF)2'},\n",
       "  {'identifier': 'mvc-4', 'formula': 'Nb2Zn2CuO8'},\n",
       "  {'identifier': 'mp-997082', 'formula': 'BiAuO2'},\n",
       "  {'identifier': 'mp-985575', 'formula': 'LiAg(CO2)2'},\n",
       "  {'identifier': 'mp-752602', 'formula': 'BiBr3'},\n",
       "  {'identifier': 'mp-973954', 'formula': 'LuFeGe2'},\n",
       "  {'identifier': 'mp-31256', 'formula': 'U(SbO3)2'},\n",
       "  {'identifier': 'mp-556485', 'formula': 'ZnS'},\n",
       "  {'identifier': 'mp-31621', 'formula': 'Co(ClO4)2'},\n",
       "  {'identifier': 'mp-31268', 'formula': 'AlBiBr6'},\n",
       "  {'identifier': 'mp-867561', 'formula': 'Li2Cu2F7'},\n",
       "  {'identifier': 'mvc-3422', 'formula': 'TiZnF5'},\n",
       "  {'identifier': 'mp-557592', 'formula': 'CrAg(PS3)2'},\n",
       "  {'identifier': 'mp-554812', 'formula': 'CuB2(PbO3)2'},\n",
       "  {'identifier': 'mvc-15029', 'formula': 'Y(CuO2)3'},\n",
       "  {'identifier': 'mp-1077889', 'formula': 'IrC2'},\n",
       "  {'identifier': 'mp-776732', 'formula': 'Li2Fe3F8'},\n",
       "  {'identifier': 'mp-567826', 'formula': 'Sr'},\n",
       "  {'identifier': 'mp-1009757', 'formula': 'Se'},\n",
       "  {'identifier': 'mp-1071473', 'formula': 'TbGe5'},\n",
       "  {'identifier': 'mp-140', 'formula': 'Ga'},\n",
       "  {'identifier': 'mp-680579', 'formula': 'ZnC2(SN)2'},\n",
       "  {'identifier': 'mp-1016240', 'formula': 'mp-1016240'},\n",
       "  {'identifier': 'mp-1039263', 'formula': 'MgBi2'},\n",
       "  {'identifier': 'mp-1021323', 'formula': 'LiC12'},\n",
       "  {'identifier': 'mp-1074652', 'formula': 'Mg2Si'},\n",
       "  {'identifier': 'mp-1071152', 'formula': 'CaC2'},\n",
       "  {'identifier': 'mvc-14464', 'formula': 'SnF3'},\n",
       "  {'identifier': 'mp-556516', 'formula': 'Tl2S'},\n",
       "  {'identifier': 'mp-569766', 'formula': 'TeI'},\n",
       "  {'identifier': 'mp-30033', 'formula': 'CoBr2'},\n",
       "  {'identifier': 'mp-504594', 'formula': 'ZrBr'},\n",
       "  {'identifier': 'mp-22883', 'formula': 'PbI2'},\n",
       "  {'identifier': 'mp-27697', 'formula': 'ThI4'},\n",
       "  {'identifier': 'mp-1443', 'formula': 'Sn3F8'},\n",
       "  {'identifier': 'mp-7542', 'formula': 'GeP3'},\n",
       "  {'identifier': 'mp-19932', 'formula': 'In4Se3'},\n",
       "  {'identifier': 'mp-22693', 'formula': 'Te2W'},\n",
       "  {'identifier': 'mp-19932', 'formula': 'In4Se3'},\n",
       "  {'identifier': 'mp-1892', 'formula': 'Ba2N'},\n",
       "  {'identifier': 'mp-1009834', 'formula': 'Al2Ru'},\n",
       "  {'identifier': 'mp-634859', 'formula': 'CaO2'},\n",
       "  {'identifier': 'mp-11493', 'formula': 'LuPb2'},\n",
       "  {'identifier': 'mp-29950', 'formula': 'Nb3Cl8'},\n",
       "  {'identifier': 'mp-7715', 'formula': 'AgF2'},\n",
       "  {'identifier': 'mp-1229', 'formula': 'CuF2'},\n",
       "  {'identifier': 'mp-1880', 'formula': 'SbF3'},\n",
       "  {'identifier': 'mp-8094', 'formula': 'Ba2Hg'},\n",
       "  {'identifier': 'mp-20311', 'formula': 'FeSe'},\n",
       "  {'identifier': 'mp-995193', 'formula': 'Si3H'},\n",
       "  {'identifier': 'mp-604910', 'formula': 'MnSe'},\n",
       "  {'identifier': 'mp-341', 'formula': 'PbF4'},\n",
       "  {'identifier': 'mp-569766', 'formula': 'TeI'},\n",
       "  {'identifier': 'mvc-13941', 'formula': 'CoF4'},\n",
       "  {'identifier': 'mp-850937', 'formula': 'VF4'},\n",
       "  {'identifier': 'mp-8094', 'formula': 'Ba2Hg'},\n",
       "  {'identifier': 'mp-27678', 'formula': 'Y2Cl3'},\n",
       "  {'identifier': 'mp-27684', 'formula': 'Tl4O3'},\n",
       "  {'identifier': 'mp-973147', 'formula': 'Mg5Sc'},\n",
       "  {'identifier': 'mp-557959', 'formula': 'Cr3O8'},\n",
       "  {'identifier': 'mp-19932', 'formula': 'In4Se3'},\n",
       "  {'identifier': 'mp-765921', 'formula': 'MnF4'},\n",
       "  {'identifier': 'mp-720', 'formula': 'TlF'},\n",
       "  {'identifier': 'mp-604910', 'formula': 'MnSe'},\n",
       "  {'identifier': 'mvc-14582', 'formula': 'WF4'},\n",
       "  {'identifier': 'mp-28919', 'formula': 'Hf3Te2'},\n",
       "  {'identifier': 'mp-765921', 'formula': 'MnF4'},\n",
       "  {'identifier': 'mp-570122', 'formula': 'Cr3Te4'},\n",
       "  {'identifier': 'mp-667', 'formula': 'Tl2S'},\n",
       "  {'identifier': 'mp-972889', 'formula': 'ScSn3'},\n",
       "  {'identifier': 'mvc-13985', 'formula': 'SnF4'},\n",
       "  {'identifier': 'mp-7991', 'formula': 'BN'},\n",
       "  {'identifier': 'mp-570136', 'formula': 'CuI'},\n",
       "  {'identifier': 'mp-684588', 'formula': 'Sn3P4'},\n",
       "  {'identifier': 'mp-997569', 'formula': 'AlP'},\n",
       "  {'identifier': 'mp-684588', 'formula': 'Sn3P4'},\n",
       "  {'identifier': 'mvc-13985', 'formula': 'SnF4'},\n",
       "  {'identifier': 'mp-997569', 'formula': 'AlP'},\n",
       "  {'identifier': 'mp-28677', 'formula': 'BiS'},\n",
       "  {'identifier': 'mp-684956', 'formula': 'Tl2O3'},\n",
       "  {'identifier': 'mvc-13958', 'formula': 'SbF5'},\n",
       "  {'identifier': 'mp-684588', 'formula': 'Sn3P4'},\n",
       "  {'identifier': 'mp-684652', 'formula': 'BeF2'},\n",
       "  {'identifier': 'mp-1067644', 'formula': 'PdN'},\n",
       "  {'identifier': 'mp-27411', 'formula': 'TlP5'},\n",
       "  {'identifier': 'mp-13178', 'formula': 'AlN'},\n",
       "  {'identifier': 'mp-568128', 'formula': 'GaSe'},\n",
       "  {'identifier': 'mp-1039345', 'formula': 'CeMg2'},\n",
       "  {'identifier': 'mp-1077462', 'formula': 'HgNCl'},\n",
       "  {'identifier': 'mp-1017565', 'formula': 'In2Se3'},\n",
       "  {'identifier': 'mp-1008902', 'formula': 'LuSb2'},\n",
       "  {'identifier': 'mp-1080466', 'formula': 'Nb2PdS6'},\n",
       "  {'identifier': 'mp-1008682', 'formula': 'TiS2'},\n",
       "  {'identifier': 'mp-27127', 'formula': 'Te4O9'},\n",
       "  {'identifier': 'mp-19921', 'formula': 'PbO'},\n",
       "  {'identifier': 'mp-8129', 'formula': 'NiC2(SN)2'},\n",
       "  {'identifier': 'mp-1096799', 'formula': 'AlO2'},\n",
       "  {'identifier': 'mp-23396', 'formula': 'MoNCl3'},\n",
       "  {'identifier': 'mp-15956', 'formula': 'YBC'},\n",
       "  {'identifier': 'mp-567471', 'formula': 'HgI2'},\n",
       "  {'identifier': 'mp-641441', 'formula': 'PbWO4'},\n",
       "  {'identifier': 'mp-27678', 'formula': 'Y2Cl3'},\n",
       "  {'identifier': 'mp-569299', 'formula': 'Be(BC)2'},\n",
       "  {'identifier': 'mp-771871', 'formula': 'FeCoO4'},\n",
       "  {'identifier': 'mp-549720', 'formula': 'NbI2O'},\n",
       "  {'identifier': 'mvc-14775', 'formula': 'V2ZnS5'},\n",
       "  {'identifier': 'mp-772801', 'formula': 'LuBiO3'},\n",
       "  {'identifier': 'mp-753845', 'formula': 'LiCuO2'},\n",
       "  {'identifier': 'mp-570823', 'formula': 'Ba(BSe3)2'},\n",
       "  {'identifier': 'mp-570141', 'formula': 'Sm2(PPt2)3'},\n",
       "  {'identifier': 'mp-684617', 'formula': 'Bi2O3'},\n",
       "  {'identifier': 'mp-572313', 'formula': 'Cu3Te2(BrO3)2'},\n",
       "  {'identifier': 'mvc-6844', 'formula': 'Ca(SnO2)2'},\n",
       "  {'identifier': 'mvc-13721', 'formula': 'Ba2Ni3O8'},\n",
       "  {'identifier': 'mvc-269', 'formula': 'Sr2TiCu2O7'},\n",
       "  {'identifier': 'mvc-11233', 'formula': 'CoS2'},\n",
       "  {'identifier': 'mp-31406', 'formula': 'Bi2TeSe2'},\n",
       "  {'identifier': 'mp-989586', 'formula': 'SrTcN3'},\n",
       "  {'identifier': 'mp-765547', 'formula': 'Li3V(OF)2'},\n",
       "  {'identifier': 'mp-554238', 'formula': 'CuBiSCl2'},\n",
       "  {'identifier': 'mp-762810', 'formula': 'Li2Fe2Si2O7'},\n",
       "  {'identifier': 'mp-558747', 'formula': 'TiTlPS5'},\n",
       "  {'identifier': 'mp-30033', 'formula': 'CoBr2'},\n",
       "  {'identifier': 'mp-753173', 'formula': 'HoIO'},\n",
       "  {'identifier': 'mp-559208', 'formula': 'SrTiSi2O7'},\n",
       "  {'identifier': 'mp-754217', 'formula': 'SmIO'},\n",
       "  {'identifier': 'mvc-8162', 'formula': 'TiZn(GeO3)2'},\n",
       "  {'identifier': 'mp-765906', 'formula': 'Co2NiO6'},\n",
       "  {'identifier': 'mp-765865', 'formula': 'CrCo3O8'},\n",
       "  {'identifier': 'mp-625630', 'formula': 'TeHO3'},\n",
       "  {'identifier': 'mp-8946', 'formula': 'TlBS2'},\n",
       "  {'identifier': 'mp-766909', 'formula': 'LiVF6'},\n",
       "  {'identifier': 'mp-685136', 'formula': 'BiF3'},\n",
       "  {'identifier': 'mvc-15178', 'formula': 'SbF4'},\n",
       "  {'identifier': 'mp-641365', 'formula': 'PbWO4'},\n",
       "  {'identifier': 'mvc-690', 'formula': 'Te(WO4)2'},\n",
       "  {'identifier': 'mvc-11960', 'formula': 'MgV2O5'},\n",
       "  {'identifier': 'mp-1025312', 'formula': 'Mn(NbS2)2'},\n",
       "  {'identifier': 'mp-608366', 'formula': 'CuN6'},\n",
       "  {'identifier': 'mp-27741', 'formula': 'TeAuI'},\n",
       "  {'identifier': 'mp-23170', 'formula': 'IO2'},\n",
       "  {'identifier': 'mp-7541', 'formula': 'SnP3'},\n",
       "  {'identifier': 'mp-773614', 'formula': 'Mn3(SeO3)4'},\n",
       "  {'identifier': 'mp-1072982', 'formula': 'GdGe2'},\n",
       "  {'identifier': 'mp-1077525', 'formula': 'U2S'},\n",
       "  {'identifier': 'mp-23154', 'formula': 'Br'},\n",
       "  {'identifier': 'mp-1016240', 'formula': 'mp-1016240'},\n",
       "  {'identifier': 'mp-1018112', 'formula': 'YSb2'},\n",
       "  {'identifier': 'mp-1039120', 'formula': 'CaMg'},\n",
       "  {'identifier': 'mp-1071152', 'formula': 'CaC2'},\n",
       "  {'identifier': 'mp-1068510', 'formula': 'In2Te3'},\n",
       "  {'identifier': 'mp-1018648', 'formula': 'AuN2'},\n",
       "  {'identifier': 'mp-10264', 'formula': 'NiTe'},\n",
       "  {'identifier': 'mp-1018150', 'formula': 'NbTe2'},\n",
       "  {'identifier': 'mp-755263', 'formula': 'CrS2'},\n",
       "  {'identifier': 'mp-720', 'formula': 'TlF'},\n",
       "  {'identifier': 'mp-27910', 'formula': 'Bi2Te2S'},\n",
       "  {'identifier': 'mp-641', 'formula': 'As2S3'},\n",
       "  {'identifier': 'mp-568746', 'formula': 'Bi2Pd'},\n",
       "  {'identifier': 'mp-2430', 'formula': 'ZrGe2'},\n",
       "  {'identifier': 'mp-1416', 'formula': 'NbF4'},\n",
       "  {'identifier': 'mp-1115', 'formula': 'PtSe2'},\n",
       "  {'identifier': 'mp-23174', 'formula': 'ReCl3'},\n",
       "  {'identifier': 'mp-20078', 'formula': 'Pb2O3'},\n",
       "  {'identifier': 'mvc-9477', 'formula': 'SbO2'},\n",
       "  {'identifier': 'mp-20878', 'formula': 'PbO'},\n",
       "  {'identifier': 'mp-23227', 'formula': 'CuBr'},\n",
       "  {'identifier': 'mp-571122', 'formula': 'FeI2'},\n",
       "  {'identifier': 'mp-571558', 'formula': 'HgBr2'},\n",
       "  {'identifier': 'mp-641', 'formula': 'As2S3'},\n",
       "  {'identifier': 'mp-1080586', 'formula': 'Sn4Ir'},\n",
       "  {'identifier': 'mp-22883', 'formula': 'PbI2'},\n",
       "  {'identifier': 'mp-27182', 'formula': 'GdBr3'},\n",
       "  {'identifier': 'mp-2798', 'formula': 'SiP'},\n",
       "  {'identifier': 'mp-568301', 'formula': 'BiBr3'},\n",
       "  {'identifier': 'mp-667', 'formula': 'Tl2S'},\n",
       "  {'identifier': 'mp-542495', 'formula': 'TaSe2'},\n",
       "  {'identifier': 'mp-28919', 'formula': 'Hf3Te2'},\n",
       "  {'identifier': 'mp-1892', 'formula': 'Ba2N'},\n",
       "  {'identifier': 'mp-542634', 'formula': 'Ta2Te3'},\n",
       "  {'identifier': 'mp-27734', 'formula': 'CrBr3'},\n",
       "  {'identifier': 'mp-971787', 'formula': 'VBr2'},\n",
       "  {'identifier': 'mp-1892', 'formula': 'Ba2N'},\n",
       "  {'identifier': 'mp-30428', 'formula': 'BaCu'},\n",
       "  {'identifier': 'mp-570356', 'formula': 'Ca5Ir'},\n",
       "  {'identifier': 'mp-684898', 'formula': 'Cu18S11'},\n",
       "  {'identifier': 'mp-604914', 'formula': 'VSe'},\n",
       "  {'identifier': 'mp-27678', 'formula': 'Y2Cl3'},\n",
       "  {'identifier': 'mp-558134', 'formula': 'TlF'},\n",
       "  {'identifier': 'mp-28149', 'formula': 'Bi9I2'},\n",
       "  {'identifier': 'mp-27979', 'formula': 'LaI3'},\n",
       "  {'identifier': 'mvc-15980', 'formula': 'BiF4'},\n",
       "  {'identifier': 'mp-2430', 'formula': 'ZrGe2'},\n",
       "  {'identifier': 'mp-850937', 'formula': 'VF4'},\n",
       "  {'identifier': 'mp-569581', 'formula': 'Bi2Pt'},\n",
       "  {'identifier': 'mp-9996', 'formula': 'SiP2'},\n",
       "  {'identifier': 'mp-568746', 'formula': 'Bi2Pd'},\n",
       "  {'identifier': 'mp-33154', 'formula': 'AgI2'},\n",
       "  {'identifier': 'mp-28117', 'formula': 'VCl3'},\n",
       "  {'identifier': 'mp-13862', 'formula': 'B13P2'},\n",
       "  {'identifier': 'mp-975653', 'formula': 'PrS3'},\n",
       "  {'identifier': 'mvc-6067', 'formula': 'TaF5'},\n",
       "  {'identifier': 'mp-715479', 'formula': 'Mo3O8'},\n",
       "  {'identifier': 'mp-705538', 'formula': 'MoO3'},\n",
       "  {'identifier': 'mp-850032', 'formula': 'Fe3S4'},\n",
       "  {'identifier': 'mp-570782', 'formula': 'MgCl2'},\n",
       "  {'identifier': 'mp-557058', 'formula': 'ZnS'},\n",
       "  {'identifier': 'mvc-5485', 'formula': 'CrO2'},\n",
       "  {'identifier': 'mp-569655', 'formula': 'BN'},\n",
       "  {'identifier': 'mvc-5485', 'formula': 'CrO2'},\n",
       "  {'identifier': 'mp-684956', 'formula': 'Tl2O3'},\n",
       "  {'identifier': 'mp-977242', 'formula': 'Hg3Sb'},\n",
       "  {'identifier': 'mp-130', 'formula': 'P'},\n",
       "  {'identifier': 'mp-1025482', 'formula': 'DyTe3'},\n",
       "  {'identifier': 'mp-978259', 'formula': 'Mg2As'},\n",
       "  {'identifier': 'mp-1070580', 'formula': 'Al3Ru2'},\n",
       "  {'identifier': 'mp-1018138', 'formula': 'VI2'},\n",
       "  {'identifier': 'mp-1095661', 'formula': 'YbCuPbSe3'},\n",
       "  {'identifier': 'mp-1098247', 'formula': 'RbHfMg6O7'},\n",
       "  {'identifier': 'mp-1096986', 'formula': 'HC'},\n",
       "  {'identifier': 'mp-1094388', 'formula': 'MgTi'},\n",
       "  {'identifier': 'mp-1018632', 'formula': 'Ho(CuS)2'},\n",
       "  {'identifier': 'mp-1023125', 'formula': 'MgCuO2'},\n",
       "  {'identifier': 'mp-1038788', 'formula': 'CeMg'},\n",
       "  {'identifier': 'mp-1020588', 'formula': 'ZrSiO4'},\n",
       "  {'identifier': 'mp-1119', 'formula': 'Nd2Te5'},\n",
       "  {'identifier': 'mp-27361', 'formula': 'Nb(SeCl)2'},\n",
       "  {'identifier': 'mp-23205', 'formula': 'MgI2'},\n",
       "  {'identifier': 'mp-559332', 'formula': 'BiTeIO3'},\n",
       "  {'identifier': 'mp-625487', 'formula': 'Zn(HO)2'},\n",
       "  {'identifier': 'mp-627151', 'formula': 'Zr(MoO4)2'},\n",
       "  {'identifier': 'mp-20354', 'formula': 'MgMnGe'},\n",
       "  {'identifier': 'mp-859782', 'formula': 'Co2SbO6'},\n",
       "  {'identifier': 'mp-399', 'formula': 'Te2Pt'},\n",
       "  {'identifier': 'mp-615141', 'formula': 'Pb(ClO2)2'},\n",
       "  {'identifier': 'mp-765793', 'formula': 'Li2Mn(PO4)2'},\n",
       "  {'identifier': 'mvc-636', 'formula': 'Sb(WO4)2'},\n",
       "  {'identifier': 'mp-540922', 'formula': 'CrTe3'},\n",
       "  {'identifier': 'mp-625956', 'formula': 'Co(HO)2'},\n",
       "  {'identifier': 'mp-859134', 'formula': 'LiMnPO4'},\n",
       "  {'identifier': 'mp-754969', 'formula': 'TmBrO'},\n",
       "  {'identifier': 'mp-849683', 'formula': 'FeTe(PO4)2'},\n",
       "  {'identifier': 'mp-31007', 'formula': 'Tb5Br8'},\n",
       "  {'identifier': 'mp-779704', 'formula': 'Si(HgO2)2'},\n",
       "  {'identifier': 'mvc-7302', 'formula': 'Mg(BiO2)2'},\n",
       "  {'identifier': 'mp-566299', 'formula': 'RbCrClO3'},\n",
       "  {'identifier': 'mp-760377', 'formula': 'Li2Nb(PO4)2'},\n",
       "  {'identifier': 'mvc-285', 'formula': 'Sr2Cu2BiO7'},\n",
       "  {'identifier': 'mp-8301', 'formula': 'Gd2CF2'},\n",
       "  {'identifier': 'mp-978525', 'formula': 'Si3Mo'},\n",
       "  {'identifier': 'mp-995147', 'formula': 'PbBrCl'},\n",
       "  {'identifier': 'mvc-2546', 'formula': 'Ta2TeO8'},\n",
       "  {'identifier': 'mp-767076', 'formula': 'Sn(PO3)2'},\n",
       "  {'identifier': 'mvc-273', 'formula': 'Sr2Cu2SbO7'},\n",
       "  {'identifier': 'mp-573700', 'formula': 'AsSeI'},\n",
       "  {'identifier': 'mp-705538', 'formula': 'MoO3'},\n",
       "  {'identifier': 'mp-625199', 'formula': 'ScHO2'},\n",
       "  {'identifier': 'mp-771670', 'formula': 'Mn3SnO8'},\n",
       "  {'identifier': 'mp-510733', 'formula': 'VCuO4'},\n",
       "  {'identifier': 'mp-570858', 'formula': 'AgCl'},\n",
       "  {'identifier': 'mp-619545', 'formula': 'CuMoO4'},\n",
       "  {'identifier': 'mp-559065', 'formula': 'NaI3O8'},\n",
       "  ...]}"
      ]
     },
     "execution_count": 11,
     "metadata": {},
     "output_type": "execute_result"
    }
   ],
   "source": [
    "# query = {\"formula__contains\": \"Fe\"}\n",
    "fields = [\"identifier\", \"formula\"]\n",
    "limit = 10\n",
    "D2matdata = client.query_contributions(\n",
    "    query=[], fields=fields, paginate=True\n",
    ")"
   ]
  },
  {
   "cell_type": "code",
   "execution_count": 49,
   "metadata": {},
   "outputs": [],
   "source": [
    "material_ids = []   \n",
    "with open('table_export.csv','r') as read_file:\n",
    "    data_reader = csv.reader(read_file)\n",
    "    material_ids = [] \n",
    "    for row in data_reader:\n",
    "        material_ids.append(row[2])\n",
    "\n",
    "    material_ids.pop(0)\n",
    "\n"
   ]
  },
  {
   "cell_type": "code",
   "execution_count": 51,
   "metadata": {},
   "outputs": [
    {
     "data": {
      "text/plain": [
       "['mp-9583',\n",
       " 'mp-22988',\n",
       " 'mp-22867',\n",
       " 'mp-3924',\n",
       " 'mp-22935',\n",
       " 'mp-13313',\n",
       " 'mp-23406',\n",
       " 'mp-9564',\n",
       " 'mp-30530',\n",
       " 'mp-856']"
      ]
     },
     "execution_count": 51,
     "metadata": {},
     "output_type": "execute_result"
    }
   ],
   "source": [
    "material_ids[:10]"
   ]
  },
  {
   "cell_type": "code",
   "execution_count": 55,
   "metadata": {},
   "outputs": [
    {
     "name": "stderr",
     "output_type": "stream",
     "text": [
      "Retrieving ElectronicStructureDoc documents: 100%|██████████| 10/10 [00:00<00:00, 245280.94it/s]\n"
     ]
    }
   ],
   "source": [
    "bbs = 0\n",
    "with MPRester(api_key=\"SFTntPIf0QnTef7f6sZKkBSwGILrxlXZ\") as mpr:\n",
    "\n",
    "    bbs = mpr.get_bandstructure_by_material_id(material_ids[:10], line_mode=False)"
   ]
  },
  {
   "cell_type": "code",
   "execution_count": null,
   "metadata": {},
   "outputs": [],
   "source": [
    "with MPRester(api_key=\"SFTntPIf0QnTef7f6sZKkBSwGILrxlXZ\") as mpr:\n",
    "\n",
    "    mpr."
   ]
  },
  {
   "cell_type": "code",
   "execution_count": 56,
   "metadata": {},
   "outputs": [
    {
     "data": {
      "text/plain": [
       "<pymatgen.electronic_structure.bandstructure.BandStructure at 0x712571f0cf20>"
      ]
     },
     "execution_count": 56,
     "metadata": {},
     "output_type": "execute_result"
    }
   ],
   "source": [
    "bbs"
   ]
  },
  {
   "cell_type": "code",
   "execution_count": 23,
   "metadata": {},
   "outputs": [],
   "source": [
    "material_ids = ['mp-2809', 'mp-570356'] "
   ]
  },
  {
   "cell_type": "code",
   "execution_count": 43,
   "metadata": {},
   "outputs": [
    {
     "data": {
      "text/plain": [
       "{'identifier': 'mp-972889', 'formula': 'ScSn3'}"
      ]
     },
     "execution_count": 43,
     "metadata": {},
     "output_type": "execute_result"
    }
   ],
   "source": [
    "D2matdata['data'][0]"
   ]
  },
  {
   "cell_type": "code",
   "execution_count": 47,
   "metadata": {},
   "outputs": [
    {
     "name": "stdout",
     "output_type": "stream",
     "text": [
      "\u001b[0;31m---------------------------------------------------------------------------\u001b[0m\n",
      "\u001b[0;31mTypeError\u001b[0m                                 Traceback (most recent call last)\n",
      "Cell \u001b[0;32mIn[47], line 2\u001b[0m\n",
      "\u001b[1;32m      1\u001b[0m \u001b[38;5;28;01mfor\u001b[39;00m \u001b[38;5;28mid\u001b[39m, material \u001b[38;5;129;01min\u001b[39;00m D2matdata[\u001b[38;5;124m'\u001b[39m\u001b[38;5;124mdata\u001b[39m\u001b[38;5;124m'\u001b[39m]:\n",
      "\u001b[0;32m----> 2\u001b[0m     \u001b[38;5;28mprint\u001b[39m(\u001b[38;5;28;43mid\u001b[39;49m\u001b[43m[\u001b[49m\u001b[38;5;124;43m'\u001b[39;49m\u001b[38;5;124;43mdata\u001b[39;49m\u001b[38;5;124;43m'\u001b[39;49m\u001b[43m]\u001b[49m)\n",
      "\n",
      "\u001b[0;31mTypeError\u001b[0m: string indices must be integers, not 'str'\n"
     ]
    }
   ],
   "source": [
    "for id, material in D2matdata['data']:\n",
    "    print(id['data'])"
   ]
  },
  {
   "cell_type": "code",
   "execution_count": 135,
   "metadata": {},
   "outputs": [
    {
     "name": "stderr",
     "output_type": "stream",
     "text": [
      "  0%|          | 0/10 [00:00<?, ?it/s]"
     ]
    },
    {
     "name": "stderr",
     "output_type": "stream",
     "text": [
      "Retrieving ElectronicStructureDoc documents: 100%|██████████| 1/1 [00:00<00:00, 16710.37it/s]\n",
      " 10%|█         | 1/10 [00:02<00:21,  2.36s/it]"
     ]
    },
    {
     "name": "stdout",
     "output_type": "stream",
     "text": [
      "ScSn3 mp-570356\n"
     ]
    },
    {
     "name": "stderr",
     "output_type": "stream",
     "text": [
      "Retrieving ElectronicStructureDoc documents: 100%|██████████| 1/1 [00:00<00:00, 8962.19it/s]\n",
      " 20%|██        | 2/10 [00:07<00:30,  3.79s/it]"
     ]
    },
    {
     "name": "stdout",
     "output_type": "stream",
     "text": [
      "Ca5Ir mp-570356\n"
     ]
    },
    {
     "name": "stderr",
     "output_type": "stream",
     "text": [
      "Retrieving ElectronicStructureDoc documents: 100%|██████████| 1/1 [00:00<00:00, 20661.60it/s]\n",
      " 30%|███       | 3/10 [00:10<00:24,  3.51s/it]"
     ]
    },
    {
     "name": "stdout",
     "output_type": "stream",
     "text": [
      "Ca5Ir mp-570356\n"
     ]
    },
    {
     "name": "stderr",
     "output_type": "stream",
     "text": [
      "Retrieving ElectronicStructureDoc documents: 100%|██████████| 1/1 [00:00<00:00, 26214.40it/s]\n",
      " 40%|████      | 4/10 [00:16<00:26,  4.49s/it]"
     ]
    },
    {
     "name": "stdout",
     "output_type": "stream",
     "text": [
      "NbSe3 mp-570356\n"
     ]
    },
    {
     "name": "stderr",
     "output_type": "stream",
     "text": [
      "Retrieving ElectronicStructureDoc documents: 100%|██████████| 1/1 [00:00<00:00, 13706.88it/s]\n",
      " 50%|█████     | 5/10 [00:17<00:15,  3.15s/it]"
     ]
    },
    {
     "name": "stdout",
     "output_type": "stream",
     "text": [
      "Sn3F8 mp-570356\n"
     ]
    },
    {
     "name": "stderr",
     "output_type": "stream",
     "text": [
      "Retrieving ElectronicStructureDoc documents: 100%|██████████| 1/1 [00:00<00:00, 21959.71it/s]\n",
      " 60%|██████    | 6/10 [00:17<00:09,  2.32s/it]"
     ]
    },
    {
     "name": "stdout",
     "output_type": "stream",
     "text": [
      "HgI2 mp-570356\n"
     ]
    },
    {
     "name": "stderr",
     "output_type": "stream",
     "text": [
      "Retrieving ElectronicStructureDoc documents: 100%|██████████| 1/1 [00:00<00:00, 16008.79it/s]\n",
      " 70%|███████   | 7/10 [00:18<00:05,  1.91s/it]"
     ]
    },
    {
     "name": "stdout",
     "output_type": "stream",
     "text": [
      "NdBr3 mp-570356\n"
     ]
    },
    {
     "name": "stderr",
     "output_type": "stream",
     "text": [
      "Retrieving ElectronicStructureDoc documents: 100%|██████████| 1/1 [00:00<00:00, 10979.85it/s]\n",
      " 80%|████████  | 8/10 [00:19<00:03,  1.58s/it]"
     ]
    },
    {
     "name": "stdout",
     "output_type": "stream",
     "text": [
      "Te3As2 mp-570356\n"
     ]
    },
    {
     "name": "stderr",
     "output_type": "stream",
     "text": [
      "Retrieving ElectronicStructureDoc documents: 100%|██████████| 1/1 [00:00<00:00, 21183.35it/s]\n",
      " 90%|█████████ | 9/10 [00:20<00:01,  1.36s/it]"
     ]
    },
    {
     "name": "stdout",
     "output_type": "stream",
     "text": [
      "NbTe2 mp-570356\n"
     ]
    },
    {
     "name": "stderr",
     "output_type": "stream",
     "text": [
      "Retrieving ElectronicStructureDoc documents: 100%|██████████| 1/1 [00:00<00:00, 25115.59it/s]\n",
      "100%|██████████| 10/10 [00:22<00:00,  2.27s/it]"
     ]
    },
    {
     "name": "stdout",
     "output_type": "stream",
     "text": [
      "CrBr3 mp-570356\n"
     ]
    },
    {
     "name": "stderr",
     "output_type": "stream",
     "text": [
      "\n"
     ]
    }
   ],
   "source": [
    "band_structs = []\n",
    "with MPRester(api_key=\"SFTntPIf0QnTef7f6sZKkBSwGILrxlXZ\") as mpr:\n",
    "    for item in tqdm(D2matdata['data'][:10]):\n",
    "        mat_id = item['identifier']\n",
    "        material = item['formula']\n",
    "\n",
    "        try:\n",
    "            bandstructure = mpr.get_bandstructure_by_material_id(mat_id, line_mode=False)\n",
    "            kpt = np.array([kpt.frac_coords for kpt in bandstructure.kpoints ])\n",
    "            dim1 = np.unique(kpt[:,0])\n",
    "            dim2 = np.unique(kpt[:,1])\n",
    "            dim3 = np.unique(kpt[:,2])\n",
    "            \n",
    "            band_structs.append(\n",
    "                [(len(dim1), len(dim2)), len(dim3), kpt, bandstructure]\n",
    "            )\n",
    "            print(material, id)\n",
    "\n",
    "        except Exception as e:\n",
    "            print(f\"Error retrieving band structure for {mat_id}: {e}\")\n",
    "    \n"
   ]
  },
  {
   "cell_type": "code",
   "execution_count": 122,
   "metadata": {},
   "outputs": [
    {
     "data": {
      "text/plain": [
       "[(6, 6),\n",
       " 4,\n",
       " <pymatgen.electronic_structure.bandstructure.BandStructureSymmLine at 0x71259dbc2390>]"
      ]
     },
     "execution_count": 122,
     "metadata": {},
     "output_type": "execute_result"
    }
   ],
   "source": [
    "band_structs[1]"
   ]
  },
  {
   "cell_type": "code",
   "execution_count": 107,
   "metadata": {},
   "outputs": [
    {
     "data": {
      "text/plain": [
       "[[(3, 8),\n",
       "  4,\n",
       "  <pymatgen.electronic_structure.bandstructure.BandStructureSymmLine at 0x7125a8381fd0>],\n",
       " [(4, 3),\n",
       "  3,\n",
       "  <pymatgen.electronic_structure.bandstructure.BandStructure at 0x7125a2e55580>],\n",
       " [(4, 4),\n",
       "  2,\n",
       "  <pymatgen.electronic_structure.bandstructure.BandStructure at 0x71259e07d850>],\n",
       " [(4, 4),\n",
       "  2,\n",
       "  <pymatgen.electronic_structure.bandstructure.BandStructure at 0x712569ca48c0>],\n",
       " [(4, 4),\n",
       "  2,\n",
       "  <pymatgen.electronic_structure.bandstructure.BandStructure at 0x712569d19d90>],\n",
       " [(4, 4),\n",
       "  1,\n",
       "  <pymatgen.electronic_structure.bandstructure.BandStructure at 0x71258b16d910>],\n",
       " [(4, 9),\n",
       "  5,\n",
       "  <pymatgen.electronic_structure.bandstructure.BandStructure at 0x71259e058440>],\n",
       " [(5, 3),\n",
       "  5,\n",
       "  <pymatgen.electronic_structure.bandstructure.BandStructure at 0x7125a31c62d0>],\n",
       " [(5, 3),\n",
       "  5,\n",
       "  <pymatgen.electronic_structure.bandstructure.BandStructure at 0x7125a2e05a00>],\n",
       " [(5, 3),\n",
       "  5,\n",
       "  <pymatgen.electronic_structure.bandstructure.BandStructure at 0x71258150dee0>],\n",
       " [(5, 3),\n",
       "  9,\n",
       "  <pymatgen.electronic_structure.bandstructure.BandStructure at 0x71250e4cd820>],\n",
       " [(5, 3),\n",
       "  6,\n",
       "  <pymatgen.electronic_structure.bandstructure.BandStructure at 0x7125a2f31b50>],\n",
       " [(5, 4),\n",
       "  4,\n",
       "  <pymatgen.electronic_structure.bandstructure.BandStructure at 0x7125a2e93ad0>],\n",
       " [(5, 4),\n",
       "  3,\n",
       "  <pymatgen.electronic_structure.bandstructure.BandStructure at 0x71259de9ccb0>],\n",
       " [(5, 5),\n",
       "  9,\n",
       "  <pymatgen.electronic_structure.bandstructure.BandStructure at 0x712580f04e60>],\n",
       " [(5, 8),\n",
       "  5,\n",
       "  <pymatgen.electronic_structure.bandstructure.BandStructure at 0x71258f5d6de0>],\n",
       " [(5, 9),\n",
       "  5,\n",
       "  <pymatgen.electronic_structure.bandstructure.BandStructure at 0x712588acb5c0>],\n",
       " [(5, 9),\n",
       "  5,\n",
       "  <pymatgen.electronic_structure.bandstructure.BandStructureSymmLine at 0x71258dd39850>],\n",
       " [(6, 2),\n",
       "  2,\n",
       "  <pymatgen.electronic_structure.bandstructure.BandStructure at 0x71259dc0a540>],\n",
       " [(6, 4),\n",
       "  5,\n",
       "  <pymatgen.electronic_structure.bandstructure.BandStructure at 0x7125a2eeac60>],\n",
       " [(6, 5),\n",
       "  4,\n",
       "  <pymatgen.electronic_structure.bandstructure.BandStructure at 0x712580ed5790>],\n",
       " [(6, 6),\n",
       "  4,\n",
       "  <pymatgen.electronic_structure.bandstructure.BandStructureSymmLine at 0x71259dbc2390>],\n",
       " [(6, 6),\n",
       "  4,\n",
       "  <pymatgen.electronic_structure.bandstructure.BandStructureSymmLine at 0x7125a3109ee0>],\n",
       " [(6, 6),\n",
       "  4,\n",
       "  <pymatgen.electronic_structure.bandstructure.BandStructure at 0x7125a313d640>],\n",
       " [(6, 6),\n",
       "  5,\n",
       "  <pymatgen.electronic_structure.bandstructure.BandStructure at 0x712571f274d0>],\n",
       " [(6, 6),\n",
       "  4,\n",
       "  <pymatgen.electronic_structure.bandstructure.BandStructure at 0x71259c166d50>],\n",
       " [(6, 6),\n",
       "  5,\n",
       "  <pymatgen.electronic_structure.bandstructure.BandStructure at 0x71259c40f020>],\n",
       " [(6, 6),\n",
       "  3,\n",
       "  <pymatgen.electronic_structure.bandstructure.BandStructure at 0x71259d186150>],\n",
       " [(6, 6),\n",
       "  3,\n",
       "  <pymatgen.electronic_structure.bandstructure.BandStructure at 0x71259d05c4d0>],\n",
       " [(6, 7),\n",
       "  6,\n",
       "  <pymatgen.electronic_structure.bandstructure.BandStructure at 0x71258ddb3ce0>],\n",
       " [(6, 8),\n",
       "  5,\n",
       "  <pymatgen.electronic_structure.bandstructure.BandStructure at 0x71259c12b5c0>],\n",
       " [(6, 8),\n",
       "  3,\n",
       "  <pymatgen.electronic_structure.bandstructure.BandStructure at 0x71259d539820>],\n",
       " [(6, 9),\n",
       "  5,\n",
       "  <pymatgen.electronic_structure.bandstructure.BandStructure at 0x7125813326f0>],\n",
       " [(6, 10),\n",
       "  4,\n",
       "  <pymatgen.electronic_structure.bandstructure.BandStructure at 0x71259c093230>],\n",
       " [(6, 11),\n",
       "  3,\n",
       "  <pymatgen.electronic_structure.bandstructure.BandStructure at 0x7125818d3b00>],\n",
       " [(6, 11),\n",
       "  4,\n",
       "  <pymatgen.electronic_structure.bandstructure.BandStructure at 0x712581c0d700>],\n",
       " [(7, 4),\n",
       "  2,\n",
       "  <pymatgen.electronic_structure.bandstructure.BandStructure at 0x71259cfab770>],\n",
       " [(7, 5),\n",
       "  4,\n",
       "  <pymatgen.electronic_structure.bandstructure.BandStructure at 0x71258bfa9d90>],\n",
       " [(7, 5),\n",
       "  5,\n",
       "  <pymatgen.electronic_structure.bandstructure.BandStructureSymmLine at 0x71258b16d490>],\n",
       " [(7, 6),\n",
       "  5,\n",
       "  <pymatgen.electronic_structure.bandstructure.BandStructure at 0x71259d1559d0>],\n",
       " [(7, 6),\n",
       "  6,\n",
       "  <pymatgen.electronic_structure.bandstructure.BandStructureSymmLine at 0x71259de6a3f0>],\n",
       " [(7, 6),\n",
       "  4,\n",
       "  <pymatgen.electronic_structure.bandstructure.BandStructure at 0x71259ddb3c50>],\n",
       " [(7, 6),\n",
       "  6,\n",
       "  <pymatgen.electronic_structure.bandstructure.BandStructureSymmLine at 0x7125a140b6b0>],\n",
       " [(7, 6),\n",
       "  6,\n",
       "  <pymatgen.electronic_structure.bandstructure.BandStructureSymmLine at 0x71258de1ebd0>],\n",
       " [(7, 6),\n",
       "  5,\n",
       "  <pymatgen.electronic_structure.bandstructure.BandStructure at 0x71258eda04d0>],\n",
       " [(7, 6),\n",
       "  6,\n",
       "  <pymatgen.electronic_structure.bandstructure.BandStructureSymmLine at 0x71259df14650>],\n",
       " [(7, 7),\n",
       "  5,\n",
       "  <pymatgen.electronic_structure.bandstructure.BandStructure at 0x7125a8201610>],\n",
       " [(7, 7),\n",
       "  5,\n",
       "  <pymatgen.electronic_structure.bandstructure.BandStructure at 0x71258bee3260>],\n",
       " [(7, 7),\n",
       "  5,\n",
       "  <pymatgen.electronic_structure.bandstructure.BandStructure at 0x7125804e6900>],\n",
       " [(7, 7),\n",
       "  5,\n",
       "  <pymatgen.electronic_structure.bandstructure.BandStructure at 0x712588ac99d0>],\n",
       " [(7, 7),\n",
       "  5,\n",
       "  <pymatgen.electronic_structure.bandstructure.BandStructure at 0x71259de918e0>],\n",
       " [(7, 7),\n",
       "  5,\n",
       "  <pymatgen.electronic_structure.bandstructure.BandStructure at 0x71249cc6fc50>],\n",
       " [(7, 11),\n",
       "  4,\n",
       "  <pymatgen.electronic_structure.bandstructure.BandStructure at 0x71258053dc40>],\n",
       " [(7, 11),\n",
       "  3,\n",
       "  <pymatgen.electronic_structure.bandstructure.BandStructure at 0x7125803ff440>],\n",
       " [(7, 12),\n",
       "  6,\n",
       "  <pymatgen.electronic_structure.bandstructure.BandStructure at 0x71259dfff290>],\n",
       " [(7, 12),\n",
       "  6,\n",
       "  <pymatgen.electronic_structure.bandstructure.BandStructure at 0x71259d780ef0>],\n",
       " [(8, 4),\n",
       "  4,\n",
       "  <pymatgen.electronic_structure.bandstructure.BandStructureSymmLine at 0x712569d19910>],\n",
       " [(8, 5),\n",
       "  4,\n",
       "  <pymatgen.electronic_structure.bandstructure.BandStructureSymmLine at 0x712569d19940>],\n",
       " [(8, 5),\n",
       "  4,\n",
       "  <pymatgen.electronic_structure.bandstructure.BandStructure at 0x7125a3467ef0>],\n",
       " [(8, 5),\n",
       "  6,\n",
       "  <pymatgen.electronic_structure.bandstructure.BandStructure at 0x7125a8399dc0>],\n",
       " [(8, 5),\n",
       "  4,\n",
       "  <pymatgen.electronic_structure.bandstructure.BandStructure at 0x71258fc004a0>],\n",
       " [(8, 5),\n",
       "  4,\n",
       "  <pymatgen.electronic_structure.bandstructure.BandStructure at 0x7125814de420>],\n",
       " [(8, 6),\n",
       "  3,\n",
       "  <pymatgen.electronic_structure.bandstructure.BandStructure at 0x7125a2ee8770>],\n",
       " [(8, 6),\n",
       "  5,\n",
       "  <pymatgen.electronic_structure.bandstructure.BandStructure at 0x71259e058830>],\n",
       " [(8, 6),\n",
       "  5,\n",
       "  <pymatgen.electronic_structure.bandstructure.BandStructure at 0x7125804172f0>],\n",
       " [(8, 6),\n",
       "  1,\n",
       "  <pymatgen.electronic_structure.bandstructure.BandStructure at 0x71258041c230>],\n",
       " [(8, 6),\n",
       "  5,\n",
       "  <pymatgen.electronic_structure.bandstructure.BandStructure at 0x71259c166f90>],\n",
       " [(8, 7),\n",
       "  4,\n",
       "  <pymatgen.electronic_structure.bandstructure.BandStructure at 0x7125a9af1eb0>],\n",
       " [(8, 7),\n",
       "  5,\n",
       "  <pymatgen.electronic_structure.bandstructure.BandStructureSymmLine at 0x712565b62ed0>],\n",
       " [(8, 7),\n",
       "  5,\n",
       "  <pymatgen.electronic_structure.bandstructure.BandStructureSymmLine at 0x7125835d6e40>],\n",
       " [(8, 7),\n",
       "  5,\n",
       "  <pymatgen.electronic_structure.bandstructure.BandStructure at 0x712559284440>],\n",
       " [(8, 8),\n",
       "  11,\n",
       "  <pymatgen.electronic_structure.bandstructure.BandStructure at 0x71259d0f06e0>],\n",
       " [(8, 8),\n",
       "  3,\n",
       "  <pymatgen.electronic_structure.bandstructure.BandStructure at 0x71259dc093a0>],\n",
       " [(8, 8),\n",
       "  3,\n",
       "  <pymatgen.electronic_structure.bandstructure.BandStructure at 0x7125a2e06a50>],\n",
       " [(8, 8),\n",
       "  4,\n",
       "  <pymatgen.electronic_structure.bandstructure.BandStructure at 0x71258bed46b0>],\n",
       " [(8, 8),\n",
       "  5,\n",
       "  <pymatgen.electronic_structure.bandstructure.BandStructure at 0x71258a24ba10>],\n",
       " [(8, 8),\n",
       "  4,\n",
       "  <pymatgen.electronic_structure.bandstructure.BandStructure at 0x71256e603230>],\n",
       " [(8, 8),\n",
       "  4,\n",
       "  <pymatgen.electronic_structure.bandstructure.BandStructure at 0x7125810e7020>],\n",
       " [(8, 8),\n",
       "  6,\n",
       "  <pymatgen.electronic_structure.bandstructure.BandStructure at 0x71259cffff80>],\n",
       " [(8, 8),\n",
       "  4,\n",
       "  <pymatgen.electronic_structure.bandstructure.BandStructure at 0x71259deb77a0>],\n",
       " [(8, 8),\n",
       "  2,\n",
       "  <pymatgen.electronic_structure.bandstructure.BandStructure at 0x71250e4ccbf0>],\n",
       " [(8, 8),\n",
       "  5,\n",
       "  <pymatgen.electronic_structure.bandstructure.BandStructure at 0x712581728320>],\n",
       " [(8, 8),\n",
       "  6,\n",
       "  <pymatgen.electronic_structure.bandstructure.BandStructure at 0x7125817382f0>],\n",
       " [(8, 11),\n",
       "  6,\n",
       "  <pymatgen.electronic_structure.bandstructure.BandStructure at 0x7125816dad20>],\n",
       " [(8, 11),\n",
       "  6,\n",
       "  <pymatgen.electronic_structure.bandstructure.BandStructure at 0x71258f6e1640>],\n",
       " [(9, 4),\n",
       "  3,\n",
       "  <pymatgen.electronic_structure.bandstructure.BandStructure at 0x712580f06c30>],\n",
       " [(9, 5),\n",
       "  3,\n",
       "  <pymatgen.electronic_structure.bandstructure.BandStructure at 0x71258053f6b0>],\n",
       " [(9, 5),\n",
       "  4,\n",
       "  <pymatgen.electronic_structure.bandstructure.BandStructure at 0x71258f6e1430>],\n",
       " [(9, 6),\n",
       "  4,\n",
       "  <pymatgen.electronic_structure.bandstructure.BandStructureSymmLine at 0x7125a2fe9040>],\n",
       " [(9, 6),\n",
       "  6,\n",
       "  <pymatgen.electronic_structure.bandstructure.BandStructureSymmLine at 0x71259deda360>],\n",
       " [(9, 7),\n",
       "  6,\n",
       "  <pymatgen.electronic_structure.bandstructure.BandStructureSymmLine at 0x71259da7d6a0>],\n",
       " [(9, 7),\n",
       "  4,\n",
       "  <pymatgen.electronic_structure.bandstructure.BandStructure at 0x71259cc9ddf0>],\n",
       " [(9, 8),\n",
       "  5,\n",
       "  <pymatgen.electronic_structure.bandstructure.BandStructureSymmLine at 0x71258f1f7ad0>],\n",
       " [(9, 9),\n",
       "  6,\n",
       "  <pymatgen.electronic_structure.bandstructure.BandStructureSymmLine at 0x7125818abce0>],\n",
       " [(9, 9),\n",
       "  5,\n",
       "  <pymatgen.electronic_structure.bandstructure.BandStructure at 0x7125818abd10>],\n",
       " [(9, 9),\n",
       "  4,\n",
       "  <pymatgen.electronic_structure.bandstructure.BandStructure at 0x71258bffe570>],\n",
       " [(9, 9),\n",
       "  5,\n",
       "  <pymatgen.electronic_structure.bandstructure.BandStructure at 0x712569cef230>],\n",
       " [(9, 9),\n",
       "  6,\n",
       "  <pymatgen.electronic_structure.bandstructure.BandStructureSymmLine at 0x712569ceee70>],\n",
       " [(9, 9),\n",
       "  5,\n",
       "  <pymatgen.electronic_structure.bandstructure.BandStructure at 0x71258eda45c0>],\n",
       " [(9, 9),\n",
       "  6,\n",
       "  <pymatgen.electronic_structure.bandstructure.BandStructureSymmLine at 0x712580fa7aa0>],\n",
       " [(9, 9),\n",
       "  5,\n",
       "  <pymatgen.electronic_structure.bandstructure.BandStructure at 0x71258dc93890>],\n",
       " [(9, 9),\n",
       "  4,\n",
       "  <pymatgen.electronic_structure.bandstructure.BandStructure at 0x7125a33f21b0>],\n",
       " [(9, 9),\n",
       "  5,\n",
       "  <pymatgen.electronic_structure.bandstructure.BandStructureSymmLine at 0x71259de1c500>],\n",
       " [(9, 9),\n",
       "  6,\n",
       "  <pymatgen.electronic_structure.bandstructure.BandStructureSymmLine at 0x7125a8381e80>],\n",
       " [(9, 11),\n",
       "  4,\n",
       "  <pymatgen.electronic_structure.bandstructure.BandStructure at 0x71258beddac0>],\n",
       " [(10, 4),\n",
       "  5,\n",
       "  <pymatgen.electronic_structure.bandstructure.BandStructure at 0x71259d0d3560>],\n",
       " [(10, 4),\n",
       "  3,\n",
       "  <pymatgen.electronic_structure.bandstructure.BandStructureSymmLine at 0x712580f380e0>],\n",
       " [(10, 5),\n",
       "  5,\n",
       "  <pymatgen.electronic_structure.bandstructure.BandStructure at 0x71259de00050>],\n",
       " [(10, 5),\n",
       "  3,\n",
       "  <pymatgen.electronic_structure.bandstructure.BandStructure at 0x71259ddd83e0>],\n",
       " [(10, 6),\n",
       "  8,\n",
       "  <pymatgen.electronic_structure.bandstructure.BandStructureSymmLine at 0x712581332720>],\n",
       " [(10, 9),\n",
       "  4,\n",
       "  <pymatgen.electronic_structure.bandstructure.BandStructure at 0x71259c445850>],\n",
       " [(10, 9),\n",
       "  5,\n",
       "  <pymatgen.electronic_structure.bandstructure.BandStructure at 0x71258beeb380>],\n",
       " [(10, 9),\n",
       "  5,\n",
       "  <pymatgen.electronic_structure.bandstructure.BandStructureSymmLine at 0x71259d58b590>],\n",
       " [(10, 9),\n",
       "  5,\n",
       "  <pymatgen.electronic_structure.bandstructure.BandStructure at 0x712580417440>],\n",
       " [(10, 10),\n",
       "  5,\n",
       "  <pymatgen.electronic_structure.bandstructure.BandStructure at 0x7125a3198a10>],\n",
       " [(10, 10),\n",
       "  4,\n",
       "  <pymatgen.electronic_structure.bandstructure.BandStructure at 0x7125a313d520>],\n",
       " [(10, 10),\n",
       "  7,\n",
       "  <pymatgen.electronic_structure.bandstructure.BandStructure at 0x712581c5c050>],\n",
       " [(10, 10),\n",
       "  3,\n",
       "  <pymatgen.electronic_structure.bandstructure.BandStructure at 0x71258ede3a70>],\n",
       " [(10, 10),\n",
       "  3,\n",
       "  <pymatgen.electronic_structure.bandstructure.BandStructure at 0x71258fc02bd0>],\n",
       " [(10, 10),\n",
       "  8,\n",
       "  <pymatgen.electronic_structure.bandstructure.BandStructure at 0x712569c8ecf0>],\n",
       " [(10, 10),\n",
       "  8,\n",
       "  <pymatgen.electronic_structure.bandstructure.BandStructure at 0x71259df4de50>],\n",
       " [(10, 10),\n",
       "  8,\n",
       "  <pymatgen.electronic_structure.bandstructure.BandStructure at 0x71259de93ce0>],\n",
       " [(10, 10),\n",
       "  5,\n",
       "  <pymatgen.electronic_structure.bandstructure.BandStructure at 0x7125a8381c70>],\n",
       " [(10, 11),\n",
       "  5,\n",
       "  <pymatgen.electronic_structure.bandstructure.BandStructure at 0x712580ed46e0>],\n",
       " [(11, 5),\n",
       "  3,\n",
       "  <pymatgen.electronic_structure.bandstructure.BandStructure at 0x712581c1d400>],\n",
       " [(11, 6),\n",
       "  5,\n",
       "  <pymatgen.electronic_structure.bandstructure.BandStructure at 0x71258152f8f0>],\n",
       " [(11, 8),\n",
       "  4,\n",
       "  <pymatgen.electronic_structure.bandstructure.BandStructureSymmLine at 0x712581888470>],\n",
       " [(11, 8),\n",
       "  5,\n",
       "  <pymatgen.electronic_structure.bandstructure.BandStructure at 0x71259ddb1070>],\n",
       " [(11, 10),\n",
       "  6,\n",
       "  <pymatgen.electronic_structure.bandstructure.BandStructure at 0x712580f622a0>],\n",
       " [(11, 10),\n",
       "  6,\n",
       "  <pymatgen.electronic_structure.bandstructure.BandStructure at 0x7125c458e870>],\n",
       " [(11, 10),\n",
       "  6,\n",
       "  <pymatgen.electronic_structure.bandstructure.BandStructure at 0x71259e02c710>],\n",
       " [(11, 10),\n",
       "  6,\n",
       "  <pymatgen.electronic_structure.bandstructure.BandStructure at 0x7125804162d0>],\n",
       " [(11, 10),\n",
       "  6,\n",
       "  <pymatgen.electronic_structure.bandstructure.BandStructure at 0x7125835d7110>],\n",
       " [(11, 11),\n",
       "  6,\n",
       "  <pymatgen.electronic_structure.bandstructure.BandStructure at 0x71258bedda00>],\n",
       " [(11, 11),\n",
       "  5,\n",
       "  <pymatgen.electronic_structure.bandstructure.BandStructure at 0x71259da7d340>],\n",
       " [(11, 11),\n",
       "  5,\n",
       "  <pymatgen.electronic_structure.bandstructure.BandStructure at 0x7125a2e58110>],\n",
       " [(11, 11),\n",
       "  5,\n",
       "  <pymatgen.electronic_structure.bandstructure.BandStructureSymmLine at 0x7125a2e7fc80>],\n",
       " [(11, 11),\n",
       "  5,\n",
       "  <pymatgen.electronic_structure.bandstructure.BandStructure at 0x712580f39970>],\n",
       " [(11, 11),\n",
       "  3,\n",
       "  <pymatgen.electronic_structure.bandstructure.BandStructure at 0x7125814e31a0>],\n",
       " [(11, 11),\n",
       "  6,\n",
       "  <pymatgen.electronic_structure.bandstructure.BandStructureSymmLine at 0x71250e5bcf50>],\n",
       " [(11, 11),\n",
       "  5,\n",
       "  <pymatgen.electronic_structure.bandstructure.BandStructure at 0x71256a53f5f0>],\n",
       " [(11, 11),\n",
       "  5,\n",
       "  <pymatgen.electronic_structure.bandstructure.BandStructure at 0x71258ea139e0>],\n",
       " [(11, 11),\n",
       "  11,\n",
       "  <pymatgen.electronic_structure.bandstructure.BandStructure at 0x71258ddf1070>],\n",
       " [(11, 11),\n",
       "  5,\n",
       "  <pymatgen.electronic_structure.bandstructure.BandStructure at 0x7125804e5bb0>],\n",
       " [(12, 5),\n",
       "  3,\n",
       "  <pymatgen.electronic_structure.bandstructure.BandStructure at 0x712571e60530>],\n",
       " [(12, 7),\n",
       "  10,\n",
       "  <pymatgen.electronic_structure.bandstructure.BandStructureSymmLine at 0x71259de9e870>],\n",
       " [(12, 12),\n",
       "  2,\n",
       "  <pymatgen.electronic_structure.bandstructure.BandStructure at 0x71258bf96ae0>],\n",
       " [(12, 12),\n",
       "  7,\n",
       "  <pymatgen.electronic_structure.bandstructure.BandStructure at 0x71258eda46e0>],\n",
       " [(12, 12),\n",
       "  8,\n",
       "  <pymatgen.electronic_structure.bandstructure.BandStructure at 0x71256e58f9e0>],\n",
       " [(12, 12),\n",
       "  5,\n",
       "  <pymatgen.electronic_structure.bandstructure.BandStructure at 0x71259cffdb50>],\n",
       " [(13, 7),\n",
       "  3,\n",
       "  <pymatgen.electronic_structure.bandstructure.BandStructure at 0x7125804d5c70>],\n",
       " [(13, 7),\n",
       "  4,\n",
       "  <pymatgen.electronic_structure.bandstructure.BandStructure at 0x71258fafe1b0>],\n",
       " [(13, 7),\n",
       "  5,\n",
       "  <pymatgen.electronic_structure.bandstructure.BandStructure at 0x71258ed146b0>],\n",
       " [(13, 8),\n",
       "  3,\n",
       "  <pymatgen.electronic_structure.bandstructure.BandStructure at 0x7125a3fef200>],\n",
       " [(13, 9),\n",
       "  4,\n",
       "  <pymatgen.electronic_structure.bandstructure.BandStructure at 0x7125aa964fe0>],\n",
       " [(13, 12),\n",
       "  7,\n",
       "  <pymatgen.electronic_structure.bandstructure.BandStructure at 0x71259dfff950>],\n",
       " [(13, 13),\n",
       "  6,\n",
       "  <pymatgen.electronic_structure.bandstructure.BandStructure at 0x7125a31981a0>],\n",
       " [(13, 13),\n",
       "  2,\n",
       "  <pymatgen.electronic_structure.bandstructure.BandStructure at 0x7125723431a0>],\n",
       " [(13, 13),\n",
       "  2,\n",
       "  <pymatgen.electronic_structure.bandstructure.BandStructure at 0x7125a99dfa70>],\n",
       " [(13, 13),\n",
       "  5,\n",
       "  <pymatgen.electronic_structure.bandstructure.BandStructure at 0x7125a11fbce0>],\n",
       " [(13, 13),\n",
       "  8,\n",
       "  <pymatgen.electronic_structure.bandstructure.BandStructure at 0x7125a8008c20>],\n",
       " [(13, 13),\n",
       "  8,\n",
       "  <pymatgen.electronic_structure.bandstructure.BandStructureSymmLine at 0x71259da7d640>],\n",
       " [(13, 13),\n",
       "  5,\n",
       "  <pymatgen.electronic_structure.bandstructure.BandStructure at 0x71258fc27b60>],\n",
       " [(13, 13),\n",
       "  8,\n",
       "  <pymatgen.electronic_structure.bandstructure.BandStructureSymmLine at 0x71259de09d00>],\n",
       " [(13, 13),\n",
       "  5,\n",
       "  <pymatgen.electronic_structure.bandstructure.BandStructure at 0x71259e058500>],\n",
       " [(13, 13),\n",
       "  2,\n",
       "  <pymatgen.electronic_structure.bandstructure.BandStructure at 0x71259e0593a0>],\n",
       " [(13, 13),\n",
       "  7,\n",
       "  <pymatgen.electronic_structure.bandstructure.BandStructure at 0x71259c166c90>],\n",
       " [(13, 13),\n",
       "  4,\n",
       "  <pymatgen.electronic_structure.bandstructure.BandStructure at 0x71259de1df70>],\n",
       " [(13, 13),\n",
       "  5,\n",
       "  <pymatgen.electronic_structure.bandstructure.BandStructure at 0x712588acb7a0>],\n",
       " [(13, 13),\n",
       "  8,\n",
       "  <pymatgen.electronic_structure.bandstructure.BandStructureSymmLine at 0x7125a35393d0>],\n",
       " [(14, 5),\n",
       "  5,\n",
       "  <pymatgen.electronic_structure.bandstructure.BandStructure at 0x7125803f4170>],\n",
       " [(14, 7),\n",
       "  5,\n",
       "  <pymatgen.electronic_structure.bandstructure.BandStructure at 0x712580ed5310>],\n",
       " [(14, 8),\n",
       "  5,\n",
       "  <pymatgen.electronic_structure.bandstructure.BandStructure at 0x71259db372c0>],\n",
       " [(14, 8),\n",
       "  5,\n",
       "  <pymatgen.electronic_structure.bandstructure.BandStructure at 0x7125a9af3c20>],\n",
       " [(14, 8),\n",
       "  5,\n",
       "  <pymatgen.electronic_structure.bandstructure.BandStructure at 0x71258bfab6e0>],\n",
       " [(14, 8),\n",
       "  5,\n",
       "  <pymatgen.electronic_structure.bandstructure.BandStructure at 0x712569cac6b0>],\n",
       " [(14, 8),\n",
       "  5,\n",
       "  <pymatgen.electronic_structure.bandstructure.BandStructure at 0x71258f6e2900>],\n",
       " [(14, 9),\n",
       "  4,\n",
       "  <pymatgen.electronic_structure.bandstructure.BandStructure at 0x712569ceeff0>],\n",
       " [(14, 14),\n",
       "  4,\n",
       "  <pymatgen.electronic_structure.bandstructure.BandStructure at 0x7125a9af3ce0>],\n",
       " [(14, 14),\n",
       "  2,\n",
       "  <pymatgen.electronic_structure.bandstructure.BandStructure at 0x71259ca900b0>],\n",
       " [(15, 5),\n",
       "  4,\n",
       "  <pymatgen.electronic_structure.bandstructure.BandStructure at 0x7125818d3ce0>],\n",
       " [(15, 6),\n",
       "  7,\n",
       "  <pymatgen.electronic_structure.bandstructure.BandStructure at 0x712580f628d0>],\n",
       " [(15, 6),\n",
       "  2,\n",
       "  <pymatgen.electronic_structure.bandstructure.BandStructure at 0x71259dd49610>],\n",
       " [(15, 6),\n",
       "  4,\n",
       "  <pymatgen.electronic_structure.bandstructure.BandStructure at 0x71259dd4b980>],\n",
       " [(15, 6),\n",
       "  2,\n",
       "  <pymatgen.electronic_structure.bandstructure.BandStructure at 0x71259ddb3500>],\n",
       " [(15, 6),\n",
       "  2,\n",
       "  <pymatgen.electronic_structure.bandstructure.BandStructure at 0x71258041c140>],\n",
       " [(15, 6),\n",
       "  7,\n",
       "  <pymatgen.electronic_structure.bandstructure.BandStructure at 0x71259df70770>],\n",
       " [(15, 11),\n",
       "  5,\n",
       "  <pymatgen.electronic_structure.bandstructure.BandStructureSymmLine at 0x71259cfed160>],\n",
       " [(15, 13),\n",
       "  5,\n",
       "  <pymatgen.electronic_structure.bandstructure.BandStructure at 0x71258a1d9c40>],\n",
       " [(15, 14),\n",
       "  8,\n",
       "  <pymatgen.electronic_structure.bandstructure.BandStructure at 0x71258bfab380>],\n",
       " [(15, 15),\n",
       "  5,\n",
       "  <pymatgen.electronic_structure.bandstructure.BandStructure at 0x71256e57b560>],\n",
       " [(15, 15),\n",
       "  4,\n",
       "  <pymatgen.electronic_structure.bandstructure.BandStructure at 0x712571e7f200>],\n",
       " [(15, 15),\n",
       "  4,\n",
       "  <pymatgen.electronic_structure.bandstructure.BandStructure at 0x7125a8080b00>],\n",
       " [(15, 15),\n",
       "  4,\n",
       "  <pymatgen.electronic_structure.bandstructure.BandStructure at 0x71259de9e6f0>],\n",
       " [(16, 6),\n",
       "  5,\n",
       "  <pymatgen.electronic_structure.bandstructure.BandStructure at 0x712569c55310>],\n",
       " [(16, 6),\n",
       "  7,\n",
       "  <pymatgen.electronic_structure.bandstructure.BandStructure at 0x7125af5d31a0>],\n",
       " [(16, 6),\n",
       "  7,\n",
       "  <pymatgen.electronic_structure.bandstructure.BandStructure at 0x7125815c6840>],\n",
       " [(16, 7),\n",
       "  4,\n",
       "  <pymatgen.electronic_structure.bandstructure.BandStructure at 0x71259c12aa20>],\n",
       " [(16, 8),\n",
       "  6,\n",
       "  <pymatgen.electronic_structure.bandstructure.BandStructure at 0x7125a2eeb320>],\n",
       " [(16, 16),\n",
       "  3,\n",
       "  <pymatgen.electronic_structure.bandstructure.BandStructure at 0x7125804d7f20>],\n",
       " [(17, 6),\n",
       "  6,\n",
       "  <pymatgen.electronic_structure.bandstructure.BandStructure at 0x7125818abe90>],\n",
       " [(17, 6),\n",
       "  5,\n",
       "  <pymatgen.electronic_structure.bandstructure.BandStructure at 0x71256e548a10>],\n",
       " [(17, 6),\n",
       "  4,\n",
       "  <pymatgen.electronic_structure.bandstructure.BandStructure at 0x71259e07d4c0>],\n",
       " [(17, 6),\n",
       "  8,\n",
       "  <pymatgen.electronic_structure.bandstructure.BandStructure at 0x7125816dac30>],\n",
       " [(17, 6),\n",
       "  6,\n",
       "  <pymatgen.electronic_structure.bandstructure.BandStructure at 0x7125803fede0>],\n",
       " [(17, 6),\n",
       "  5,\n",
       "  <pymatgen.electronic_structure.bandstructure.BandStructure at 0x71259ddb3770>],\n",
       " [(17, 6),\n",
       "  4,\n",
       "  <pymatgen.electronic_structure.bandstructure.BandStructure at 0x71250e4ceb40>],\n",
       " [(17, 9),\n",
       "  4,\n",
       "  <pymatgen.electronic_structure.bandstructure.BandStructure at 0x7125a3f9b410>],\n",
       " [(17, 11),\n",
       "  8,\n",
       "  <pymatgen.electronic_structure.bandstructure.BandStructureSymmLine at 0x71258a298500>],\n",
       " [(17, 15),\n",
       "  4,\n",
       "  <pymatgen.electronic_structure.bandstructure.BandStructure at 0x7125804e5f10>],\n",
       " [(17, 17),\n",
       "  9,\n",
       "  <pymatgen.electronic_structure.bandstructure.BandStructure at 0x71259da7eae0>],\n",
       " [(17, 17),\n",
       "  3,\n",
       "  <pymatgen.electronic_structure.bandstructure.BandStructure at 0x7125a839a9f0>],\n",
       " [(17, 17),\n",
       "  4,\n",
       "  <pymatgen.electronic_structure.bandstructure.BandStructure at 0x71259dfc0350>],\n",
       " [(17, 17),\n",
       "  3,\n",
       "  <pymatgen.electronic_structure.bandstructure.BandStructure at 0x71259c40e990>],\n",
       " [(18, 18),\n",
       "  5,\n",
       "  <pymatgen.electronic_structure.bandstructure.BandStructure at 0x7125c46296a0>],\n",
       " [(18, 18),\n",
       "  3,\n",
       "  <pymatgen.electronic_structure.bandstructure.BandStructure at 0x7125aaaad100>],\n",
       " [(19, 19),\n",
       "  6,\n",
       "  <pymatgen.electronic_structure.bandstructure.BandStructure at 0x7125592a7d70>],\n",
       " [(20, 19),\n",
       "  4,\n",
       "  <pymatgen.electronic_structure.bandstructure.BandStructure at 0x71250e5be840>],\n",
       " [(20, 20),\n",
       "  6,\n",
       "  <pymatgen.electronic_structure.bandstructure.BandStructure at 0x7125818b5880>],\n",
       " [(20, 20),\n",
       "  6,\n",
       "  <pymatgen.electronic_structure.bandstructure.BandStructure at 0x71259e07e660>],\n",
       " [(20, 20),\n",
       "  6,\n",
       "  <pymatgen.electronic_structure.bandstructure.BandStructure at 0x71258eda0380>],\n",
       " [(21, 8),\n",
       "  2,\n",
       "  <pymatgen.electronic_structure.bandstructure.BandStructure at 0x712588ac9850>],\n",
       " [(48, 15),\n",
       "  10,\n",
       "  <pymatgen.electronic_structure.bandstructure.BandStructure at 0x7125be76a6c0>]]"
      ]
     },
     "execution_count": 107,
     "metadata": {},
     "output_type": "execute_result"
    }
   ],
   "source": [
    "sorted(band_structs, key=lambda x: x[0])"
   ]
  },
  {
   "cell_type": "code",
   "execution_count": 131,
   "metadata": {},
   "outputs": [],
   "source": [
    "symmband_structs = [x for x in band_structs if x[0][0] == x[0][1]]\n"
   ]
  },
  {
   "cell_type": "code",
   "execution_count": 123,
   "metadata": {},
   "outputs": [
    {
     "name": "stdout",
     "output_type": "stream",
     "text": [
      "6 [0.         0.09090909 0.18181818 0.27272727 0.36363636 0.45454545]\n",
      "6 [0.         0.09090909 0.18181818 0.27272727 0.36363636 0.45454545]\n",
      "4 [0.         0.16666667 0.33333333 0.5       ]\n"
     ]
    }
   ],
   "source": [
    "kpt = np.array([kpt.frac_coords for kpt in band_structs[1][2].kpoints ])\n",
    "dim1 = np.unique(kpt[:,0])\n",
    "dim2 = np.unique(kpt[:,1])\n",
    "dim3 = np.unique(kpt[:,2])\n",
    "print(len(dim1), dim1 )\n",
    "print(len(dim2), dim2 )\n",
    "print(len(dim3), dim3 )"
   ]
  },
  {
   "cell_type": "code",
   "execution_count": 125,
   "metadata": {},
   "outputs": [
    {
     "name": "stdout",
     "output_type": "stream",
     "text": [
      "(178, 36)\n",
      "(14, 36)\n"
     ]
    }
   ],
   "source": [
    "bands_tmp = np.array(list(band_structs[1][2].bands.values()))[0][:, :36]\n",
    "print(bands_tmp.shape)\n",
    "\n",
    "bands_refined = np.array([band for band in bands_tmp if np.max(band)- np.min(band) > 0.5])\n",
    "print(bands_refined.shape)"
   ]
  },
  {
   "cell_type": "code",
   "execution_count": null,
   "metadata": {},
   "outputs": [],
   "source": [
    "\n",
    "def refine_BS(kpts,  BS):\n",
    "    kx10 = np.linspace(0, 0.5, 10)\n",
    "    ky10 = np.linspace(0, 0.5, 10)\n",
    "    kX10, kY10 = np.meshgrid(kx10, ky10, indexing='ij')\n",
    "\n",
    "    ndim = int(BS.shape[0]**0.5)\n",
    "    kx = np.linspace(0, 0.5, ndim)\n",
    "    ky = np.linspace(0, 0.5, ndim)\n",
    "\n",
    "\n",
    "    interp = RegularGridInterpolator((kx, ky), BS,\n",
    "                                    bounds_error=False, fill_value=None)\n",
    "\n",
    "BS = interp((X, Y))"
   ]
  },
  {
   "cell_type": "code",
   "execution_count": 126,
   "metadata": {},
   "outputs": [
    {
     "name": "stdout",
     "output_type": "stream",
     "text": [
      "[[-2.0758 -2.0459 -1.9572 -1.813  -1.6194 -1.3884 -2.0515 -2.0219 -1.9338\n",
      "  -1.7909 -1.5992 -1.3713 -1.9793 -1.9503 -1.8644 -1.7252 -1.5398 -1.3215\n",
      "  -1.8609 -1.833  -1.7508 -1.6185 -1.4442 -1.2437 -1.6993 -1.6732 -1.5967\n",
      "  -1.4749 -1.3184 -1.1466 -1.499  -1.4756 -1.4073 -1.3013 -1.172  -1.0445]\n",
      " [-1.769  -1.7415 -1.6604 -1.5297 -1.3589 -1.2051 -1.7464 -1.7192 -1.6389\n",
      "  -1.5099 -1.3418 -1.1912 -1.6792 -1.6529 -1.5754 -1.4515 -1.2918 -1.1516\n",
      "  -1.5694 -1.5447 -1.4721 -1.3575 -1.2133 -1.0923 -1.4207 -1.3983 -1.3334\n",
      "  -1.2336 -1.1147 -1.0251 -1.267  -1.2472 -1.1909 -1.1083 -1.0197 -0.9674]\n",
      " [-0.6688 -0.6416 -0.5612 -0.5638 -0.817  -1.0376 -0.6476 -0.6206 -0.5405\n",
      "  -0.5745 -0.8142 -1.0277 -0.5847 -0.558  -0.5358 -0.612  -0.8098 -1.0007\n",
      "  -0.753  -0.7462 -0.7325 -0.7331 -0.816  -0.9657 -1.0131 -0.9986 -0.9598\n",
      "  -0.9116 -0.8818 -0.9381 -1.2382 -1.2194 -1.166  -1.0888 -1.0088 -0.9558]\n",
      " [-0.2605 -0.2813 -0.3604 -0.486  -0.6757 -0.8931 -0.3305 -0.3457 -0.4015\n",
      "  -0.5124 -0.6838 -0.8888 -0.5119 -0.5156 -0.479  -0.5935 -0.7132 -0.8799\n",
      "  -0.5848 -0.5896 -0.6137 -0.6824 -0.7761 -0.8779 -0.8066 -0.8005 -0.7894\n",
      "  -0.7948 -0.8466 -0.8991 -1.0298 -1.0161 -0.9799 -0.9365 -0.9137 -0.9347]\n",
      " [-0.1983 -0.2374 -0.3523 -0.4307 -0.2563 -0.05   -0.249  -0.2818 -0.3876\n",
      "  -0.4106 -0.2372 -0.0325 -0.3883 -0.4071 -0.4745 -0.3509 -0.1807  0.0188\n",
      "  -0.4821 -0.456  -0.3788 -0.2542 -0.0897  0.1002 -0.3436 -0.3185 -0.2442\n",
      "  -0.1251  0.03    0.2039 -0.1755 -0.1518 -0.0823  0.0279  0.1678  0.3164]\n",
      " [ 1.5043  1.4578  1.3892  1.4745  1.4876  1.6273  1.5355  1.4244  1.3029\n",
      "   1.3652  1.4275  1.4927  1.3362  1.3502  1.2873  1.3883  1.2469  1.3041\n",
      "   1.3443  1.3652  1.2543  1.2634  1.2724  1.1574  1.5341  1.549   1.3118\n",
      "   1.1266  1.1778  1.1136  1.7483  1.6481  1.3928  1.1817  1.0712  1.0732]\n",
      " [ 1.5549  1.5458  1.6451  1.5479  1.6214  1.6642  1.5369  1.5532  1.6054\n",
      "   1.4815  1.5034  1.5737  1.6097  1.4302  1.3927  1.4602  1.524   1.3974\n",
      "   1.6877  1.4834  1.4234  1.4876  1.3548  1.2349  1.7572  1.5613  1.5863\n",
      "   1.3828  1.2151  1.1383  1.8173  1.7344  1.4909  1.2669  1.115   1.1369]\n",
      " [ 1.6561  1.6761  1.7345  1.6486  1.6916  1.6741  1.5846  1.6345  1.7109\n",
      "   1.6899  1.68    1.6753  1.6664  1.7739  1.7995  1.5108  1.5427  1.6537\n",
      "   1.7847  1.876   1.7185  1.5252  1.3551  1.4637  1.9137  1.8146  1.6018\n",
      "   1.5784  1.332   1.2935  1.8704  1.7552  1.756   1.6472  1.4032  1.2246]\n",
      " [ 2.0132  1.895   1.7633  1.8245  1.8109  1.8566  2.0135  1.9558  1.773\n",
      "   1.774   1.7854  1.8084  1.9978  1.9607  1.8009  1.676   1.5651  1.6588\n",
      "   1.9632  1.9365  1.8411  1.5518  1.5842  1.5682  1.9322  2.0557  1.8849\n",
      "   1.626   1.5698  1.4323  1.9795  1.9702  1.8772  1.6769  1.4928  1.3057]\n",
      " [ 2.0884  2.0879  1.7772  1.8469  1.9109  1.9349  2.1413  2.0701  1.8931\n",
      "   1.8557  1.9179  1.9619  2.2089  2.1335  1.8936  1.9008  1.8762  1.8627\n",
      "   2.3198  2.1675  1.9888  1.9595  1.8516  1.7995  2.214   2.1443  2.0556\n",
      "   1.9258  1.8179  1.776   2.0804  2.1708  2.0774  1.9143  1.8167  1.795 ]\n",
      " [ 2.1233  2.0955  1.9961  1.8815  1.9813  2.0137  2.1443  2.1067  1.9662\n",
      "   1.913   1.961   1.9988  2.2888  2.1512  2.0673  2.0157  2.0077  1.909\n",
      "   2.3803  2.2199  2.0865  1.9927  1.9219  1.8262  2.3482  2.2516  2.129\n",
      "   2.0312  1.9048  1.8132  2.2304  2.2476  2.1312  1.9512  1.8591  1.8215]\n",
      " [ 2.1628  2.1763  2.2096  2.2089  2.1974  2.1657  2.2931  2.2113  2.2356\n",
      "   2.1978  2.1219  2.1179  2.3612  2.3064  2.3118  2.2041  2.0923  2.1574\n",
      "   2.3871  2.4394  2.3477  2.1428  2.081   2.1329  2.4491  2.3931  2.2399\n",
      "   2.0737  2.0305  2.0677  2.5696  2.4053  2.2629  2.1773  2.0713  2.0169]\n",
      " [ 2.3004  2.1778  2.2263  2.2631  2.256   2.1943  2.3178  2.3082  2.3434\n",
      "   2.3939  2.299   2.1955  2.3709  2.4483  2.521   2.4777  2.2976  2.178\n",
      "   2.4655  2.511   2.5545  2.3456  2.1678  2.1502  2.5144  2.4212  2.3888\n",
      "   2.2189  2.1402  2.161   2.5876  2.4274  2.275   2.1895  2.1707  2.0623]\n",
      " [ 2.63    2.8307  2.7246  2.5019  2.329   2.3592  2.6385  2.8198  2.6493\n",
      "   2.5179  2.4087  2.2851  2.663   2.7793  2.6329  2.5673  2.4225  2.2996\n",
      "   2.6983  2.6971  2.5864  2.6151  2.4349  2.2576  2.7198  2.6585  2.4883\n",
      "   2.4624  2.53    2.3663  2.6715  2.5306  2.3783  2.2933  2.3878  2.4893]]\n"
     ]
    }
   ],
   "source": [
    "print(bands_refined)"
   ]
  },
  {
   "cell_type": "code",
   "execution_count": 108,
   "metadata": {},
   "outputs": [
    {
     "data": {
      "text/plain": [
       "[(3, 8),\n",
       " (4, 3),\n",
       " (4, 4),\n",
       " (4, 4),\n",
       " (4, 4),\n",
       " (4, 4),\n",
       " (4, 9),\n",
       " (5, 3),\n",
       " (5, 3),\n",
       " (5, 3),\n",
       " (5, 3),\n",
       " (5, 3),\n",
       " (5, 4),\n",
       " (5, 4),\n",
       " (5, 5),\n",
       " (5, 8),\n",
       " (5, 9),\n",
       " (5, 9),\n",
       " (6, 2),\n",
       " (6, 4),\n",
       " (6, 5),\n",
       " (6, 6),\n",
       " (6, 6),\n",
       " (6, 6),\n",
       " (6, 6),\n",
       " (6, 6),\n",
       " (6, 6),\n",
       " (6, 6),\n",
       " (6, 6),\n",
       " (6, 7),\n",
       " (6, 8),\n",
       " (6, 8),\n",
       " (6, 9),\n",
       " (6, 10),\n",
       " (6, 11),\n",
       " (6, 11),\n",
       " (7, 4),\n",
       " (7, 5),\n",
       " (7, 5),\n",
       " (7, 6),\n",
       " (7, 6),\n",
       " (7, 6),\n",
       " (7, 6),\n",
       " (7, 6),\n",
       " (7, 6),\n",
       " (7, 6),\n",
       " (7, 7),\n",
       " (7, 7),\n",
       " (7, 7),\n",
       " (7, 7),\n",
       " (7, 7),\n",
       " (7, 7),\n",
       " (7, 11),\n",
       " (7, 11),\n",
       " (7, 12),\n",
       " (7, 12),\n",
       " (8, 4),\n",
       " (8, 5),\n",
       " (8, 5),\n",
       " (8, 5),\n",
       " (8, 5),\n",
       " (8, 5),\n",
       " (8, 6),\n",
       " (8, 6),\n",
       " (8, 6),\n",
       " (8, 6),\n",
       " (8, 6),\n",
       " (8, 7),\n",
       " (8, 7),\n",
       " (8, 7),\n",
       " (8, 7),\n",
       " (8, 8),\n",
       " (8, 8),\n",
       " (8, 8),\n",
       " (8, 8),\n",
       " (8, 8),\n",
       " (8, 8),\n",
       " (8, 8),\n",
       " (8, 8),\n",
       " (8, 8),\n",
       " (8, 8),\n",
       " (8, 8),\n",
       " (8, 8),\n",
       " (8, 11),\n",
       " (8, 11),\n",
       " (9, 4),\n",
       " (9, 5),\n",
       " (9, 5),\n",
       " (9, 6),\n",
       " (9, 6),\n",
       " (9, 7),\n",
       " (9, 7),\n",
       " (9, 8),\n",
       " (9, 9),\n",
       " (9, 9),\n",
       " (9, 9),\n",
       " (9, 9),\n",
       " (9, 9),\n",
       " (9, 9),\n",
       " (9, 9),\n",
       " (9, 9),\n",
       " (9, 9),\n",
       " (9, 9),\n",
       " (9, 9),\n",
       " (9, 11),\n",
       " (10, 4),\n",
       " (10, 4),\n",
       " (10, 5),\n",
       " (10, 5),\n",
       " (10, 6),\n",
       " (10, 9),\n",
       " (10, 9),\n",
       " (10, 9),\n",
       " (10, 9),\n",
       " (10, 10),\n",
       " (10, 10),\n",
       " (10, 10),\n",
       " (10, 10),\n",
       " (10, 10),\n",
       " (10, 10),\n",
       " (10, 10),\n",
       " (10, 10),\n",
       " (10, 10),\n",
       " (10, 11),\n",
       " (11, 5),\n",
       " (11, 6),\n",
       " (11, 8),\n",
       " (11, 8),\n",
       " (11, 10),\n",
       " (11, 10),\n",
       " (11, 10),\n",
       " (11, 10),\n",
       " (11, 10),\n",
       " (11, 11),\n",
       " (11, 11),\n",
       " (11, 11),\n",
       " (11, 11),\n",
       " (11, 11),\n",
       " (11, 11),\n",
       " (11, 11),\n",
       " (11, 11),\n",
       " (11, 11),\n",
       " (11, 11),\n",
       " (11, 11),\n",
       " (12, 5),\n",
       " (12, 7),\n",
       " (12, 12),\n",
       " (12, 12),\n",
       " (12, 12),\n",
       " (12, 12),\n",
       " (13, 7),\n",
       " (13, 7),\n",
       " (13, 7),\n",
       " (13, 8),\n",
       " (13, 9),\n",
       " (13, 12),\n",
       " (13, 13),\n",
       " (13, 13),\n",
       " (13, 13),\n",
       " (13, 13),\n",
       " (13, 13),\n",
       " (13, 13),\n",
       " (13, 13),\n",
       " (13, 13),\n",
       " (13, 13),\n",
       " (13, 13),\n",
       " (13, 13),\n",
       " (13, 13),\n",
       " (13, 13),\n",
       " (13, 13),\n",
       " (14, 5),\n",
       " (14, 7),\n",
       " (14, 8),\n",
       " (14, 8),\n",
       " (14, 8),\n",
       " (14, 8),\n",
       " (14, 8),\n",
       " (14, 9),\n",
       " (14, 14),\n",
       " (14, 14),\n",
       " (15, 5),\n",
       " (15, 6),\n",
       " (15, 6),\n",
       " (15, 6),\n",
       " (15, 6),\n",
       " (15, 6),\n",
       " (15, 6),\n",
       " (15, 11),\n",
       " (15, 13),\n",
       " (15, 14),\n",
       " (15, 15),\n",
       " (15, 15),\n",
       " (15, 15),\n",
       " (15, 15),\n",
       " (16, 6),\n",
       " (16, 6),\n",
       " (16, 6),\n",
       " (16, 7),\n",
       " (16, 8),\n",
       " (16, 16),\n",
       " (17, 6),\n",
       " (17, 6),\n",
       " (17, 6),\n",
       " (17, 6),\n",
       " (17, 6),\n",
       " (17, 6),\n",
       " (17, 6),\n",
       " (17, 9),\n",
       " (17, 11),\n",
       " (17, 15),\n",
       " (17, 17),\n",
       " (17, 17),\n",
       " (17, 17),\n",
       " (17, 17),\n",
       " (18, 18),\n",
       " (18, 18),\n",
       " (19, 19),\n",
       " (20, 19),\n",
       " (20, 20),\n",
       " (20, 20),\n",
       " (20, 20),\n",
       " (21, 8),\n",
       " (48, 15)]"
      ]
     },
     "execution_count": 108,
     "metadata": {},
     "output_type": "execute_result"
    }
   ],
   "source": [
    "[x[0] for x in sorted(band_structs, key=lambda x: x[0])]"
   ]
  },
  {
   "cell_type": "code",
   "execution_count": 72,
   "metadata": {},
   "outputs": [
    {
     "data": {
      "text/plain": [
       "array([[-39.1267, -39.1266, -39.1264, ..., -39.1247, -39.1244, -39.1241],\n",
       "       [-39.1265, -39.1265, -39.1263, ..., -39.1247, -39.1244, -39.1241],\n",
       "       [-39.1229, -39.123 , -39.1232, ..., -39.1242, -39.124 , -39.124 ],\n",
       "       ...,\n",
       "       [  6.0996,   6.1153,   6.1482, ...,   6.2195,   6.2006,   6.2735],\n",
       "       [  6.2848,   6.2762,   6.242 , ...,   6.2894,   6.3478,   6.3841],\n",
       "       [  6.3517,   6.3671,   6.4188, ...,   6.3632,   6.4137,   6.4459]])"
      ]
     },
     "execution_count": 72,
     "metadata": {},
     "output_type": "execute_result"
    }
   ],
   "source": [
    "np.array(list(bandstructure.bands.values()))[0]"
   ]
  },
  {
   "cell_type": "code",
   "execution_count": 38,
   "metadata": {},
   "outputs": [
    {
     "name": "stdout",
     "output_type": "stream",
     "text": [
      "9 [0.     0.0625 0.125  0.1875 0.25   0.3125 0.375  0.4375 0.5   ]\n",
      "4 [0.         0.16666667 0.33333333 0.5       ]\n",
      "3 [0.  0.2 0.4]\n"
     ]
    }
   ],
   "source": [
    "kpt = np.array([kpt.frac_coords for kpt in bandstructure.kpoints ])\n",
    "dim1 = np.unique(kpt[:,0])\n",
    "dim2 = np.unique(kpt[:,1])\n",
    "dim3 = np.unique(kpt[:,2])\n",
    "print(len(dim1), dim1 )\n",
    "print(len(dim2), dim2 )\n",
    "print(len(dim3), dim3 )"
   ]
  },
  {
   "cell_type": "code",
   "execution_count": 89,
   "metadata": {},
   "outputs": [],
   "source": [
    "from mpl_toolkits.mplot3d import Axes3D\n"
   ]
  },
  {
   "cell_type": "code",
   "execution_count": 129,
   "metadata": {},
   "outputs": [
    {
     "data": {
      "image/png": "[encoded data removed]",
      "text/plain": [
       "<Figure size 640x480 with 1 Axes>"
      ]
     },
     "metadata": {},
     "output_type": "display_data"
    }
   ],
   "source": [
    "fig = plt.figure()\n",
    "ax = fig.add_subplot(111, projection='3d')\n",
    "\n",
    "\n",
    "for i in range(14):\n",
    "    # band = list(bandstructure.bands.values())[0][i][:36]\n",
    "    band =bands_refined[i]\n",
    "    bb = np.reshape(band, (6, 6))\n",
    "# Plot the surface\n",
    "    ax.plot_surface(kx, ky, bb, cmap='viridis')\n",
    "\n",
    "# Add labels\n",
    "ax.set_xlabel('kx')\n",
    "ax.set_ylabel('ky')\n",
    "ax.set_zlabel('Energy')\n",
    "# ax.set_zlim((-4, 2))\n",
    "# Show the plot\n",
    "plt.show()"
   ]
  },
  {
   "cell_type": "code",
   "execution_count": 83,
   "metadata": {},
   "outputs": [],
   "source": [
    "band = list(bandstructure.bands.values())[0][80][:36]"
   ]
  },
  {
   "cell_type": "code",
   "execution_count": 85,
   "metadata": {},
   "outputs": [],
   "source": [
    "kx = np.linspace(0, 0.5, 6)\n",
    "ky = np.linspace(0, 0.5, 6)\n",
    "kx, ky = np.meshgrid(kx, ky)\n",
    "kpoints = np.array([kx.flatten(), ky.flatten()]).T\n",
    "\n",
    "bb = np.reshape(band, (6, 6))"
   ]
  },
  {
   "cell_type": "code",
   "execution_count": 88,
   "metadata": {},
   "outputs": [
    {
     "data": {
      "image/png": "[encoded data removed]",
      "text/plain": [
       "<Figure size 800x600 with 2 Axes>"
      ]
     },
     "metadata": {},
     "output_type": "display_data"
    }
   ],
   "source": [
    "plt.figure(figsize=(8, 6))\n",
    "plt.contourf(kx, ky, bb, levels=100, cmap='viridis')\n",
    "plt.colorbar(label='Energy (lower band)')\n",
    "plt.title('Energy Band Structure (lower band)')\n",
    "plt.xlabel('$k_x$')\n",
    "plt.ylabel('$k_y$')\n",
    "plt.show()"
   ]
  },
  {
   "cell_type": "code",
   "execution_count": 87,
   "metadata": {},
   "outputs": [
    {
     "data": {
      "text/plain": [
       "array([[-2.0758, -2.0459, -1.9572, -1.813 , -1.6194, -1.3884],\n",
       "       [-2.0515, -2.0219, -1.9338, -1.7909, -1.5992, -1.3713],\n",
       "       [-1.9793, -1.9503, -1.8644, -1.7252, -1.5398, -1.3215],\n",
       "       [-1.8609, -1.833 , -1.7508, -1.6185, -1.4442, -1.2437],\n",
       "       [-1.6993, -1.6732, -1.5967, -1.4749, -1.3184, -1.1466],\n",
       "       [-1.499 , -1.4756, -1.4073, -1.3013, -1.172 , -1.0445]])"
      ]
     },
     "execution_count": 87,
     "metadata": {},
     "output_type": "execute_result"
    }
   ],
   "source": [
    "bb = np.reshape(band, (6, 6))\n",
    "bb"
   ]
  },
  {
   "cell_type": "code",
   "execution_count": 20,
   "metadata": {},
   "outputs": [],
   "source": [
    "import plotly.graph_objects as go\n",
    "import numpy as np\n"
   ]
  },
  {
   "cell_type": "code",
   "execution_count": 25,
   "metadata": {},
   "outputs": [
    {
     "data": {
      "application/vnd.plotly.v1+json": {
       "config": {
        "plotlyServerURL": "https://plot.ly"
       },
       "data": [
        {
         "hoverinfo": "all",
         "hovertemplate": "Аргумент: %{x}<br>Функция: %{y}",
         "marker": {
          "opacity": 0.7,
          "size": 3
         },
         "mode": "markers",
         "type": "scatter3d",
         "x": [
          0,
          0.0625,
          0.125,
          0.1875,
          0.25,
          0.3125,
          0.375,
          0.4375,
          0.5,
          0,
          0.0625,
          0.125,
          0.1875,
          0.25,
          0.3125,
          0.375,
          0.4375,
          0.5,
          0,
          0.0625,
          0.125,
          0.1875,
          0.25,
          0.3125,
          0.375,
          0.4375,
          0.5,
          0,
          0.0625,
          0.125,
          0.1875,
          0.25,
          0.3125,
          0.375,
          0.4375,
          0.5,
          0,
          0.0625,
          0.125,
          0.1875,
          0.25,
          0.3125,
          0.375,
          0.4375,
          0.5,
          0,
          0.0625,
          0.125,
          0.1875,
          0.25,
          0.3125,
          0.375,
          0.4375,
          0.5,
          0,
          0.0625,
          0.125,
          0.1875,
          0.25,
          0.3125,
          0.375,
          0.4375,
          0.5,
          0,
          0.0625,
          0.125,
          0.1875,
          0.25,
          0.3125,
          0.375,
          0.4375,
          0.5,
          0,
          0.0625,
          0.125,
          0.1875,
          0.25,
          0.3125,
          0.375,
          0.4375,
          0.5,
          0,
          0.0625,
          0.125,
          0.1875,
          0.25,
          0.3125,
          0.375,
          0.4375,
          0.5,
          0,
          0.0625,
          0.125,
          0.1875,
          0.25,
          0.3125,
          0.375,
          0.4375,
          0.5,
          0,
          0.0625,
          0.125,
          0.1875,
          0.25,
          0.3125,
          0.375,
          0.4375,
          0.5
         ],
         "y": [
          0,
          0,
          0,
          0,
          0,
          0,
          0,
          0,
          0,
          0.16666667,
          0.16666667,
          0.16666667,
          0.16666667,
          0.16666667,
          0.16666667,
          0.16666667,
          0.16666667,
          0.16666667,
          0.33333333,
          0.33333333,
          0.33333333,
          0.33333333,
          0.33333333,
          0.33333333,
          0.33333333,
          0.33333333,
          0.33333333,
          0.5,
          0.5,
          0.5,
          0.5,
          0.5,
          0.5,
          0.5,
          0.5,
          0.5,
          0,
          0,
          0,
          0,
          0,
          0,
          0,
          0,
          0,
          0.16666667,
          0.16666667,
          0.16666667,
          0.16666667,
          0.16666667,
          0.16666667,
          0.16666667,
          0.16666667,
          0.16666667,
          0.33333333,
          0.33333333,
          0.33333333,
          0.33333333,
          0.33333333,
          0.33333333,
          0.33333333,
          0.33333333,
          0.33333333,
          0.5,
          0.5,
          0.5,
          0.5,
          0.5,
          0.5,
          0.5,
          0.5,
          0.5,
          0,
          0,
          0,
          0,
          0,
          0,
          0,
          0,
          0,
          0.16666667,
          0.16666667,
          0.16666667,
          0.16666667,
          0.16666667,
          0.16666667,
          0.16666667,
          0.16666667,
          0.16666667,
          0.33333333,
          0.33333333,
          0.33333333,
          0.33333333,
          0.33333333,
          0.33333333,
          0.33333333,
          0.33333333,
          0.33333333,
          0.5,
          0.5,
          0.5,
          0.5,
          0.5,
          0.5,
          0.5,
          0.5,
          0.5
         ],
         "z": [
          0,
          0,
          0,
          0,
          0,
          0,
          0,
          0,
          0,
          0,
          0,
          0,
          0,
          0,
          0,
          0,
          0,
          0,
          0,
          0,
          0,
          0,
          0,
          0,
          0,
          0,
          0,
          0,
          0,
          0,
          0,
          0,
          0,
          0,
          0,
          0,
          0.2,
          0.2,
          0.2,
          0.2,
          0.2,
          0.2,
          0.2,
          0.2,
          0.2,
          0.2,
          0.2,
          0.2,
          0.2,
          0.2,
          0.2,
          0.2,
          0.2,
          0.2,
          0.2,
          0.2,
          0.2,
          0.2,
          0.2,
          0.2,
          0.2,
          0.2,
          0.2,
          0.2,
          0.2,
          0.2,
          0.2,
          0.2,
          0.2,
          0.2,
          0.2,
          0.2,
          0.4,
          0.4,
          0.4,
          0.4,
          0.4,
          0.4,
          0.4,
          0.4,
          0.4,
          0.4,
          0.4,
          0.4,
          0.4,
          0.4,
          0.4,
          0.4,
          0.4,
          0.4,
          0.4,
          0.4,
          0.4,
          0.4,
          0.4,
          0.4,
          0.4,
          0.4,
          0.4,
          0.4,
          0.4,
          0.4,
          0.4,
          0.4,
          0.4,
          0.4,
          0.4,
          0.4
         ]
        }
       ],
       "layout": {
        "hovermode": "x",
        "legend": {
         "orientation": "h",
         "x": 0.5,
         "xanchor": "center"
        },
        "margin": {
         "b": 0,
         "l": 0,
         "r": 0,
         "t": 0
        },
        "scene": {
         "xaxis": {
          "nticks": 4,
          "range": [
           -1,
           1
          ]
         },
         "yaxis": {
          "nticks": 4,
          "range": [
           -1,
           1
          ]
         },
         "zaxis": {
          "nticks": 4,
          "range": [
           -1,
           1
          ]
         }
        },
        "template": {
         "data": {
          "bar": [
           {
            "error_x": {
             "color": "rgb(36,36,36)"
            },
            "error_y": {
             "color": "rgb(36,36,36)"
            },
            "marker": {
             "line": {
              "color": "white",
              "width": 0.5
             },
             "pattern": {
              "fillmode": "overlay",
              "size": 10,
              "solidity": 0.2
             }
            },
            "type": "bar"
           }
          ],
          "barpolar": [
           {
            "marker": {
             "line": {
              "color": "white",
              "width": 0.5
             },
             "pattern": {
              "fillmode": "overlay",
              "size": 10,
              "solidity": 0.2
             }
            },
            "type": "barpolar"
           }
          ],
          "carpet": [
           {
            "aaxis": {
             "endlinecolor": "rgb(36,36,36)",
             "gridcolor": "white",
             "linecolor": "white",
             "minorgridcolor": "white",
             "startlinecolor": "rgb(36,36,36)"
            },
            "baxis": {
             "endlinecolor": "rgb(36,36,36)",
             "gridcolor": "white",
             "linecolor": "white",
             "minorgridcolor": "white",
             "startlinecolor": "rgb(36,36,36)"
            },
            "type": "carpet"
           }
          ],
          "choropleth": [
           {
            "colorbar": {
             "outlinewidth": 1,
             "tickcolor": "rgb(36,36,36)",
             "ticks": "outside"
            },
            "type": "choropleth"
           }
          ],
          "contour": [
           {
            "colorbar": {
             "outlinewidth": 1,
             "tickcolor": "rgb(36,36,36)",
             "ticks": "outside"
            },
            "colorscale": [
             [
              0,
              "#440154"
             ],
             [
              0.1111111111111111,
              "#482878"
             ],
             [
              0.2222222222222222,
              "#3e4989"
             ],
             [
              0.3333333333333333,
              "#31688e"
             ],
             [
              0.4444444444444444,
              "#26828e"
             ],
             [
              0.5555555555555556,
              "#1f9e89"
             ],
             [
              0.6666666666666666,
              "#35b779"
             ],
             [
              0.7777777777777778,
              "#6ece58"
             ],
             [
              0.8888888888888888,
              "#b5de2b"
             ],
             [
              1,
              "#fde725"
             ]
            ],
            "type": "contour"
           }
          ],
          "contourcarpet": [
           {
            "colorbar": {
             "outlinewidth": 1,
             "tickcolor": "rgb(36,36,36)",
             "ticks": "outside"
            },
            "type": "contourcarpet"
           }
          ],
          "heatmap": [
           {
            "colorbar": {
             "outlinewidth": 1,
             "tickcolor": "rgb(36,36,36)",
             "ticks": "outside"
            },
            "colorscale": [
             [
              0,
              "#440154"
             ],
             [
              0.1111111111111111,
              "#482878"
             ],
             [
              0.2222222222222222,
              "#3e4989"
             ],
             [
              0.3333333333333333,
              "#31688e"
             ],
             [
              0.4444444444444444,
              "#26828e"
             ],
             [
              0.5555555555555556,
              "#1f9e89"
             ],
             [
              0.6666666666666666,
              "#35b779"
             ],
             [
              0.7777777777777778,
              "#6ece58"
             ],
             [
              0.8888888888888888,
              "#b5de2b"
             ],
             [
              1,
              "#fde725"
             ]
            ],
            "type": "heatmap"
           }
          ],
          "heatmapgl": [
           {
            "colorbar": {
             "outlinewidth": 1,
             "tickcolor": "rgb(36,36,36)",
             "ticks": "outside"
            },
            "colorscale": [
             [
              0,
              "#440154"
             ],
             [
              0.1111111111111111,
              "#482878"
             ],
             [
              0.2222222222222222,
              "#3e4989"
             ],
             [
              0.3333333333333333,
              "#31688e"
             ],
             [
              0.4444444444444444,
              "#26828e"
             ],
             [
              0.5555555555555556,
              "#1f9e89"
             ],
             [
              0.6666666666666666,
              "#35b779"
             ],
             [
              0.7777777777777778,
              "#6ece58"
             ],
             [
              0.8888888888888888,
              "#b5de2b"
             ],
             [
              1,
              "#fde725"
             ]
            ],
            "type": "heatmapgl"
           }
          ],
          "histogram": [
           {
            "marker": {
             "line": {
              "color": "white",
              "width": 0.6
             }
            },
            "type": "histogram"
           }
          ],
          "histogram2d": [
           {
            "colorbar": {
             "outlinewidth": 1,
             "tickcolor": "rgb(36,36,36)",
             "ticks": "outside"
            },
            "colorscale": [
             [
              0,
              "#440154"
             ],
             [
              0.1111111111111111,
              "#482878"
             ],
             [
              0.2222222222222222,
              "#3e4989"
             ],
             [
              0.3333333333333333,
              "#31688e"
             ],
             [
              0.4444444444444444,
              "#26828e"
             ],
             [
              0.5555555555555556,
              "#1f9e89"
             ],
             [
              0.6666666666666666,
              "#35b779"
             ],
             [
              0.7777777777777778,
              "#6ece58"
             ],
             [
              0.8888888888888888,
              "#b5de2b"
             ],
             [
              1,
              "#fde725"
             ]
            ],
            "type": "histogram2d"
           }
          ],
          "histogram2dcontour": [
           {
            "colorbar": {
             "outlinewidth": 1,
             "tickcolor": "rgb(36,36,36)",
             "ticks": "outside"
            },
            "colorscale": [
             [
              0,
              "#440154"
             ],
             [
              0.1111111111111111,
              "#482878"
             ],
             [
              0.2222222222222222,
              "#3e4989"
             ],
             [
              0.3333333333333333,
              "#31688e"
             ],
             [
              0.4444444444444444,
              "#26828e"
             ],
             [
              0.5555555555555556,
              "#1f9e89"
             ],
             [
              0.6666666666666666,
              "#35b779"
             ],
             [
              0.7777777777777778,
              "#6ece58"
             ],
             [
              0.8888888888888888,
              "#b5de2b"
             ],
             [
              1,
              "#fde725"
             ]
            ],
            "type": "histogram2dcontour"
           }
          ],
          "mesh3d": [
           {
            "colorbar": {
             "outlinewidth": 1,
             "tickcolor": "rgb(36,36,36)",
             "ticks": "outside"
            },
            "type": "mesh3d"
           }
          ],
          "parcoords": [
           {
            "line": {
             "colorbar": {
              "outlinewidth": 1,
              "tickcolor": "rgb(36,36,36)",
              "ticks": "outside"
             }
            },
            "type": "parcoords"
           }
          ],
          "pie": [
           {
            "automargin": true,
            "type": "pie"
           }
          ],
          "scatter": [
           {
            "fillpattern": {
             "fillmode": "overlay",
             "size": 10,
             "solidity": 0.2
            },
            "type": "scatter"
           }
          ],
          "scatter3d": [
           {
            "line": {
             "colorbar": {
              "outlinewidth": 1,
              "tickcolor": "rgb(36,36,36)",
              "ticks": "outside"
             }
            },
            "marker": {
             "colorbar": {
              "outlinewidth": 1,
              "tickcolor": "rgb(36,36,36)",
              "ticks": "outside"
             }
            },
            "type": "scatter3d"
           }
          ],
          "scattercarpet": [
           {
            "marker": {
             "colorbar": {
              "outlinewidth": 1,
              "tickcolor": "rgb(36,36,36)",
              "ticks": "outside"
             }
            },
            "type": "scattercarpet"
           }
          ],
          "scattergeo": [
           {
            "marker": {
             "colorbar": {
              "outlinewidth": 1,
              "tickcolor": "rgb(36,36,36)",
              "ticks": "outside"
             }
            },
            "type": "scattergeo"
           }
          ],
          "scattergl": [
           {
            "marker": {
             "colorbar": {
              "outlinewidth": 1,
              "tickcolor": "rgb(36,36,36)",
              "ticks": "outside"
             }
            },
            "type": "scattergl"
           }
          ],
          "scattermapbox": [
           {
            "marker": {
             "colorbar": {
              "outlinewidth": 1,
              "tickcolor": "rgb(36,36,36)",
              "ticks": "outside"
             }
            },
            "type": "scattermapbox"
           }
          ],
          "scatterpolar": [
           {
            "marker": {
             "colorbar": {
              "outlinewidth": 1,
              "tickcolor": "rgb(36,36,36)",
              "ticks": "outside"
             }
            },
            "type": "scatterpolar"
           }
          ],
          "scatterpolargl": [
           {
            "marker": {
             "colorbar": {
              "outlinewidth": 1,
              "tickcolor": "rgb(36,36,36)",
              "ticks": "outside"
             }
            },
            "type": "scatterpolargl"
           }
          ],
          "scatterternary": [
           {
            "marker": {
             "colorbar": {
              "outlinewidth": 1,
              "tickcolor": "rgb(36,36,36)",
              "ticks": "outside"
             }
            },
            "type": "scatterternary"
           }
          ],
          "surface": [
           {
            "colorbar": {
             "outlinewidth": 1,
             "tickcolor": "rgb(36,36,36)",
             "ticks": "outside"
            },
            "colorscale": [
             [
              0,
              "#440154"
             ],
             [
              0.1111111111111111,
              "#482878"
             ],
             [
              0.2222222222222222,
              "#3e4989"
             ],
             [
              0.3333333333333333,
              "#31688e"
             ],
             [
              0.4444444444444444,
              "#26828e"
             ],
             [
              0.5555555555555556,
              "#1f9e89"
             ],
             [
              0.6666666666666666,
              "#35b779"
             ],
             [
              0.7777777777777778,
              "#6ece58"
             ],
             [
              0.8888888888888888,
              "#b5de2b"
             ],
             [
              1,
              "#fde725"
             ]
            ],
            "type": "surface"
           }
          ],
          "table": [
           {
            "cells": {
             "fill": {
              "color": "rgb(237,237,237)"
             },
             "line": {
              "color": "white"
             }
            },
            "header": {
             "fill": {
              "color": "rgb(217,217,217)"
             },
             "line": {
              "color": "white"
             }
            },
            "type": "table"
           }
          ]
         },
         "layout": {
          "annotationdefaults": {
           "arrowhead": 0,
           "arrowwidth": 1
          },
          "autotypenumbers": "strict",
          "coloraxis": {
           "colorbar": {
            "outlinewidth": 1,
            "tickcolor": "rgb(36,36,36)",
            "ticks": "outside"
           }
          },
          "colorscale": {
           "diverging": [
            [
             0,
             "rgb(103,0,31)"
            ],
            [
             0.1,
             "rgb(178,24,43)"
            ],
            [
             0.2,
             "rgb(214,96,77)"
            ],
            [
             0.3,
             "rgb(244,165,130)"
            ],
            [
             0.4,
             "rgb(253,219,199)"
            ],
            [
             0.5,
             "rgb(247,247,247)"
            ],
            [
             0.6,
             "rgb(209,229,240)"
            ],
            [
             0.7,
             "rgb(146,197,222)"
            ],
            [
             0.8,
             "rgb(67,147,195)"
            ],
            [
             0.9,
             "rgb(33,102,172)"
            ],
            [
             1,
             "rgb(5,48,97)"
            ]
           ],
           "sequential": [
            [
             0,
             "#440154"
            ],
            [
             0.1111111111111111,
             "#482878"
            ],
            [
             0.2222222222222222,
             "#3e4989"
            ],
            [
             0.3333333333333333,
             "#31688e"
            ],
            [
             0.4444444444444444,
             "#26828e"
            ],
            [
             0.5555555555555556,
             "#1f9e89"
            ],
            [
             0.6666666666666666,
             "#35b779"
            ],
            [
             0.7777777777777778,
             "#6ece58"
            ],
            [
             0.8888888888888888,
             "#b5de2b"
            ],
            [
             1,
             "#fde725"
            ]
           ],
           "sequentialminus": [
            [
             0,
             "#440154"
            ],
            [
             0.1111111111111111,
             "#482878"
            ],
            [
             0.2222222222222222,
             "#3e4989"
            ],
            [
             0.3333333333333333,
             "#31688e"
            ],
            [
             0.4444444444444444,
             "#26828e"
            ],
            [
             0.5555555555555556,
             "#1f9e89"
            ],
            [
             0.6666666666666666,
             "#35b779"
            ],
            [
             0.7777777777777778,
             "#6ece58"
            ],
            [
             0.8888888888888888,
             "#b5de2b"
            ],
            [
             1,
             "#fde725"
            ]
           ]
          },
          "colorway": [
           "#1F77B4",
           "#FF7F0E",
           "#2CA02C",
           "#D62728",
           "#9467BD",
           "#8C564B",
           "#E377C2",
           "#7F7F7F",
           "#BCBD22",
           "#17BECF"
          ],
          "font": {
           "color": "rgb(36,36,36)"
          },
          "geo": {
           "bgcolor": "white",
           "lakecolor": "white",
           "landcolor": "white",
           "showlakes": true,
           "showland": true,
           "subunitcolor": "white"
          },
          "hoverlabel": {
           "align": "left"
          },
          "hovermode": "closest",
          "mapbox": {
           "style": "light"
          },
          "paper_bgcolor": "white",
          "plot_bgcolor": "white",
          "polar": {
           "angularaxis": {
            "gridcolor": "rgb(232,232,232)",
            "linecolor": "rgb(36,36,36)",
            "showgrid": false,
            "showline": true,
            "ticks": "outside"
           },
           "bgcolor": "white",
           "radialaxis": {
            "gridcolor": "rgb(232,232,232)",
            "linecolor": "rgb(36,36,36)",
            "showgrid": false,
            "showline": true,
            "ticks": "outside"
           }
          },
          "scene": {
           "xaxis": {
            "backgroundcolor": "white",
            "gridcolor": "rgb(232,232,232)",
            "gridwidth": 2,
            "linecolor": "rgb(36,36,36)",
            "showbackground": true,
            "showgrid": false,
            "showline": true,
            "ticks": "outside",
            "zeroline": false,
            "zerolinecolor": "rgb(36,36,36)"
           },
           "yaxis": {
            "backgroundcolor": "white",
            "gridcolor": "rgb(232,232,232)",
            "gridwidth": 2,
            "linecolor": "rgb(36,36,36)",
            "showbackground": true,
            "showgrid": false,
            "showline": true,
            "ticks": "outside",
            "zeroline": false,
            "zerolinecolor": "rgb(36,36,36)"
           },
           "zaxis": {
            "backgroundcolor": "white",
            "gridcolor": "rgb(232,232,232)",
            "gridwidth": 2,
            "linecolor": "rgb(36,36,36)",
            "showbackground": true,
            "showgrid": false,
            "showline": true,
            "ticks": "outside",
            "zeroline": false,
            "zerolinecolor": "rgb(36,36,36)"
           }
          },
          "shapedefaults": {
           "fillcolor": "black",
           "line": {
            "width": 0
           },
           "opacity": 0.3
          },
          "ternary": {
           "aaxis": {
            "gridcolor": "rgb(232,232,232)",
            "linecolor": "rgb(36,36,36)",
            "showgrid": false,
            "showline": true,
            "ticks": "outside"
           },
           "baxis": {
            "gridcolor": "rgb(232,232,232)",
            "linecolor": "rgb(36,36,36)",
            "showgrid": false,
            "showline": true,
            "ticks": "outside"
           },
           "bgcolor": "white",
           "caxis": {
            "gridcolor": "rgb(232,232,232)",
            "linecolor": "rgb(36,36,36)",
            "showgrid": false,
            "showline": true,
            "ticks": "outside"
           }
          },
          "title": {
           "x": 0.05
          },
          "xaxis": {
           "automargin": true,
           "gridcolor": "rgb(232,232,232)",
           "linecolor": "rgb(36,36,36)",
           "showgrid": false,
           "showline": true,
           "ticks": "outside",
           "title": {
            "standoff": 15
           },
           "zeroline": false,
           "zerolinecolor": "rgb(36,36,36)"
          },
          "yaxis": {
           "automargin": true,
           "gridcolor": "rgb(232,232,232)",
           "linecolor": "rgb(36,36,36)",
           "showgrid": false,
           "showline": true,
           "ticks": "outside",
           "title": {
            "standoff": 15
           },
           "zeroline": false,
           "zerolinecolor": "rgb(36,36,36)"
          }
         }
        },
        "width": 700
       }
      }
     },
     "metadata": {},
     "output_type": "display_data"
    }
   ],
   "source": [
    "def plot_conf(conf):\n",
    "    Sx = conf[:,0].flatten()\n",
    "    Sy = conf[:,1].flatten()\n",
    "    Sz = conf[:,2].flatten()\n",
    "\n",
    "    fig = go.Figure()\n",
    "    # fig.update_xaxes(range=[-1, 1])\n",
    "    # fig.update_yaxes(range=[-1, 1])\n",
    "    # fig.update_zaxes(range=[-1, 1])\n",
    "    fig.add_trace(\n",
    "        go.Scatter3d(x=Sx, y=Sy, z=Sz,\n",
    "                    mode='markers',\n",
    "                    #  size=np.ones(len(SSS))*1\n",
    "                    marker=dict(\n",
    "                                size=3.0,\n",
    "                                # color=z,                # set color to an array/list of desired values\n",
    "                                # colorscale='Viridis',   # choose a colorscale\n",
    "                                opacity=0.7\n",
    "                            )\n",
    "                    )\n",
    "        )\n",
    "    fig.update_layout(scene = dict(\n",
    "                        xaxis = dict(nticks=4, range=[-1,1],),\n",
    "                        yaxis = dict(nticks=4, range=[-1,1],),\n",
    "                        zaxis = dict(nticks=4, range=[-1,1],),),\n",
    "                    width=700,\n",
    "                    legend_orientation=\"h\",\n",
    "                    legend=dict(x=.5, xanchor=\"center\"),\n",
    "                    hovermode=\"x\",\n",
    "                    margin=dict(l=0, r=0, t=0, b=0))\n",
    "\n",
    "\n",
    "    fig.update_traces(hoverinfo=\"all\", hovertemplate=\"Аргумент: %{x}<br>Функция: %{y}\")\n",
    "    fig.show()\n",
    "\n",
    "kkp = np.array([kpt.frac_coords for kpt in bandstructure.kpoints])\n",
    "plot_conf(kkp)"
   ]
  },
  {
   "cell_type": "code",
   "execution_count": 22,
   "metadata": {},
   "outputs": [
    {
     "data": {
      "text/plain": [
       "array([[0.        , 0.        , 0.        ],\n",
       "       [0.09090909, 0.        , 0.        ],\n",
       "       [0.18181818, 0.        , 0.        ],\n",
       "       [0.27272727, 0.        , 0.        ],\n",
       "       [0.36363636, 0.        , 0.        ],\n",
       "       [0.45454545, 0.        , 0.        ],\n",
       "       [0.        , 0.09090909, 0.        ],\n",
       "       [0.09090909, 0.09090909, 0.        ],\n",
       "       [0.18181818, 0.09090909, 0.        ],\n",
       "       [0.27272727, 0.09090909, 0.        ],\n",
       "       [0.36363636, 0.09090909, 0.        ],\n",
       "       [0.45454545, 0.09090909, 0.        ],\n",
       "       [0.        , 0.18181818, 0.        ],\n",
       "       [0.09090909, 0.18181818, 0.        ],\n",
       "       [0.18181818, 0.18181818, 0.        ],\n",
       "       [0.27272727, 0.18181818, 0.        ],\n",
       "       [0.36363636, 0.18181818, 0.        ],\n",
       "       [0.45454545, 0.18181818, 0.        ],\n",
       "       [0.        , 0.27272727, 0.        ],\n",
       "       [0.09090909, 0.27272727, 0.        ],\n",
       "       [0.18181818, 0.27272727, 0.        ],\n",
       "       [0.27272727, 0.27272727, 0.        ],\n",
       "       [0.36363636, 0.27272727, 0.        ],\n",
       "       [0.45454545, 0.27272727, 0.        ],\n",
       "       [0.        , 0.36363636, 0.        ],\n",
       "       [0.09090909, 0.36363636, 0.        ],\n",
       "       [0.18181818, 0.36363636, 0.        ],\n",
       "       [0.27272727, 0.36363636, 0.        ],\n",
       "       [0.36363636, 0.36363636, 0.        ],\n",
       "       [0.45454545, 0.36363636, 0.        ],\n",
       "       [0.        , 0.45454545, 0.        ],\n",
       "       [0.09090909, 0.45454545, 0.        ],\n",
       "       [0.18181818, 0.45454545, 0.        ],\n",
       "       [0.27272727, 0.45454545, 0.        ],\n",
       "       [0.36363636, 0.45454545, 0.        ],\n",
       "       [0.45454545, 0.45454545, 0.        ],\n",
       "       [0.        , 0.        , 0.16666667],\n",
       "       [0.09090909, 0.        , 0.16666667],\n",
       "       [0.18181818, 0.        , 0.16666667],\n",
       "       [0.27272727, 0.        , 0.16666667],\n",
       "       [0.36363636, 0.        , 0.16666667],\n",
       "       [0.45454545, 0.        , 0.16666667],\n",
       "       [0.        , 0.09090909, 0.16666667],\n",
       "       [0.09090909, 0.09090909, 0.16666667],\n",
       "       [0.18181818, 0.09090909, 0.16666667],\n",
       "       [0.27272727, 0.09090909, 0.16666667],\n",
       "       [0.36363636, 0.09090909, 0.16666667],\n",
       "       [0.45454545, 0.09090909, 0.16666667],\n",
       "       [0.        , 0.18181818, 0.16666667],\n",
       "       [0.09090909, 0.18181818, 0.16666667],\n",
       "       [0.18181818, 0.18181818, 0.16666667],\n",
       "       [0.27272727, 0.18181818, 0.16666667],\n",
       "       [0.36363636, 0.18181818, 0.16666667],\n",
       "       [0.45454545, 0.18181818, 0.16666667],\n",
       "       [0.        , 0.27272727, 0.16666667],\n",
       "       [0.09090909, 0.27272727, 0.16666667],\n",
       "       [0.18181818, 0.27272727, 0.16666667],\n",
       "       [0.27272727, 0.27272727, 0.16666667],\n",
       "       [0.36363636, 0.27272727, 0.16666667],\n",
       "       [0.45454545, 0.27272727, 0.16666667],\n",
       "       [0.        , 0.36363636, 0.16666667],\n",
       "       [0.09090909, 0.36363636, 0.16666667],\n",
       "       [0.18181818, 0.36363636, 0.16666667],\n",
       "       [0.27272727, 0.36363636, 0.16666667],\n",
       "       [0.36363636, 0.36363636, 0.16666667],\n",
       "       [0.45454545, 0.36363636, 0.16666667],\n",
       "       [0.        , 0.45454545, 0.16666667],\n",
       "       [0.09090909, 0.45454545, 0.16666667],\n",
       "       [0.18181818, 0.45454545, 0.16666667],\n",
       "       [0.27272727, 0.45454545, 0.16666667],\n",
       "       [0.36363636, 0.45454545, 0.16666667],\n",
       "       [0.45454545, 0.45454545, 0.16666667],\n",
       "       [0.        , 0.        , 0.33333333],\n",
       "       [0.09090909, 0.        , 0.33333333],\n",
       "       [0.18181818, 0.        , 0.33333333],\n",
       "       [0.27272727, 0.        , 0.33333333],\n",
       "       [0.36363636, 0.        , 0.33333333],\n",
       "       [0.45454545, 0.        , 0.33333333],\n",
       "       [0.        , 0.09090909, 0.33333333],\n",
       "       [0.09090909, 0.09090909, 0.33333333],\n",
       "       [0.18181818, 0.09090909, 0.33333333],\n",
       "       [0.27272727, 0.09090909, 0.33333333],\n",
       "       [0.36363636, 0.09090909, 0.33333333],\n",
       "       [0.45454545, 0.09090909, 0.33333333],\n",
       "       [0.        , 0.18181818, 0.33333333],\n",
       "       [0.09090909, 0.18181818, 0.33333333],\n",
       "       [0.18181818, 0.18181818, 0.33333333],\n",
       "       [0.27272727, 0.18181818, 0.33333333],\n",
       "       [0.36363636, 0.18181818, 0.33333333],\n",
       "       [0.45454545, 0.18181818, 0.33333333],\n",
       "       [0.        , 0.27272727, 0.33333333],\n",
       "       [0.09090909, 0.27272727, 0.33333333],\n",
       "       [0.18181818, 0.27272727, 0.33333333],\n",
       "       [0.27272727, 0.27272727, 0.33333333],\n",
       "       [0.36363636, 0.27272727, 0.33333333],\n",
       "       [0.45454545, 0.27272727, 0.33333333],\n",
       "       [0.        , 0.36363636, 0.33333333],\n",
       "       [0.09090909, 0.36363636, 0.33333333],\n",
       "       [0.18181818, 0.36363636, 0.33333333],\n",
       "       [0.27272727, 0.36363636, 0.33333333],\n",
       "       [0.36363636, 0.36363636, 0.33333333],\n",
       "       [0.45454545, 0.36363636, 0.33333333],\n",
       "       [0.        , 0.45454545, 0.33333333],\n",
       "       [0.09090909, 0.45454545, 0.33333333],\n",
       "       [0.18181818, 0.45454545, 0.33333333],\n",
       "       [0.27272727, 0.45454545, 0.33333333],\n",
       "       [0.36363636, 0.45454545, 0.33333333],\n",
       "       [0.45454545, 0.45454545, 0.33333333],\n",
       "       [0.        , 0.        , 0.5       ],\n",
       "       [0.09090909, 0.        , 0.5       ],\n",
       "       [0.18181818, 0.        , 0.5       ],\n",
       "       [0.27272727, 0.        , 0.5       ],\n",
       "       [0.36363636, 0.        , 0.5       ],\n",
       "       [0.45454545, 0.        , 0.5       ],\n",
       "       [0.        , 0.09090909, 0.5       ],\n",
       "       [0.09090909, 0.09090909, 0.5       ],\n",
       "       [0.18181818, 0.09090909, 0.5       ],\n",
       "       [0.27272727, 0.09090909, 0.5       ],\n",
       "       [0.36363636, 0.09090909, 0.5       ],\n",
       "       [0.45454545, 0.09090909, 0.5       ],\n",
       "       [0.        , 0.18181818, 0.5       ],\n",
       "       [0.09090909, 0.18181818, 0.5       ],\n",
       "       [0.18181818, 0.18181818, 0.5       ],\n",
       "       [0.27272727, 0.18181818, 0.5       ],\n",
       "       [0.36363636, 0.18181818, 0.5       ],\n",
       "       [0.45454545, 0.18181818, 0.5       ],\n",
       "       [0.        , 0.27272727, 0.5       ],\n",
       "       [0.09090909, 0.27272727, 0.5       ],\n",
       "       [0.18181818, 0.27272727, 0.5       ],\n",
       "       [0.27272727, 0.27272727, 0.5       ],\n",
       "       [0.36363636, 0.27272727, 0.5       ],\n",
       "       [0.45454545, 0.27272727, 0.5       ],\n",
       "       [0.        , 0.36363636, 0.5       ],\n",
       "       [0.09090909, 0.36363636, 0.5       ],\n",
       "       [0.18181818, 0.36363636, 0.5       ],\n",
       "       [0.27272727, 0.36363636, 0.5       ],\n",
       "       [0.36363636, 0.36363636, 0.5       ],\n",
       "       [0.45454545, 0.36363636, 0.5       ],\n",
       "       [0.        , 0.45454545, 0.5       ],\n",
       "       [0.09090909, 0.45454545, 0.5       ],\n",
       "       [0.18181818, 0.45454545, 0.5       ],\n",
       "       [0.27272727, 0.45454545, 0.5       ],\n",
       "       [0.36363636, 0.45454545, 0.5       ],\n",
       "       [0.45454545, 0.45454545, 0.5       ]])"
      ]
     },
     "execution_count": 22,
     "metadata": {},
     "output_type": "execute_result"
    }
   ],
   "source": [
    "kkp"
   ]
  },
  {
   "cell_type": "code",
   "execution_count": 44,
   "metadata": {},
   "outputs": [
    {
     "data": {
      "text/plain": [
       "[[64, array([0.   , 0.   , 0.125])],\n",
       " [65, array([0.06666667, 0.        , 0.125     ])],\n",
       " [66, array([0.13333333, 0.        , 0.125     ])],\n",
       " [67, array([0.2  , 0.   , 0.125])],\n",
       " [68, array([0.26666667, 0.        , 0.125     ])],\n",
       " [69, array([0.33333333, 0.        , 0.125     ])],\n",
       " [70, array([0.4  , 0.   , 0.125])],\n",
       " [71, array([0.46666667, 0.        , 0.125     ])],\n",
       " [72, array([-0.46666667,  0.        ,  0.125     ])],\n",
       " [73, array([-0.4  ,  0.   ,  0.125])],\n",
       " [74, array([-0.33333333,  0.        ,  0.125     ])],\n",
       " [75, array([-0.26666667,  0.        ,  0.125     ])],\n",
       " [76, array([-0.2  ,  0.   ,  0.125])],\n",
       " [77, array([-0.13333333,  0.        ,  0.125     ])],\n",
       " [78, array([-0.06666667,  0.        ,  0.125     ])]]"
      ]
     },
     "execution_count": 44,
     "metadata": {},
     "output_type": "execute_result"
    }
   ],
   "source": [
    "kline = [ [ind ,kpt.frac_coords] for ind, kpt in enumerate(bandstructure.kpoints) if kpt.frac_coords[1] == 0 and kpt.frac_coords[2] == 0.125 ]\n",
    "kline"
   ]
  },
  {
   "cell_type": "code",
   "execution_count": 45,
   "metadata": {},
   "outputs": [
    {
     "data": {
      "text/plain": [
       "array([ 0.        ,  0.06666667,  0.13333333,  0.2       ,  0.26666667,\n",
       "        0.33333333,  0.4       ,  0.46666667, -0.46666667, -0.4       ,\n",
       "       -0.33333333, -0.26666667, -0.2       , -0.13333333, -0.06666667])"
      ]
     },
     "execution_count": 45,
     "metadata": {},
     "output_type": "execute_result"
    }
   ],
   "source": [
    "inds  = [kk[0] for kk in kline] \n",
    "kpts  = [kk[1] for kk in kline] \n",
    "kpts = np.array(kpts)[:, 0]\n",
    "kpts"
   ]
  },
  {
   "cell_type": "code",
   "execution_count": 25,
   "metadata": {},
   "outputs": [
    {
     "ename": "ValueError",
     "evalue": "setting an array element with a sequence. The requested array has an inhomogeneous shape after 2 dimensions. The detected shape was (8, 2) + inhomogeneous part.",
     "output_type": "error",
     "traceback": [
      "\u001b[0;31m---------------------------------------------------------------------------\u001b[0m",
      "\u001b[0;31mValueError\u001b[0m                                Traceback (most recent call last)",
      "Cell \u001b[0;32mIn[25], line 1\u001b[0m\n\u001b[0;32m----> 1\u001b[0m \u001b[43mnp\u001b[49m\u001b[38;5;241;43m.\u001b[39;49m\u001b[43marray\u001b[49m\u001b[43m(\u001b[49m\u001b[43mkline\u001b[49m\u001b[43m)\u001b[49m\n",
      "\u001b[0;31mValueError\u001b[0m: setting an array element with a sequence. The requested array has an inhomogeneous shape after 2 dimensions. The detected shape was (8, 2) + inhomogeneous part."
     ]
    }
   ],
   "source": [
    "np.array(kline)"
   ]
  },
  {
   "cell_type": "code",
   "execution_count": 29,
   "metadata": {},
   "outputs": [
    {
     "data": {
      "text/plain": [
       "array([-5.0251, -5.0659, -5.157 , -5.2596, -5.3258, -5.3164, -5.3057,\n",
       "       -5.2977])"
      ]
     },
     "execution_count": 29,
     "metadata": {},
     "output_type": "execute_result"
    }
   ],
   "source": [
    "list(bandstructure.bands.values())[0][15][inds]"
   ]
  },
  {
   "cell_type": "code",
   "execution_count": 56,
   "metadata": {},
   "outputs": [
    {
     "data": {
      "text/plain": [
       "array([2.6742, 2.7984, 3.065 , 3.45  , 3.9229, 4.4433, 4.9452, 5.264 ,\n",
       "       5.1279, 4.6822, 4.1587, 3.6527, 3.2175, 2.8921, 2.7056])"
      ]
     },
     "execution_count": 56,
     "metadata": {},
     "output_type": "execute_result"
    }
   ],
   "source": [
    "# band = list(bandstructure.bands.values())[0][15] - bandstructure.efermi\n",
    "band = list(bandstructure.bands.values())[0][29][inds]\n",
    "band"
   ]
  },
  {
   "cell_type": "code",
   "execution_count": 57,
   "metadata": {},
   "outputs": [
    {
     "data": {
      "image/png": "[encoded data removed]",
      "text/plain": [
       "<Figure size 640x480 with 1 Axes>"
      ]
     },
     "metadata": {},
     "output_type": "display_data"
    }
   ],
   "source": [
    "# random_band = generate(model)\n",
    "# ks = list(np.linspace(-torch.pi, torch.pi, 1000 ))\n",
    "# p_eval = np.polyval(poly_band.T, ks)\n",
    "plt.plot(kpts, band)\n",
    "# plt.ylim((-500, 200))\n",
    "plt.show()"
   ]
  },
  {
   "cell_type": "code",
   "execution_count": 11,
   "metadata": {},
   "outputs": [
    {
     "data": {
      "text/plain": [
       "array([[ 0.        ,  0.        ,  0.        ],\n",
       "       [ 0.1010767 ,  0.        ,  0.0316198 ],\n",
       "       [ 0.20215339,  0.        ,  0.06323959],\n",
       "       ...,\n",
       "       [-0.60646019,  0.60646019,  0.47429695],\n",
       "       [ 0.70753689,  0.70753689,  0.91697411],\n",
       "       [-0.70753689,  0.70753689,  0.47429695]])"
      ]
     },
     "execution_count": 11,
     "metadata": {},
     "output_type": "execute_result"
    }
   ],
   "source": [
    "kkp"
   ]
  },
  {
   "cell_type": "code",
   "execution_count": 13,
   "metadata": {},
   "outputs": [
    {
     "data": {
      "text/plain": [
       "<bound method BandStructure.get_sym_eq_kpoints of <pymatgen.electronic_structure.bandstructure.BandStructureSymmLine object at 0x7374912a8c80>>"
      ]
     },
     "execution_count": 13,
     "metadata": {},
     "output_type": "execute_result"
    }
   ],
   "source": [
    "bandstructure.kpoints"
   ]
  },
  {
   "cell_type": "code",
   "execution_count": null,
   "metadata": {},
   "outputs": [],
   "source": [
    "for element in bandstructure.bands:\n",
    "    for i in range(bandstructure.nb_bands):\n",
    "        band = list(bandstructure.bands.values())[0][i] - bandstructure.efermi\n",
    "        krange = np.linspace(-np.pi, np.pi, len(band))\n",
    "        poly_coeffs = np.polyfit(krange, band, 20)\n",
    "        print(band)\n",
    "    break"
   ]
  }
 ],
 "metadata": {
  "kernelspec": {
   "display_name": "triqs",
   "language": "python",
   "name": "python3"
  },
  "language_info": {
   "codemirror_mode": {
    "name": "ipython",
    "version": 3
   },
   "file_extension": ".py",
   "mimetype": "text/x-python",
   "name": "python",
   "nbconvert_exporter": "python",
   "pygments_lexer": "ipython3",
   "version": "3.12.1"
  }
 },
 "nbformat": 4,
 "nbformat_minor": 2
}
