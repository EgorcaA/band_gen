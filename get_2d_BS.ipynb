{
 "cells": [
  {
   "cell_type": "code",
   "execution_count": 1,
   "metadata": {},
   "outputs": [
    {
     "name": "stderr",
     "output_type": "stream",
     "text": [
      "/home/egorcaa/miniconda3/envs/triqs/lib/python3.12/site-packages/tqdm/auto.py:21: TqdmWarning: IProgress not found. Please update jupyter and ipywidgets. See https://ipywidgets.readthedocs.io/en/stable/user_install.html\n",
      "  from .autonotebook import tqdm as notebook_tqdm\n"
     ]
    },
    {
     "name": "stdout",
     "output_type": "stream",
     "text": [
      "No module named 'phonopy'\n",
      "No module named 'phonopy'\n"
     ]
    }
   ],
   "source": [
    "# from train_autoencoder import *\n",
    "import numpy as np\n",
    "import matplotlib.pyplot as plt\n",
    "from mpcontribs.client import Client\n",
    "\n",
    "from mp_api.client import MPRester\n",
    "import csv\n",
    "from h5 import *\n",
    "from scipy.interpolate import RegularGridInterpolator, LinearNDInterpolator\n",
    "from tqdm import tqdm"
   ]
  },
  {
   "cell_type": "code",
   "execution_count": 2,
   "metadata": {},
   "outputs": [],
   "source": [
    "apikey = 'SFTntPIf0QnTef7f6sZKkBSwGILrxlXZ'\n",
    "client = Client(apikey=apikey, project=\"2dmatpedia\")\n"
   ]
  },
  {
   "cell_type": "code",
   "execution_count": 3,
   "metadata": {},
   "outputs": [
    {
     "name": "stdout",
     "output_type": "stream",
     "text": [
      "Totals:  98%|#########8| 49/50 [00:05<00:00,  9.58it/s]\n",
      "Totals: 100%|##########| 50/50 [00:05<00:00,  9.76it/s]\n"
     ]
    }
   ],
   "source": [
    "# query = {\"formula__contains\": \"Fe\"}\n",
    "fields = [\"identifier\", \"formula\"]\n",
    "D2matdata = client.query_contributions(\n",
    "    query=[], fields=fields, paginate=True\n",
    ")"
   ]
  },
  {
   "cell_type": "code",
   "execution_count": 9,
   "metadata": {},
   "outputs": [],
   "source": [
    "with open('2D_materials.csv','w') as write_file:\n",
    "    data_wr = csv.writer(write_file)\n",
    "    for  row in D2matdata['data']:\n",
    "        data_wr.writerow(row.values())\n"
   ]
  },
  {
   "cell_type": "code",
   "execution_count": 4,
   "metadata": {},
   "outputs": [
    {
     "data": {
      "text/plain": [
       "array([[nan, nan],\n",
       "       [nan, nan],\n",
       "       [nan, nan],\n",
       "       ...,\n",
       "       [nan, nan],\n",
       "       [nan, nan],\n",
       "       [nan, nan]])"
      ]
     },
     "execution_count": 4,
     "metadata": {},
     "output_type": "execute_result"
    }
   ],
   "source": [
    "D2matdata = np.genfromtxt('2D_materials.csv', delimiter=',')\n",
    "D2matdata"
   ]
  },
  {
   "cell_type": "code",
   "execution_count": 5,
   "metadata": {},
   "outputs": [
    {
     "name": "stderr",
     "output_type": "stream",
     "text": [
      "Retrieving ElectronicStructureDoc documents: 100%|██████████| 1/1 [00:00<00:00, 13148.29it/s]\n",
      "Retrieving ElectronicStructureDoc documents: 100%|██████████| 1/1 [00:00<00:00, 18078.90it/s]\n",
      "  0%|          | 2/1000 [00:02<21:24,  1.29s/it]"
     ]
    },
    {
     "name": "stdout",
     "output_type": "stream",
     "text": [
      "As2O3 mp-1582\n",
      "As2O3 mp-1582\n",
      "As2O3 mp-1582\n",
      "As2O3 mp-1582\n",
      "As2O3 mp-1582\n"
     ]
    },
    {
     "name": "stderr",
     "output_type": "stream",
     "text": [
      "Retrieving ElectronicStructureDoc documents: 100%|██████████| 1/1 [00:00<00:00, 8559.80it/s]\n",
      "Retrieving ElectronicStructureDoc documents: 100%|██████████| 1/1 [00:00<00:00, 20867.18it/s]\n",
      "Retrieving ElectronicStructureDoc documents: 100%|██████████| 1/1 [00:00<00:00, 17260.51it/s]\n",
      "  0%|          | 5/1000 [00:05<18:01,  1.09s/it]"
     ]
    },
    {
     "name": "stdout",
     "output_type": "stream",
     "text": [
      "PtI2 mp-28319\n",
      "PtI2 mp-28319\n",
      "PtI2 mp-28319\n"
     ]
    },
    {
     "name": "stderr",
     "output_type": "stream",
     "text": [
      "Retrieving ElectronicStructureDoc documents: 100%|██████████| 1/1 [00:00<00:00, 14768.68it/s]\n",
      "Retrieving ElectronicStructureDoc documents: 100%|██████████| 1/1 [00:00<00:00, 18477.11it/s]\n",
      "  1%|          | 7/1000 [00:07<17:49,  1.08s/it]"
     ]
    },
    {
     "name": "stdout",
     "output_type": "stream",
     "text": [
      "SiP2 mp-9996\n",
      "SiP2 mp-9996\n",
      "SiP2 mp-9996\n"
     ]
    },
    {
     "name": "stderr",
     "output_type": "stream",
     "text": [
      "Retrieving ElectronicStructureDoc documents: 100%|██████████| 1/1 [00:00<00:00, 11586.48it/s]\n",
      "Retrieving ElectronicStructureDoc documents: 100%|██████████| 1/1 [00:00<00:00, 24528.09it/s]\n",
      "Retrieving ElectronicStructureDoc documents: 100%|██████████| 1/1 [00:00<00:00, 12595.51it/s]\n",
      "  1%|          | 10/1000 [00:15<38:53,  2.36s/it]"
     ]
    },
    {
     "name": "stdout",
     "output_type": "stream",
     "text": [
      "CuF2 mp-1229\n",
      "CuF2 mp-1229\n",
      "CuF2 mp-1229\n",
      "CuF2 mp-1229\n",
      "CuF2 mp-1229\n",
      "CuF2 mp-1229\n"
     ]
    },
    {
     "name": "stderr",
     "output_type": "stream",
     "text": [
      "Retrieving ElectronicStructureDoc documents: 100%|██████████| 1/1 [00:00<00:00, 27776.85it/s]\n",
      "Retrieving ElectronicStructureDoc documents: 100%|██████████| 1/1 [00:00<00:00, 19065.02it/s]\n",
      "Retrieving ElectronicStructureDoc documents: 100%|██████████| 1/1 [00:00<00:00, 26546.23it/s]\n",
      "Retrieving ElectronicStructureDoc documents: 100%|██████████| 1/1 [00:00<00:00, 25890.77it/s]\n",
      "  1%|▏         | 14/1000 [00:19<22:15,  1.35s/it]"
     ]
    },
    {
     "name": "stdout",
     "output_type": "stream",
     "text": [
      "V2O5 mp-776041\n",
      "V2O5 mp-776041\n"
     ]
    },
    {
     "name": "stderr",
     "output_type": "stream",
     "text": [
      "Retrieving ElectronicStructureDoc documents: 100%|██████████| 1/1 [00:00<00:00, 17697.49it/s]\n",
      "Retrieving ElectronicStructureDoc documents: 100%|██████████| 1/1 [00:00<00:00, 13751.82it/s]\n",
      "  2%|▏         | 16/1000 [00:24<32:33,  1.99s/it]"
     ]
    },
    {
     "name": "stdout",
     "output_type": "stream",
     "text": [
      "TaS3 mp-30527\n",
      "TaS3 mp-30527\n"
     ]
    },
    {
     "name": "stderr",
     "output_type": "stream",
     "text": [
      "Retrieving ElectronicStructureDoc documents: 100%|██████████| 1/1 [00:00<00:00, 20068.44it/s]\n",
      "Retrieving ElectronicStructureDoc documents: 100%|██████████| 1/1 [00:00<00:00, 14217.98it/s]\n",
      "Retrieving ElectronicStructureDoc documents: 100%|██████████| 1/1 [00:00<00:00, 20460.02it/s]\n",
      "Retrieving ElectronicStructureDoc documents: 100%|██████████| 1/1 [00:00<00:00, 11683.30it/s]\n",
      "Retrieving ElectronicStructureDoc documents: 100%|██████████| 1/1 [00:00<00:00, 15420.24it/s]\n",
      "Retrieving ElectronicStructureDoc documents: 100%|██████████| 1/1 [00:00<00:00, 19065.02it/s]\n",
      "Retrieving ElectronicStructureDoc documents: 100%|██████████| 1/1 [00:00<00:00, 21290.88it/s]\n",
      "  2%|▏         | 23/1000 [00:32<22:44,  1.40s/it]"
     ]
    },
    {
     "name": "stdout",
     "output_type": "stream",
     "text": [
      "Sn3Pd mp-1371\n",
      "Sn3Pd mp-1371\n",
      "Sn3Pd mp-1371\n",
      "Sn3Pd mp-1371\n"
     ]
    },
    {
     "name": "stderr",
     "output_type": "stream",
     "text": [
      "Retrieving ElectronicStructureDoc documents: 100%|██████████| 1/1 [00:00<00:00, 21183.35it/s]\n",
      "  2%|▏         | 24/1000 [00:33<21:54,  1.35s/it]"
     ]
    },
    {
     "name": "stdout",
     "output_type": "stream",
     "text": [
      "NbI5 mp-569578\n",
      "NbI5 mp-569578\n",
      "NbI5 mp-569578\n"
     ]
    },
    {
     "name": "stderr",
     "output_type": "stream",
     "text": [
      "Retrieving ElectronicStructureDoc documents: 100%|██████████| 1/1 [00:00<00:00, 18315.74it/s]\n",
      "  2%|▎         | 25/1000 [00:34<21:06,  1.30s/it]"
     ]
    },
    {
     "name": "stdout",
     "output_type": "stream",
     "text": [
      "SbI3 mp-569224\n",
      "SbI3 mp-569224\n",
      "SbI3 mp-569224\n"
     ]
    },
    {
     "name": "stderr",
     "output_type": "stream",
     "text": [
      "Retrieving ElectronicStructureDoc documents: 100%|██████████| 1/1 [00:00<00:00, 20460.02it/s]\n",
      "  3%|▎         | 26/1000 [00:34<16:09,  1.00it/s]"
     ]
    },
    {
     "name": "stdout",
     "output_type": "stream",
     "text": [
      "Error retrieving band structure for mp-32580: No uniform band structure data found for mp-32580\n"
     ]
    },
    {
     "name": "stderr",
     "output_type": "stream",
     "text": [
      "Retrieving ElectronicStructureDoc documents: 0it [00:00, ?it/s]\n",
      "  3%|▎         | 27/1000 [00:35<13:57,  1.16it/s]"
     ]
    },
    {
     "name": "stdout",
     "output_type": "stream",
     "text": [
      "Error retrieving band structure for mvc-6083: No electronic structure data found.\n"
     ]
    },
    {
     "name": "stderr",
     "output_type": "stream",
     "text": [
      "Retrieving ElectronicStructureDoc documents: 0it [00:00, ?it/s]\n",
      "  3%|▎         | 28/1000 [00:35<11:01,  1.47it/s]"
     ]
    },
    {
     "name": "stdout",
     "output_type": "stream",
     "text": [
      "Error retrieving band structure for mvc-6083: No electronic structure data found.\n"
     ]
    },
    {
     "name": "stderr",
     "output_type": "stream",
     "text": [
      "Retrieving ElectronicStructureDoc documents: 0it [00:00, ?it/s]\n",
      "  3%|▎         | 29/1000 [00:36<10:42,  1.51it/s]"
     ]
    },
    {
     "name": "stdout",
     "output_type": "stream",
     "text": [
      "Error retrieving band structure for mvc-13985: No electronic structure data found.\n"
     ]
    },
    {
     "name": "stderr",
     "output_type": "stream",
     "text": [
      "Retrieving ElectronicStructureDoc documents: 100%|██████████| 1/1 [00:00<00:00, 21959.71it/s]\n",
      "  3%|▎         | 30/1000 [00:37<13:47,  1.17it/s]"
     ]
    },
    {
     "name": "stdout",
     "output_type": "stream",
     "text": [
      "TiS2 mp-1008682\n",
      "TiS2 mp-1008682\n",
      "TiS2 mp-1008682\n",
      "TiS2 mp-1008682\n",
      "TiS2 mp-1008682\n",
      "TiS2 mp-1008682\n"
     ]
    },
    {
     "name": "stderr",
     "output_type": "stream",
     "text": [
      "Retrieving ElectronicStructureDoc documents: 100%|██████████| 1/1 [00:00<00:00, 20763.88it/s]\n",
      "  3%|▎         | 31/1000 [00:38<12:34,  1.28it/s]"
     ]
    },
    {
     "name": "stdout",
     "output_type": "stream",
     "text": [
      "AlF3 mp-635425\n",
      "AlF3 mp-635425\n"
     ]
    },
    {
     "name": "stderr",
     "output_type": "stream",
     "text": [
      "Retrieving ElectronicStructureDoc documents: 100%|██████████| 1/1 [00:00<00:00, 26715.31it/s]\n",
      "  3%|▎         | 32/1000 [00:40<21:18,  1.32s/it]"
     ]
    },
    {
     "name": "stdout",
     "output_type": "stream",
     "text": [
      "LiBe mp-1001825\n",
      "LiBe mp-1001825\n",
      "LiBe mp-1001825\n",
      "LiBe mp-1001825\n",
      "LiBe mp-1001825\n",
      "LiBe mp-1001825\n",
      "LiBe mp-1001825\n",
      "LiBe mp-1001825\n",
      "LiBe mp-1001825\n"
     ]
    },
    {
     "name": "stderr",
     "output_type": "stream",
     "text": [
      "Retrieving ElectronicStructureDoc documents: 100%|██████████| 1/1 [00:00<00:00, 25575.02it/s]\n",
      "Retrieving ElectronicStructureDoc documents: 100%|██████████| 1/1 [00:00<00:00, 20971.52it/s]\n",
      "Retrieving ElectronicStructureDoc documents: 100%|██████████| 1/1 [00:00<00:00, 12157.40it/s]\n",
      "Retrieving ElectronicStructureDoc documents: 0it [00:00, ?it/s]\n",
      "  4%|▎         | 36/1000 [00:44<16:16,  1.01s/it]"
     ]
    },
    {
     "name": "stdout",
     "output_type": "stream",
     "text": [
      "Error retrieving band structure for mp-705538: No electronic structure data found.\n"
     ]
    },
    {
     "name": "stderr",
     "output_type": "stream",
     "text": [
      "Retrieving ElectronicStructureDoc documents: 100%|██████████| 1/1 [00:00<00:00, 23563.51it/s]\n",
      "Retrieving ElectronicStructureDoc documents: 100%|██████████| 1/1 [00:00<00:00, 12336.19it/s]\n",
      "Retrieving ElectronicStructureDoc documents: 100%|██████████| 1/1 [00:00<00:00, 25420.02it/s]\n",
      "Retrieving ElectronicStructureDoc documents: 100%|██████████| 1/1 [00:00<00:00, 19239.93it/s]\n",
      "Retrieving ElectronicStructureDoc documents: 0it [00:00, ?it/s]\n",
      "  4%|▍         | 41/1000 [00:50<17:15,  1.08s/it]"
     ]
    },
    {
     "name": "stdout",
     "output_type": "stream",
     "text": [
      "Error retrieving band structure for mvc-5485: No electronic structure data found.\n"
     ]
    },
    {
     "name": "stderr",
     "output_type": "stream",
     "text": [
      "Retrieving ElectronicStructureDoc documents: 100%|██████████| 1/1 [00:00<00:00, 19972.88it/s]\n",
      "  4%|▍         | 42/1000 [00:51<16:02,  1.00s/it]"
     ]
    },
    {
     "name": "stdout",
     "output_type": "stream",
     "text": [
      "Error retrieving band structure for mp-684652: No uniform band structure data found for mp-684652\n"
     ]
    },
    {
     "name": "stderr",
     "output_type": "stream",
     "text": [
      "Retrieving ElectronicStructureDoc documents: 100%|██████████| 1/1 [00:00<00:00, 13025.79it/s]\n",
      "  4%|▍         | 43/1000 [00:52<15:12,  1.05it/s]"
     ]
    },
    {
     "name": "stdout",
     "output_type": "stream",
     "text": [
      "Error retrieving band structure for mp-978259: No uniform band structure data found for mp-978259\n"
     ]
    },
    {
     "name": "stderr",
     "output_type": "stream",
     "text": [
      "Retrieving ElectronicStructureDoc documents: 0it [00:00, ?it/s]\n",
      "  4%|▍         | 44/1000 [00:52<13:14,  1.20it/s]"
     ]
    },
    {
     "name": "stdout",
     "output_type": "stream",
     "text": [
      "Error retrieving band structure for mp-1077196: No electronic structure data found.\n"
     ]
    },
    {
     "name": "stderr",
     "output_type": "stream",
     "text": [
      "Retrieving ElectronicStructureDoc documents: 100%|██████████| 1/1 [00:00<00:00, 21509.25it/s]\n",
      "Retrieving ElectronicStructureDoc documents: 100%|██████████| 1/1 [00:00<00:00, 27235.74it/s]\n",
      "  5%|▍         | 46/1000 [00:54<15:24,  1.03it/s]"
     ]
    },
    {
     "name": "stdout",
     "output_type": "stream",
     "text": [
      "B13P2 mp-13862\n",
      "B13P2 mp-13862\n",
      "B13P2 mp-13862\n",
      "B13P2 mp-13862\n"
     ]
    },
    {
     "name": "stderr",
     "output_type": "stream",
     "text": [
      "Retrieving ElectronicStructureDoc documents: 100%|██████████| 1/1 [00:00<00:00, 17050.02it/s]\n",
      "Retrieving ElectronicStructureDoc documents: 100%|██████████| 1/1 [00:00<00:00, 16131.94it/s]\n",
      "  5%|▍         | 48/1000 [00:58<23:07,  1.46s/it]"
     ]
    },
    {
     "name": "stdout",
     "output_type": "stream",
     "text": [
      "TaAlO4 mp-14333\n",
      "TaAlO4 mp-14333\n",
      "TaAlO4 mp-14333\n",
      "TaAlO4 mp-14333\n"
     ]
    },
    {
     "name": "stderr",
     "output_type": "stream",
     "text": [
      "Retrieving ElectronicStructureDoc documents: 100%|██████████| 1/1 [00:00<00:00, 15307.68it/s]\n",
      "Retrieving ElectronicStructureDoc documents: 0it [00:00, ?it/s]\n",
      "  5%|▌         | 50/1000 [00:59<17:16,  1.09s/it]"
     ]
    },
    {
     "name": "stdout",
     "output_type": "stream",
     "text": [
      "Error retrieving band structure for mp-1078861: No electronic structure data found.\n"
     ]
    },
    {
     "name": "stderr",
     "output_type": "stream",
     "text": [
      "Retrieving ElectronicStructureDoc documents: 100%|██████████| 1/1 [00:00<00:00, 10010.27it/s]\n",
      "  5%|▌         | 51/1000 [01:00<15:03,  1.05it/s]"
     ]
    },
    {
     "name": "stdout",
     "output_type": "stream",
     "text": [
      "Error retrieving band structure for mp-1096811: No uniform band structure data found for mp-1096811\n"
     ]
    },
    {
     "name": "stderr",
     "output_type": "stream",
     "text": [
      "Retrieving ElectronicStructureDoc documents: 100%|██████████| 1/1 [00:00<00:00, 20460.02it/s]\n",
      "Retrieving ElectronicStructureDoc documents: 100%|██████████| 1/1 [00:00<00:00, 16320.25it/s]\n",
      "  5%|▌         | 53/1000 [01:02<15:31,  1.02it/s]"
     ]
    },
    {
     "name": "stdout",
     "output_type": "stream",
     "text": [
      "TiSCl mp-1013900\n",
      "TiSCl mp-1013900\n",
      "TiSCl mp-1013900\n"
     ]
    },
    {
     "name": "stderr",
     "output_type": "stream",
     "text": [
      "Retrieving ElectronicStructureDoc documents: 100%|██████████| 1/1 [00:00<00:00, 20661.60it/s]\n",
      "  5%|▌         | 54/1000 [01:05<23:00,  1.46s/it]"
     ]
    },
    {
     "name": "stdout",
     "output_type": "stream",
     "text": [
      "CuF2 mp-1229\n",
      "CuF2 mp-1229\n",
      "CuF2 mp-1229\n",
      "CuF2 mp-1229\n",
      "CuF2 mp-1229\n",
      "CuF2 mp-1229\n"
     ]
    },
    {
     "name": "stderr",
     "output_type": "stream",
     "text": [
      "Retrieving ElectronicStructureDoc documents: 100%|██████████| 1/1 [00:00<00:00, 13189.64it/s]\n",
      "  6%|▌         | 55/1000 [01:05<18:53,  1.20s/it]"
     ]
    },
    {
     "name": "stdout",
     "output_type": "stream",
     "text": [
      "PdCl2 mp-1018891\n",
      "PdCl2 mp-1018891\n",
      "PdCl2 mp-1018891\n",
      "PdCl2 mp-1018891\n",
      "PdCl2 mp-1018891\n"
     ]
    },
    {
     "name": "stderr",
     "output_type": "stream",
     "text": [
      "Retrieving ElectronicStructureDoc documents: 100%|██████████| 1/1 [00:00<00:00, 20971.52it/s]\n",
      "Retrieving ElectronicStructureDoc documents: 100%|██████████| 1/1 [00:00<00:00, 14266.34it/s]\n",
      "Retrieving ElectronicStructureDoc documents: 100%|██████████| 1/1 [00:00<00:00, 22075.28it/s]\n",
      "  6%|▌         | 58/1000 [01:08<16:00,  1.02s/it]"
     ]
    },
    {
     "name": "stdout",
     "output_type": "stream",
     "text": [
      "Sb2S3 mp-2809\n",
      "Sb2S3 mp-2809\n",
      "Sb2S3 mp-2809\n"
     ]
    },
    {
     "name": "stderr",
     "output_type": "stream",
     "text": [
      "Retrieving ElectronicStructureDoc documents: 100%|██████████| 1/1 [00:00<00:00, 20460.02it/s]\n",
      "  6%|▌         | 59/1000 [01:11<25:23,  1.62s/it]"
     ]
    },
    {
     "name": "stdout",
     "output_type": "stream",
     "text": [
      "NaMnAs mp-20612\n",
      "NaMnAs mp-20612\n",
      "NaMnAs mp-20612\n"
     ]
    },
    {
     "name": "stderr",
     "output_type": "stream",
     "text": [
      "Retrieving ElectronicStructureDoc documents: 100%|██████████| 1/1 [00:00<00:00, 25266.89it/s]\n",
      "Retrieving ElectronicStructureDoc documents: 100%|██████████| 1/1 [00:00<00:00, 14217.98it/s]\n",
      "Retrieving ElectronicStructureDoc documents: 100%|██████████| 1/1 [00:00<00:00, 16644.06it/s]\n",
      "Retrieving ElectronicStructureDoc documents: 100%|██████████| 1/1 [00:00<00:00, 19418.07it/s]\n",
      "Retrieving ElectronicStructureDoc documents: 100%|██████████| 1/1 [00:00<00:00, 13573.80it/s]\n",
      "  6%|▋         | 64/1000 [01:16<16:40,  1.07s/it]"
     ]
    },
    {
     "name": "stdout",
     "output_type": "stream",
     "text": [
      "Te2O3F2 mp-29185\n",
      "Te2O3F2 mp-29185\n",
      "Te2O3F2 mp-29185\n",
      "Te2O3F2 mp-29185\n"
     ]
    },
    {
     "name": "stderr",
     "output_type": "stream",
     "text": [
      "Retrieving ElectronicStructureDoc documents: 100%|██████████| 1/1 [00:00<00:00, 18236.10it/s]\n",
      "  6%|▋         | 65/1000 [01:17<14:08,  1.10it/s]"
     ]
    },
    {
     "name": "stdout",
     "output_type": "stream",
     "text": [
      "TaCoTe2 mp-28846\n",
      "TaCoTe2 mp-28846\n",
      "TaCoTe2 mp-28846\n",
      "TaCoTe2 mp-28846\n"
     ]
    },
    {
     "name": "stderr",
     "output_type": "stream",
     "text": [
      "Retrieving ElectronicStructureDoc documents: 100%|██████████| 1/1 [00:00<00:00, 17924.38it/s]\n",
      "  7%|▋         | 66/1000 [01:18<13:27,  1.16it/s]"
     ]
    },
    {
     "name": "stdout",
     "output_type": "stream",
     "text": [
      "SrThBr6 mp-29016\n",
      "SrThBr6 mp-29016\n",
      "SrThBr6 mp-29016\n"
     ]
    },
    {
     "name": "stderr",
     "output_type": "stream",
     "text": [
      "Retrieving ElectronicStructureDoc documents: 100%|██████████| 1/1 [00:00<00:00, 21399.51it/s]\n",
      "  7%|▋         | 67/1000 [01:19<15:07,  1.03it/s]"
     ]
    },
    {
     "name": "stdout",
     "output_type": "stream",
     "text": [
      "ZrSe3 mp-1683\n",
      "ZrSe3 mp-1683\n"
     ]
    },
    {
     "name": "stderr",
     "output_type": "stream",
     "text": [
      "Retrieving ElectronicStructureDoc documents: 0it [00:00, ?it/s]\n",
      "  7%|▋         | 68/1000 [01:19<13:26,  1.16it/s]"
     ]
    },
    {
     "name": "stdout",
     "output_type": "stream",
     "text": [
      "Error retrieving band structure for mp-565201: No electronic structure data found.\n"
     ]
    },
    {
     "name": "stderr",
     "output_type": "stream",
     "text": [
      "Retrieving ElectronicStructureDoc documents: 100%|██████████| 1/1 [00:00<00:00, 15033.35it/s]\n",
      "  7%|▋         | 69/1000 [01:20<13:16,  1.17it/s]"
     ]
    },
    {
     "name": "stdout",
     "output_type": "stream",
     "text": [
      "BaCaI4 mp-766348\n",
      "BaCaI4 mp-766348\n",
      "BaCaI4 mp-766348\n"
     ]
    },
    {
     "name": "stderr",
     "output_type": "stream",
     "text": [
      "Retrieving ElectronicStructureDoc documents: 0it [00:00, ?it/s]\n",
      "  7%|▋         | 70/1000 [01:21<11:36,  1.33it/s]"
     ]
    },
    {
     "name": "stdout",
     "output_type": "stream",
     "text": [
      "Error retrieving band structure for mvc-7248: No electronic structure data found.\n"
     ]
    },
    {
     "name": "stderr",
     "output_type": "stream",
     "text": [
      "Retrieving ElectronicStructureDoc documents: 100%|██████████| 1/1 [00:00<00:00, 10155.70it/s]\n",
      "Retrieving ElectronicStructureDoc documents: 0it [00:00, ?it/s]\n",
      "  7%|▋         | 72/1000 [01:22<09:45,  1.58it/s]"
     ]
    },
    {
     "name": "stdout",
     "output_type": "stream",
     "text": [
      "Error retrieving band structure for mp-765923: No electronic structure data found.\n"
     ]
    },
    {
     "name": "stderr",
     "output_type": "stream",
     "text": [
      "Retrieving ElectronicStructureDoc documents: 100%|██████████| 1/1 [00:00<00:00, 17050.02it/s]\n",
      "Retrieving ElectronicStructureDoc documents: 100%|██████████| 1/1 [00:00<00:00, 20867.18it/s]\n",
      "  7%|▋         | 74/1000 [01:25<17:59,  1.17s/it]"
     ]
    },
    {
     "name": "stdout",
     "output_type": "stream",
     "text": [
      "AgTeO3 mp-561489\n",
      "AgTeO3 mp-561489\n",
      "AgTeO3 mp-561489\n",
      "AgTeO3 mp-561489\n"
     ]
    },
    {
     "name": "stderr",
     "output_type": "stream",
     "text": [
      "Retrieving ElectronicStructureDoc documents: 100%|██████████| 1/1 [00:00<00:00, 10837.99it/s]\n",
      "Retrieving ElectronicStructureDoc documents: 100%|██████████| 1/1 [00:00<00:00, 20360.70it/s]\n",
      "  8%|▊         | 76/1000 [01:27<18:56,  1.23s/it]"
     ]
    },
    {
     "name": "stdout",
     "output_type": "stream",
     "text": [
      "Te2Pd3Pb2 mp-605028\n",
      "Te2Pd3Pb2 mp-605028\n"
     ]
    },
    {
     "name": "stderr",
     "output_type": "stream",
     "text": [
      "Retrieving ElectronicStructureDoc documents: 100%|██████████| 1/1 [00:00<00:00, 10727.12it/s]\n",
      "  8%|▊         | 77/1000 [01:28<14:40,  1.05it/s]"
     ]
    },
    {
     "name": "stdout",
     "output_type": "stream",
     "text": [
      "Error retrieving band structure for mp-866917: No uniform band structure data found for mp-866917\n"
     ]
    },
    {
     "name": "stderr",
     "output_type": "stream",
     "text": [
      "Retrieving ElectronicStructureDoc documents: 100%|██████████| 1/1 [00:00<00:00, 19065.02it/s]\n",
      "  8%|▊         | 78/1000 [01:28<13:05,  1.17it/s]"
     ]
    },
    {
     "name": "stdout",
     "output_type": "stream",
     "text": [
      "Error retrieving band structure for mp-859136: No uniform band structure data found for mp-859136\n"
     ]
    },
    {
     "name": "stderr",
     "output_type": "stream",
     "text": [
      "Retrieving ElectronicStructureDoc documents: 0it [00:00, ?it/s]\n",
      "  8%|▊         | 79/1000 [01:29<11:57,  1.28it/s]"
     ]
    },
    {
     "name": "stdout",
     "output_type": "stream",
     "text": [
      "Error retrieving band structure for mvc-13534: No electronic structure data found.\n"
     ]
    },
    {
     "name": "stderr",
     "output_type": "stream",
     "text": [
      "Retrieving ElectronicStructureDoc documents: 0it [00:00, ?it/s]\n",
      "  8%|▊         | 80/1000 [01:30<11:38,  1.32it/s]"
     ]
    },
    {
     "name": "stdout",
     "output_type": "stream",
     "text": [
      "Error retrieving band structure for mp-998512: No electronic structure data found.\n"
     ]
    },
    {
     "name": "stderr",
     "output_type": "stream",
     "text": [
      "Retrieving ElectronicStructureDoc documents: 0it [00:00, ?it/s]\n",
      "  8%|▊         | 81/1000 [01:30<10:58,  1.40it/s]"
     ]
    },
    {
     "name": "stdout",
     "output_type": "stream",
     "text": [
      "Error retrieving band structure for mp-566299: No electronic structure data found.\n"
     ]
    },
    {
     "name": "stderr",
     "output_type": "stream",
     "text": [
      "Retrieving ElectronicStructureDoc documents: 100%|██████████| 1/1 [00:00<00:00, 19418.07it/s]\n",
      "Retrieving ElectronicStructureDoc documents: 100%|██████████| 1/1 [00:00<00:00, 22192.08it/s]\n",
      "Retrieving ElectronicStructureDoc documents: 100%|██████████| 1/1 [00:00<00:00, 21399.51it/s]\n",
      "  8%|▊         | 84/1000 [01:34<16:31,  1.08s/it]"
     ]
    },
    {
     "name": "stdout",
     "output_type": "stream",
     "text": [
      "ScBrO mp-546279\n",
      "ScBrO mp-546279\n",
      "ScBrO mp-546279\n",
      "ScBrO mp-546279\n"
     ]
    },
    {
     "name": "stderr",
     "output_type": "stream",
     "text": [
      "Retrieving ElectronicStructureDoc documents: 100%|██████████| 1/1 [00:00<00:00, 21183.35it/s]\n",
      "Retrieving ElectronicStructureDoc documents: 0it [00:00, ?it/s]\n",
      "  9%|▊         | 86/1000 [01:36<14:52,  1.02it/s]"
     ]
    },
    {
     "name": "stdout",
     "output_type": "stream",
     "text": [
      "Error retrieving band structure for mp-561475: No electronic structure data found.\n"
     ]
    },
    {
     "name": "stderr",
     "output_type": "stream",
     "text": [
      "Retrieving ElectronicStructureDoc documents: 0it [00:00, ?it/s]\n",
      "  9%|▊         | 87/1000 [01:37<13:12,  1.15it/s]"
     ]
    },
    {
     "name": "stdout",
     "output_type": "stream",
     "text": [
      "Error retrieving band structure for mp-998560: No electronic structure data found.\n"
     ]
    },
    {
     "name": "stderr",
     "output_type": "stream",
     "text": [
      "Retrieving ElectronicStructureDoc documents: 0it [00:00, ?it/s]\n",
      "  9%|▉         | 88/1000 [01:37<10:38,  1.43it/s]"
     ]
    },
    {
     "name": "stdout",
     "output_type": "stream",
     "text": [
      "Error retrieving band structure for mp-765936: No electronic structure data found.\n"
     ]
    },
    {
     "name": "stderr",
     "output_type": "stream",
     "text": [
      "Retrieving ElectronicStructureDoc documents: 0it [00:00, ?it/s]\n",
      "  9%|▉         | 89/1000 [01:38<10:42,  1.42it/s]"
     ]
    },
    {
     "name": "stdout",
     "output_type": "stream",
     "text": [
      "Error retrieving band structure for mvc-8367: No electronic structure data found.\n"
     ]
    },
    {
     "name": "stderr",
     "output_type": "stream",
     "text": [
      "Retrieving ElectronicStructureDoc documents: 100%|██████████| 1/1 [00:00<00:00, 16644.06it/s]\n",
      "Retrieving ElectronicStructureDoc documents: 100%|██████████| 1/1 [00:00<00:00, 18236.10it/s]\n",
      "Retrieving ElectronicStructureDoc documents: 0it [00:00, ?it/s]\n",
      "  9%|▉         | 92/1000 [01:41<13:42,  1.10it/s]"
     ]
    },
    {
     "name": "stdout",
     "output_type": "stream",
     "text": [
      "Error retrieving band structure for mvc-6055: No electronic structure data found.\n"
     ]
    },
    {
     "name": "stderr",
     "output_type": "stream",
     "text": [
      "Retrieving ElectronicStructureDoc documents: 0it [00:00, ?it/s]\n",
      "  9%|▉         | 93/1000 [01:42<10:58,  1.38it/s]"
     ]
    },
    {
     "name": "stdout",
     "output_type": "stream",
     "text": [
      "Error retrieving band structure for mp-775076: No electronic structure data found.\n"
     ]
    },
    {
     "name": "stderr",
     "output_type": "stream",
     "text": [
      "Retrieving ElectronicStructureDoc documents: 0it [00:00, ?it/s]\n",
      "  9%|▉         | 94/1000 [01:42<09:03,  1.67it/s]"
     ]
    },
    {
     "name": "stdout",
     "output_type": "stream",
     "text": [
      "Error retrieving band structure for mvc-14216: No electronic structure data found.\n"
     ]
    },
    {
     "name": "stderr",
     "output_type": "stream",
     "text": [
      "Retrieving ElectronicStructureDoc documents: 0it [00:00, ?it/s]\n",
      " 10%|▉         | 95/1000 [01:43<09:07,  1.65it/s]"
     ]
    },
    {
     "name": "stdout",
     "output_type": "stream",
     "text": [
      "Error retrieving band structure for mp-767158: No electronic structure data found.\n"
     ]
    },
    {
     "name": "stderr",
     "output_type": "stream",
     "text": [
      "Retrieving ElectronicStructureDoc documents: 0it [00:00, ?it/s]\n",
      " 10%|▉         | 96/1000 [01:43<07:45,  1.94it/s]"
     ]
    },
    {
     "name": "stdout",
     "output_type": "stream",
     "text": [
      "Error retrieving band structure for mvc-1220: No electronic structure data found.\n"
     ]
    },
    {
     "name": "stderr",
     "output_type": "stream",
     "text": [
      "Retrieving ElectronicStructureDoc documents: 100%|██████████| 1/1 [00:00<00:00, 14122.24it/s]\n",
      " 10%|▉         | 97/1000 [01:45<12:15,  1.23it/s]"
     ]
    },
    {
     "name": "stdout",
     "output_type": "stream",
     "text": [
      "InS mp-630528\n",
      "InS mp-630528\n",
      "InS mp-630528\n",
      "InS mp-630528\n"
     ]
    },
    {
     "name": "stderr",
     "output_type": "stream",
     "text": [
      "Retrieving ElectronicStructureDoc documents: 100%|██████████| 1/1 [00:00<00:00, 9218.25it/s]\n",
      " 10%|▉         | 98/1000 [01:49<27:19,  1.82s/it]"
     ]
    },
    {
     "name": "stdout",
     "output_type": "stream",
     "text": [
      "AgClO2 mp-675942\n",
      "AgClO2 mp-675942\n",
      "AgClO2 mp-675942\n",
      "AgClO2 mp-675942\n",
      "AgClO2 mp-675942\n",
      "AgClO2 mp-675942\n"
     ]
    },
    {
     "name": "stderr",
     "output_type": "stream",
     "text": [
      "Retrieving ElectronicStructureDoc documents: 0it [00:00, ?it/s]\n",
      " 10%|▉         | 99/1000 [01:49<21:42,  1.45s/it]"
     ]
    },
    {
     "name": "stdout",
     "output_type": "stream",
     "text": [
      "Error retrieving band structure for mvc-5722: No electronic structure data found.\n"
     ]
    },
    {
     "name": "stderr",
     "output_type": "stream",
     "text": [
      "Retrieving ElectronicStructureDoc documents: 100%|██████████| 1/1 [00:00<00:00, 20971.52it/s]\n",
      "Retrieving ElectronicStructureDoc documents: 100%|██████████| 1/1 [00:00<00:00, 10699.76it/s]\n",
      " 10%|█         | 101/1000 [01:51<15:59,  1.07s/it]"
     ]
    },
    {
     "name": "stdout",
     "output_type": "stream",
     "text": [
      "Ta2I5 mp-32554\n",
      "Ta2I5 mp-32554\n",
      "Ta2I5 mp-32554\n"
     ]
    },
    {
     "name": "stderr",
     "output_type": "stream",
     "text": [
      "Retrieving ElectronicStructureDoc documents: 100%|██████████| 1/1 [00:00<00:00, 12557.80it/s]\n",
      "Retrieving ElectronicStructureDoc documents: 0it [00:00, ?it/s]\n",
      " 10%|█         | 103/1000 [01:52<13:02,  1.15it/s]"
     ]
    },
    {
     "name": "stdout",
     "output_type": "stream",
     "text": [
      "Error retrieving band structure for mp-25775: No electronic structure data found.\n"
     ]
    },
    {
     "name": "stderr",
     "output_type": "stream",
     "text": [
      "Retrieving ElectronicStructureDoc documents: 100%|██████████| 1/1 [00:00<00:00, 11459.85it/s]\n",
      "Retrieving ElectronicStructureDoc documents: 0it [00:00, ?it/s]\n",
      " 10%|█         | 105/1000 [01:54<11:34,  1.29it/s]"
     ]
    },
    {
     "name": "stdout",
     "output_type": "stream",
     "text": [
      "Error retrieving band structure for mp-765934: No electronic structure data found.\n"
     ]
    },
    {
     "name": "stderr",
     "output_type": "stream",
     "text": [
      "Retrieving ElectronicStructureDoc documents: 0it [00:00, ?it/s]\n",
      " 11%|█         | 106/1000 [01:54<09:09,  1.63it/s]"
     ]
    },
    {
     "name": "stdout",
     "output_type": "stream",
     "text": [
      "Error retrieving band structure for mp-849227: No electronic structure data found.\n"
     ]
    },
    {
     "name": "stderr",
     "output_type": "stream",
     "text": [
      "Retrieving ElectronicStructureDoc documents: 100%|██████████| 1/1 [00:00<00:00, 22550.02it/s]\n",
      " 11%|█         | 107/1000 [01:56<17:50,  1.20s/it]"
     ]
    },
    {
     "name": "stdout",
     "output_type": "stream",
     "text": [
      "Sc6C2I11 mp-541102\n"
     ]
    },
    {
     "name": "stderr",
     "output_type": "stream",
     "text": [
      "Retrieving ElectronicStructureDoc documents: 100%|██████████| 1/1 [00:00<00:00, 22192.08it/s]\n",
      "Retrieving ElectronicStructureDoc documents: 100%|██████████| 1/1 [00:00<00:00, 16513.01it/s]\n",
      " 11%|█         | 109/1000 [01:58<13:51,  1.07it/s]"
     ]
    },
    {
     "name": "stdout",
     "output_type": "stream",
     "text": [
      "BiOF mp-759750\n",
      "BiOF mp-759750\n",
      "BiOF mp-759750\n"
     ]
    },
    {
     "name": "stderr",
     "output_type": "stream",
     "text": [
      "Retrieving ElectronicStructureDoc documents: 0it [00:00, ?it/s]\n",
      " 11%|█         | 110/1000 [01:58<12:24,  1.20it/s]"
     ]
    },
    {
     "name": "stdout",
     "output_type": "stream",
     "text": [
      "Error retrieving band structure for mvc-10249: No electronic structure data found.\n"
     ]
    },
    {
     "name": "stderr",
     "output_type": "stream",
     "text": [
      "Retrieving ElectronicStructureDoc documents: 100%|██████████| 1/1 [00:00<00:00, 27060.03it/s]\n",
      " 11%|█         | 111/1000 [02:04<33:35,  2.27s/it]"
     ]
    },
    {
     "name": "stdout",
     "output_type": "stream",
     "text": [
      "CeP3H8O7 mp-505610\n",
      "CeP3H8O7 mp-505610\n"
     ]
    },
    {
     "name": "stderr",
     "output_type": "stream",
     "text": [
      "Retrieving ElectronicStructureDoc documents: 0it [00:00, ?it/s]\n",
      " 11%|█         | 112/1000 [02:04<25:42,  1.74s/it]"
     ]
    },
    {
     "name": "stdout",
     "output_type": "stream",
     "text": [
      "Error retrieving band structure for mvc-6392: No electronic structure data found.\n"
     ]
    },
    {
     "name": "stderr",
     "output_type": "stream",
     "text": [
      "Retrieving ElectronicStructureDoc documents: 100%|██████████| 1/1 [00:00<00:00, 7825.19it/s]\n",
      "Retrieving ElectronicStructureDoc documents: 100%|██████████| 1/1 [00:00<00:00, 19152.07it/s]\n",
      "Retrieving ElectronicStructureDoc documents: 100%|██████████| 1/1 [00:00<00:00, 15307.68it/s]\n",
      " 12%|█▏        | 115/1000 [02:07<17:37,  1.20s/it]"
     ]
    },
    {
     "name": "stdout",
     "output_type": "stream",
     "text": [
      "Error retrieving band structure for mp-1038761: No uniform band structure data found for mp-1038761\n"
     ]
    },
    {
     "name": "stderr",
     "output_type": "stream",
     "text": [
      "Retrieving ElectronicStructureDoc documents: 100%|██████████| 1/1 [00:00<00:00, 16320.25it/s]\n",
      "Retrieving ElectronicStructureDoc documents: 100%|██████████| 1/1 [00:00<00:00, 16384.00it/s]\n",
      " 12%|█▏        | 117/1000 [02:09<16:17,  1.11s/it]"
     ]
    },
    {
     "name": "stdout",
     "output_type": "stream",
     "text": [
      "RbC2 mp-1077369\n",
      "RbC2 mp-1077369\n",
      "RbC2 mp-1077369\n"
     ]
    },
    {
     "name": "stderr",
     "output_type": "stream",
     "text": [
      "Retrieving ElectronicStructureDoc documents: 100%|██████████| 1/1 [00:00<00:00, 14169.95it/s]\n",
      "Retrieving ElectronicStructureDoc documents: 100%|██████████| 1/1 [00:00<00:00, 21399.51it/s]\n",
      "Retrieving ElectronicStructureDoc documents: 100%|██████████| 1/1 [00:00<00:00, 21399.51it/s]\n",
      " 12%|█▏        | 120/1000 [02:12<15:49,  1.08s/it]"
     ]
    },
    {
     "name": "stdout",
     "output_type": "stream",
     "text": [
      "TePt mp-11693\n",
      "TePt mp-11693\n",
      "TePt mp-11693\n",
      "TePt mp-11693\n",
      "TePt mp-11693\n"
     ]
    },
    {
     "name": "stderr",
     "output_type": "stream",
     "text": [
      "Retrieving ElectronicStructureDoc documents: 100%|██████████| 1/1 [00:00<00:00, 19784.45it/s]\n",
      " 12%|█▏        | 121/1000 [02:13<15:02,  1.03s/it]"
     ]
    },
    {
     "name": "stdout",
     "output_type": "stream",
     "text": [
      "SiS mp-1023900\n",
      "SiS mp-1023900\n",
      "SiS mp-1023900\n"
     ]
    },
    {
     "name": "stderr",
     "output_type": "stream",
     "text": [
      "Retrieving ElectronicStructureDoc documents: 100%|██████████| 1/1 [00:00<00:00, 24105.20it/s]\n",
      "Retrieving ElectronicStructureDoc documents: 100%|██████████| 1/1 [00:00<00:00, 13530.01it/s]\n",
      " 12%|█▏        | 123/1000 [02:14<10:45,  1.36it/s]"
     ]
    },
    {
     "name": "stdout",
     "output_type": "stream",
     "text": [
      "Error retrieving band structure for mp-1039088: No uniform band structure data found for mp-1039088\n"
     ]
    },
    {
     "name": "stderr",
     "output_type": "stream",
     "text": [
      "Retrieving ElectronicStructureDoc documents: 100%|██████████| 1/1 [00:00<00:00, 16578.28it/s]\n",
      " 12%|█▏        | 124/1000 [02:15<12:52,  1.13it/s]"
     ]
    },
    {
     "name": "stdout",
     "output_type": "stream",
     "text": [
      "Sr2Cu2O3 mp-8806\n",
      "Sr2Cu2O3 mp-8806\n",
      "Sr2Cu2O3 mp-8806\n",
      "Sr2Cu2O3 mp-8806\n"
     ]
    },
    {
     "name": "stderr",
     "output_type": "stream",
     "text": [
      "Retrieving ElectronicStructureDoc documents: 100%|██████████| 1/1 [00:00<00:00, 12052.60it/s]\n",
      "Retrieving ElectronicStructureDoc documents: 0it [00:00, ?it/s]\n",
      " 13%|█▎        | 126/1000 [02:17<10:45,  1.35it/s]"
     ]
    },
    {
     "name": "stdout",
     "output_type": "stream",
     "text": [
      "Error retrieving band structure for mvc-572: No electronic structure data found.\n"
     ]
    },
    {
     "name": "stderr",
     "output_type": "stream",
     "text": [
      "Retrieving ElectronicStructureDoc documents: 100%|██████████| 1/1 [00:00<00:00, 20360.70it/s]\n",
      "Retrieving ElectronicStructureDoc documents: 0it [00:00, ?it/s]\n",
      " 13%|█▎        | 128/1000 [02:18<09:42,  1.50it/s]"
     ]
    },
    {
     "name": "stdout",
     "output_type": "stream",
     "text": [
      "Error retrieving band structure for mvc-1355: No electronic structure data found.\n"
     ]
    },
    {
     "name": "stderr",
     "output_type": "stream",
     "text": [
      "Retrieving ElectronicStructureDoc documents: 100%|██████████| 1/1 [00:00<00:00, 26051.58it/s]\n",
      "Retrieving ElectronicStructureDoc documents: 100%|██████████| 1/1 [00:00<00:00, 14563.56it/s]\n",
      "Retrieving ElectronicStructureDoc documents: 100%|██████████| 1/1 [00:00<00:00, 18808.54it/s]\n",
      "Retrieving ElectronicStructureDoc documents: 100%|██████████| 1/1 [00:00<00:00, 23301.69it/s]\n",
      "Retrieving ElectronicStructureDoc documents: 100%|██████████| 1/1 [00:00<00:00, 18396.07it/s]\n",
      " 13%|█▎        | 133/1000 [02:22<13:33,  1.07it/s]"
     ]
    },
    {
     "name": "stdout",
     "output_type": "stream",
     "text": [
      "LuPb2 mp-11493\n",
      "LuPb2 mp-11493\n",
      "LuPb2 mp-11493\n",
      "LuPb2 mp-11493\n",
      "LuPb2 mp-11493\n"
     ]
    },
    {
     "name": "stderr",
     "output_type": "stream",
     "text": [
      "Retrieving ElectronicStructureDoc documents: 100%|██████████| 1/1 [00:00<00:00, 12671.61it/s]\n",
      " 13%|█▎        | 134/1000 [02:23<13:24,  1.08it/s]"
     ]
    },
    {
     "name": "stdout",
     "output_type": "stream",
     "text": [
      "TlF mp-720\n",
      "TlF mp-720\n",
      "TlF mp-720\n",
      "TlF mp-720\n",
      "TlF mp-720\n",
      "TlF mp-720\n"
     ]
    },
    {
     "name": "stderr",
     "output_type": "stream",
     "text": [
      "Retrieving ElectronicStructureDoc documents: 100%|██████████| 1/1 [00:00<00:00, 22192.08it/s]\n",
      "Retrieving ElectronicStructureDoc documents: 100%|██████████| 1/1 [00:00<00:00, 21076.90it/s]\n",
      " 14%|█▎        | 136/1000 [02:26<17:14,  1.20s/it]"
     ]
    },
    {
     "name": "stdout",
     "output_type": "stream",
     "text": [
      "Sn4Pt mp-20662\n",
      "Sn4Pt mp-20662\n",
      "Sn4Pt mp-20662\n"
     ]
    },
    {
     "name": "stderr",
     "output_type": "stream",
     "text": [
      "Retrieving ElectronicStructureDoc documents: 100%|██████████| 1/1 [00:00<00:00, 11683.30it/s]\n",
      " 14%|█▎        | 137/1000 [02:26<13:32,  1.06it/s]"
     ]
    },
    {
     "name": "stdout",
     "output_type": "stream",
     "text": [
      "Error retrieving band structure for mp-28500: No uniform band structure data found for mp-28500\n"
     ]
    },
    {
     "name": "stderr",
     "output_type": "stream",
     "text": [
      "Retrieving ElectronicStructureDoc documents: 100%|██████████| 1/1 [00:00<00:00, 15477.14it/s]\n",
      "Retrieving ElectronicStructureDoc documents: 0it [00:00, ?it/s]\n",
      " 14%|█▍        | 139/1000 [02:28<12:18,  1.17it/s]"
     ]
    },
    {
     "name": "stdout",
     "output_type": "stream",
     "text": [
      "Error retrieving band structure for mp-31053: No electronic structure data found.\n"
     ]
    },
    {
     "name": "stderr",
     "output_type": "stream",
     "text": [
      "Retrieving ElectronicStructureDoc documents: 100%|██████████| 1/1 [00:00<00:00, 19239.93it/s]\n",
      "Retrieving ElectronicStructureDoc documents: 100%|██████████| 1/1 [00:00<00:00, 20360.70it/s]\n",
      " 14%|█▍        | 141/1000 [02:33<26:14,  1.83s/it]"
     ]
    },
    {
     "name": "stdout",
     "output_type": "stream",
     "text": [
      "ZrGe2 mp-2430\n",
      "ZrGe2 mp-2430\n",
      "ZrGe2 mp-2430\n",
      "ZrGe2 mp-2430\n"
     ]
    },
    {
     "name": "stderr",
     "output_type": "stream",
     "text": [
      "Retrieving ElectronicStructureDoc documents: 0it [00:00, ?it/s]\n",
      " 14%|█▍        | 142/1000 [02:34<20:50,  1.46s/it]"
     ]
    },
    {
     "name": "stdout",
     "output_type": "stream",
     "text": [
      "Error retrieving band structure for mp-765332: No electronic structure data found.\n"
     ]
    },
    {
     "name": "stderr",
     "output_type": "stream",
     "text": [
      "Retrieving ElectronicStructureDoc documents: 100%|██████████| 1/1 [00:00<00:00, 14820.86it/s]\n",
      " 14%|█▍        | 143/1000 [02:37<26:31,  1.86s/it]"
     ]
    },
    {
     "name": "stdout",
     "output_type": "stream",
     "text": [
      "Bi9I2 mp-28149\n",
      "Bi9I2 mp-28149\n"
     ]
    },
    {
     "name": "stderr",
     "output_type": "stream",
     "text": [
      "Retrieving ElectronicStructureDoc documents: 100%|██████████| 1/1 [00:00<00:00, 12748.64it/s]\n",
      "Retrieving ElectronicStructureDoc documents: 0it [00:00, ?it/s]\n",
      " 14%|█▍        | 145/1000 [02:39<19:02,  1.34s/it]"
     ]
    },
    {
     "name": "stdout",
     "output_type": "stream",
     "text": [
      "Error retrieving band structure for mvc-13941: No electronic structure data found.\n"
     ]
    },
    {
     "name": "stderr",
     "output_type": "stream",
     "text": [
      "Retrieving ElectronicStructureDoc documents: 100%|██████████| 1/1 [00:00<00:00, 19328.59it/s]\n",
      " 15%|█▍        | 146/1000 [02:41<22:36,  1.59s/it]"
     ]
    },
    {
     "name": "stdout",
     "output_type": "stream",
     "text": [
      "Sn4Pt mp-20662\n",
      "Sn4Pt mp-20662\n",
      "Sn4Pt mp-20662\n"
     ]
    },
    {
     "name": "stderr",
     "output_type": "stream",
     "text": [
      "Retrieving ElectronicStructureDoc documents: 0it [00:00, ?it/s]\n",
      " 15%|█▍        | 147/1000 [02:41<18:18,  1.29s/it]"
     ]
    },
    {
     "name": "stdout",
     "output_type": "stream",
     "text": [
      "Error retrieving band structure for mp-1863: No electronic structure data found.\n"
     ]
    },
    {
     "name": "stderr",
     "output_type": "stream",
     "text": [
      "Retrieving ElectronicStructureDoc documents: 100%|██████████| 1/1 [00:00<00:00, 9177.91it/s]\n",
      " 15%|█▍        | 148/1000 [02:42<17:47,  1.25s/it]"
     ]
    },
    {
     "name": "stdout",
     "output_type": "stream",
     "text": [
      "Ta2Se mp-8732\n",
      "Ta2Se mp-8732\n"
     ]
    },
    {
     "name": "stderr",
     "output_type": "stream",
     "text": [
      "Retrieving ElectronicStructureDoc documents: 100%|██████████| 1/1 [00:00<00:00, 18978.75it/s]\n",
      "Retrieving ElectronicStructureDoc documents: 100%|██████████| 1/1 [00:00<00:00, 17623.13it/s]\n",
      " 15%|█▌        | 150/1000 [02:44<14:13,  1.00s/it]"
     ]
    },
    {
     "name": "stdout",
     "output_type": "stream",
     "text": [
      "Error retrieving band structure for mp-850083: No uniform band structure data found for mp-850083\n"
     ]
    },
    {
     "name": "stderr",
     "output_type": "stream",
     "text": [
      "Retrieving ElectronicStructureDoc documents: 0it [00:00, ?it/s]\n",
      " 15%|█▌        | 151/1000 [02:45<12:31,  1.13it/s]"
     ]
    },
    {
     "name": "stdout",
     "output_type": "stream",
     "text": [
      "Error retrieving band structure for mp-765268: No electronic structure data found.\n"
     ]
    },
    {
     "name": "stderr",
     "output_type": "stream",
     "text": [
      "Retrieving ElectronicStructureDoc documents: 100%|██████████| 1/1 [00:00<00:00, 10205.12it/s]\n",
      "Retrieving ElectronicStructureDoc documents: 100%|██████████| 1/1 [00:00<00:00, 14463.12it/s]\n",
      " 15%|█▌        | 153/1000 [02:47<12:39,  1.11it/s]"
     ]
    },
    {
     "name": "stdout",
     "output_type": "stream",
     "text": [
      "Error retrieving band structure for mp-556225: No uniform band structure data found for mp-556225\n"
     ]
    },
    {
     "name": "stderr",
     "output_type": "stream",
     "text": [
      "Retrieving ElectronicStructureDoc documents: 100%|██████████| 1/1 [00:00<00:00, 23696.63it/s]\n",
      " 15%|█▌        | 154/1000 [02:48<15:46,  1.12s/it]"
     ]
    },
    {
     "name": "stdout",
     "output_type": "stream",
     "text": [
      "Bi9I2 mp-28149\n",
      "Bi9I2 mp-28149\n"
     ]
    },
    {
     "name": "stderr",
     "output_type": "stream",
     "text": [
      "Retrieving ElectronicStructureDoc documents: 100%|██████████| 1/1 [00:00<00:00, 19878.22it/s]\n",
      "Retrieving ElectronicStructureDoc documents: 0it [00:00, ?it/s]\n",
      " 16%|█▌        | 156/1000 [02:50<12:17,  1.15it/s]"
     ]
    },
    {
     "name": "stdout",
     "output_type": "stream",
     "text": [
      "Error retrieving band structure for mp-765939: No electronic structure data found.\n"
     ]
    },
    {
     "name": "stderr",
     "output_type": "stream",
     "text": [
      "Retrieving ElectronicStructureDoc documents: 100%|██████████| 1/1 [00:00<00:00, 19418.07it/s]\n",
      "Retrieving ElectronicStructureDoc documents: 100%|██████████| 1/1 [00:00<00:00, 15709.00it/s]\n",
      "Retrieving ElectronicStructureDoc documents: 100%|██████████| 1/1 [00:00<00:00, 12336.19it/s]\n",
      "Retrieving ElectronicStructureDoc documents: 0it [00:00, ?it/s]\n",
      " 16%|█▌        | 160/1000 [02:54<13:20,  1.05it/s]"
     ]
    },
    {
     "name": "stdout",
     "output_type": "stream",
     "text": [
      "Error retrieving band structure for mp-765923: No electronic structure data found.\n"
     ]
    },
    {
     "name": "stderr",
     "output_type": "stream",
     "text": [
      "Retrieving ElectronicStructureDoc documents: 0it [00:00, ?it/s]\n",
      " 16%|█▌        | 161/1000 [02:54<11:29,  1.22it/s]"
     ]
    },
    {
     "name": "stdout",
     "output_type": "stream",
     "text": [
      "Error retrieving band structure for mvc-14047: No electronic structure data found.\n"
     ]
    },
    {
     "name": "stderr",
     "output_type": "stream",
     "text": [
      "Retrieving ElectronicStructureDoc documents: 100%|██████████| 1/1 [00:00<00:00, 13888.42it/s]\n",
      " 16%|█▌        | 162/1000 [02:55<11:47,  1.18it/s]"
     ]
    },
    {
     "name": "stdout",
     "output_type": "stream",
     "text": [
      "La2I5 mp-30282\n",
      "La2I5 mp-30282\n"
     ]
    },
    {
     "name": "stderr",
     "output_type": "stream",
     "text": [
      "Retrieving ElectronicStructureDoc documents: 100%|██████████| 1/1 [00:00<00:00, 12446.01it/s]\n",
      "Retrieving ElectronicStructureDoc documents: 100%|██████████| 1/1 [00:00<00:00, 8490.49it/s]\n",
      " 16%|█▋        | 164/1000 [02:56<09:52,  1.41it/s]"
     ]
    },
    {
     "name": "stdout",
     "output_type": "stream",
     "text": [
      "Error retrieving band structure for mp-978259: No uniform band structure data found for mp-978259\n"
     ]
    },
    {
     "name": "stderr",
     "output_type": "stream",
     "text": [
      "Retrieving ElectronicStructureDoc documents: 100%|██████████| 1/1 [00:00<00:00, 20867.18it/s]\n",
      " 16%|█▋        | 165/1000 [02:57<09:28,  1.47it/s]"
     ]
    },
    {
     "name": "stdout",
     "output_type": "stream",
     "text": [
      "Error retrieving band structure for mp-684654: No uniform band structure data found for mp-684654\n"
     ]
    },
    {
     "name": "stderr",
     "output_type": "stream",
     "text": [
      "Retrieving ElectronicStructureDoc documents: 100%|██████████| 1/1 [00:00<00:00, 13189.64it/s]\n",
      "Retrieving ElectronicStructureDoc documents: 100%|██████████| 1/1 [00:00<00:00, 15827.56it/s]\n",
      " 17%|█▋        | 167/1000 [02:59<12:02,  1.15it/s]"
     ]
    },
    {
     "name": "stdout",
     "output_type": "stream",
     "text": [
      "YS mp-22562\n",
      "YS mp-22562\n",
      "YS mp-22562\n",
      "YS mp-22562\n"
     ]
    },
    {
     "name": "stderr",
     "output_type": "stream",
     "text": [
      "Retrieving ElectronicStructureDoc documents: 100%|██████████| 1/1 [00:00<00:00, 23172.95it/s]\n",
      "Retrieving ElectronicStructureDoc documents: 100%|██████████| 1/1 [00:00<00:00, 12557.80it/s]\n",
      "Retrieving ElectronicStructureDoc documents: 100%|██████████| 1/1 [00:00<00:00, 24966.10it/s]\n",
      " 17%|█▋        | 170/1000 [03:02<11:56,  1.16it/s]"
     ]
    },
    {
     "name": "stdout",
     "output_type": "stream",
     "text": [
      "Error retrieving band structure for mp-32580: No uniform band structure data found for mp-32580\n"
     ]
    },
    {
     "name": "stderr",
     "output_type": "stream",
     "text": [
      "Retrieving ElectronicStructureDoc documents: 0it [00:00, ?it/s]\n",
      " 17%|█▋        | 171/1000 [03:03<10:51,  1.27it/s]"
     ]
    },
    {
     "name": "stdout",
     "output_type": "stream",
     "text": [
      "Error retrieving band structure for mvc-11234: No electronic structure data found.\n"
     ]
    },
    {
     "name": "stderr",
     "output_type": "stream",
     "text": [
      "Retrieving ElectronicStructureDoc documents: 100%|██████████| 1/1 [00:00<00:00, 22919.69it/s]\n",
      "Retrieving ElectronicStructureDoc documents: 100%|██████████| 1/1 [00:00<00:00, 10565.00it/s]\n",
      " 17%|█▋        | 173/1000 [03:04<10:25,  1.32it/s]"
     ]
    },
    {
     "name": "stdout",
     "output_type": "stream",
     "text": [
      "BiBr3 mp-752602\n",
      "BiBr3 mp-752602\n",
      "BiBr3 mp-752602\n"
     ]
    },
    {
     "name": "stderr",
     "output_type": "stream",
     "text": [
      "Retrieving ElectronicStructureDoc documents: 100%|██████████| 1/1 [00:00<00:00, 15709.00it/s]\n",
      " 17%|█▋        | 174/1000 [03:05<12:41,  1.09it/s]"
     ]
    },
    {
     "name": "stdout",
     "output_type": "stream",
     "text": [
      "Al2O3 mp-638765\n",
      "Al2O3 mp-638765\n",
      "Al2O3 mp-638765\n"
     ]
    },
    {
     "name": "stderr",
     "output_type": "stream",
     "text": [
      "Retrieving ElectronicStructureDoc documents: 100%|██████████| 1/1 [00:00<00:00, 21845.33it/s]\n",
      " 18%|█▊        | 175/1000 [03:06<10:55,  1.26it/s]"
     ]
    },
    {
     "name": "stdout",
     "output_type": "stream",
     "text": [
      "Error retrieving band structure for mp-978259: No uniform band structure data found for mp-978259\n"
     ]
    },
    {
     "name": "stderr",
     "output_type": "stream",
     "text": [
      "Retrieving ElectronicStructureDoc documents: 100%|██████████| 1/1 [00:00<00:00, 19418.07it/s]\n",
      "Retrieving ElectronicStructureDoc documents: 0it [00:00, ?it/s]\n",
      " 18%|█▊        | 177/1000 [03:07<09:11,  1.49it/s]"
     ]
    },
    {
     "name": "stdout",
     "output_type": "stream",
     "text": [
      "Error retrieving band structure for mvc-15907: No electronic structure data found.\n"
     ]
    },
    {
     "name": "stderr",
     "output_type": "stream",
     "text": [
      "Retrieving ElectronicStructureDoc documents: 0it [00:00, ?it/s]\n",
      " 18%|█▊        | 178/1000 [03:07<07:41,  1.78it/s]"
     ]
    },
    {
     "name": "stdout",
     "output_type": "stream",
     "text": [
      "Error retrieving band structure for mp-561779: No electronic structure data found.\n"
     ]
    },
    {
     "name": "stderr",
     "output_type": "stream",
     "text": [
      "Retrieving ElectronicStructureDoc documents: 0it [00:00, ?it/s]\n",
      " 18%|█▊        | 179/1000 [03:08<06:38,  2.06it/s]"
     ]
    },
    {
     "name": "stdout",
     "output_type": "stream",
     "text": [
      "Error retrieving band structure for mvc-13836: No electronic structure data found.\n"
     ]
    },
    {
     "name": "stderr",
     "output_type": "stream",
     "text": [
      "Retrieving ElectronicStructureDoc documents: 100%|██████████| 1/1 [00:00<00:00, 13662.23it/s]\n",
      " 18%|█▊        | 180/1000 [03:08<05:56,  2.30it/s]"
     ]
    },
    {
     "name": "stdout",
     "output_type": "stream",
     "text": [
      "Error retrieving band structure for mp-684652: No uniform band structure data found for mp-684652\n"
     ]
    },
    {
     "name": "stderr",
     "output_type": "stream",
     "text": [
      "Retrieving ElectronicStructureDoc documents: 100%|██████████| 1/1 [00:00<00:00, 20661.60it/s]\n",
      " 18%|█▊        | 181/1000 [03:09<08:32,  1.60it/s]"
     ]
    },
    {
     "name": "stdout",
     "output_type": "stream",
     "text": [
      "TbTe3 mp-1084847\n",
      "TbTe3 mp-1084847\n",
      "TbTe3 mp-1084847\n",
      "TbTe3 mp-1084847\n",
      "TbTe3 mp-1084847\n",
      "TbTe3 mp-1084847\n",
      "TbTe3 mp-1084847\n"
     ]
    },
    {
     "name": "stderr",
     "output_type": "stream",
     "text": [
      "Retrieving ElectronicStructureDoc documents: 100%|██████████| 1/1 [00:00<00:00, 18477.11it/s]\n",
      " 18%|█▊        | 182/1000 [03:11<15:40,  1.15s/it]"
     ]
    },
    {
     "name": "stdout",
     "output_type": "stream",
     "text": [
      "Ag2IO6 mp-1079032\n",
      "Ag2IO6 mp-1079032\n",
      "Ag2IO6 mp-1079032\n",
      "Ag2IO6 mp-1079032\n"
     ]
    },
    {
     "name": "stderr",
     "output_type": "stream",
     "text": [
      "Retrieving ElectronicStructureDoc documents: 100%|██████████| 1/1 [00:00<00:00, 8830.11it/s]\n",
      "Retrieving ElectronicStructureDoc documents: 100%|██████████| 1/1 [00:00<00:00, 11066.77it/s]\n",
      " 18%|█▊        | 184/1000 [03:13<13:34,  1.00it/s]"
     ]
    },
    {
     "name": "stdout",
     "output_type": "stream",
     "text": [
      "Error retrieving band structure for mp-1039263: No uniform band structure data found for mp-1039263\n"
     ]
    },
    {
     "name": "stderr",
     "output_type": "stream",
     "text": [
      "Retrieving ElectronicStructureDoc documents: 100%|██████████| 1/1 [00:00<00:00, 6967.28it/s]\n",
      "Retrieving ElectronicStructureDoc documents: 100%|██████████| 1/1 [00:00<00:00, 17189.77it/s]\n",
      " 19%|█▊        | 186/1000 [03:15<11:44,  1.16it/s]"
     ]
    },
    {
     "name": "stdout",
     "output_type": "stream",
     "text": [
      "Fe(SbS2)2 mp-20767\n",
      "Fe(SbS2)2 mp-20767\n",
      "Fe(SbS2)2 mp-20767\n",
      "Fe(SbS2)2 mp-20767\n"
     ]
    },
    {
     "name": "stderr",
     "output_type": "stream",
     "text": [
      "Retrieving ElectronicStructureDoc documents: 100%|██████████| 1/1 [00:00<00:00, 8208.03it/s]\n",
      "Retrieving ElectronicStructureDoc documents: 100%|██████████| 1/1 [00:00<00:00, 18724.57it/s]\n",
      " 19%|█▉        | 188/1000 [03:17<11:46,  1.15it/s]"
     ]
    },
    {
     "name": "stdout",
     "output_type": "stream",
     "text": [
      "GeS mp-2242\n",
      "GeS mp-2242\n",
      "GeS mp-2242\n"
     ]
    },
    {
     "name": "stderr",
     "output_type": "stream",
     "text": [
      "Retrieving ElectronicStructureDoc documents: 100%|██████████| 1/1 [00:00<00:00, 10782.27it/s]\n",
      " 19%|█▉        | 189/1000 [03:17<10:16,  1.32it/s]"
     ]
    },
    {
     "name": "stdout",
     "output_type": "stream",
     "text": [
      "Error retrieving band structure for mp-28691: No uniform band structure data found for mp-28691\n"
     ]
    },
    {
     "name": "stderr",
     "output_type": "stream",
     "text": [
      "Retrieving ElectronicStructureDoc documents: 100%|██████████| 1/1 [00:00<00:00, 10754.63it/s]\n",
      "Retrieving ElectronicStructureDoc documents: 100%|██████████| 1/1 [00:00<00:00, 15307.68it/s]\n",
      "Retrieving ElectronicStructureDoc documents: 100%|██████████| 1/1 [00:00<00:00, 20460.02it/s]\n",
      "Retrieving ElectronicStructureDoc documents: 100%|██████████| 1/1 [00:00<00:00, 21959.71it/s]\n",
      " 19%|█▉        | 193/1000 [03:23<17:53,  1.33s/it]"
     ]
    },
    {
     "name": "stdout",
     "output_type": "stream",
     "text": [
      "NaTaCl6 mp-28179\n"
     ]
    },
    {
     "name": "stderr",
     "output_type": "stream",
     "text": [
      "Retrieving ElectronicStructureDoc documents: 100%|██████████| 1/1 [00:00<00:00, 15420.24it/s]\n",
      "Retrieving ElectronicStructureDoc documents: 0it [00:00, ?it/s]\n",
      " 20%|█▉        | 195/1000 [03:24<12:18,  1.09it/s]"
     ]
    },
    {
     "name": "stdout",
     "output_type": "stream",
     "text": [
      "Error retrieving band structure for mvc-353: No electronic structure data found.\n"
     ]
    },
    {
     "name": "stderr",
     "output_type": "stream",
     "text": [
      "Retrieving ElectronicStructureDoc documents: 100%|██████████| 1/1 [00:00<00:00, 18001.30it/s]\n",
      "Retrieving ElectronicStructureDoc documents: 0it [00:00, ?it/s]\n",
      " 20%|█▉        | 197/1000 [03:25<10:43,  1.25it/s]"
     ]
    },
    {
     "name": "stdout",
     "output_type": "stream",
     "text": [
      "Error retrieving band structure for mvc-10741: No electronic structure data found.\n"
     ]
    },
    {
     "name": "stderr",
     "output_type": "stream",
     "text": [
      "Retrieving ElectronicStructureDoc documents: 100%|██████████| 1/1 [00:00<00:00, 17050.02it/s]\n",
      " 20%|█▉        | 198/1000 [03:27<15:03,  1.13s/it]"
     ]
    },
    {
     "name": "stdout",
     "output_type": "stream",
     "text": [
      "SbAsO3 mp-28109\n",
      "SbAsO3 mp-28109\n",
      "SbAsO3 mp-28109\n",
      "SbAsO3 mp-28109\n",
      "SbAsO3 mp-28109\n"
     ]
    },
    {
     "name": "stderr",
     "output_type": "stream",
     "text": [
      "Retrieving ElectronicStructureDoc documents: 0it [00:00, ?it/s]\n",
      " 20%|█▉        | 199/1000 [03:27<12:00,  1.11it/s]"
     ]
    },
    {
     "name": "stdout",
     "output_type": "stream",
     "text": [
      "Error retrieving band structure for mp-704848: No electronic structure data found.\n"
     ]
    },
    {
     "name": "stderr",
     "output_type": "stream",
     "text": [
      "Retrieving ElectronicStructureDoc documents: 100%|██████████| 1/1 [00:00<00:00, 11397.57it/s]\n",
      " 20%|██        | 200/1000 [03:31<21:36,  1.62s/it]"
     ]
    },
    {
     "name": "stdout",
     "output_type": "stream",
     "text": [
      "Sm(AlCl4)2 mp-569569\n",
      "Sm(AlCl4)2 mp-569569\n"
     ]
    },
    {
     "name": "stderr",
     "output_type": "stream",
     "text": [
      "Retrieving ElectronicStructureDoc documents: 100%|██████████| 1/1 [00:00<00:00, 16912.52it/s]\n",
      " 20%|██        | 201/1000 [03:32<18:23,  1.38s/it]"
     ]
    },
    {
     "name": "stdout",
     "output_type": "stream",
     "text": [
      "CdP2H6O7 mp-24407\n",
      "CdP2H6O7 mp-24407\n",
      "CdP2H6O7 mp-24407\n"
     ]
    },
    {
     "name": "stderr",
     "output_type": "stream",
     "text": [
      "Retrieving ElectronicStructureDoc documents: 100%|██████████| 1/1 [00:00<00:00, 18558.87it/s]\n",
      "Retrieving ElectronicStructureDoc documents: 100%|██████████| 1/1 [00:00<00:00, 18078.90it/s]\n",
      "Retrieving ElectronicStructureDoc documents: 0it [00:00, ?it/s]\n",
      " 20%|██        | 204/1000 [03:36<17:42,  1.33s/it]"
     ]
    },
    {
     "name": "stdout",
     "output_type": "stream",
     "text": [
      "Error retrieving band structure for mvc-8648: No electronic structure data found.\n"
     ]
    },
    {
     "name": "stderr",
     "output_type": "stream",
     "text": [
      "Retrieving ElectronicStructureDoc documents: 100%|██████████| 1/1 [00:00<00:00, 12671.61it/s]\n",
      " 20%|██        | 205/1000 [03:36<15:14,  1.15s/it]"
     ]
    },
    {
     "name": "stdout",
     "output_type": "stream",
     "text": [
      "LiTeO3 mp-755231\n",
      "LiTeO3 mp-755231\n",
      "LiTeO3 mp-755231\n",
      "LiTeO3 mp-755231\n",
      "LiTeO3 mp-755231\n"
     ]
    },
    {
     "name": "stderr",
     "output_type": "stream",
     "text": [
      "Retrieving ElectronicStructureDoc documents: 0it [00:00, ?it/s]\n",
      " 21%|██        | 206/1000 [03:37<13:29,  1.02s/it]"
     ]
    },
    {
     "name": "stdout",
     "output_type": "stream",
     "text": [
      "Error retrieving band structure for mvc-8117: No electronic structure data found.\n"
     ]
    },
    {
     "name": "stderr",
     "output_type": "stream",
     "text": [
      "Retrieving ElectronicStructureDoc documents: 100%|██████████| 1/1 [00:00<00:00, 20360.70it/s]\n",
      " 21%|██        | 207/1000 [03:38<11:53,  1.11it/s]"
     ]
    },
    {
     "name": "stdout",
     "output_type": "stream",
     "text": [
      "Error retrieving band structure for mp-683998: No uniform band structure data found for mp-683998\n"
     ]
    },
    {
     "name": "stderr",
     "output_type": "stream",
     "text": [
      "Retrieving ElectronicStructureDoc documents: 100%|██████████| 1/1 [00:00<00:00, 15363.75it/s]\n",
      " 21%|██        | 208/1000 [03:42<24:02,  1.82s/it]"
     ]
    },
    {
     "name": "stdout",
     "output_type": "stream",
     "text": [
      "Cu(IO3)2 mp-556582\n",
      "Cu(IO3)2 mp-556582\n",
      "Cu(IO3)2 mp-556582\n"
     ]
    },
    {
     "name": "stderr",
     "output_type": "stream",
     "text": [
      "Retrieving ElectronicStructureDoc documents: 100%|██████████| 1/1 [00:00<00:00, 19152.07it/s]\n",
      " 21%|██        | 209/1000 [03:43<21:10,  1.61s/it]"
     ]
    },
    {
     "name": "stdout",
     "output_type": "stream",
     "text": [
      "CuO2F mp-997044\n",
      "CuO2F mp-997044\n",
      "CuO2F mp-997044\n",
      "CuO2F mp-997044\n",
      "CuO2F mp-997044\n"
     ]
    },
    {
     "name": "stderr",
     "output_type": "stream",
     "text": [
      "Retrieving ElectronicStructureDoc documents: 100%|██████████| 1/1 [00:00<00:00, 19239.93it/s]\n",
      "Retrieving ElectronicStructureDoc documents: 100%|██████████| 1/1 [00:00<00:00, 26715.31it/s]\n",
      " 21%|██        | 211/1000 [03:45<15:49,  1.20s/it]"
     ]
    },
    {
     "name": "stdout",
     "output_type": "stream",
     "text": [
      "AgClO2 mp-997013\n",
      "AgClO2 mp-997013\n",
      "AgClO2 mp-997013\n"
     ]
    },
    {
     "name": "stderr",
     "output_type": "stream",
     "text": [
      "Retrieving ElectronicStructureDoc documents: 100%|██████████| 1/1 [00:00<00:00, 11096.04it/s]\n",
      " 21%|██        | 212/1000 [03:49<29:18,  2.23s/it]"
     ]
    },
    {
     "name": "stdout",
     "output_type": "stream",
     "text": [
      "CaH6C2O7 mp-559469\n",
      "CaH6C2O7 mp-559469\n",
      "CaH6C2O7 mp-559469\n"
     ]
    },
    {
     "name": "stderr",
     "output_type": "stream",
     "text": [
      "Retrieving ElectronicStructureDoc documents: 100%|██████████| 1/1 [00:00<00:00, 17549.39it/s]\n",
      " 21%|██▏       | 213/1000 [03:53<34:49,  2.66s/it]"
     ]
    },
    {
     "name": "stdout",
     "output_type": "stream",
     "text": [
      "FeTeBr7 mp-540998\n",
      "FeTeBr7 mp-540998\n"
     ]
    },
    {
     "name": "stderr",
     "output_type": "stream",
     "text": [
      "Retrieving ElectronicStructureDoc documents: 0it [00:00, ?it/s]\n",
      " 21%|██▏       | 214/1000 [03:53<26:41,  2.04s/it]"
     ]
    },
    {
     "name": "stdout",
     "output_type": "stream",
     "text": [
      "Error retrieving band structure for mp-32324: No electronic structure data found.\n"
     ]
    },
    {
     "name": "stderr",
     "output_type": "stream",
     "text": [
      "Retrieving ElectronicStructureDoc documents: 0it [00:00, ?it/s]\n",
      " 22%|██▏       | 215/1000 [03:54<21:54,  1.67s/it]"
     ]
    },
    {
     "name": "stdout",
     "output_type": "stream",
     "text": [
      "Error retrieving band structure for mp-764204: No electronic structure data found.\n"
     ]
    },
    {
     "name": "stderr",
     "output_type": "stream",
     "text": [
      "Retrieving ElectronicStructureDoc documents: 0it [00:00, ?it/s]\n",
      " 22%|██▏       | 216/1000 [03:55<17:22,  1.33s/it]"
     ]
    },
    {
     "name": "stdout",
     "output_type": "stream",
     "text": [
      "Error retrieving band structure for mvc-10495: No electronic structure data found.\n"
     ]
    },
    {
     "name": "stderr",
     "output_type": "stream",
     "text": [
      "Retrieving ElectronicStructureDoc documents: 0it [00:00, ?it/s]\n",
      " 22%|██▏       | 217/1000 [03:55<14:27,  1.11s/it]"
     ]
    },
    {
     "name": "stdout",
     "output_type": "stream",
     "text": [
      "Error retrieving band structure for mvc-4767: No electronic structure data found.\n"
     ]
    },
    {
     "name": "stderr",
     "output_type": "stream",
     "text": [
      "Retrieving ElectronicStructureDoc documents: 100%|██████████| 1/1 [00:00<00:00, 26214.40it/s]\n",
      "Retrieving ElectronicStructureDoc documents: 100%|██████████| 1/1 [00:00<00:00, 25420.02it/s]\n",
      "Retrieving ElectronicStructureDoc documents: 100%|██████████| 1/1 [00:00<00:00, 21076.90it/s]\n",
      " 22%|██▏       | 220/1000 [03:59<17:32,  1.35s/it]"
     ]
    },
    {
     "name": "stdout",
     "output_type": "stream",
     "text": [
      "YbH2ClO2 mp-979964\n",
      "YbH2ClO2 mp-979964\n",
      "YbH2ClO2 mp-979964\n",
      "YbH2ClO2 mp-979964\n"
     ]
    },
    {
     "name": "stderr",
     "output_type": "stream",
     "text": [
      "Retrieving ElectronicStructureDoc documents: 100%|██████████| 1/1 [00:00<00:00, 18978.75it/s]\n",
      "Retrieving ElectronicStructureDoc documents: 100%|██████████| 1/1 [00:00<00:00, 21399.51it/s]\n",
      "Retrieving ElectronicStructureDoc documents: 0it [00:00, ?it/s]\n",
      " 22%|██▏       | 223/1000 [04:01<10:45,  1.20it/s]"
     ]
    },
    {
     "name": "stdout",
     "output_type": "stream",
     "text": [
      "Error retrieving band structure for mvc-11097: No electronic structure data found.\n"
     ]
    },
    {
     "name": "stderr",
     "output_type": "stream",
     "text": [
      "Retrieving ElectronicStructureDoc documents: 100%|██████████| 1/1 [00:00<00:00, 24105.20it/s]\n",
      " 22%|██▏       | 224/1000 [04:02<11:07,  1.16it/s]"
     ]
    },
    {
     "name": "stdout",
     "output_type": "stream",
     "text": [
      "InTeClO3 mp-557992\n",
      "InTeClO3 mp-557992\n",
      "InTeClO3 mp-557992\n"
     ]
    },
    {
     "name": "stderr",
     "output_type": "stream",
     "text": [
      "Retrieving ElectronicStructureDoc documents: 100%|██████████| 1/1 [00:00<00:00, 17924.38it/s]\n",
      "Retrieving ElectronicStructureDoc documents: 0it [00:00, ?it/s]\n",
      " 23%|██▎       | 226/1000 [04:05<14:39,  1.14s/it]"
     ]
    },
    {
     "name": "stdout",
     "output_type": "stream",
     "text": [
      "Error retrieving band structure for mvc-10548: No electronic structure data found.\n"
     ]
    },
    {
     "name": "stderr",
     "output_type": "stream",
     "text": [
      "Retrieving ElectronicStructureDoc documents: 100%|██████████| 1/1 [00:00<00:00, 15592.21it/s]\n",
      " 23%|██▎       | 227/1000 [04:06<12:48,  1.01it/s]"
     ]
    },
    {
     "name": "stdout",
     "output_type": "stream",
     "text": [
      "Al2FeS4 mp-1078015\n",
      "Al2FeS4 mp-1078015\n"
     ]
    },
    {
     "name": "stderr",
     "output_type": "stream",
     "text": [
      "Retrieving ElectronicStructureDoc documents: 100%|██████████| 1/1 [00:00<00:00, 9754.20it/s]\n",
      "Retrieving ElectronicStructureDoc documents: 100%|██████████| 1/1 [00:00<00:00, 17260.51it/s]\n",
      " 23%|██▎       | 229/1000 [04:07<10:05,  1.27it/s]"
     ]
    },
    {
     "name": "stdout",
     "output_type": "stream",
     "text": [
      "Error retrieving band structure for mp-675589: No uniform band structure data found for mp-675589\n"
     ]
    },
    {
     "name": "stderr",
     "output_type": "stream",
     "text": [
      "Retrieving ElectronicStructureDoc documents: 0it [00:00, ?it/s]\n",
      " 23%|██▎       | 230/1000 [04:08<08:13,  1.56it/s]"
     ]
    },
    {
     "name": "stdout",
     "output_type": "stream",
     "text": [
      "Error retrieving band structure for mvc-3402: No electronic structure data found.\n"
     ]
    },
    {
     "name": "stderr",
     "output_type": "stream",
     "text": [
      "Retrieving ElectronicStructureDoc documents: 100%|██████████| 1/1 [00:00<00:00, 26715.31it/s]\n",
      "Retrieving ElectronicStructureDoc documents: 100%|██████████| 1/1 [00:00<00:00, 26715.31it/s]\n",
      " 23%|██▎       | 232/1000 [04:11<15:48,  1.24s/it]"
     ]
    },
    {
     "name": "stdout",
     "output_type": "stream",
     "text": [
      "Ag3SI mp-676121\n",
      "Ag3SI mp-676121\n"
     ]
    },
    {
     "name": "stderr",
     "output_type": "stream",
     "text": [
      "Retrieving ElectronicStructureDoc documents: 100%|██████████| 1/1 [00:00<00:00, 12633.45it/s]\n",
      "Retrieving ElectronicStructureDoc documents: 0it [00:00, ?it/s]\n",
      " 23%|██▎       | 234/1000 [04:14<15:26,  1.21s/it]"
     ]
    },
    {
     "name": "stdout",
     "output_type": "stream",
     "text": [
      "Error retrieving band structure for mvc-3393: No electronic structure data found.\n"
     ]
    },
    {
     "name": "stderr",
     "output_type": "stream",
     "text": [
      "Retrieving ElectronicStructureDoc documents: 0it [00:00, ?it/s]\n",
      " 24%|██▎       | 235/1000 [04:14<13:07,  1.03s/it]"
     ]
    },
    {
     "name": "stdout",
     "output_type": "stream",
     "text": [
      "Error retrieving band structure for mp-776827: No electronic structure data found.\n"
     ]
    },
    {
     "name": "stderr",
     "output_type": "stream",
     "text": [
      "Retrieving ElectronicStructureDoc documents: 100%|██████████| 1/1 [00:00<00:00, 9362.29it/s]\n",
      " 24%|██▎       | 236/1000 [04:15<11:56,  1.07it/s]"
     ]
    },
    {
     "name": "stdout",
     "output_type": "stream",
     "text": [
      "Error retrieving band structure for mp-28571: No uniform band structure data found for mp-28571\n"
     ]
    },
    {
     "name": "stderr",
     "output_type": "stream",
     "text": [
      "Retrieving ElectronicStructureDoc documents: 100%|██████████| 1/1 [00:00<00:00, 12087.33it/s]\n",
      "Retrieving ElectronicStructureDoc documents: 0it [00:00, ?it/s]\n",
      " 24%|██▍       | 238/1000 [04:16<09:30,  1.34it/s]"
     ]
    },
    {
     "name": "stdout",
     "output_type": "stream",
     "text": [
      "Error retrieving band structure for mp-705053: No electronic structure data found.\n"
     ]
    },
    {
     "name": "stderr",
     "output_type": "stream",
     "text": [
      "Retrieving ElectronicStructureDoc documents: 100%|██████████| 1/1 [00:00<00:00, 25420.02it/s]\n",
      "Retrieving ElectronicStructureDoc documents: 100%|██████████| 1/1 [00:00<00:00, 25115.59it/s]\n",
      " 24%|██▍       | 240/1000 [04:21<20:23,  1.61s/it]"
     ]
    },
    {
     "name": "stdout",
     "output_type": "stream",
     "text": [
      "CuB2(PbO3)2 mp-554812\n",
      "CuB2(PbO3)2 mp-554812\n",
      "CuB2(PbO3)2 mp-554812\n"
     ]
    },
    {
     "name": "stderr",
     "output_type": "stream",
     "text": [
      "Retrieving ElectronicStructureDoc documents: 100%|██████████| 1/1 [00:00<00:00, 18558.87it/s]\n",
      "Retrieving ElectronicStructureDoc documents: 0it [00:00, ?it/s]\n",
      " 24%|██▍       | 242/1000 [04:22<13:26,  1.06s/it]"
     ]
    },
    {
     "name": "stdout",
     "output_type": "stream",
     "text": [
      "Error retrieving band structure for mp-763499: No electronic structure data found.\n"
     ]
    },
    {
     "name": "stderr",
     "output_type": "stream",
     "text": [
      "Retrieving ElectronicStructureDoc documents: 100%|██████████| 1/1 [00:00<00:00, 20560.31it/s]\n",
      "Retrieving ElectronicStructureDoc documents: 100%|██████████| 1/1 [00:00<00:00, 21959.71it/s]\n",
      " 24%|██▍       | 244/1000 [04:23<11:17,  1.12it/s]"
     ]
    },
    {
     "name": "stdout",
     "output_type": "stream",
     "text": [
      "Error retrieving band structure for mp-1038761: No uniform band structure data found for mp-1038761\n"
     ]
    },
    {
     "name": "stderr",
     "output_type": "stream",
     "text": [
      "Retrieving ElectronicStructureDoc documents: 0it [00:00, ?it/s]\n",
      " 24%|██▍       | 245/1000 [04:24<09:01,  1.39it/s]"
     ]
    },
    {
     "name": "stdout",
     "output_type": "stream",
     "text": [
      "Error retrieving band structure for mp-1066821: No electronic structure data found.\n"
     ]
    },
    {
     "name": "stderr",
     "output_type": "stream",
     "text": [
      "Retrieving ElectronicStructureDoc documents: 100%|██████████| 1/1 [00:00<00:00, 22919.69it/s]\n",
      " 25%|██▍       | 246/1000 [04:24<09:03,  1.39it/s]"
     ]
    },
    {
     "name": "stdout",
     "output_type": "stream",
     "text": [
      "NaH4ClO2 mp-504600\n",
      "NaH4ClO2 mp-504600\n",
      "NaH4ClO2 mp-504600\n",
      "NaH4ClO2 mp-504600\n",
      "NaH4ClO2 mp-504600\n"
     ]
    },
    {
     "name": "stderr",
     "output_type": "stream",
     "text": [
      "Retrieving ElectronicStructureDoc documents: 100%|██████████| 1/1 [00:00<00:00, 10010.27it/s]\n",
      "Retrieving ElectronicStructureDoc documents: 100%|██████████| 1/1 [00:00<00:00, 6472.69it/s]\n",
      "Retrieving ElectronicStructureDoc documents: 100%|██████████| 1/1 [00:00<00:00, 21399.51it/s]\n",
      "Retrieving ElectronicStructureDoc documents: 100%|██████████| 1/1 [00:00<00:00, 10131.17it/s]\n",
      " 25%|██▌       | 250/1000 [04:28<10:35,  1.18it/s]"
     ]
    },
    {
     "name": "stdout",
     "output_type": "stream",
     "text": [
      "Error retrieving band structure for mp-1074652: No uniform band structure data found for mp-1074652\n"
     ]
    },
    {
     "name": "stderr",
     "output_type": "stream",
     "text": [
      "Retrieving ElectronicStructureDoc documents: 100%|██████████| 1/1 [00:00<00:00, 14217.98it/s]\n",
      " 25%|██▌       | 251/1000 [04:29<09:42,  1.29it/s]"
     ]
    },
    {
     "name": "stdout",
     "output_type": "stream",
     "text": [
      "Error retrieving band structure for mp-1038761: No uniform band structure data found for mp-1038761\n"
     ]
    },
    {
     "name": "stderr",
     "output_type": "stream",
     "text": [
      "Retrieving ElectronicStructureDoc documents: 100%|██████████| 1/1 [00:00<00:00, 20460.02it/s]\n",
      " 25%|██▌       | 252/1000 [04:29<10:14,  1.22it/s]"
     ]
    },
    {
     "name": "stdout",
     "output_type": "stream",
     "text": [
      "Error retrieving band structure for mp-1071032: No uniform band structure data found for mp-1071032\n"
     ]
    },
    {
     "name": "stderr",
     "output_type": "stream",
     "text": [
      "Retrieving ElectronicStructureDoc documents: 100%|██████████| 1/1 [00:00<00:00, 8192.00it/s]\n",
      "Retrieving ElectronicStructureDoc documents: 100%|██████████| 1/1 [00:00<00:00, 15363.75it/s]\n",
      "Retrieving ElectronicStructureDoc documents: 0it [00:00, ?it/s]\n",
      " 26%|██▌       | 255/1000 [04:31<08:44,  1.42it/s]"
     ]
    },
    {
     "name": "stdout",
     "output_type": "stream",
     "text": [
      "Error retrieving band structure for mvc-14464: No electronic structure data found.\n"
     ]
    },
    {
     "name": "stderr",
     "output_type": "stream",
     "text": [
      "Retrieving ElectronicStructureDoc documents: 100%|██████████| 1/1 [00:00<00:00, 16131.94it/s]\n",
      "Retrieving ElectronicStructureDoc documents: 100%|██████████| 1/1 [00:00<00:00, 9362.29it/s]\n",
      "Retrieving ElectronicStructureDoc documents: 100%|██████████| 1/1 [00:00<00:00, 9642.08it/s]\n",
      " 26%|██▌       | 258/1000 [04:34<11:19,  1.09it/s]"
     ]
    },
    {
     "name": "stdout",
     "output_type": "stream",
     "text": [
      "Sn4Ir mp-1080586\n",
      "Sn4Ir mp-1080586\n",
      "Sn4Ir mp-1080586\n"
     ]
    },
    {
     "name": "stderr",
     "output_type": "stream",
     "text": [
      "Retrieving ElectronicStructureDoc documents: 100%|██████████| 1/1 [00:00<00:00, 16008.79it/s]\n",
      " 26%|██▌       | 259/1000 [04:37<16:21,  1.32s/it]"
     ]
    },
    {
     "name": "stdout",
     "output_type": "stream",
     "text": [
      "Ca5Ir mp-570356\n",
      "Ca5Ir mp-570356\n",
      "Ca5Ir mp-570356\n",
      "Ca5Ir mp-570356\n"
     ]
    },
    {
     "name": "stderr",
     "output_type": "stream",
     "text": [
      "Retrieving ElectronicStructureDoc documents: 100%|██████████| 1/1 [00:00<00:00, 17772.47it/s]\n",
      "Retrieving ElectronicStructureDoc documents: 100%|██████████| 1/1 [00:00<00:00, 15768.06it/s]\n",
      "Retrieving ElectronicStructureDoc documents: 100%|██████████| 1/1 [00:00<00:00, 13573.80it/s]\n",
      "Retrieving ElectronicStructureDoc documents: 100%|██████████| 1/1 [00:00<00:00, 18558.87it/s]\n",
      "Retrieving ElectronicStructureDoc documents: 100%|██████████| 1/1 [00:00<00:00, 13662.23it/s]\n",
      " 26%|██▋       | 264/1000 [04:43<15:58,  1.30s/it]"
     ]
    },
    {
     "name": "stdout",
     "output_type": "stream",
     "text": [
      "PbO mp-20878\n",
      "PbO mp-20878\n",
      "PbO mp-20878\n",
      "PbO mp-20878\n",
      "PbO mp-20878\n",
      "PbO mp-20878\n"
     ]
    },
    {
     "name": "stderr",
     "output_type": "stream",
     "text": [
      "Retrieving ElectronicStructureDoc documents: 100%|██████████| 1/1 [00:00<00:00, 22550.02it/s]\n",
      "Retrieving ElectronicStructureDoc documents: 100%|██████████| 1/1 [00:00<00:00, 17772.47it/s]\n",
      "Retrieving ElectronicStructureDoc documents: 100%|██████████| 1/1 [00:00<00:00, 7738.57it/s]\n",
      " 27%|██▋       | 267/1000 [04:46<12:37,  1.03s/it]"
     ]
    },
    {
     "name": "stdout",
     "output_type": "stream",
     "text": [
      "TeI mp-23273\n",
      "TeI mp-23273\n"
     ]
    },
    {
     "name": "stderr",
     "output_type": "stream",
     "text": [
      "Retrieving ElectronicStructureDoc documents: 100%|██████████| 1/1 [00:00<00:00, 21183.35it/s]\n",
      "Retrieving ElectronicStructureDoc documents: 100%|██████████| 1/1 [00:00<00:00, 19418.07it/s]\n",
      "Retrieving ElectronicStructureDoc documents: 100%|██████████| 1/1 [00:00<00:00, 15592.21it/s]\n",
      "Retrieving ElectronicStructureDoc documents: 100%|██████████| 1/1 [00:00<00:00, 21183.35it/s]\n",
      " 27%|██▋       | 271/1000 [04:52<21:11,  1.74s/it]"
     ]
    },
    {
     "name": "stdout",
     "output_type": "stream",
     "text": [
      "NbS3 mp-562100\n",
      "NbS3 mp-562100\n",
      "NbS3 mp-562100\n"
     ]
    },
    {
     "name": "stderr",
     "output_type": "stream",
     "text": [
      "Retrieving ElectronicStructureDoc documents: 100%|██████████| 1/1 [00:00<00:00, 21399.51it/s]\n",
      "Retrieving ElectronicStructureDoc documents: 100%|██████████| 1/1 [00:00<00:00, 24244.53it/s]\n",
      " 27%|██▋       | 273/1000 [04:55<19:42,  1.63s/it]"
     ]
    },
    {
     "name": "stdout",
     "output_type": "stream",
     "text": [
      "Bi9I2 mp-28149\n",
      "Bi9I2 mp-28149\n"
     ]
    },
    {
     "name": "stderr",
     "output_type": "stream",
     "text": [
      "Retrieving ElectronicStructureDoc documents: 100%|██████████| 1/1 [00:00<00:00, 9300.01it/s]\n",
      " 27%|██▋       | 274/1000 [04:58<25:17,  2.09s/it]"
     ]
    },
    {
     "name": "stdout",
     "output_type": "stream",
     "text": [
      "Al2O3 mp-755066\n",
      "Al2O3 mp-755066\n",
      "Al2O3 mp-755066\n",
      "Al2O3 mp-755066\n",
      "Al2O3 mp-755066\n",
      "Al2O3 mp-755066\n"
     ]
    },
    {
     "name": "stderr",
     "output_type": "stream",
     "text": [
      "Retrieving ElectronicStructureDoc documents: 100%|██████████| 1/1 [00:00<00:00, 24672.38it/s]\n",
      " 28%|██▊       | 275/1000 [05:00<26:44,  2.21s/it]"
     ]
    },
    {
     "name": "stdout",
     "output_type": "stream",
     "text": [
      "Pr2I5 mp-22854\n",
      "Pr2I5 mp-22854\n"
     ]
    },
    {
     "name": "stderr",
     "output_type": "stream",
     "text": [
      "Retrieving ElectronicStructureDoc documents: 0it [00:00, ?it/s]\n",
      " 28%|██▊       | 276/1000 [05:01<20:33,  1.70s/it]"
     ]
    },
    {
     "name": "stdout",
     "output_type": "stream",
     "text": [
      "Error retrieving band structure for mvc-14047: No electronic structure data found.\n"
     ]
    },
    {
     "name": "stderr",
     "output_type": "stream",
     "text": [
      "Retrieving ElectronicStructureDoc documents: 0it [00:00, ?it/s]\n",
      " 28%|██▊       | 277/1000 [05:01<15:28,  1.28s/it]"
     ]
    },
    {
     "name": "stdout",
     "output_type": "stream",
     "text": [
      "Error retrieving band structure for mp-1863: No electronic structure data found.\n"
     ]
    },
    {
     "name": "stderr",
     "output_type": "stream",
     "text": [
      "Retrieving ElectronicStructureDoc documents: 100%|██████████| 1/1 [00:00<00:00, 10754.63it/s]\n",
      "Retrieving ElectronicStructureDoc documents: 100%|██████████| 1/1 [00:00<00:00, 11125.47it/s]\n",
      " 28%|██▊       | 279/1000 [05:03<14:46,  1.23s/it]"
     ]
    },
    {
     "name": "stdout",
     "output_type": "stream",
     "text": [
      "Sb2S3 mp-2809\n",
      "Sb2S3 mp-2809\n",
      "Sb2S3 mp-2809\n"
     ]
    },
    {
     "name": "stderr",
     "output_type": "stream",
     "text": [
      "Retrieving ElectronicStructureDoc documents: 100%|██████████| 1/1 [00:00<00:00, 19972.88it/s]\n",
      "Retrieving ElectronicStructureDoc documents: 100%|██████████| 1/1 [00:00<00:00, 18558.87it/s]\n",
      "Retrieving ElectronicStructureDoc documents: 100%|██████████| 1/1 [00:00<00:00, 20460.02it/s]\n",
      " 28%|██▊       | 282/1000 [05:06<13:01,  1.09s/it]"
     ]
    },
    {
     "name": "stdout",
     "output_type": "stream",
     "text": [
      "TeI mp-569766\n",
      "TeI mp-569766\n"
     ]
    },
    {
     "name": "stderr",
     "output_type": "stream",
     "text": [
      "Retrieving ElectronicStructureDoc documents: 100%|██████████| 1/1 [00:00<00:00, 19878.22it/s]\n",
      "Retrieving ElectronicStructureDoc documents: 100%|██████████| 1/1 [00:00<00:00, 13797.05it/s]\n",
      "Retrieving ElectronicStructureDoc documents: 100%|██████████| 1/1 [00:00<00:00, 19065.02it/s]\n",
      " 28%|██▊       | 285/1000 [05:10<15:11,  1.27s/it]"
     ]
    },
    {
     "name": "stdout",
     "output_type": "stream",
     "text": [
      "PbS mp-1078500\n",
      "PbS mp-1078500\n",
      "PbS mp-1078500\n"
     ]
    },
    {
     "name": "stderr",
     "output_type": "stream",
     "text": [
      "Retrieving ElectronicStructureDoc documents: 0it [00:00, ?it/s]\n",
      " 29%|██▊       | 286/1000 [05:11<13:11,  1.11s/it]"
     ]
    },
    {
     "name": "stdout",
     "output_type": "stream",
     "text": [
      "Error retrieving band structure for mp-775847: No electronic structure data found.\n"
     ]
    },
    {
     "name": "stderr",
     "output_type": "stream",
     "text": [
      "Retrieving ElectronicStructureDoc documents: 100%|██████████| 1/1 [00:00<00:00, 14027.77it/s]\n",
      " 29%|██▊       | 287/1000 [05:12<12:08,  1.02s/it]"
     ]
    },
    {
     "name": "stdout",
     "output_type": "stream",
     "text": [
      "TlP5 mp-27411\n",
      "TlP5 mp-27411\n",
      "TlP5 mp-27411\n"
     ]
    },
    {
     "name": "stderr",
     "output_type": "stream",
     "text": [
      "Retrieving ElectronicStructureDoc documents: 100%|██████████| 1/1 [00:00<00:00, 24528.09it/s]\n",
      "Retrieving ElectronicStructureDoc documents: 100%|██████████| 1/1 [00:00<00:00, 23831.27it/s]\n",
      " 29%|██▉       | 289/1000 [05:13<08:33,  1.38it/s]"
     ]
    },
    {
     "name": "stdout",
     "output_type": "stream",
     "text": [
      "Error retrieving band structure for mp-850083: No uniform band structure data found for mp-850083\n"
     ]
    },
    {
     "name": "stderr",
     "output_type": "stream",
     "text": [
      "Retrieving ElectronicStructureDoc documents: 100%|██████████| 1/1 [00:00<00:00, 26886.56it/s]\n",
      "Retrieving ElectronicStructureDoc documents: 100%|██████████| 1/1 [00:00<00:00, 23696.63it/s]\n",
      "Retrieving ElectronicStructureDoc documents: 100%|██████████| 1/1 [00:00<00:00, 13231.24it/s]\n",
      " 29%|██▉       | 292/1000 [05:23<32:44,  2.78s/it]"
     ]
    },
    {
     "name": "stdout",
     "output_type": "stream",
     "text": [
      "Error retrieving band structure for mp-684898: 'utf-8' codec can't decode byte 0x8b in position 1: invalid start byte\n"
     ]
    },
    {
     "name": "stderr",
     "output_type": "stream",
     "text": [
      "Retrieving ElectronicStructureDoc documents: 100%|██████████| 1/1 [00:00<00:00, 24105.20it/s]\n",
      "Retrieving ElectronicStructureDoc documents: 100%|██████████| 1/1 [00:00<00:00, 16070.13it/s]\n",
      " 29%|██▉       | 294/1000 [05:24<19:13,  1.63s/it]"
     ]
    },
    {
     "name": "stdout",
     "output_type": "stream",
     "text": [
      "TlP5 mp-27411\n",
      "TlP5 mp-27411\n",
      "TlP5 mp-27411\n"
     ]
    },
    {
     "name": "stderr",
     "output_type": "stream",
     "text": [
      "Retrieving ElectronicStructureDoc documents: 0it [00:00, ?it/s]\n",
      " 30%|██▉       | 295/1000 [05:25<15:31,  1.32s/it]"
     ]
    },
    {
     "name": "stdout",
     "output_type": "stream",
     "text": [
      "Error retrieving band structure for mp-765332: No electronic structure data found.\n"
     ]
    },
    {
     "name": "stderr",
     "output_type": "stream",
     "text": [
      "Retrieving ElectronicStructureDoc documents: 100%|██████████| 1/1 [00:00<00:00, 13617.87it/s]\n",
      " 30%|██▉       | 296/1000 [05:25<12:39,  1.08s/it]"
     ]
    },
    {
     "name": "stdout",
     "output_type": "stream",
     "text": [
      "TlP5 mp-27411\n",
      "TlP5 mp-27411\n",
      "TlP5 mp-27411\n"
     ]
    },
    {
     "name": "stderr",
     "output_type": "stream",
     "text": [
      "Retrieving ElectronicStructureDoc documents: 0it [00:00, ?it/s]\n",
      " 30%|██▉       | 297/1000 [05:26<11:00,  1.06it/s]"
     ]
    },
    {
     "name": "stdout",
     "output_type": "stream",
     "text": [
      "Error retrieving band structure for mp-765332: No electronic structure data found.\n"
     ]
    },
    {
     "name": "stderr",
     "output_type": "stream",
     "text": [
      "Retrieving ElectronicStructureDoc documents: 100%|██████████| 1/1 [00:00<00:00, 20262.34it/s]\n",
      "Retrieving ElectronicStructureDoc documents: 100%|██████████| 1/1 [00:00<00:00, 18808.54it/s]\n",
      " 30%|██▉       | 299/1000 [05:29<13:16,  1.14s/it]"
     ]
    },
    {
     "name": "stdout",
     "output_type": "stream",
     "text": [
      "Bi2Pt mp-569581\n",
      "Bi2Pt mp-569581\n",
      "Bi2Pt mp-569581\n",
      "Bi2Pt mp-569581\n"
     ]
    },
    {
     "name": "stderr",
     "output_type": "stream",
     "text": [
      "Retrieving ElectronicStructureDoc documents: 100%|██████████| 1/1 [00:00<00:00, 21959.71it/s]\n",
      "Retrieving ElectronicStructureDoc documents: 100%|██████████| 1/1 [00:00<00:00, 20068.44it/s]\n",
      "Retrieving ElectronicStructureDoc documents: 100%|██████████| 1/1 [00:00<00:00, 12228.29it/s]\n",
      "Retrieving ElectronicStructureDoc documents: 100%|██████████| 1/1 [00:00<00:00, 19328.59it/s]\n",
      " 30%|███       | 303/1000 [05:33<11:30,  1.01it/s]"
     ]
    },
    {
     "name": "stdout",
     "output_type": "stream",
     "text": [
      "Error retrieving band structure for mp-542495: No uniform band structure data found for mp-542495\n"
     ]
    },
    {
     "name": "stderr",
     "output_type": "stream",
     "text": [
      "Retrieving ElectronicStructureDoc documents: 100%|██████████| 1/1 [00:00<00:00, 10951.19it/s]\n",
      "Retrieving ElectronicStructureDoc documents: 100%|██████████| 1/1 [00:00<00:00, 24672.38it/s]\n",
      "Retrieving ElectronicStructureDoc documents: 100%|██████████| 1/1 [00:00<00:00, 13617.87it/s]\n",
      "Retrieving ElectronicStructureDoc documents: 100%|██████████| 1/1 [00:00<00:00, 19972.88it/s]\n",
      " 31%|███       | 307/1000 [05:36<09:47,  1.18it/s]"
     ]
    },
    {
     "name": "stdout",
     "output_type": "stream",
     "text": [
      "BiBr3 mp-752602\n",
      "BiBr3 mp-752602\n",
      "BiBr3 mp-752602\n"
     ]
    },
    {
     "name": "stderr",
     "output_type": "stream",
     "text": [
      "Retrieving ElectronicStructureDoc documents: 0it [00:00, ?it/s]\n",
      " 31%|███       | 308/1000 [05:36<08:58,  1.29it/s]"
     ]
    },
    {
     "name": "stdout",
     "output_type": "stream",
     "text": [
      "Error retrieving band structure for mvc-5746: No electronic structure data found.\n"
     ]
    },
    {
     "name": "stderr",
     "output_type": "stream",
     "text": [
      "Retrieving ElectronicStructureDoc documents: 100%|██████████| 1/1 [00:00<00:00, 15033.35it/s]\n",
      "Retrieving ElectronicStructureDoc documents: 100%|██████████| 1/1 [00:00<00:00, 17623.13it/s]\n",
      " 31%|███       | 310/1000 [05:40<13:45,  1.20s/it]"
     ]
    },
    {
     "name": "stdout",
     "output_type": "stream",
     "text": [
      "GeTe mp-628781\n",
      "GeTe mp-628781\n",
      "GeTe mp-628781\n",
      "GeTe mp-628781\n",
      "GeTe mp-628781\n"
     ]
    },
    {
     "name": "stderr",
     "output_type": "stream",
     "text": [
      "Retrieving ElectronicStructureDoc documents: 100%|██████████| 1/1 [00:00<00:00, 12122.27it/s]\n",
      "Retrieving ElectronicStructureDoc documents: 0it [00:00, ?it/s]\n",
      " 31%|███       | 312/1000 [05:42<11:11,  1.02it/s]"
     ]
    },
    {
     "name": "stdout",
     "output_type": "stream",
     "text": [
      "Error retrieving band structure for mp-705538: No electronic structure data found.\n"
     ]
    },
    {
     "name": "stderr",
     "output_type": "stream",
     "text": [
      "Retrieving ElectronicStructureDoc documents: 0it [00:00, ?it/s]\n",
      " 31%|███▏      | 313/1000 [05:42<09:56,  1.15it/s]"
     ]
    },
    {
     "name": "stdout",
     "output_type": "stream",
     "text": [
      "Error retrieving band structure for mvc-13985: No electronic structure data found.\n"
     ]
    },
    {
     "name": "stderr",
     "output_type": "stream",
     "text": [
      "Retrieving ElectronicStructureDoc documents: 100%|██████████| 1/1 [00:00<00:00, 22550.02it/s]\n",
      "Retrieving ElectronicStructureDoc documents: 100%|██████████| 1/1 [00:00<00:00, 24244.53it/s]\n",
      "Retrieving ElectronicStructureDoc documents: 100%|██████████| 1/1 [00:00<00:00, 21399.51it/s]\n",
      "Retrieving ElectronicStructureDoc documents: 100%|██████████| 1/1 [00:00<00:00, 13189.64it/s]\n",
      " 32%|███▏      | 317/1000 [05:45<08:41,  1.31it/s]"
     ]
    },
    {
     "name": "stdout",
     "output_type": "stream",
     "text": [
      "Al2S3 mp-699208\n"
     ]
    },
    {
     "name": "stderr",
     "output_type": "stream",
     "text": [
      "Retrieving ElectronicStructureDoc documents: 0it [00:00, ?it/s]\n",
      " 32%|███▏      | 318/1000 [05:46<08:09,  1.39it/s]"
     ]
    },
    {
     "name": "stdout",
     "output_type": "stream",
     "text": [
      "Error retrieving band structure for mvc-15907: No electronic structure data found.\n"
     ]
    },
    {
     "name": "stderr",
     "output_type": "stream",
     "text": [
      "Retrieving ElectronicStructureDoc documents: 100%|██████████| 1/1 [00:00<00:00, 12520.31it/s]\n",
      "Retrieving ElectronicStructureDoc documents: 100%|██████████| 1/1 [00:00<00:00, 19599.55it/s]\n",
      " 32%|███▏      | 320/1000 [05:48<11:00,  1.03it/s]"
     ]
    },
    {
     "name": "stdout",
     "output_type": "stream",
     "text": [
      "Al2S3 mp-699208\n"
     ]
    },
    {
     "name": "stderr",
     "output_type": "stream",
     "text": [
      "Retrieving ElectronicStructureDoc documents: 100%|██████████| 1/1 [00:00<00:00, 14364.05it/s]\n",
      " 32%|███▏      | 321/1000 [05:49<09:56,  1.14it/s]"
     ]
    },
    {
     "name": "stdout",
     "output_type": "stream",
     "text": [
      "Error retrieving band structure for mp-1038761: No uniform band structure data found for mp-1038761\n"
     ]
    },
    {
     "name": "stderr",
     "output_type": "stream",
     "text": [
      "Retrieving ElectronicStructureDoc documents: 100%|██████████| 1/1 [00:00<00:00, 22919.69it/s]\n",
      "Retrieving ElectronicStructureDoc documents: 100%|██████████| 1/1 [00:00<00:00, 9532.51it/s]\n",
      " 32%|███▏      | 323/1000 [05:51<11:22,  1.01s/it]"
     ]
    },
    {
     "name": "stdout",
     "output_type": "stream",
     "text": [
      "TePb mp-1079574\n",
      "TePb mp-1079574\n",
      "TePb mp-1079574\n"
     ]
    },
    {
     "name": "stderr",
     "output_type": "stream",
     "text": [
      "Retrieving ElectronicStructureDoc documents: 100%|██████████| 1/1 [00:00<00:00, 11125.47it/s]\n",
      "Retrieving ElectronicStructureDoc documents: 100%|██████████| 1/1 [00:00<00:00, 14074.85it/s]\n",
      " 32%|███▎      | 325/1000 [05:54<14:11,  1.26s/it]"
     ]
    },
    {
     "name": "stdout",
     "output_type": "stream",
     "text": [
      "Bi2Pt mp-1078313\n",
      "Bi2Pt mp-1078313\n",
      "Bi2Pt mp-1078313\n"
     ]
    },
    {
     "name": "stderr",
     "output_type": "stream",
     "text": [
      "Retrieving ElectronicStructureDoc documents: 100%|██████████| 1/1 [00:00<00:00, 21620.12it/s]\n",
      "Retrieving ElectronicStructureDoc documents: 100%|██████████| 1/1 [00:00<00:00, 10305.42it/s]\n",
      "Retrieving ElectronicStructureDoc documents: 100%|██████████| 1/1 [00:00<00:00, 5592.41it/s]\n",
      " 33%|███▎      | 328/1000 [05:57<13:02,  1.16s/it]"
     ]
    },
    {
     "name": "stdout",
     "output_type": "stream",
     "text": [
      "CuPb2(ClO2)2 mp-1079292\n",
      "CuPb2(ClO2)2 mp-1079292\n",
      "CuPb2(ClO2)2 mp-1079292\n",
      "CuPb2(ClO2)2 mp-1079292\n"
     ]
    },
    {
     "name": "stderr",
     "output_type": "stream",
     "text": [
      "Retrieving ElectronicStructureDoc documents: 100%|██████████| 1/1 [00:00<00:00, 12710.01it/s]\n",
      "Retrieving ElectronicStructureDoc documents: 100%|██████████| 1/1 [00:00<00:00, 17331.83it/s]\n",
      " 33%|███▎      | 330/1000 [05:59<10:23,  1.07it/s]"
     ]
    },
    {
     "name": "stdout",
     "output_type": "stream",
     "text": [
      "Error retrieving band structure for mp-1074652: No uniform band structure data found for mp-1074652\n"
     ]
    },
    {
     "name": "stderr",
     "output_type": "stream",
     "text": [
      "Retrieving ElectronicStructureDoc documents: 100%|██████████| 1/1 [00:00<00:00, 15420.24it/s]\n",
      " 33%|███▎      | 331/1000 [06:00<09:58,  1.12it/s]"
     ]
    },
    {
     "name": "stdout",
     "output_type": "stream",
     "text": [
      "RbNaMg6O7 mp-1030980\n"
     ]
    },
    {
     "name": "stderr",
     "output_type": "stream",
     "text": [
      "Retrieving ElectronicStructureDoc documents: 100%|██████████| 1/1 [00:00<00:00, 22550.02it/s]\n",
      "Retrieving ElectronicStructureDoc documents: 100%|██████████| 1/1 [00:00<00:00, 18808.54it/s]\n",
      "Retrieving ElectronicStructureDoc documents: 100%|██████████| 1/1 [00:00<00:00, 17331.83it/s]\n",
      " 33%|███▎      | 334/1000 [06:02<09:59,  1.11it/s]"
     ]
    },
    {
     "name": "stdout",
     "output_type": "stream",
     "text": [
      "Ni(IO3)2 mp-779904\n",
      "Ni(IO3)2 mp-779904\n",
      "Ni(IO3)2 mp-779904\n"
     ]
    },
    {
     "name": "stderr",
     "output_type": "stream",
     "text": [
      "Retrieving ElectronicStructureDoc documents: 100%|██████████| 1/1 [00:00<00:00, 20360.70it/s]\n",
      " 34%|███▎      | 335/1000 [06:03<08:52,  1.25it/s]"
     ]
    },
    {
     "name": "stdout",
     "output_type": "stream",
     "text": [
      "Error retrieving band structure for mp-626550: No uniform band structure data found for mp-626550\n"
     ]
    },
    {
     "name": "stderr",
     "output_type": "stream",
     "text": [
      "Retrieving ElectronicStructureDoc documents: 0it [00:00, ?it/s]\n",
      " 34%|███▎      | 336/1000 [06:04<08:41,  1.27it/s]"
     ]
    },
    {
     "name": "stdout",
     "output_type": "stream",
     "text": [
      "Error retrieving band structure for mvc-12841: No electronic structure data found.\n"
     ]
    },
    {
     "name": "stderr",
     "output_type": "stream",
     "text": [
      "Retrieving ElectronicStructureDoc documents: 100%|██████████| 1/1 [00:00<00:00, 21620.12it/s]\n",
      " 34%|███▎      | 337/1000 [06:05<08:41,  1.27it/s]"
     ]
    },
    {
     "name": "stdout",
     "output_type": "stream",
     "text": [
      "Sb mp-567409\n",
      "Sb mp-567409\n",
      "Sb mp-567409\n",
      "Sb mp-567409\n",
      "Sb mp-567409\n",
      "Sb mp-567409\n"
     ]
    },
    {
     "name": "stderr",
     "output_type": "stream",
     "text": [
      "Retrieving ElectronicStructureDoc documents: 100%|██████████| 1/1 [00:00<00:00, 19152.07it/s]\n",
      " 34%|███▍      | 338/1000 [06:06<10:47,  1.02it/s]"
     ]
    },
    {
     "name": "stdout",
     "output_type": "stream",
     "text": [
      "CdSbS2Br mp-559588\n",
      "CdSbS2Br mp-559588\n"
     ]
    },
    {
     "name": "stderr",
     "output_type": "stream",
     "text": [
      "Retrieving ElectronicStructureDoc documents: 0it [00:00, ?it/s]\n",
      " 34%|███▍      | 339/1000 [06:07<09:34,  1.15it/s]"
     ]
    },
    {
     "name": "stdout",
     "output_type": "stream",
     "text": [
      "Error retrieving band structure for mvc-3990: No electronic structure data found.\n"
     ]
    },
    {
     "name": "stderr",
     "output_type": "stream",
     "text": [
      "Retrieving ElectronicStructureDoc documents: 100%|██████████| 1/1 [00:00<00:00, 18893.26it/s]\n",
      "Retrieving ElectronicStructureDoc documents: 100%|██████████| 1/1 [00:00<00:00, 25575.02it/s]\n",
      " 34%|███▍      | 341/1000 [06:10<14:39,  1.34s/it]"
     ]
    },
    {
     "name": "stdout",
     "output_type": "stream",
     "text": [
      "Al(HO)3 mp-554883\n",
      "Al(HO)3 mp-554883\n",
      "Al(HO)3 mp-554883\n",
      "Al(HO)3 mp-554883\n",
      "Al(HO)3 mp-554883\n",
      "Al(HO)3 mp-554883\n"
     ]
    },
    {
     "name": "stderr",
     "output_type": "stream",
     "text": [
      "Retrieving ElectronicStructureDoc documents: 0it [00:00, ?it/s]\n",
      " 34%|███▍      | 342/1000 [06:10<11:58,  1.09s/it]"
     ]
    },
    {
     "name": "stdout",
     "output_type": "stream",
     "text": [
      "Error retrieving band structure for mvc-2876: No electronic structure data found.\n"
     ]
    },
    {
     "name": "stderr",
     "output_type": "stream",
     "text": [
      "Retrieving ElectronicStructureDoc documents: 100%|██████████| 1/1 [00:00<00:00, 23967.45it/s]\n",
      " 34%|███▍      | 343/1000 [06:14<20:25,  1.87s/it]"
     ]
    },
    {
     "name": "stdout",
     "output_type": "stream",
     "text": [
      "Al2SnCl6O mp-560633\n",
      "Al2SnCl6O mp-560633\n",
      "Al2SnCl6O mp-560633\n"
     ]
    },
    {
     "name": "stderr",
     "output_type": "stream",
     "text": [
      "Retrieving ElectronicStructureDoc documents: 100%|██████████| 1/1 [00:00<00:00, 11715.93it/s]\n",
      " 34%|███▍      | 344/1000 [06:16<19:17,  1.77s/it]"
     ]
    },
    {
     "name": "stdout",
     "output_type": "stream",
     "text": [
      "BN mp-569655\n",
      "BN mp-569655\n",
      "BN mp-569655\n",
      "BN mp-569655\n",
      "BN mp-569655\n",
      "BN mp-569655\n"
     ]
    },
    {
     "name": "stderr",
     "output_type": "stream",
     "text": [
      "Retrieving ElectronicStructureDoc documents: 0it [00:00, ?it/s]\n",
      " 34%|███▍      | 345/1000 [06:16<15:14,  1.40s/it]"
     ]
    },
    {
     "name": "stdout",
     "output_type": "stream",
     "text": [
      "Error retrieving band structure for mvc-3451: No electronic structure data found.\n"
     ]
    },
    {
     "name": "stderr",
     "output_type": "stream",
     "text": [
      "Retrieving ElectronicStructureDoc documents: 100%|██████████| 1/1 [00:00<00:00, 25115.59it/s]\n",
      "Retrieving ElectronicStructureDoc documents: 0it [00:00, ?it/s]\n",
      " 35%|███▍      | 347/1000 [06:18<11:31,  1.06s/it]"
     ]
    },
    {
     "name": "stdout",
     "output_type": "stream",
     "text": [
      "Error retrieving band structure for mvc-8358: No electronic structure data found.\n"
     ]
    },
    {
     "name": "stderr",
     "output_type": "stream",
     "text": [
      "Retrieving ElectronicStructureDoc documents: 0it [00:00, ?it/s]\n",
      " 35%|███▍      | 348/1000 [06:18<09:03,  1.20it/s]"
     ]
    },
    {
     "name": "stdout",
     "output_type": "stream",
     "text": [
      "Error retrieving band structure for mvc-12615: No electronic structure data found.\n"
     ]
    },
    {
     "name": "stderr",
     "output_type": "stream",
     "text": [
      "Retrieving ElectronicStructureDoc documents: 100%|██████████| 1/1 [00:00<00:00, 12985.46it/s]\n",
      "Retrieving ElectronicStructureDoc documents: 0it [00:00, ?it/s]\n",
      " 35%|███▌      | 350/1000 [06:20<08:50,  1.22it/s]"
     ]
    },
    {
     "name": "stdout",
     "output_type": "stream",
     "text": [
      "Error retrieving band structure for mvc-5544: No electronic structure data found.\n"
     ]
    },
    {
     "name": "stderr",
     "output_type": "stream",
     "text": [
      "Retrieving ElectronicStructureDoc documents: 100%|██████████| 1/1 [00:00<00:00, 11275.01it/s]\n",
      "Retrieving ElectronicStructureDoc documents: 100%|██████████| 1/1 [00:00<00:00, 22919.69it/s]\n",
      "Retrieving ElectronicStructureDoc documents: 100%|██████████| 1/1 [00:00<00:00, 16644.06it/s]\n",
      " 35%|███▌      | 353/1000 [06:22<08:54,  1.21it/s]"
     ]
    },
    {
     "name": "stdout",
     "output_type": "stream",
     "text": [
      "Cd(PO3)2 mp-557614\n",
      "Cd(PO3)2 mp-557614\n",
      "Cd(PO3)2 mp-557614\n",
      "Cd(PO3)2 mp-557614\n",
      "Cd(PO3)2 mp-557614\n"
     ]
    },
    {
     "name": "stderr",
     "output_type": "stream",
     "text": [
      "Retrieving ElectronicStructureDoc documents: 100%|██████████| 1/1 [00:00<00:00, 17119.61it/s]\n",
      " 35%|███▌      | 354/1000 [06:23<09:37,  1.12it/s]"
     ]
    },
    {
     "name": "stdout",
     "output_type": "stream",
     "text": [
      "ZnGaNO mp-558481\n",
      "ZnGaNO mp-558481\n",
      "ZnGaNO mp-558481\n",
      "ZnGaNO mp-558481\n",
      "ZnGaNO mp-558481\n"
     ]
    },
    {
     "name": "stderr",
     "output_type": "stream",
     "text": [
      "Retrieving ElectronicStructureDoc documents: 100%|██████████| 1/1 [00:00<00:00, 20560.31it/s]\n",
      "Retrieving ElectronicStructureDoc documents: 0it [00:00, ?it/s]\n",
      " 36%|███▌      | 356/1000 [06:25<08:27,  1.27it/s]"
     ]
    },
    {
     "name": "stdout",
     "output_type": "stream",
     "text": [
      "Error retrieving band structure for mp-779943: No electronic structure data found.\n"
     ]
    },
    {
     "name": "stderr",
     "output_type": "stream",
     "text": [
      "Retrieving ElectronicStructureDoc documents: 100%|██████████| 1/1 [00:00<00:00, 14614.30it/s]\n",
      " 36%|███▌      | 357/1000 [06:25<08:20,  1.29it/s]"
     ]
    },
    {
     "name": "stdout",
     "output_type": "stream",
     "text": [
      "TlBr mp-568949\n",
      "TlBr mp-568949\n",
      "TlBr mp-568949\n",
      "TlBr mp-568949\n"
     ]
    },
    {
     "name": "stderr",
     "output_type": "stream",
     "text": [
      "Retrieving ElectronicStructureDoc documents: 100%|██████████| 1/1 [00:00<00:00, 18978.75it/s]\n",
      "Retrieving ElectronicStructureDoc documents: 100%|██████████| 1/1 [00:00<00:00, 14074.85it/s]\n",
      "Retrieving ElectronicStructureDoc documents: 0it [00:00, ?it/s]\n",
      " 36%|███▌      | 360/1000 [06:27<06:41,  1.59it/s]"
     ]
    },
    {
     "name": "stdout",
     "output_type": "stream",
     "text": [
      "Error retrieving band structure for mvc-10772: No electronic structure data found.\n"
     ]
    },
    {
     "name": "stderr",
     "output_type": "stream",
     "text": [
      "Retrieving ElectronicStructureDoc documents: 100%|██████████| 1/1 [00:00<00:00, 18315.74it/s]\n",
      " 36%|███▌      | 361/1000 [06:28<06:22,  1.67it/s]"
     ]
    },
    {
     "name": "stdout",
     "output_type": "stream",
     "text": [
      "CuH4(IO4)2 mp-756758\n",
      "CuH4(IO4)2 mp-756758\n"
     ]
    },
    {
     "name": "stderr",
     "output_type": "stream",
     "text": [
      "Retrieving ElectronicStructureDoc documents: 100%|██████████| 1/1 [00:00<00:00, 17924.38it/s]\n",
      " 36%|███▌      | 362/1000 [06:29<09:23,  1.13it/s]"
     ]
    },
    {
     "name": "stdout",
     "output_type": "stream",
     "text": [
      "AlBiBr6 mp-31268\n",
      "AlBiBr6 mp-31268\n"
     ]
    },
    {
     "name": "stderr",
     "output_type": "stream",
     "text": [
      "Retrieving ElectronicStructureDoc documents: 0it [00:00, ?it/s]\n",
      " 36%|███▋      | 363/1000 [06:30<08:25,  1.26it/s]"
     ]
    },
    {
     "name": "stdout",
     "output_type": "stream",
     "text": [
      "Error retrieving band structure for mvc-11008: No electronic structure data found.\n"
     ]
    },
    {
     "name": "stderr",
     "output_type": "stream",
     "text": [
      "Retrieving ElectronicStructureDoc documents: 0it [00:00, ?it/s]\n",
      " 36%|███▋      | 364/1000 [06:30<07:31,  1.41it/s]"
     ]
    },
    {
     "name": "stdout",
     "output_type": "stream",
     "text": [
      "Error retrieving band structure for mvc-5840: No electronic structure data found.\n"
     ]
    },
    {
     "name": "stderr",
     "output_type": "stream",
     "text": [
      "Retrieving ElectronicStructureDoc documents: 100%|██████████| 1/1 [00:00<00:00, 5295.84it/s]\n",
      "Retrieving ElectronicStructureDoc documents: 0it [00:00, ?it/s]\n",
      " 37%|███▋      | 366/1000 [06:33<09:01,  1.17it/s]"
     ]
    },
    {
     "name": "stdout",
     "output_type": "stream",
     "text": [
      "Error retrieving band structure for mp-762785: No electronic structure data found.\n"
     ]
    },
    {
     "name": "stderr",
     "output_type": "stream",
     "text": [
      "Retrieving ElectronicStructureDoc documents: 100%|██████████| 1/1 [00:00<00:00, 18641.35it/s]\n",
      "Retrieving ElectronicStructureDoc documents: 0it [00:00, ?it/s]\n",
      " 37%|███▋      | 368/1000 [06:34<06:43,  1.57it/s]"
     ]
    },
    {
     "name": "stdout",
     "output_type": "stream",
     "text": [
      "Error retrieving band structure for mp-743869: No electronic structure data found.\n"
     ]
    },
    {
     "name": "stderr",
     "output_type": "stream",
     "text": [
      "Retrieving ElectronicStructureDoc documents: 100%|██████████| 1/1 [00:00<00:00, 19418.07it/s]\n",
      " 37%|███▋      | 369/1000 [06:34<06:10,  1.70it/s]"
     ]
    },
    {
     "name": "stdout",
     "output_type": "stream",
     "text": [
      "Te6MoBr3 mp-622262\n"
     ]
    },
    {
     "name": "stderr",
     "output_type": "stream",
     "text": [
      "Retrieving ElectronicStructureDoc documents: 100%|██████████| 1/1 [00:00<00:00, 16131.94it/s]\n",
      " 37%|███▋      | 370/1000 [06:35<06:05,  1.72it/s]"
     ]
    },
    {
     "name": "stdout",
     "output_type": "stream",
     "text": [
      "Error retrieving band structure for mp-1039492: No uniform band structure data found for mp-1039492\n"
     ]
    },
    {
     "name": "stderr",
     "output_type": "stream",
     "text": [
      "Retrieving ElectronicStructureDoc documents: 100%|██████████| 1/1 [00:00<00:00, 14074.85it/s]\n",
      " 37%|███▋      | 371/1000 [06:38<14:08,  1.35s/it]"
     ]
    },
    {
     "name": "stdout",
     "output_type": "stream",
     "text": [
      "Tl3BiI6 mp-571219\n",
      "Tl3BiI6 mp-571219\n"
     ]
    },
    {
     "name": "stderr",
     "output_type": "stream",
     "text": [
      "Retrieving ElectronicStructureDoc documents: 100%|██████████| 1/1 [00:00<00:00, 23431.87it/s]\n",
      "Retrieving ElectronicStructureDoc documents: 100%|██████████| 1/1 [00:00<00:00, 20560.31it/s]\n",
      " 37%|███▋      | 373/1000 [06:40<12:46,  1.22s/it]"
     ]
    },
    {
     "name": "stdout",
     "output_type": "stream",
     "text": [
      "Bi2Pt mp-1078313\n",
      "Bi2Pt mp-1078313\n",
      "Bi2Pt mp-1078313\n"
     ]
    },
    {
     "name": "stderr",
     "output_type": "stream",
     "text": [
      "Retrieving ElectronicStructureDoc documents: 100%|██████████| 1/1 [00:00<00:00, 24385.49it/s]\n",
      " 37%|███▋      | 374/1000 [06:40<09:50,  1.06it/s]"
     ]
    },
    {
     "name": "stdout",
     "output_type": "stream",
     "text": [
      "Error retrieving band structure for mp-1066497: No uniform band structure data found for mp-1066497\n"
     ]
    },
    {
     "name": "stderr",
     "output_type": "stream",
     "text": [
      "Retrieving ElectronicStructureDoc documents: 100%|██████████| 1/1 [00:00<00:00, 20164.92it/s]\n",
      " 38%|███▊      | 375/1000 [06:41<08:29,  1.23it/s]"
     ]
    },
    {
     "name": "stdout",
     "output_type": "stream",
     "text": [
      "Error retrieving band structure for mp-1067758: No uniform band structure data found for mp-1067758\n"
     ]
    },
    {
     "name": "stderr",
     "output_type": "stream",
     "text": [
      "Retrieving ElectronicStructureDoc documents: 100%|██████████| 1/1 [00:00<00:00, 16777.22it/s]\n",
      " 38%|███▊      | 376/1000 [06:42<09:13,  1.13it/s]"
     ]
    },
    {
     "name": "stdout",
     "output_type": "stream",
     "text": [
      "In2Se3 mp-1017565\n",
      "In2Se3 mp-1017565\n"
     ]
    },
    {
     "name": "stderr",
     "output_type": "stream",
     "text": [
      "Retrieving ElectronicStructureDoc documents: 100%|██████████| 1/1 [00:00<00:00, 18558.87it/s]\n",
      "Retrieving ElectronicStructureDoc documents: 100%|██████████| 1/1 [00:00<00:00, 21076.90it/s]\n",
      " 38%|███▊      | 378/1000 [06:44<09:22,  1.11it/s]"
     ]
    },
    {
     "name": "stdout",
     "output_type": "stream",
     "text": [
      "Error retrieving band structure for mp-1074652: No uniform band structure data found for mp-1074652\n"
     ]
    },
    {
     "name": "stderr",
     "output_type": "stream",
     "text": [
      "Retrieving ElectronicStructureDoc documents: 100%|██████████| 1/1 [00:00<00:00, 11650.84it/s]\n",
      "Retrieving ElectronicStructureDoc documents: 100%|██████████| 1/1 [00:00<00:00, 11748.75it/s]\n",
      " 38%|███▊      | 380/1000 [06:46<10:13,  1.01it/s]"
     ]
    },
    {
     "name": "stdout",
     "output_type": "stream",
     "text": [
      "Bi2Pt mp-1078313\n",
      "Bi2Pt mp-1078313\n",
      "Bi2Pt mp-1078313\n"
     ]
    },
    {
     "name": "stderr",
     "output_type": "stream",
     "text": [
      "Retrieving ElectronicStructureDoc documents: 100%|██████████| 1/1 [00:00<00:00, 11781.75it/s]\n",
      "Retrieving ElectronicStructureDoc documents: 0it [00:00, ?it/s]\n",
      " 38%|███▊      | 382/1000 [06:47<08:45,  1.18it/s]"
     ]
    },
    {
     "name": "stdout",
     "output_type": "stream",
     "text": [
      "Error retrieving band structure for mp-566831: No electronic structure data found.\n"
     ]
    },
    {
     "name": "stderr",
     "output_type": "stream",
     "text": [
      "Retrieving ElectronicStructureDoc documents: 100%|██████████| 1/1 [00:00<00:00, 22075.28it/s]\n",
      " 38%|███▊      | 383/1000 [06:49<10:23,  1.01s/it]"
     ]
    },
    {
     "name": "stdout",
     "output_type": "stream",
     "text": [
      "Nb(SBr)2 mp-1079487\n",
      "Nb(SBr)2 mp-1079487\n",
      "Nb(SBr)2 mp-1079487\n",
      "Nb(SBr)2 mp-1079487\n"
     ]
    },
    {
     "name": "stderr",
     "output_type": "stream",
     "text": [
      "Retrieving ElectronicStructureDoc documents: 100%|██████████| 1/1 [00:00<00:00, 22310.13it/s]\n",
      "Retrieving ElectronicStructureDoc documents: 100%|██████████| 1/1 [00:00<00:00, 24244.53it/s]\n",
      " 38%|███▊      | 385/1000 [06:52<12:53,  1.26s/it]"
     ]
    },
    {
     "name": "stdout",
     "output_type": "stream",
     "text": [
      "InBi mp-23313\n",
      "InBi mp-23313\n",
      "InBi mp-23313\n",
      "InBi mp-23313\n",
      "InBi mp-23313\n"
     ]
    },
    {
     "name": "stderr",
     "output_type": "stream",
     "text": [
      "Retrieving ElectronicStructureDoc documents: 100%|██████████| 1/1 [00:00<00:00, 4809.98it/s]\n",
      "Retrieving ElectronicStructureDoc documents: 100%|██████████| 1/1 [00:00<00:00, 23967.45it/s]\n",
      " 39%|███▊      | 387/1000 [06:54<14:13,  1.39s/it]"
     ]
    },
    {
     "name": "stdout",
     "output_type": "stream",
     "text": [
      "As2Se3 mp-909\n",
      "As2Se3 mp-909\n"
     ]
    },
    {
     "name": "stderr",
     "output_type": "stream",
     "text": [
      "Retrieving ElectronicStructureDoc documents: 100%|██████████| 1/1 [00:00<00:00, 11915.64it/s]\n",
      "Retrieving ElectronicStructureDoc documents: 100%|██████████| 1/1 [00:00<00:00, 13530.01it/s]\n",
      "Retrieving ElectronicStructureDoc documents: 100%|██████████| 1/1 [00:00<00:00, 11848.32it/s]\n",
      "Retrieving ElectronicStructureDoc documents: 100%|██████████| 1/1 [00:00<00:00, 11949.58it/s]\n",
      "Retrieving ElectronicStructureDoc documents: 100%|██████████| 1/1 [00:00<00:00, 6775.94it/s]\n",
      " 39%|███▉      | 392/1000 [07:02<17:08,  1.69s/it]"
     ]
    },
    {
     "name": "stdout",
     "output_type": "stream",
     "text": [
      "NbSe3 mp-525\n",
      "NbSe3 mp-525\n"
     ]
    },
    {
     "name": "stderr",
     "output_type": "stream",
     "text": [
      "Retrieving ElectronicStructureDoc documents: 100%|██████████| 1/1 [00:00<00:00, 14768.68it/s]\n",
      "Retrieving ElectronicStructureDoc documents: 100%|██████████| 1/1 [00:00<00:00, 20360.70it/s]\n",
      "Retrieving ElectronicStructureDoc documents: 100%|██████████| 1/1 [00:00<00:00, 21620.12it/s]\n",
      "Retrieving ElectronicStructureDoc documents: 0it [00:00, ?it/s]\n",
      " 40%|███▉      | 396/1000 [07:05<09:50,  1.02it/s]"
     ]
    },
    {
     "name": "stdout",
     "output_type": "stream",
     "text": [
      "Error retrieving band structure for mp-765939: No electronic structure data found.\n"
     ]
    },
    {
     "name": "stderr",
     "output_type": "stream",
     "text": [
      "Retrieving ElectronicStructureDoc documents: 100%|██████████| 1/1 [00:00<00:00, 20661.60it/s]\n",
      "Retrieving ElectronicStructureDoc documents: 100%|██████████| 1/1 [00:00<00:00, 27962.03it/s]\n",
      " 40%|███▉      | 398/1000 [07:08<12:36,  1.26s/it]"
     ]
    },
    {
     "name": "stdout",
     "output_type": "stream",
     "text": [
      "Bi9I2 mp-28149\n",
      "Bi9I2 mp-28149\n"
     ]
    },
    {
     "name": "stderr",
     "output_type": "stream",
     "text": [
      "Retrieving ElectronicStructureDoc documents: 100%|██████████| 1/1 [00:00<00:00, 21076.90it/s]\n",
      " 40%|███▉      | 399/1000 [07:11<19:07,  1.91s/it]"
     ]
    },
    {
     "name": "stdout",
     "output_type": "stream",
     "text": [
      "NbF4 mp-1416\n",
      "NbF4 mp-1416\n",
      "NbF4 mp-1416\n",
      "NbF4 mp-1416\n",
      "NbF4 mp-1416\n"
     ]
    },
    {
     "name": "stderr",
     "output_type": "stream",
     "text": [
      "Retrieving ElectronicStructureDoc documents: 100%|██████████| 1/1 [00:00<00:00, 19878.22it/s]\n",
      " 40%|████      | 400/1000 [07:12<17:14,  1.72s/it]"
     ]
    },
    {
     "name": "stdout",
     "output_type": "stream",
     "text": [
      "TlF3 mp-2632\n",
      "TlF3 mp-2632\n",
      "TlF3 mp-2632\n",
      "TlF3 mp-2632\n",
      "TlF3 mp-2632\n"
     ]
    },
    {
     "name": "stderr",
     "output_type": "stream",
     "text": [
      "Retrieving ElectronicStructureDoc documents: 100%|██████████| 1/1 [00:00<00:00, 19972.88it/s]\n",
      "Retrieving ElectronicStructureDoc documents: 100%|██████████| 1/1 [00:00<00:00, 19691.57it/s]\n",
      " 40%|████      | 402/1000 [07:15<15:45,  1.58s/it]"
     ]
    },
    {
     "name": "stdout",
     "output_type": "stream",
     "text": [
      "CeGe2 mp-21055\n",
      "CeGe2 mp-21055\n",
      "CeGe2 mp-21055\n",
      "CeGe2 mp-21055\n"
     ]
    },
    {
     "name": "stderr",
     "output_type": "stream",
     "text": [
      "Retrieving ElectronicStructureDoc documents: 100%|██████████| 1/1 [00:00<00:00, 22671.91it/s]\n",
      "Retrieving ElectronicStructureDoc documents: 100%|██████████| 1/1 [00:00<00:00, 25420.02it/s]\n",
      " 40%|████      | 404/1000 [07:17<12:15,  1.23s/it]"
     ]
    },
    {
     "name": "stdout",
     "output_type": "stream",
     "text": [
      "VF4 mp-850937\n",
      "VF4 mp-850937\n",
      "VF4 mp-850937\n"
     ]
    },
    {
     "name": "stderr",
     "output_type": "stream",
     "text": [
      "Retrieving ElectronicStructureDoc documents: 100%|██████████| 1/1 [00:00<00:00, 10433.59it/s]\n",
      " 40%|████      | 405/1000 [07:18<12:11,  1.23s/it]"
     ]
    },
    {
     "name": "stdout",
     "output_type": "stream",
     "text": [
      "Ta2Se mp-8732\n",
      "Ta2Se mp-8732\n"
     ]
    },
    {
     "name": "stderr",
     "output_type": "stream",
     "text": [
      "Retrieving ElectronicStructureDoc documents: 100%|██████████| 1/1 [00:00<00:00, 14563.56it/s]\n",
      " 41%|████      | 406/1000 [07:20<13:30,  1.36s/it]"
     ]
    },
    {
     "name": "stdout",
     "output_type": "stream",
     "text": [
      "ZrI2 mp-570506\n"
     ]
    },
    {
     "name": "stderr",
     "output_type": "stream",
     "text": [
      "Retrieving ElectronicStructureDoc documents: 0it [00:00, ?it/s]\n",
      " 41%|████      | 407/1000 [07:21<11:42,  1.19s/it]"
     ]
    },
    {
     "name": "stdout",
     "output_type": "stream",
     "text": [
      "Error retrieving band structure for mvc-15779: No electronic structure data found.\n"
     ]
    },
    {
     "name": "stderr",
     "output_type": "stream",
     "text": [
      "Retrieving ElectronicStructureDoc documents: 100%|██████████| 1/1 [00:00<00:00, 20560.31it/s]\n",
      " 41%|████      | 408/1000 [07:21<10:56,  1.11s/it]"
     ]
    },
    {
     "name": "stdout",
     "output_type": "stream",
     "text": [
      "Error retrieving band structure for mp-1057015: No uniform band structure data found for mp-1057015\n"
     ]
    },
    {
     "name": "stderr",
     "output_type": "stream",
     "text": [
      "Retrieving ElectronicStructureDoc documents: 0it [00:00, ?it/s]\n",
      " 41%|████      | 409/1000 [07:22<09:25,  1.04it/s]"
     ]
    },
    {
     "name": "stdout",
     "output_type": "stream",
     "text": [
      "Error retrieving band structure for mvc-15221: No electronic structure data found.\n"
     ]
    },
    {
     "name": "stderr",
     "output_type": "stream",
     "text": [
      "Retrieving ElectronicStructureDoc documents: 0it [00:00, ?it/s]\n",
      " 41%|████      | 410/1000 [07:22<07:29,  1.31it/s]"
     ]
    },
    {
     "name": "stdout",
     "output_type": "stream",
     "text": [
      "Error retrieving band structure for mp-31053: No electronic structure data found.\n"
     ]
    },
    {
     "name": "stderr",
     "output_type": "stream",
     "text": [
      "Retrieving ElectronicStructureDoc documents: 0it [00:00, ?it/s]\n",
      " 41%|████      | 411/1000 [07:23<07:21,  1.33it/s]"
     ]
    },
    {
     "name": "stdout",
     "output_type": "stream",
     "text": [
      "Error retrieving band structure for mvc-13239: No electronic structure data found.\n"
     ]
    },
    {
     "name": "stderr",
     "output_type": "stream",
     "text": [
      "Retrieving ElectronicStructureDoc documents: 100%|██████████| 1/1 [00:00<00:00, 24385.49it/s]\n",
      "Retrieving ElectronicStructureDoc documents: 100%|██████████| 1/1 [00:00<00:00, 26715.31it/s]\n",
      "Retrieving ElectronicStructureDoc documents: 100%|██████████| 1/1 [00:00<00:00, 20460.02it/s]\n",
      " 41%|████▏     | 414/1000 [07:26<09:27,  1.03it/s]"
     ]
    },
    {
     "name": "stdout",
     "output_type": "stream",
     "text": [
      "Sn4Ir mp-1080586\n",
      "Sn4Ir mp-1080586\n",
      "Sn4Ir mp-1080586\n"
     ]
    },
    {
     "name": "stderr",
     "output_type": "stream",
     "text": [
      "Retrieving ElectronicStructureDoc documents: 100%|██████████| 1/1 [00:00<00:00, 8208.03it/s]\n",
      " 42%|████▏     | 415/1000 [07:27<08:46,  1.11it/s]"
     ]
    },
    {
     "name": "stdout",
     "output_type": "stream",
     "text": [
      "Sn3F8 mp-1443\n",
      "Sn3F8 mp-1443\n"
     ]
    },
    {
     "name": "stderr",
     "output_type": "stream",
     "text": [
      "Retrieving ElectronicStructureDoc documents: 100%|██████████| 1/1 [00:00<00:00, 19239.93it/s]\n",
      " 42%|████▏     | 416/1000 [07:28<10:17,  1.06s/it]"
     ]
    },
    {
     "name": "stdout",
     "output_type": "stream",
     "text": [
      "Bi9I2 mp-28149\n",
      "Bi9I2 mp-28149\n"
     ]
    },
    {
     "name": "stderr",
     "output_type": "stream",
     "text": [
      "Retrieving ElectronicStructureDoc documents: 100%|██████████| 1/1 [00:00<00:00, 9731.56it/s]\n",
      " 42%|████▏     | 417/1000 [07:29<10:17,  1.06s/it]"
     ]
    },
    {
     "name": "stdout",
     "output_type": "stream",
     "text": [
      "Bi2Pt mp-569581\n",
      "Bi2Pt mp-569581\n",
      "Bi2Pt mp-569581\n",
      "Bi2Pt mp-569581\n"
     ]
    },
    {
     "name": "stderr",
     "output_type": "stream",
     "text": [
      "Retrieving ElectronicStructureDoc documents: 100%|██████████| 1/1 [00:00<00:00, 17924.38it/s]\n",
      " 42%|████▏     | 418/1000 [07:30<07:59,  1.21it/s]"
     ]
    },
    {
     "name": "stdout",
     "output_type": "stream",
     "text": [
      "Error retrieving band structure for mp-849098: No uniform band structure data found for mp-849098\n"
     ]
    },
    {
     "name": "stderr",
     "output_type": "stream",
     "text": [
      "Retrieving ElectronicStructureDoc documents: 100%|██████████| 1/1 [00:00<00:00, 16384.00it/s]\n",
      "Retrieving ElectronicStructureDoc documents: 100%|██████████| 1/1 [00:00<00:00, 22550.02it/s]\n",
      " 42%|████▏     | 420/1000 [07:32<09:41,  1.00s/it]"
     ]
    },
    {
     "name": "stdout",
     "output_type": "stream",
     "text": [
      "In4Se3 mp-19932\n",
      "In4Se3 mp-19932\n"
     ]
    },
    {
     "name": "stderr",
     "output_type": "stream",
     "text": [
      "Retrieving ElectronicStructureDoc documents: 0it [00:00, ?it/s]\n",
      " 42%|████▏     | 421/1000 [07:33<08:24,  1.15it/s]"
     ]
    },
    {
     "name": "stdout",
     "output_type": "stream",
     "text": [
      "Error retrieving band structure for mp-554799: No electronic structure data found.\n"
     ]
    },
    {
     "name": "stderr",
     "output_type": "stream",
     "text": [
      "Retrieving ElectronicStructureDoc documents: 100%|██████████| 1/1 [00:00<00:00, 21620.12it/s]\n",
      "Retrieving ElectronicStructureDoc documents: 100%|██████████| 1/1 [00:00<00:00, 19065.02it/s]\n",
      "Retrieving ElectronicStructureDoc documents: 0it [00:00, ?it/s]\n",
      " 42%|████▏     | 424/1000 [07:35<06:59,  1.37it/s]"
     ]
    },
    {
     "name": "stdout",
     "output_type": "stream",
     "text": [
      "Error retrieving band structure for mvc-6067: No electronic structure data found.\n"
     ]
    },
    {
     "name": "stderr",
     "output_type": "stream",
     "text": [
      "Retrieving ElectronicStructureDoc documents: 100%|██████████| 1/1 [00:00<00:00, 17260.51it/s]\n",
      "Retrieving ElectronicStructureDoc documents: 0it [00:00, ?it/s]\n",
      " 43%|████▎     | 426/1000 [07:36<06:00,  1.59it/s]"
     ]
    },
    {
     "name": "stdout",
     "output_type": "stream",
     "text": [
      "Error retrieving band structure for mvc-13391: No electronic structure data found.\n"
     ]
    },
    {
     "name": "stderr",
     "output_type": "stream",
     "text": [
      "Retrieving ElectronicStructureDoc documents: 100%|██████████| 1/1 [00:00<00:00, 10485.76it/s]\n",
      " 43%|████▎     | 427/1000 [07:36<05:41,  1.68it/s]"
     ]
    },
    {
     "name": "stdout",
     "output_type": "stream",
     "text": [
      "Ta2I5 mp-32554\n",
      "Ta2I5 mp-32554\n",
      "Ta2I5 mp-32554\n"
     ]
    },
    {
     "name": "stderr",
     "output_type": "stream",
     "text": [
      "Retrieving ElectronicStructureDoc documents: 100%|██████████| 1/1 [00:00<00:00, 15252.01it/s]\n",
      " 43%|████▎     | 428/1000 [07:38<07:10,  1.33it/s]"
     ]
    },
    {
     "name": "stdout",
     "output_type": "stream",
     "text": [
      "GeTe mp-628781\n",
      "GeTe mp-628781\n",
      "GeTe mp-628781\n",
      "GeTe mp-628781\n",
      "GeTe mp-628781\n"
     ]
    },
    {
     "name": "stderr",
     "output_type": "stream",
     "text": [
      "Retrieving ElectronicStructureDoc documents: 100%|██████████| 1/1 [00:00<00:00, 14979.66it/s]\n",
      " 43%|████▎     | 429/1000 [07:39<09:07,  1.04it/s]"
     ]
    },
    {
     "name": "stdout",
     "output_type": "stream",
     "text": [
      "MgCl2 mp-571387\n",
      "MgCl2 mp-571387\n",
      "MgCl2 mp-571387\n",
      "MgCl2 mp-571387\n",
      "MgCl2 mp-571387\n",
      "MgCl2 mp-571387\n"
     ]
    },
    {
     "name": "stderr",
     "output_type": "stream",
     "text": [
      "Retrieving ElectronicStructureDoc documents: 100%|██████████| 1/1 [00:00<00:00, 16513.01it/s]\n",
      "Retrieving ElectronicStructureDoc documents: 100%|██████████| 1/1 [00:00<00:00, 21183.35it/s]\n",
      "Retrieving ElectronicStructureDoc documents: 100%|██████████| 1/1 [00:00<00:00, 21620.12it/s]\n",
      " 43%|████▎     | 432/1000 [07:43<11:39,  1.23s/it]"
     ]
    },
    {
     "name": "stdout",
     "output_type": "stream",
     "text": [
      "YS mp-22562\n",
      "YS mp-22562\n",
      "YS mp-22562\n",
      "YS mp-22562\n"
     ]
    },
    {
     "name": "stderr",
     "output_type": "stream",
     "text": [
      "Retrieving ElectronicStructureDoc documents: 0it [00:00, ?it/s]\n",
      " 43%|████▎     | 433/1000 [07:43<09:28,  1.00s/it]"
     ]
    },
    {
     "name": "stdout",
     "output_type": "stream",
     "text": [
      "Error retrieving band structure for mvc-13985: No electronic structure data found.\n"
     ]
    },
    {
     "name": "stderr",
     "output_type": "stream",
     "text": [
      "Retrieving ElectronicStructureDoc documents: 0it [00:00, ?it/s]\n",
      " 43%|████▎     | 434/1000 [07:44<10:05,  1.07s/it]"
     ]
    },
    {
     "name": "stdout",
     "output_type": "stream",
     "text": [
      "Error retrieving band structure for mvc-671: No electronic structure data found.\n"
     ]
    },
    {
     "name": "stderr",
     "output_type": "stream",
     "text": [
      "Retrieving ElectronicStructureDoc documents: 100%|██████████| 1/1 [00:00<00:00, 13273.11it/s]\n",
      "Retrieving ElectronicStructureDoc documents: 100%|██████████| 1/1 [00:00<00:00, 17050.02it/s]\n",
      "Retrieving ElectronicStructureDoc documents: 100%|██████████| 1/1 [00:00<00:00, 10618.49it/s]\n",
      "Retrieving ElectronicStructureDoc documents: 100%|██████████| 1/1 [00:00<00:00, 13107.20it/s]\n",
      " 44%|████▍     | 438/1000 [07:47<06:29,  1.44it/s]"
     ]
    },
    {
     "name": "stdout",
     "output_type": "stream",
     "text": [
      "Error retrieving band structure for mp-1057015: No uniform band structure data found for mp-1057015\n"
     ]
    },
    {
     "name": "stderr",
     "output_type": "stream",
     "text": [
      "Retrieving ElectronicStructureDoc documents: 100%|██████████| 1/1 [00:00<00:00, 10810.06it/s]\n",
      " 44%|████▍     | 439/1000 [07:48<07:11,  1.30it/s]"
     ]
    },
    {
     "name": "stdout",
     "output_type": "stream",
     "text": [
      "DySb2 mp-1018158\n",
      "DySb2 mp-1018158\n",
      "DySb2 mp-1018158\n",
      "DySb2 mp-1018158\n"
     ]
    },
    {
     "name": "stderr",
     "output_type": "stream",
     "text": [
      "Retrieving ElectronicStructureDoc documents: 0it [00:00, ?it/s]\n",
      " 44%|████▍     | 440/1000 [07:49<06:39,  1.40it/s]"
     ]
    },
    {
     "name": "stdout",
     "output_type": "stream",
     "text": [
      "Error retrieving band structure for mvc-13455: No electronic structure data found.\n"
     ]
    },
    {
     "name": "stderr",
     "output_type": "stream",
     "text": [
      "Retrieving ElectronicStructureDoc documents: 100%|██████████| 1/1 [00:00<00:00, 19418.07it/s]\n",
      " 44%|████▍     | 441/1000 [07:49<06:23,  1.46it/s]"
     ]
    },
    {
     "name": "stdout",
     "output_type": "stream",
     "text": [
      "Error retrieving band structure for mp-1067482: No uniform band structure data found for mp-1067482\n"
     ]
    },
    {
     "name": "stderr",
     "output_type": "stream",
     "text": [
      "Retrieving ElectronicStructureDoc documents: 100%|██████████| 1/1 [00:00<00:00, 17924.38it/s]\n",
      "Retrieving ElectronicStructureDoc documents: 100%|██████████| 1/1 [00:00<00:00, 24966.10it/s]\n",
      "Retrieving ElectronicStructureDoc documents: 100%|██████████| 1/1 [00:00<00:00, 15827.56it/s]\n",
      "Retrieving ElectronicStructureDoc documents: 100%|██████████| 1/1 [00:00<00:00, 14217.98it/s]\n",
      " 44%|████▍     | 445/1000 [07:53<07:54,  1.17it/s]"
     ]
    },
    {
     "name": "stdout",
     "output_type": "stream",
     "text": [
      "Error retrieving band structure for mp-1008600: No uniform band structure data found for mp-1008600\n"
     ]
    },
    {
     "name": "stderr",
     "output_type": "stream",
     "text": [
      "Retrieving ElectronicStructureDoc documents: 100%|██████████| 1/1 [00:00<00:00, 11618.57it/s]\n",
      "Retrieving ElectronicStructureDoc documents: 100%|██████████| 1/1 [00:00<00:00, 17189.77it/s]\n",
      " 45%|████▍     | 447/1000 [07:56<09:30,  1.03s/it]"
     ]
    },
    {
     "name": "stdout",
     "output_type": "stream",
     "text": [
      "Sb2Te3 mp-1078904\n",
      "Sb2Te3 mp-1078904\n"
     ]
    },
    {
     "name": "stderr",
     "output_type": "stream",
     "text": [
      "Retrieving ElectronicStructureDoc documents: 100%|██████████| 1/1 [00:00<00:00, 20971.52it/s]\n",
      " 45%|████▍     | 448/1000 [07:56<07:30,  1.23it/s]"
     ]
    },
    {
     "name": "stdout",
     "output_type": "stream",
     "text": [
      "Error retrieving band structure for mp-1071032: No uniform band structure data found for mp-1071032\n"
     ]
    },
    {
     "name": "stderr",
     "output_type": "stream",
     "text": [
      "Retrieving ElectronicStructureDoc documents: 100%|██████████| 1/1 [00:00<00:00, 16710.37it/s]\n",
      "Retrieving ElectronicStructureDoc documents: 100%|██████████| 1/1 [00:00<00:00, 20360.70it/s]\n",
      "Retrieving ElectronicStructureDoc documents: 100%|██████████| 1/1 [00:00<00:00, 22192.08it/s]\n",
      "Retrieving ElectronicStructureDoc documents: 0it [00:00, ?it/s]\n",
      " 45%|████▌     | 452/1000 [08:00<07:35,  1.20it/s]"
     ]
    },
    {
     "name": "stdout",
     "output_type": "stream",
     "text": [
      "Error retrieving band structure for mp-25142: No electronic structure data found.\n"
     ]
    },
    {
     "name": "stderr",
     "output_type": "stream",
     "text": [
      "Retrieving ElectronicStructureDoc documents: 100%|██████████| 1/1 [00:00<00:00, 22310.13it/s]\n",
      " 45%|████▌     | 453/1000 [08:01<08:18,  1.10it/s]"
     ]
    },
    {
     "name": "stdout",
     "output_type": "stream",
     "text": [
      "Cd(IO3)2 mp-27640\n",
      "Cd(IO3)2 mp-27640\n",
      "Cd(IO3)2 mp-27640\n"
     ]
    },
    {
     "name": "stderr",
     "output_type": "stream",
     "text": [
      "Retrieving ElectronicStructureDoc documents: 100%|██████████| 1/1 [00:00<00:00, 18236.10it/s]\n",
      "Retrieving ElectronicStructureDoc documents: 100%|██████████| 1/1 [00:00<00:00, 16194.22it/s]\n",
      " 46%|████▌     | 455/1000 [08:03<09:24,  1.03s/it]"
     ]
    },
    {
     "name": "stdout",
     "output_type": "stream",
     "text": [
      "Ba2TiO4 mp-36194\n",
      "Ba2TiO4 mp-36194\n",
      "Ba2TiO4 mp-36194\n",
      "Ba2TiO4 mp-36194\n",
      "Ba2TiO4 mp-36194\n"
     ]
    },
    {
     "name": "stderr",
     "output_type": "stream",
     "text": [
      "Retrieving ElectronicStructureDoc documents: 100%|██████████| 1/1 [00:00<00:00, 23301.69it/s]\n",
      "Retrieving ElectronicStructureDoc documents: 100%|██████████| 1/1 [00:00<00:00, 21509.25it/s]\n",
      " 46%|████▌     | 457/1000 [08:04<07:50,  1.16it/s]"
     ]
    },
    {
     "name": "stdout",
     "output_type": "stream",
     "text": [
      "Sb4O5F2 mp-753445\n",
      "Sb4O5F2 mp-753445\n"
     ]
    },
    {
     "name": "stderr",
     "output_type": "stream",
     "text": [
      "Retrieving ElectronicStructureDoc documents: 0it [00:00, ?it/s]\n",
      " 46%|████▌     | 458/1000 [08:05<06:17,  1.44it/s]"
     ]
    },
    {
     "name": "stdout",
     "output_type": "stream",
     "text": [
      "Error retrieving band structure for mp-859782: No electronic structure data found.\n"
     ]
    },
    {
     "name": "stderr",
     "output_type": "stream",
     "text": [
      "Retrieving ElectronicStructureDoc documents: 0it [00:00, ?it/s]\n",
      " 46%|████▌     | 459/1000 [08:05<05:13,  1.73it/s]"
     ]
    },
    {
     "name": "stdout",
     "output_type": "stream",
     "text": [
      "Error retrieving band structure for mvc-14383: No electronic structure data found.\n"
     ]
    },
    {
     "name": "stderr",
     "output_type": "stream",
     "text": [
      "Retrieving ElectronicStructureDoc documents: 100%|██████████| 1/1 [00:00<00:00, 23045.63it/s]\n",
      "Retrieving ElectronicStructureDoc documents: 0it [00:00, ?it/s]\n",
      " 46%|████▌     | 461/1000 [08:07<06:23,  1.40it/s]"
     ]
    },
    {
     "name": "stdout",
     "output_type": "stream",
     "text": [
      "Error retrieving band structure for mvc-4397: No electronic structure data found.\n"
     ]
    },
    {
     "name": "stderr",
     "output_type": "stream",
     "text": [
      "Retrieving ElectronicStructureDoc documents: 100%|██████████| 1/1 [00:00<00:00, 24818.37it/s]\n",
      " 46%|████▌     | 462/1000 [08:08<06:40,  1.34it/s]"
     ]
    },
    {
     "name": "stdout",
     "output_type": "stream",
     "text": [
      "SrLaI5 mp-755705\n"
     ]
    },
    {
     "name": "stderr",
     "output_type": "stream",
     "text": [
      "Retrieving ElectronicStructureDoc documents: 100%|██████████| 1/1 [00:00<00:00, 7449.92it/s]\n",
      " 46%|████▋     | 463/1000 [08:08<06:17,  1.42it/s]"
     ]
    },
    {
     "name": "stdout",
     "output_type": "stream",
     "text": [
      "LiCuO2 mp-753845\n",
      "LiCuO2 mp-753845\n",
      "LiCuO2 mp-753845\n",
      "LiCuO2 mp-753845\n",
      "LiCuO2 mp-753845\n"
     ]
    },
    {
     "name": "stderr",
     "output_type": "stream",
     "text": [
      "Retrieving ElectronicStructureDoc documents: 100%|██████████| 1/1 [00:00<00:00, 15141.89it/s]\n",
      " 46%|████▋     | 464/1000 [08:10<07:49,  1.14it/s]"
     ]
    },
    {
     "name": "stdout",
     "output_type": "stream",
     "text": [
      "AlBMo mp-7574\n",
      "AlBMo mp-7574\n",
      "AlBMo mp-7574\n"
     ]
    },
    {
     "name": "stderr",
     "output_type": "stream",
     "text": [
      "Retrieving ElectronicStructureDoc documents: 100%|██████████| 1/1 [00:00<00:00, 16710.37it/s]\n",
      " 46%|████▋     | 465/1000 [08:10<07:33,  1.18it/s]"
     ]
    },
    {
     "name": "stdout",
     "output_type": "stream",
     "text": [
      "Tl2Pt(CN)4 mp-621092\n",
      "Tl2Pt(CN)4 mp-621092\n",
      "Tl2Pt(CN)4 mp-621092\n"
     ]
    },
    {
     "name": "stderr",
     "output_type": "stream",
     "text": [
      "Retrieving ElectronicStructureDoc documents: 0it [00:00, ?it/s]\n",
      " 47%|████▋     | 466/1000 [08:11<06:04,  1.46it/s]"
     ]
    },
    {
     "name": "stdout",
     "output_type": "stream",
     "text": [
      "Error retrieving band structure for mp-769775: No electronic structure data found.\n"
     ]
    },
    {
     "name": "stderr",
     "output_type": "stream",
     "text": [
      "Retrieving ElectronicStructureDoc documents: 100%|██████████| 1/1 [00:00<00:00, 12865.96it/s]\n",
      " 47%|████▋     | 467/1000 [08:12<07:34,  1.17it/s]"
     ]
    },
    {
     "name": "stdout",
     "output_type": "stream",
     "text": [
      "LiCu3F10 mp-760825\n",
      "LiCu3F10 mp-760825\n"
     ]
    },
    {
     "name": "stderr",
     "output_type": "stream",
     "text": [
      "Retrieving ElectronicStructureDoc documents: 0it [00:00, ?it/s]\n",
      " 47%|████▋     | 468/1000 [08:12<06:03,  1.46it/s]"
     ]
    },
    {
     "name": "stdout",
     "output_type": "stream",
     "text": [
      "Error retrieving band structure for mp-31903: No electronic structure data found.\n"
     ]
    },
    {
     "name": "stderr",
     "output_type": "stream",
     "text": [
      "Retrieving ElectronicStructureDoc documents: 100%|██████████| 1/1 [00:00<00:00, 9731.56it/s]\n",
      " 47%|████▋     | 469/1000 [08:13<06:25,  1.38it/s]"
     ]
    },
    {
     "name": "stdout",
     "output_type": "stream",
     "text": [
      "BaH4O3 mp-626726\n",
      "BaH4O3 mp-626726\n",
      "BaH4O3 mp-626726\n",
      "BaH4O3 mp-626726\n"
     ]
    },
    {
     "name": "stderr",
     "output_type": "stream",
     "text": [
      "Retrieving ElectronicStructureDoc documents: 100%|██████████| 1/1 [00:00<00:00, 9619.96it/s]\n",
      "Retrieving ElectronicStructureDoc documents: 100%|██████████| 1/1 [00:00<00:00, 16256.99it/s]\n",
      " 47%|████▋     | 471/1000 [08:15<06:34,  1.34it/s]"
     ]
    },
    {
     "name": "stdout",
     "output_type": "stream",
     "text": [
      "Co(IO3)2 mp-774228\n",
      "Co(IO3)2 mp-774228\n",
      "Co(IO3)2 mp-774228\n"
     ]
    },
    {
     "name": "stderr",
     "output_type": "stream",
     "text": [
      "Retrieving ElectronicStructureDoc documents: 0it [00:00, ?it/s]\n",
      " 47%|████▋     | 472/1000 [08:15<05:12,  1.69it/s]"
     ]
    },
    {
     "name": "stdout",
     "output_type": "stream",
     "text": [
      "Error retrieving band structure for mvc-10451: No electronic structure data found.\n"
     ]
    },
    {
     "name": "stderr",
     "output_type": "stream",
     "text": [
      "Retrieving ElectronicStructureDoc documents: 100%|██████████| 1/1 [00:00<00:00, 11096.04it/s]\n",
      "Retrieving ElectronicStructureDoc documents: 0it [00:00, ?it/s]\n",
      " 47%|████▋     | 474/1000 [08:16<05:43,  1.53it/s]"
     ]
    },
    {
     "name": "stdout",
     "output_type": "stream",
     "text": [
      "Error retrieving band structure for mp-676295: No electronic structure data found.\n"
     ]
    },
    {
     "name": "stderr",
     "output_type": "stream",
     "text": [
      "Retrieving ElectronicStructureDoc documents: 0it [00:00, ?it/s]\n",
      " 48%|████▊     | 475/1000 [08:17<05:47,  1.51it/s]"
     ]
    },
    {
     "name": "stdout",
     "output_type": "stream",
     "text": [
      "Error retrieving band structure for mp-557739: No electronic structure data found.\n"
     ]
    },
    {
     "name": "stderr",
     "output_type": "stream",
     "text": [
      "Retrieving ElectronicStructureDoc documents: 0it [00:00, ?it/s]\n",
      " 48%|████▊     | 476/1000 [08:18<06:11,  1.41it/s]"
     ]
    },
    {
     "name": "stdout",
     "output_type": "stream",
     "text": [
      "Error retrieving band structure for mvc-9246: No electronic structure data found.\n"
     ]
    },
    {
     "name": "stderr",
     "output_type": "stream",
     "text": [
      "Retrieving ElectronicStructureDoc documents: 100%|██████████| 1/1 [00:00<00:00, 16710.37it/s]\n",
      "Retrieving ElectronicStructureDoc documents: 100%|██████████| 1/1 [00:00<00:00, 20763.88it/s]\n",
      " 48%|████▊     | 478/1000 [08:20<08:45,  1.01s/it]"
     ]
    },
    {
     "name": "stdout",
     "output_type": "stream",
     "text": [
      "PPdSe mp-3123\n",
      "PPdSe mp-3123\n",
      "PPdSe mp-3123\n"
     ]
    },
    {
     "name": "stderr",
     "output_type": "stream",
     "text": [
      "Retrieving ElectronicStructureDoc documents: 100%|██████████| 1/1 [00:00<00:00, 16384.00it/s]\n",
      " 48%|████▊     | 479/1000 [08:22<09:26,  1.09s/it]"
     ]
    },
    {
     "name": "stdout",
     "output_type": "stream",
     "text": [
      "Cu3OF5 mp-755255\n",
      "Cu3OF5 mp-755255\n",
      "Cu3OF5 mp-755255\n",
      "Cu3OF5 mp-755255\n",
      "Cu3OF5 mp-755255\n"
     ]
    },
    {
     "name": "stderr",
     "output_type": "stream",
     "text": [
      "Retrieving ElectronicStructureDoc documents: 0it [00:00, ?it/s]\n",
      " 48%|████▊     | 480/1000 [08:23<09:27,  1.09s/it]"
     ]
    },
    {
     "name": "stdout",
     "output_type": "stream",
     "text": [
      "Error retrieving band structure for mp-573700: No electronic structure data found.\n"
     ]
    },
    {
     "name": "stderr",
     "output_type": "stream",
     "text": [
      "Retrieving ElectronicStructureDoc documents: 100%|██████████| 1/1 [00:00<00:00, 18724.57it/s]\n",
      " 48%|████▊     | 481/1000 [08:24<08:53,  1.03s/it]"
     ]
    },
    {
     "name": "stdout",
     "output_type": "stream",
     "text": [
      "TaTl(CuS2)2 mp-9815\n"
     ]
    },
    {
     "name": "stderr",
     "output_type": "stream",
     "text": [
      "Retrieving ElectronicStructureDoc documents: 0it [00:00, ?it/s]\n",
      " 48%|████▊     | 482/1000 [08:24<07:54,  1.09it/s]"
     ]
    },
    {
     "name": "stdout",
     "output_type": "stream",
     "text": [
      "Error retrieving band structure for mvc-3030: No electronic structure data found.\n"
     ]
    },
    {
     "name": "stderr",
     "output_type": "stream",
     "text": [
      "Retrieving ElectronicStructureDoc documents: 100%|██████████| 1/1 [00:00<00:00, 10155.70it/s]\n",
      " 48%|████▊     | 483/1000 [08:25<07:40,  1.12it/s]"
     ]
    },
    {
     "name": "stdout",
     "output_type": "stream",
     "text": [
      "ZnSeO3 mp-5338\n",
      "ZnSeO3 mp-5338\n",
      "ZnSeO3 mp-5338\n"
     ]
    },
    {
     "name": "stderr",
     "output_type": "stream",
     "text": [
      "Retrieving ElectronicStructureDoc documents: 100%|██████████| 1/1 [00:00<00:00, 10645.44it/s]\n",
      "Retrieving ElectronicStructureDoc documents: 100%|██████████| 1/1 [00:00<00:00, 19239.93it/s]\n",
      " 48%|████▊     | 485/1000 [08:26<06:00,  1.43it/s]"
     ]
    },
    {
     "name": "stdout",
     "output_type": "stream",
     "text": [
      "BiAuO2 mp-997082\n",
      "BiAuO2 mp-997082\n",
      "BiAuO2 mp-997082\n",
      "BiAuO2 mp-997082\n",
      "BiAuO2 mp-997082\n"
     ]
    },
    {
     "name": "stderr",
     "output_type": "stream",
     "text": [
      "Retrieving ElectronicStructureDoc documents: 100%|██████████| 1/1 [00:00<00:00, 11275.01it/s]\n",
      "Retrieving ElectronicStructureDoc documents: 0it [00:00, ?it/s]\n",
      " 49%|████▊     | 487/1000 [08:28<06:51,  1.25it/s]"
     ]
    },
    {
     "name": "stdout",
     "output_type": "stream",
     "text": [
      "Error retrieving band structure for mp-743987: No electronic structure data found.\n"
     ]
    },
    {
     "name": "stderr",
     "output_type": "stream",
     "text": [
      "Retrieving ElectronicStructureDoc documents: 100%|██████████| 1/1 [00:00<00:00, 12409.18it/s]\n",
      "Retrieving ElectronicStructureDoc documents: 100%|██████████| 1/1 [00:00<00:00, 26214.40it/s]\n",
      "Retrieving ElectronicStructureDoc documents: 100%|██████████| 1/1 [00:00<00:00, 14315.03it/s]\n",
      " 49%|████▉     | 490/1000 [08:33<10:30,  1.24s/it]"
     ]
    },
    {
     "name": "stdout",
     "output_type": "stream",
     "text": [
      "Error retrieving band structure for mp-643430: No uniform band structure data found for mp-643430\n"
     ]
    },
    {
     "name": "stderr",
     "output_type": "stream",
     "text": [
      "Retrieving ElectronicStructureDoc documents: 100%|██████████| 1/1 [00:00<00:00, 15887.52it/s]\n",
      "Retrieving ElectronicStructureDoc documents: 100%|██████████| 1/1 [00:00<00:00, 19328.59it/s]\n",
      " 49%|████▉     | 492/1000 [08:38<16:36,  1.96s/it]"
     ]
    },
    {
     "name": "stdout",
     "output_type": "stream",
     "text": [
      "TaS3 mp-30527\n",
      "TaS3 mp-30527\n"
     ]
    },
    {
     "name": "stderr",
     "output_type": "stream",
     "text": [
      "Retrieving ElectronicStructureDoc documents: 0it [00:00, ?it/s]\n",
      " 49%|████▉     | 493/1000 [08:38<13:06,  1.55s/it]"
     ]
    },
    {
     "name": "stdout",
     "output_type": "stream",
     "text": [
      "Error retrieving band structure for mvc-14774: No electronic structure data found.\n"
     ]
    },
    {
     "name": "stderr",
     "output_type": "stream",
     "text": [
      "Retrieving ElectronicStructureDoc documents: 100%|██████████| 1/1 [00:00<00:00, 20763.88it/s]\n",
      " 49%|████▉     | 494/1000 [08:39<09:57,  1.18s/it]"
     ]
    },
    {
     "name": "stdout",
     "output_type": "stream",
     "text": [
      "Error retrieving band structure for mp-861182: No uniform band structure data found for mp-861182\n"
     ]
    },
    {
     "name": "stderr",
     "output_type": "stream",
     "text": [
      "Retrieving ElectronicStructureDoc documents: 0it [00:00, ?it/s]\n",
      " 50%|████▉     | 495/1000 [08:39<08:29,  1.01s/it]"
     ]
    },
    {
     "name": "stdout",
     "output_type": "stream",
     "text": [
      "Error retrieving band structure for mvc-10730: No electronic structure data found.\n"
     ]
    },
    {
     "name": "stderr",
     "output_type": "stream",
     "text": [
      "Retrieving ElectronicStructureDoc documents: 0it [00:00, ?it/s]\n",
      " 50%|████▉     | 496/1000 [08:40<07:28,  1.12it/s]"
     ]
    },
    {
     "name": "stdout",
     "output_type": "stream",
     "text": [
      "Error retrieving band structure for mp-764332: No electronic structure data found.\n"
     ]
    },
    {
     "name": "stderr",
     "output_type": "stream",
     "text": [
      "Retrieving ElectronicStructureDoc documents: 100%|██████████| 1/1 [00:00<00:00, 21076.90it/s]\n",
      "Retrieving ElectronicStructureDoc documents: 100%|██████████| 1/1 [00:00<00:00, 26379.27it/s]\n",
      "Retrieving ElectronicStructureDoc documents: 100%|██████████| 1/1 [00:00<00:00, 20164.92it/s]\n",
      " 50%|████▉     | 499/1000 [08:45<12:04,  1.45s/it]"
     ]
    },
    {
     "name": "stdout",
     "output_type": "stream",
     "text": [
      "C mp-48\n",
      "C mp-48\n"
     ]
    },
    {
     "name": "stderr",
     "output_type": "stream",
     "text": [
      "Retrieving ElectronicStructureDoc documents: 0it [00:00, ?it/s]\n",
      " 50%|█████     | 500/1000 [08:45<09:05,  1.09s/it]"
     ]
    },
    {
     "name": "stdout",
     "output_type": "stream",
     "text": [
      "Error retrieving band structure for mvc-5236: No electronic structure data found.\n"
     ]
    },
    {
     "name": "stderr",
     "output_type": "stream",
     "text": [
      "Retrieving ElectronicStructureDoc documents: 100%|██████████| 1/1 [00:00<00:00, 20560.31it/s]\n",
      " 50%|█████     | 501/1000 [08:49<16:28,  1.98s/it]"
     ]
    },
    {
     "name": "stdout",
     "output_type": "stream",
     "text": [
      "Error retrieving band structure for mp-699431: 'utf-8' codec can't decode byte 0x8b in position 1: invalid start byte\n"
     ]
    },
    {
     "name": "stderr",
     "output_type": "stream",
     "text": [
      "Retrieving ElectronicStructureDoc documents: 100%|██████████| 1/1 [00:00<00:00, 21076.90it/s]\n",
      "Retrieving ElectronicStructureDoc documents: 100%|██████████| 1/1 [00:00<00:00, 22075.28it/s]\n",
      "Retrieving ElectronicStructureDoc documents: 100%|██████████| 1/1 [00:00<00:00, 20560.31it/s]\n",
      "Retrieving ElectronicStructureDoc documents: 100%|██████████| 1/1 [00:00<00:00, 9554.22it/s]\n",
      " 50%|█████     | 505/1000 [08:53<11:55,  1.44s/it]"
     ]
    },
    {
     "name": "stdout",
     "output_type": "stream",
     "text": [
      "BPt2 mp-1077788\n",
      "BPt2 mp-1077788\n"
     ]
    },
    {
     "name": "stderr",
     "output_type": "stream",
     "text": [
      "Retrieving ElectronicStructureDoc documents: 100%|██████████| 1/1 [00:00<00:00, 22310.13it/s]\n",
      "Retrieving ElectronicStructureDoc documents: 100%|██████████| 1/1 [00:00<00:00, 18978.75it/s]\n",
      " 51%|█████     | 507/1000 [08:55<09:13,  1.12s/it]"
     ]
    },
    {
     "name": "stdout",
     "output_type": "stream",
     "text": [
      "Error retrieving band structure for mp-1039263: No uniform band structure data found for mp-1039263\n"
     ]
    },
    {
     "name": "stderr",
     "output_type": "stream",
     "text": [
      "Retrieving ElectronicStructureDoc documents: 100%|██████████| 1/1 [00:00<00:00, 16008.79it/s]\n",
      "Retrieving ElectronicStructureDoc documents: 100%|██████████| 1/1 [00:00<00:00, 27235.74it/s]\n",
      " 51%|█████     | 509/1000 [08:59<13:18,  1.63s/it]"
     ]
    },
    {
     "name": "stdout",
     "output_type": "stream",
     "text": [
      "Error retrieving band structure for mp-1039120: No uniform band structure data found for mp-1039120\n"
     ]
    },
    {
     "name": "stderr",
     "output_type": "stream",
     "text": [
      "Retrieving ElectronicStructureDoc documents: 100%|██████████| 1/1 [00:00<00:00, 11781.75it/s]\n",
      " 51%|█████     | 510/1000 [09:00<11:06,  1.36s/it]"
     ]
    },
    {
     "name": "stdout",
     "output_type": "stream",
     "text": [
      "AuN2 mp-1018648\n",
      "AuN2 mp-1018648\n",
      "AuN2 mp-1018648\n",
      "AuN2 mp-1018648\n",
      "AuN2 mp-1018648\n"
     ]
    },
    {
     "name": "stderr",
     "output_type": "stream",
     "text": [
      "Retrieving ElectronicStructureDoc documents: 100%|██████████| 1/1 [00:00<00:00, 20360.70it/s]\n",
      "Retrieving ElectronicStructureDoc documents: 100%|██████████| 1/1 [00:00<00:00, 19239.93it/s]\n",
      " 51%|█████     | 512/1000 [09:02<08:57,  1.10s/it]"
     ]
    },
    {
     "name": "stdout",
     "output_type": "stream",
     "text": [
      "AgClO2 mp-22959\n",
      "AgClO2 mp-22959\n",
      "AgClO2 mp-22959\n",
      "AgClO2 mp-22959\n",
      "AgClO2 mp-22959\n"
     ]
    },
    {
     "name": "stderr",
     "output_type": "stream",
     "text": [
      "Retrieving ElectronicStructureDoc documents: 100%|██████████| 1/1 [00:00<00:00, 18978.75it/s]\n",
      "Retrieving ElectronicStructureDoc documents: 100%|██████████| 1/1 [00:00<00:00, 22795.13it/s]\n",
      "Retrieving ElectronicStructureDoc documents: 100%|██████████| 1/1 [00:00<00:00, 24672.38it/s]\n",
      "Retrieving ElectronicStructureDoc documents: 100%|██████████| 1/1 [00:00<00:00, 25575.02it/s]\n",
      "Retrieving ElectronicStructureDoc documents: 0it [00:00, ?it/s]\n",
      " 52%|█████▏    | 517/1000 [09:06<06:23,  1.26it/s]"
     ]
    },
    {
     "name": "stdout",
     "output_type": "stream",
     "text": [
      "Error retrieving band structure for mvc-15980: No electronic structure data found.\n"
     ]
    },
    {
     "name": "stderr",
     "output_type": "stream",
     "text": [
      "Retrieving ElectronicStructureDoc documents: 100%|██████████| 1/1 [00:00<00:00, 17189.77it/s]\n",
      " 52%|█████▏    | 518/1000 [09:07<07:53,  1.02it/s]"
     ]
    },
    {
     "name": "stdout",
     "output_type": "stream",
     "text": [
      "SiP2 mp-9996\n",
      "SiP2 mp-9996\n",
      "SiP2 mp-9996\n"
     ]
    },
    {
     "name": "stderr",
     "output_type": "stream",
     "text": [
      "Retrieving ElectronicStructureDoc documents: 100%|██████████| 1/1 [00:00<00:00, 22310.13it/s]\n",
      " 52%|█████▏    | 519/1000 [09:08<07:43,  1.04it/s]"
     ]
    },
    {
     "name": "stdout",
     "output_type": "stream",
     "text": [
      "In4Se3 mp-19932\n",
      "In4Se3 mp-19932\n"
     ]
    },
    {
     "name": "stderr",
     "output_type": "stream",
     "text": [
      "Retrieving ElectronicStructureDoc documents: 100%|██████████| 1/1 [00:00<00:00, 9300.01it/s]\n",
      "Retrieving ElectronicStructureDoc documents: 100%|██████████| 1/1 [00:00<00:00, 20164.92it/s]\n",
      "Retrieving ElectronicStructureDoc documents: 100%|██████████| 1/1 [00:00<00:00, 11096.04it/s]\n",
      "Retrieving ElectronicStructureDoc documents: 100%|██████████| 1/1 [00:00<00:00, 23301.69it/s]\n",
      "Retrieving ElectronicStructureDoc documents: 100%|██████████| 1/1 [00:00<00:00, 14716.86it/s]\n",
      "Retrieving ElectronicStructureDoc documents: 100%|██████████| 1/1 [00:00<00:00, 22795.13it/s]\n",
      " 52%|█████▎    | 525/1000 [09:16<11:08,  1.41s/it]"
     ]
    },
    {
     "name": "stdout",
     "output_type": "stream",
     "text": [
      "TePt mp-11693\n",
      "TePt mp-11693\n",
      "TePt mp-11693\n",
      "TePt mp-11693\n",
      "TePt mp-11693\n"
     ]
    },
    {
     "name": "stderr",
     "output_type": "stream",
     "text": [
      "Retrieving ElectronicStructureDoc documents: 100%|██████████| 1/1 [00:00<00:00, 24672.38it/s]\n",
      "Retrieving ElectronicStructureDoc documents: 100%|██████████| 1/1 [00:00<00:00, 11428.62it/s]\n",
      "Retrieving ElectronicStructureDoc documents: 100%|██████████| 1/1 [00:00<00:00, 16513.01it/s]\n",
      "Retrieving ElectronicStructureDoc documents: 100%|██████████| 1/1 [00:00<00:00, 22550.02it/s]\n",
      "Retrieving ElectronicStructureDoc documents: 100%|██████████| 1/1 [00:00<00:00, 21509.25it/s]\n",
      " 53%|█████▎    | 530/1000 [09:21<06:52,  1.14it/s]"
     ]
    },
    {
     "name": "stdout",
     "output_type": "stream",
     "text": [
      "Error retrieving band structure for mp-542495: No uniform band structure data found for mp-542495\n"
     ]
    },
    {
     "name": "stderr",
     "output_type": "stream",
     "text": [
      "Retrieving ElectronicStructureDoc documents: 100%|██████████| 1/1 [00:00<00:00, 19599.55it/s]\n",
      "Retrieving ElectronicStructureDoc documents: 100%|██████████| 1/1 [00:00<00:00, 16448.25it/s]\n",
      "Retrieving ElectronicStructureDoc documents: 100%|██████████| 1/1 [00:00<00:00, 26379.27it/s]\n",
      "Retrieving ElectronicStructureDoc documents: 100%|██████████| 1/1 [00:00<00:00, 15650.39it/s]\n",
      " 53%|█████▎    | 534/1000 [09:26<08:28,  1.09s/it]"
     ]
    },
    {
     "name": "stdout",
     "output_type": "stream",
     "text": [
      "InBi mp-23313\n",
      "InBi mp-23313\n",
      "InBi mp-23313\n",
      "InBi mp-23313\n",
      "InBi mp-23313\n"
     ]
    },
    {
     "name": "stderr",
     "output_type": "stream",
     "text": [
      "Retrieving ElectronicStructureDoc documents: 0it [00:00, ?it/s]\n",
      " 54%|█████▎    | 535/1000 [09:26<07:15,  1.07it/s]"
     ]
    },
    {
     "name": "stdout",
     "output_type": "stream",
     "text": [
      "Error retrieving band structure for mvc-13239: No electronic structure data found.\n"
     ]
    },
    {
     "name": "stderr",
     "output_type": "stream",
     "text": [
      "Retrieving ElectronicStructureDoc documents: 100%|██████████| 1/1 [00:00<00:00, 14169.95it/s]\n",
      " 54%|█████▎    | 536/1000 [09:27<06:44,  1.15it/s]"
     ]
    },
    {
     "name": "stdout",
     "output_type": "stream",
     "text": [
      "AsO2 mp-27356\n",
      "AsO2 mp-27356\n",
      "AsO2 mp-27356\n",
      "AsO2 mp-27356\n"
     ]
    },
    {
     "name": "stderr",
     "output_type": "stream",
     "text": [
      "Retrieving ElectronicStructureDoc documents: 100%|██████████| 1/1 [00:00<00:00, 11915.64it/s]\n",
      "Retrieving ElectronicStructureDoc documents: 100%|██████████| 1/1 [00:00<00:00, 21183.35it/s]\n",
      "Retrieving ElectronicStructureDoc documents: 100%|██████████| 1/1 [00:00<00:00, 16070.13it/s]\n",
      " 54%|█████▍    | 539/1000 [09:29<05:39,  1.36it/s]"
     ]
    },
    {
     "name": "stdout",
     "output_type": "stream",
     "text": [
      "VF4 mp-850937\n",
      "VF4 mp-850937\n",
      "VF4 mp-850937\n"
     ]
    },
    {
     "name": "stderr",
     "output_type": "stream",
     "text": [
      "Retrieving ElectronicStructureDoc documents: 100%|██████████| 1/1 [00:00<00:00, 23967.45it/s]\n",
      "Retrieving ElectronicStructureDoc documents: 100%|██████████| 1/1 [00:00<00:00, 13486.51it/s]\n",
      "Retrieving ElectronicStructureDoc documents: 100%|██████████| 1/1 [00:00<00:00, 19152.07it/s]\n",
      " 54%|█████▍    | 542/1000 [09:33<10:33,  1.38s/it]"
     ]
    },
    {
     "name": "stdout",
     "output_type": "stream",
     "text": [
      "Al2O3 mp-755066\n",
      "Al2O3 mp-755066\n",
      "Al2O3 mp-755066\n",
      "Al2O3 mp-755066\n",
      "Al2O3 mp-755066\n",
      "Al2O3 mp-755066\n"
     ]
    },
    {
     "name": "stderr",
     "output_type": "stream",
     "text": [
      "Retrieving ElectronicStructureDoc documents: 100%|██████████| 1/1 [00:00<00:00, 23045.63it/s]\n",
      "Retrieving ElectronicStructureDoc documents: 100%|██████████| 1/1 [00:00<00:00, 12865.96it/s]\n",
      " 54%|█████▍    | 544/1000 [09:34<07:50,  1.03s/it]"
     ]
    },
    {
     "name": "stdout",
     "output_type": "stream",
     "text": [
      "Error retrieving band structure for mp-9254: No uniform band structure data found for mp-9254\n"
     ]
    },
    {
     "name": "stderr",
     "output_type": "stream",
     "text": [
      "Retrieving ElectronicStructureDoc documents: 100%|██████████| 1/1 [00:00<00:00, 23967.45it/s]\n",
      " 55%|█████▍    | 545/1000 [09:35<07:14,  1.05it/s]"
     ]
    },
    {
     "name": "stdout",
     "output_type": "stream",
     "text": [
      "As2O3 mp-1581\n",
      "As2O3 mp-1581\n"
     ]
    },
    {
     "name": "stderr",
     "output_type": "stream",
     "text": [
      "Retrieving ElectronicStructureDoc documents: 100%|██████████| 1/1 [00:00<00:00, 15947.92it/s]\n",
      " 55%|█████▍    | 546/1000 [09:36<07:38,  1.01s/it]"
     ]
    },
    {
     "name": "stdout",
     "output_type": "stream",
     "text": [
      "PdS2 mp-13682\n",
      "PdS2 mp-13682\n",
      "PdS2 mp-13682\n",
      "PdS2 mp-13682\n"
     ]
    },
    {
     "name": "stderr",
     "output_type": "stream",
     "text": [
      "Retrieving ElectronicStructureDoc documents: 100%|██████████| 1/1 [00:00<00:00, 24528.09it/s]\n",
      "Retrieving ElectronicStructureDoc documents: 0it [00:00, ?it/s]\n",
      " 55%|█████▍    | 548/1000 [09:38<06:12,  1.21it/s]"
     ]
    },
    {
     "name": "stdout",
     "output_type": "stream",
     "text": [
      "Error retrieving band structure for mp-863878: No electronic structure data found.\n"
     ]
    },
    {
     "name": "stderr",
     "output_type": "stream",
     "text": [
      "Retrieving ElectronicStructureDoc documents: 100%|██████████| 1/1 [00:00<00:00, 18978.75it/s]\n",
      "Retrieving ElectronicStructureDoc documents: 100%|██████████| 1/1 [00:00<00:00, 18078.90it/s]\n",
      " 55%|█████▌    | 550/1000 [09:41<09:34,  1.28s/it]"
     ]
    },
    {
     "name": "stdout",
     "output_type": "stream",
     "text": [
      "ZrGe2 mp-2430\n",
      "ZrGe2 mp-2430\n",
      "ZrGe2 mp-2430\n",
      "ZrGe2 mp-2430\n"
     ]
    },
    {
     "name": "stderr",
     "output_type": "stream",
     "text": [
      "Retrieving ElectronicStructureDoc documents: 100%|██████████| 1/1 [00:00<00:00, 16578.28it/s]\n",
      " 55%|█████▌    | 551/1000 [09:43<09:56,  1.33s/it]"
     ]
    },
    {
     "name": "stdout",
     "output_type": "stream",
     "text": [
      "InBi mp-23313\n",
      "InBi mp-23313\n",
      "InBi mp-23313\n",
      "InBi mp-23313\n",
      "InBi mp-23313\n"
     ]
    },
    {
     "name": "stderr",
     "output_type": "stream",
     "text": [
      "Retrieving ElectronicStructureDoc documents: 100%|██████████| 1/1 [00:00<00:00, 9939.11it/s]\n",
      "Retrieving ElectronicStructureDoc documents: 100%|██████████| 1/1 [00:00<00:00, 18001.30it/s]\n",
      "Retrieving ElectronicStructureDoc documents: 100%|██████████| 1/1 [00:00<00:00, 21509.25it/s]\n",
      "Retrieving ElectronicStructureDoc documents: 0it [00:00, ?it/s]\n",
      " 56%|█████▌    | 555/1000 [09:47<06:38,  1.12it/s]"
     ]
    },
    {
     "name": "stdout",
     "output_type": "stream",
     "text": [
      "Error retrieving band structure for mvc-13531: No electronic structure data found.\n"
     ]
    },
    {
     "name": "stderr",
     "output_type": "stream",
     "text": [
      "Retrieving ElectronicStructureDoc documents: 100%|██████████| 1/1 [00:00<00:00, 21620.12it/s]\n",
      " 56%|█████▌    | 556/1000 [09:48<06:56,  1.07it/s]"
     ]
    },
    {
     "name": "stdout",
     "output_type": "stream",
     "text": [
      "Nb2Se3 mp-2330\n",
      "Nb2Se3 mp-2330\n"
     ]
    },
    {
     "name": "stderr",
     "output_type": "stream",
     "text": [
      "Retrieving ElectronicStructureDoc documents: 100%|██████████| 1/1 [00:00<00:00, 16578.28it/s]\n",
      " 56%|█████▌    | 557/1000 [09:49<07:32,  1.02s/it]"
     ]
    },
    {
     "name": "stdout",
     "output_type": "stream",
     "text": [
      "ZrI2 mp-570506\n"
     ]
    },
    {
     "name": "stderr",
     "output_type": "stream",
     "text": [
      "Retrieving ElectronicStructureDoc documents: 100%|██████████| 1/1 [00:00<00:00, 25420.02it/s]\n",
      " 56%|█████▌    | 558/1000 [09:49<06:38,  1.11it/s]"
     ]
    },
    {
     "name": "stdout",
     "output_type": "stream",
     "text": [
      "Error retrieving band structure for mp-542495: No uniform band structure data found for mp-542495\n"
     ]
    },
    {
     "name": "stderr",
     "output_type": "stream",
     "text": [
      "Retrieving ElectronicStructureDoc documents: 100%|██████████| 1/1 [00:00<00:00, 21732.15it/s]\n",
      " 56%|█████▌    | 559/1000 [09:52<09:35,  1.31s/it]"
     ]
    },
    {
     "name": "stdout",
     "output_type": "stream",
     "text": [
      "Sn3Pd mp-1371\n",
      "Sn3Pd mp-1371\n",
      "Sn3Pd mp-1371\n",
      "Sn3Pd mp-1371\n"
     ]
    },
    {
     "name": "stderr",
     "output_type": "stream",
     "text": [
      "Retrieving ElectronicStructureDoc documents: 100%|██████████| 1/1 [00:00<00:00, 23172.95it/s]\n",
      " 56%|█████▌    | 560/1000 [09:52<07:51,  1.07s/it]"
     ]
    },
    {
     "name": "stdout",
     "output_type": "stream",
     "text": [
      "P2O5 mp-2173\n",
      "P2O5 mp-2173\n",
      "P2O5 mp-2173\n",
      "P2O5 mp-2173\n"
     ]
    },
    {
     "name": "stderr",
     "output_type": "stream",
     "text": [
      "Retrieving ElectronicStructureDoc documents: 100%|██████████| 1/1 [00:00<00:00, 10010.27it/s]\n",
      "Retrieving ElectronicStructureDoc documents: 100%|██████████| 1/1 [00:00<00:00, 24105.20it/s]\n",
      " 56%|█████▌    | 562/1000 [09:54<07:29,  1.03s/it]"
     ]
    },
    {
     "name": "stdout",
     "output_type": "stream",
     "text": [
      "Bi2O3 mp-37036\n",
      "Bi2O3 mp-37036\n",
      "Bi2O3 mp-37036\n",
      "Bi2O3 mp-37036\n",
      "Bi2O3 mp-37036\n"
     ]
    },
    {
     "name": "stderr",
     "output_type": "stream",
     "text": [
      "Retrieving ElectronicStructureDoc documents: 100%|██████████| 1/1 [00:00<00:00, 21076.90it/s]\n",
      " 56%|█████▋    | 563/1000 [10:00<18:54,  2.60s/it]"
     ]
    },
    {
     "name": "stdout",
     "output_type": "stream",
     "text": [
      "LiBe mp-1001825\n",
      "LiBe mp-1001825\n",
      "LiBe mp-1001825\n",
      "LiBe mp-1001825\n",
      "LiBe mp-1001825\n",
      "LiBe mp-1001825\n",
      "LiBe mp-1001825\n",
      "LiBe mp-1001825\n",
      "LiBe mp-1001825\n"
     ]
    },
    {
     "name": "stderr",
     "output_type": "stream",
     "text": [
      "Retrieving ElectronicStructureDoc documents: 100%|██████████| 1/1 [00:00<00:00, 22671.91it/s]\n",
      "Retrieving ElectronicStructureDoc documents: 0it [00:00, ?it/s]\n",
      " 56%|█████▋    | 565/1000 [10:02<12:02,  1.66s/it]"
     ]
    },
    {
     "name": "stdout",
     "output_type": "stream",
     "text": [
      "Error retrieving band structure for mvc-13985: No electronic structure data found.\n"
     ]
    },
    {
     "name": "stderr",
     "output_type": "stream",
     "text": [
      "Retrieving ElectronicStructureDoc documents: 100%|██████████| 1/1 [00:00<00:00, 24385.49it/s]\n",
      "Retrieving ElectronicStructureDoc documents: 100%|██████████| 1/1 [00:00<00:00, 12710.01it/s]\n",
      "Retrieving ElectronicStructureDoc documents: 100%|██████████| 1/1 [00:00<00:00, 17476.27it/s]\n",
      "Retrieving ElectronicStructureDoc documents: 100%|██████████| 1/1 [00:00<00:00, 8665.92it/s]\n",
      "Retrieving ElectronicStructureDoc documents: 0it [00:00, ?it/s]\n",
      " 57%|█████▋    | 570/1000 [10:07<06:56,  1.03it/s]"
     ]
    },
    {
     "name": "stdout",
     "output_type": "stream",
     "text": [
      "Error retrieving band structure for mvc-15221: No electronic structure data found.\n"
     ]
    },
    {
     "name": "stderr",
     "output_type": "stream",
     "text": [
      "Retrieving ElectronicStructureDoc documents: 100%|██████████| 1/1 [00:00<00:00, 19972.88it/s]\n",
      "Retrieving ElectronicStructureDoc documents: 100%|██████████| 1/1 [00:00<00:00, 11683.30it/s]\n",
      "Retrieving ElectronicStructureDoc documents: 100%|██████████| 1/1 [00:00<00:00, 13443.28it/s]\n",
      "Retrieving ElectronicStructureDoc documents: 0it [00:00, ?it/s]\n",
      " 57%|█████▋    | 574/1000 [10:10<05:29,  1.29it/s]"
     ]
    },
    {
     "name": "stdout",
     "output_type": "stream",
     "text": [
      "Error retrieving band structure for mvc-14580: No electronic structure data found.\n"
     ]
    },
    {
     "name": "stderr",
     "output_type": "stream",
     "text": [
      "Retrieving ElectronicStructureDoc documents: 100%|██████████| 1/1 [00:00<00:00, 15196.75it/s]\n",
      " 57%|█████▊    | 575/1000 [10:11<05:10,  1.37it/s]"
     ]
    },
    {
     "name": "stdout",
     "output_type": "stream",
     "text": [
      "Error retrieving band structure for mp-1008600: No uniform band structure data found for mp-1008600\n"
     ]
    },
    {
     "name": "stderr",
     "output_type": "stream",
     "text": [
      "Retrieving ElectronicStructureDoc documents: 100%|██████████| 1/1 [00:00<00:00, 18001.30it/s]\n",
      " 58%|█████▊    | 576/1000 [10:13<08:06,  1.15s/it]"
     ]
    },
    {
     "name": "stdout",
     "output_type": "stream",
     "text": [
      "Sn4Pt mp-20662\n",
      "Sn4Pt mp-20662\n",
      "Sn4Pt mp-20662\n"
     ]
    },
    {
     "name": "stderr",
     "output_type": "stream",
     "text": [
      "Retrieving ElectronicStructureDoc documents: 100%|██████████| 1/1 [00:00<00:00, 21399.51it/s]\n",
      " 58%|█████▊    | 577/1000 [10:14<07:07,  1.01s/it]"
     ]
    },
    {
     "name": "stdout",
     "output_type": "stream",
     "text": [
      "AlF3 mp-635425\n",
      "AlF3 mp-635425\n"
     ]
    },
    {
     "name": "stderr",
     "output_type": "stream",
     "text": [
      "Retrieving ElectronicStructureDoc documents: 100%|██████████| 1/1 [00:00<00:00, 12520.31it/s]\n",
      " 58%|█████▊    | 578/1000 [10:14<06:09,  1.14it/s]"
     ]
    },
    {
     "name": "stdout",
     "output_type": "stream",
     "text": [
      "Error retrieving band structure for mp-978259: No uniform band structure data found for mp-978259\n"
     ]
    },
    {
     "name": "stderr",
     "output_type": "stream",
     "text": [
      "Retrieving ElectronicStructureDoc documents: 100%|██████████| 1/1 [00:00<00:00, 20164.92it/s]\n",
      " 58%|█████▊    | 579/1000 [10:16<07:25,  1.06s/it]"
     ]
    },
    {
     "name": "stdout",
     "output_type": "stream",
     "text": [
      "GaSe mp-568128\n"
     ]
    },
    {
     "name": "stderr",
     "output_type": "stream",
     "text": [
      "Retrieving ElectronicStructureDoc documents: 100%|██████████| 1/1 [00:00<00:00, 12633.45it/s]\n",
      "Retrieving ElectronicStructureDoc documents: 100%|██████████| 1/1 [00:00<00:00, 14563.56it/s]\n",
      " 58%|█████▊    | 581/1000 [10:19<10:16,  1.47s/it]"
     ]
    },
    {
     "name": "stdout",
     "output_type": "stream",
     "text": [
      "ErNiGe2 mp-1078651\n",
      "ErNiGe2 mp-1078651\n",
      "ErNiGe2 mp-1078651\n",
      "ErNiGe2 mp-1078651\n",
      "ErNiGe2 mp-1078651\n",
      "ErNiGe2 mp-1078651\n",
      "ErNiGe2 mp-1078651\n"
     ]
    },
    {
     "name": "stderr",
     "output_type": "stream",
     "text": [
      "Retrieving ElectronicStructureDoc documents: 100%|██████████| 1/1 [00:00<00:00, 14716.86it/s]\n",
      "Retrieving ElectronicStructureDoc documents: 100%|██████████| 1/1 [00:00<00:00, 15947.92it/s]\n",
      "Retrieving ElectronicStructureDoc documents: 100%|██████████| 1/1 [00:00<00:00, 26214.40it/s]\n",
      " 58%|█████▊    | 584/1000 [10:23<09:19,  1.34s/it]"
     ]
    },
    {
     "name": "stdout",
     "output_type": "stream",
     "text": [
      "In2Se3 mp-1017565\n",
      "In2Se3 mp-1017565\n"
     ]
    },
    {
     "name": "stderr",
     "output_type": "stream",
     "text": [
      "Retrieving ElectronicStructureDoc documents: 100%|██████████| 1/1 [00:00<00:00, 18157.16it/s]\n",
      " 58%|█████▊    | 585/1000 [10:25<10:16,  1.49s/it]"
     ]
    },
    {
     "name": "stdout",
     "output_type": "stream",
     "text": [
      "CeSe2 mp-1080310\n"
     ]
    },
    {
     "name": "stderr",
     "output_type": "stream",
     "text": [
      "Retrieving ElectronicStructureDoc documents: 100%|██████████| 1/1 [00:00<00:00, 20867.18it/s]\n",
      " 59%|█████▊    | 586/1000 [10:26<08:17,  1.20s/it]"
     ]
    },
    {
     "name": "stdout",
     "output_type": "stream",
     "text": [
      "Error retrieving band structure for mp-1094344: No uniform band structure data found for mp-1094344\n"
     ]
    },
    {
     "name": "stderr",
     "output_type": "stream",
     "text": [
      "Retrieving ElectronicStructureDoc documents: 100%|██████████| 1/1 [00:00<00:00, 13617.87it/s]\n",
      " 59%|█████▊    | 587/1000 [10:27<09:02,  1.31s/it]"
     ]
    },
    {
     "name": "stdout",
     "output_type": "stream",
     "text": [
      "CeS mp-20560\n",
      "CeS mp-20560\n"
     ]
    },
    {
     "name": "stderr",
     "output_type": "stream",
     "text": [
      "Retrieving ElectronicStructureDoc documents: 0it [00:00, ?it/s]\n",
      " 59%|█████▉    | 588/1000 [10:28<07:28,  1.09s/it]"
     ]
    },
    {
     "name": "stdout",
     "output_type": "stream",
     "text": [
      "Error retrieving band structure for mp-19601: No electronic structure data found.\n"
     ]
    },
    {
     "name": "stderr",
     "output_type": "stream",
     "text": [
      "Retrieving ElectronicStructureDoc documents: 100%|██████████| 1/1 [00:00<00:00, 20763.88it/s]\n",
      " 59%|█████▉    | 589/1000 [10:29<06:29,  1.05it/s]"
     ]
    },
    {
     "name": "stdout",
     "output_type": "stream",
     "text": [
      "P2O5 mp-2173\n",
      "P2O5 mp-2173\n",
      "P2O5 mp-2173\n",
      "P2O5 mp-2173\n"
     ]
    },
    {
     "name": "stderr",
     "output_type": "stream",
     "text": [
      "Retrieving ElectronicStructureDoc documents: 100%|██████████| 1/1 [00:00<00:00, 21620.12it/s]\n",
      "Retrieving ElectronicStructureDoc documents: 100%|██████████| 1/1 [00:00<00:00, 17772.47it/s]\n",
      "Retrieving ElectronicStructureDoc documents: 100%|██████████| 1/1 [00:00<00:00, 15307.68it/s]\n",
      " 59%|█████▉    | 592/1000 [10:33<09:26,  1.39s/it]"
     ]
    },
    {
     "name": "stdout",
     "output_type": "stream",
     "text": [
      "Ta2NiS5 mp-28308\n"
     ]
    },
    {
     "name": "stderr",
     "output_type": "stream",
     "text": [
      "Retrieving ElectronicStructureDoc documents: 100%|██████████| 1/1 [00:00<00:00, 16844.59it/s]\n",
      " 59%|█████▉    | 593/1000 [10:34<09:42,  1.43s/it]"
     ]
    },
    {
     "name": "stdout",
     "output_type": "stream",
     "text": [
      "Fe4Cu2S7 mp-540724\n",
      "Fe4Cu2S7 mp-540724\n",
      "Fe4Cu2S7 mp-540724\n"
     ]
    },
    {
     "name": "stderr",
     "output_type": "stream",
     "text": [
      "Retrieving ElectronicStructureDoc documents: 100%|██████████| 1/1 [00:00<00:00, 12671.61it/s]\n",
      " 59%|█████▉    | 594/1000 [10:35<08:32,  1.26s/it]"
     ]
    },
    {
     "name": "stdout",
     "output_type": "stream",
     "text": [
      "SbOF mp-756654\n",
      "SbOF mp-756654\n",
      "SbOF mp-756654\n",
      "SbOF mp-756654\n"
     ]
    },
    {
     "name": "stderr",
     "output_type": "stream",
     "text": [
      "Retrieving ElectronicStructureDoc documents: 100%|██████████| 1/1 [00:00<00:00, 8630.26it/s]\n",
      "Retrieving ElectronicStructureDoc documents: 100%|██████████| 1/1 [00:00<00:00, 27235.74it/s]\n",
      " 60%|█████▉    | 596/1000 [10:37<07:21,  1.09s/it]"
     ]
    },
    {
     "name": "stdout",
     "output_type": "stream",
     "text": [
      "TlInS2 mp-632539\n",
      "TlInS2 mp-632539\n",
      "TlInS2 mp-632539\n",
      "TlInS2 mp-632539\n",
      "TlInS2 mp-632539\n",
      "TlInS2 mp-632539\n"
     ]
    },
    {
     "name": "stderr",
     "output_type": "stream",
     "text": [
      "Retrieving ElectronicStructureDoc documents: 100%|██████████| 1/1 [00:00<00:00, 12122.27it/s]\n",
      "Retrieving ElectronicStructureDoc documents: 100%|██████████| 1/1 [00:00<00:00, 17331.83it/s]\n",
      "Retrieving ElectronicStructureDoc documents: 100%|██████████| 1/1 [00:00<00:00, 15420.24it/s]\n",
      "Retrieving ElectronicStructureDoc documents: 0it [00:00, ?it/s]\n",
      " 60%|██████    | 600/1000 [10:41<05:30,  1.21it/s]"
     ]
    },
    {
     "name": "stdout",
     "output_type": "stream",
     "text": [
      "Error retrieving band structure for mvc-13960: No electronic structure data found.\n"
     ]
    },
    {
     "name": "stderr",
     "output_type": "stream",
     "text": [
      "Retrieving ElectronicStructureDoc documents: 0it [00:00, ?it/s]\n",
      " 60%|██████    | 601/1000 [10:41<04:27,  1.49it/s]"
     ]
    },
    {
     "name": "stdout",
     "output_type": "stream",
     "text": [
      "Error retrieving band structure for mvc-12466: No electronic structure data found.\n"
     ]
    },
    {
     "name": "stderr",
     "output_type": "stream",
     "text": [
      "Retrieving ElectronicStructureDoc documents: 100%|██████████| 1/1 [00:00<00:00, 12192.74it/s]\n",
      "Retrieving ElectronicStructureDoc documents: 0it [00:00, ?it/s]\n",
      " 60%|██████    | 603/1000 [10:42<04:22,  1.51it/s]"
     ]
    },
    {
     "name": "stdout",
     "output_type": "stream",
     "text": [
      "Error retrieving band structure for mvc-10219: No electronic structure data found.\n"
     ]
    },
    {
     "name": "stderr",
     "output_type": "stream",
     "text": [
      "Retrieving ElectronicStructureDoc documents: 100%|██████████| 1/1 [00:00<00:00, 18808.54it/s]\n",
      " 60%|██████    | 604/1000 [10:43<05:08,  1.28it/s]"
     ]
    },
    {
     "name": "stdout",
     "output_type": "stream",
     "text": [
      "TiSn(PO4)2 mp-760599\n",
      "TiSn(PO4)2 mp-760599\n"
     ]
    },
    {
     "name": "stderr",
     "output_type": "stream",
     "text": [
      "Retrieving ElectronicStructureDoc documents: 100%|██████████| 1/1 [00:00<00:00, 15887.52it/s]\n",
      "Retrieving ElectronicStructureDoc documents: 100%|██████████| 1/1 [00:00<00:00, 8371.86it/s]\n",
      "Retrieving ElectronicStructureDoc documents: 100%|██████████| 1/1 [00:00<00:00, 17119.61it/s]\n",
      " 61%|██████    | 607/1000 [10:48<08:28,  1.29s/it]"
     ]
    },
    {
     "name": "stdout",
     "output_type": "stream",
     "text": [
      "ZrI2 mp-570506\n"
     ]
    },
    {
     "name": "stderr",
     "output_type": "stream",
     "text": [
      "Retrieving ElectronicStructureDoc documents: 100%|██████████| 1/1 [00:00<00:00, 11586.48it/s]\n",
      " 61%|██████    | 608/1000 [10:49<07:36,  1.16s/it]"
     ]
    },
    {
     "name": "stdout",
     "output_type": "stream",
     "text": [
      "BiBr3 mp-610430\n",
      "BiBr3 mp-610430\n",
      "BiBr3 mp-610430\n"
     ]
    },
    {
     "name": "stderr",
     "output_type": "stream",
     "text": [
      "Retrieving ElectronicStructureDoc documents: 100%|██████████| 1/1 [00:00<00:00, 14614.30it/s]\n",
      " 61%|██████    | 609/1000 [10:50<06:52,  1.05s/it]"
     ]
    },
    {
     "name": "stdout",
     "output_type": "stream",
     "text": [
      "PbClF mp-613652\n",
      "PbClF mp-613652\n",
      "PbClF mp-613652\n",
      "PbClF mp-613652\n"
     ]
    },
    {
     "name": "stderr",
     "output_type": "stream",
     "text": [
      "Retrieving ElectronicStructureDoc documents: 0it [00:00, ?it/s]\n",
      " 61%|██████    | 610/1000 [10:50<05:19,  1.22it/s]"
     ]
    },
    {
     "name": "stdout",
     "output_type": "stream",
     "text": [
      "Error retrieving band structure for mvc-8162: No electronic structure data found.\n"
     ]
    },
    {
     "name": "stderr",
     "output_type": "stream",
     "text": [
      "Retrieving ElectronicStructureDoc documents: 100%|██████████| 1/1 [00:00<00:00, 12264.05it/s]\n",
      "Retrieving ElectronicStructureDoc documents: 100%|██████████| 1/1 [00:00<00:00, 19508.39it/s]\n",
      "Retrieving ElectronicStructureDoc documents: 100%|██████████| 1/1 [00:00<00:00, 18236.10it/s]\n",
      " 61%|██████▏   | 613/1000 [10:53<05:30,  1.17it/s]"
     ]
    },
    {
     "name": "stdout",
     "output_type": "stream",
     "text": [
      "SbPb2S2I3 mp-578882\n",
      "SbPb2S2I3 mp-578882\n",
      "SbPb2S2I3 mp-578882\n"
     ]
    },
    {
     "name": "stderr",
     "output_type": "stream",
     "text": [
      "Retrieving ElectronicStructureDoc documents: 100%|██████████| 1/1 [00:00<00:00, 9892.23it/s]\n",
      " 61%|██████▏   | 614/1000 [10:54<05:40,  1.13it/s]"
     ]
    },
    {
     "name": "stdout",
     "output_type": "stream",
     "text": [
      "Ba(AlCl4)2 mp-30023\n",
      "Ba(AlCl4)2 mp-30023\n"
     ]
    },
    {
     "name": "stderr",
     "output_type": "stream",
     "text": [
      "Retrieving ElectronicStructureDoc documents: 0it [00:00, ?it/s]\n",
      " 62%|██████▏   | 615/1000 [10:54<04:32,  1.41it/s]"
     ]
    },
    {
     "name": "stdout",
     "output_type": "stream",
     "text": [
      "Error retrieving band structure for mvc-340: No electronic structure data found.\n"
     ]
    },
    {
     "name": "stderr",
     "output_type": "stream",
     "text": [
      "Retrieving ElectronicStructureDoc documents: 100%|██████████| 1/1 [00:00<00:00, 20360.70it/s]\n",
      "Retrieving ElectronicStructureDoc documents: 0it [00:00, ?it/s]\n",
      " 62%|██████▏   | 617/1000 [10:56<04:45,  1.34it/s]"
     ]
    },
    {
     "name": "stdout",
     "output_type": "stream",
     "text": [
      "Error retrieving band structure for mvc-277: No electronic structure data found.\n"
     ]
    },
    {
     "name": "stderr",
     "output_type": "stream",
     "text": [
      "Retrieving ElectronicStructureDoc documents: 0it [00:00, ?it/s]\n",
      " 62%|██████▏   | 618/1000 [10:56<04:41,  1.36it/s]"
     ]
    },
    {
     "name": "stdout",
     "output_type": "stream",
     "text": [
      "Error retrieving band structure for mvc-6083: No electronic structure data found.\n"
     ]
    },
    {
     "name": "stderr",
     "output_type": "stream",
     "text": [
      "Retrieving ElectronicStructureDoc documents: 100%|██████████| 1/1 [00:00<00:00, 16256.99it/s]\n",
      "Retrieving ElectronicStructureDoc documents: 100%|██████████| 1/1 [00:00<00:00, 8112.77it/s]\n",
      " 62%|██████▏   | 620/1000 [11:02<12:15,  1.94s/it]"
     ]
    },
    {
     "name": "stdout",
     "output_type": "stream",
     "text": [
      "Nb9IrSe20 mp-675290\n",
      "Nb9IrSe20 mp-675290\n"
     ]
    },
    {
     "name": "stderr",
     "output_type": "stream",
     "text": [
      "Retrieving ElectronicStructureDoc documents: 100%|██████████| 1/1 [00:00<00:00, 10433.59it/s]\n",
      " 62%|██████▏   | 621/1000 [11:03<10:37,  1.68s/it]"
     ]
    },
    {
     "name": "stdout",
     "output_type": "stream",
     "text": [
      "ReHgO4 mp-616597\n"
     ]
    },
    {
     "name": "stderr",
     "output_type": "stream",
     "text": [
      "Retrieving ElectronicStructureDoc documents: 100%|██████████| 1/1 [00:00<00:00, 16513.01it/s]\n",
      " 62%|██████▏   | 622/1000 [11:04<09:02,  1.43s/it]"
     ]
    },
    {
     "name": "stdout",
     "output_type": "stream",
     "text": [
      "BaSn2(HO2)2 mp-696946\n",
      "BaSn2(HO2)2 mp-696946\n",
      "BaSn2(HO2)2 mp-696946\n"
     ]
    },
    {
     "name": "stderr",
     "output_type": "stream",
     "text": [
      "Retrieving ElectronicStructureDoc documents: 0it [00:00, ?it/s]\n",
      " 62%|██████▏   | 623/1000 [11:04<06:52,  1.09s/it]"
     ]
    },
    {
     "name": "stdout",
     "output_type": "stream",
     "text": [
      "Error retrieving band structure for mvc-8020: No electronic structure data found.\n"
     ]
    },
    {
     "name": "stderr",
     "output_type": "stream",
     "text": [
      "Retrieving ElectronicStructureDoc documents: 100%|██████████| 1/1 [00:00<00:00, 19599.55it/s]\n",
      " 62%|██████▏   | 624/1000 [11:05<05:54,  1.06it/s]"
     ]
    },
    {
     "name": "stdout",
     "output_type": "stream",
     "text": [
      "Sn2P3O10 mp-26944\n",
      "Sn2P3O10 mp-26944\n",
      "Sn2P3O10 mp-26944\n"
     ]
    },
    {
     "name": "stderr",
     "output_type": "stream",
     "text": [
      "Retrieving ElectronicStructureDoc documents: 100%|██████████| 1/1 [00:00<00:00, 21845.33it/s]\n",
      "Retrieving ElectronicStructureDoc documents: 100%|██████████| 1/1 [00:00<00:00, 12228.29it/s]\n",
      "Retrieving ElectronicStructureDoc documents: 100%|██████████| 1/1 [00:00<00:00, 9177.91it/s]\n",
      " 63%|██████▎   | 627/1000 [11:12<10:33,  1.70s/it]"
     ]
    },
    {
     "name": "stdout",
     "output_type": "stream",
     "text": [
      "Error retrieving band structure for mp-1071032: No uniform band structure data found for mp-1071032\n"
     ]
    },
    {
     "name": "stderr",
     "output_type": "stream",
     "text": [
      "Retrieving ElectronicStructureDoc documents: 100%|██████████| 1/1 [00:00<00:00, 21183.35it/s]\n",
      " 63%|██████▎   | 628/1000 [11:13<08:28,  1.37s/it]"
     ]
    },
    {
     "name": "stdout",
     "output_type": "stream",
     "text": [
      "Error retrieving band structure for mp-1038862: No uniform band structure data found for mp-1038862\n"
     ]
    },
    {
     "name": "stderr",
     "output_type": "stream",
     "text": [
      "Retrieving ElectronicStructureDoc documents: 100%|██████████| 1/1 [00:00<00:00, 8050.49it/s]\n",
      " 63%|██████▎   | 629/1000 [11:15<09:39,  1.56s/it]"
     ]
    },
    {
     "name": "stdout",
     "output_type": "stream",
     "text": [
      "UPb2 mp-1077277\n",
      "UPb2 mp-1077277\n"
     ]
    },
    {
     "name": "stderr",
     "output_type": "stream",
     "text": [
      "Retrieving ElectronicStructureDoc documents: 100%|██████████| 1/1 [00:00<00:00, 17189.77it/s]\n",
      " 63%|██████▎   | 630/1000 [11:16<08:46,  1.42s/it]"
     ]
    },
    {
     "name": "stdout",
     "output_type": "stream",
     "text": [
      "TmSb2 mp-1018120\n",
      "TmSb2 mp-1018120\n",
      "TmSb2 mp-1018120\n",
      "TmSb2 mp-1018120\n"
     ]
    },
    {
     "name": "stderr",
     "output_type": "stream",
     "text": [
      "Retrieving ElectronicStructureDoc documents: 0it [00:00, ?it/s]\n",
      " 63%|██████▎   | 631/1000 [11:17<07:32,  1.23s/it]"
     ]
    },
    {
     "name": "stdout",
     "output_type": "stream",
     "text": [
      "Error retrieving band structure for mvc-4668: No electronic structure data found.\n"
     ]
    },
    {
     "name": "stderr",
     "output_type": "stream",
     "text": [
      "Retrieving ElectronicStructureDoc documents: 100%|██████████| 1/1 [00:00<00:00, 14074.85it/s]\n",
      " 63%|██████▎   | 632/1000 [11:17<05:50,  1.05it/s]"
     ]
    },
    {
     "name": "stdout",
     "output_type": "stream",
     "text": [
      "Error retrieving band structure for mp-1039120: No uniform band structure data found for mp-1039120\n"
     ]
    },
    {
     "name": "stderr",
     "output_type": "stream",
     "text": [
      "Retrieving ElectronicStructureDoc documents: 100%|██████████| 1/1 [00:00<00:00, 17189.77it/s]\n",
      " 63%|██████▎   | 633/1000 [11:18<05:23,  1.14it/s]"
     ]
    },
    {
     "name": "stdout",
     "output_type": "stream",
     "text": [
      "SnO mp-1078644\n"
     ]
    },
    {
     "name": "stderr",
     "output_type": "stream",
     "text": [
      "Retrieving ElectronicStructureDoc documents: 0it [00:00, ?it/s]\n",
      " 63%|██████▎   | 634/1000 [11:18<04:19,  1.41it/s]"
     ]
    },
    {
     "name": "stdout",
     "output_type": "stream",
     "text": [
      "Error retrieving band structure for mp-1064979: No electronic structure data found.\n"
     ]
    },
    {
     "name": "stderr",
     "output_type": "stream",
     "text": [
      "Retrieving ElectronicStructureDoc documents: 100%|██████████| 1/1 [00:00<00:00, 16008.79it/s]\n",
      " 64%|██████▎   | 635/1000 [11:18<03:35,  1.69it/s]"
     ]
    },
    {
     "name": "stdout",
     "output_type": "stream",
     "text": [
      "Error retrieving band structure for mp-1066497: No uniform band structure data found for mp-1066497\n"
     ]
    },
    {
     "name": "stderr",
     "output_type": "stream",
     "text": [
      "Retrieving ElectronicStructureDoc documents: 100%|██████████| 1/1 [00:00<00:00, 12228.29it/s]\n",
      " 64%|██████▎   | 636/1000 [11:19<03:56,  1.54it/s]"
     ]
    },
    {
     "name": "stdout",
     "output_type": "stream",
     "text": [
      "PtI2 mp-28319\n",
      "PtI2 mp-28319\n",
      "PtI2 mp-28319\n"
     ]
    },
    {
     "name": "stderr",
     "output_type": "stream",
     "text": [
      "Retrieving ElectronicStructureDoc documents: 100%|██████████| 1/1 [00:00<00:00, 10922.67it/s]\n",
      "Retrieving ElectronicStructureDoc documents: 100%|██████████| 1/1 [00:00<00:00, 12633.45it/s]\n",
      " 64%|██████▍   | 638/1000 [11:20<04:00,  1.50it/s]"
     ]
    },
    {
     "name": "stdout",
     "output_type": "stream",
     "text": [
      "TlF3 mp-2632\n",
      "TlF3 mp-2632\n",
      "TlF3 mp-2632\n",
      "TlF3 mp-2632\n",
      "TlF3 mp-2632\n"
     ]
    },
    {
     "name": "stderr",
     "output_type": "stream",
     "text": [
      "Retrieving ElectronicStructureDoc documents: 100%|██████████| 1/1 [00:00<00:00, 18315.74it/s]\n",
      "Retrieving ElectronicStructureDoc documents: 100%|██████████| 1/1 [00:00<00:00, 21076.90it/s]\n",
      "Retrieving ElectronicStructureDoc documents: 100%|██████████| 1/1 [00:00<00:00, 24385.49it/s]\n",
      " 64%|██████▍   | 641/1000 [11:25<07:35,  1.27s/it]"
     ]
    },
    {
     "name": "stdout",
     "output_type": "stream",
     "text": [
      "ZrI2 mp-571279\n",
      "ZrI2 mp-571279\n"
     ]
    },
    {
     "name": "stderr",
     "output_type": "stream",
     "text": [
      "Retrieving ElectronicStructureDoc documents: 100%|██████████| 1/1 [00:00<00:00, 24385.49it/s]\n",
      " 64%|██████▍   | 642/1000 [11:26<07:03,  1.18s/it]"
     ]
    },
    {
     "name": "stdout",
     "output_type": "stream",
     "text": [
      "Tl4O3 mp-27684\n",
      "Tl4O3 mp-27684\n"
     ]
    },
    {
     "name": "stderr",
     "output_type": "stream",
     "text": [
      "Retrieving ElectronicStructureDoc documents: 100%|██████████| 1/1 [00:00<00:00, 18558.87it/s]\n",
      "Retrieving ElectronicStructureDoc documents: 100%|██████████| 1/1 [00:00<00:00, 10082.46it/s]\n",
      "Retrieving ElectronicStructureDoc documents: 100%|██████████| 1/1 [00:00<00:00, 15827.56it/s]\n",
      "Retrieving ElectronicStructureDoc documents: 100%|██████████| 1/1 [00:00<00:00, 22919.69it/s]\n",
      "Retrieving ElectronicStructureDoc documents: 100%|██████████| 1/1 [00:00<00:00, 27060.03it/s]\n",
      " 65%|██████▍   | 647/1000 [11:31<07:08,  1.21s/it]"
     ]
    },
    {
     "name": "stdout",
     "output_type": "stream",
     "text": [
      "CrBr3 mp-27734\n",
      "CrBr3 mp-27734\n",
      "CrBr3 mp-27734\n",
      "CrBr3 mp-27734\n"
     ]
    },
    {
     "name": "stderr",
     "output_type": "stream",
     "text": [
      "Retrieving ElectronicStructureDoc documents: 100%|██████████| 1/1 [00:00<00:00, 21290.88it/s]\n",
      " 65%|██████▍   | 648/1000 [11:32<06:30,  1.11s/it]"
     ]
    },
    {
     "name": "stdout",
     "output_type": "stream",
     "text": [
      "Bi2O3 mp-37036\n",
      "Bi2O3 mp-37036\n",
      "Bi2O3 mp-37036\n",
      "Bi2O3 mp-37036\n",
      "Bi2O3 mp-37036\n"
     ]
    },
    {
     "name": "stderr",
     "output_type": "stream",
     "text": [
      "Retrieving ElectronicStructureDoc documents: 100%|██████████| 1/1 [00:00<00:00, 26051.58it/s]\n",
      "Retrieving ElectronicStructureDoc documents: 100%|██████████| 1/1 [00:00<00:00, 11715.93it/s]\n",
      " 65%|██████▌   | 650/1000 [11:36<10:03,  1.72s/it]"
     ]
    },
    {
     "name": "stdout",
     "output_type": "stream",
     "text": [
      "TaS3 mp-30527\n",
      "TaS3 mp-30527\n"
     ]
    },
    {
     "name": "stderr",
     "output_type": "stream",
     "text": [
      "Retrieving ElectronicStructureDoc documents: 100%|██████████| 1/1 [00:00<00:00, 19328.59it/s]\n",
      "Retrieving ElectronicStructureDoc documents: 100%|██████████| 1/1 [00:00<00:00, 16194.22it/s]\n",
      " 65%|██████▌   | 652/1000 [11:38<06:57,  1.20s/it]"
     ]
    },
    {
     "name": "stdout",
     "output_type": "stream",
     "text": [
      "Error retrieving band structure for mp-570610: No uniform band structure data found for mp-570610\n"
     ]
    },
    {
     "name": "stderr",
     "output_type": "stream",
     "text": [
      "Retrieving ElectronicStructureDoc documents: 100%|██████████| 1/1 [00:00<00:00, 14315.03it/s]\n",
      " 65%|██████▌   | 653/1000 [11:40<09:09,  1.58s/it]"
     ]
    },
    {
     "name": "stdout",
     "output_type": "stream",
     "text": [
      "Pr2I5 mp-22854\n",
      "Pr2I5 mp-22854\n"
     ]
    },
    {
     "name": "stderr",
     "output_type": "stream",
     "text": [
      "Retrieving ElectronicStructureDoc documents: 100%|██████████| 1/1 [00:00<00:00, 11915.64it/s]\n",
      "Retrieving ElectronicStructureDoc documents: 100%|██████████| 1/1 [00:00<00:00, 20661.60it/s]\n",
      "Retrieving ElectronicStructureDoc documents: 100%|██████████| 1/1 [00:00<00:00, 22671.91it/s]\n",
      " 66%|██████▌   | 656/1000 [11:45<10:02,  1.75s/it]"
     ]
    },
    {
     "name": "stdout",
     "output_type": "stream",
     "text": [
      "CuF2 mp-1229\n",
      "CuF2 mp-1229\n",
      "CuF2 mp-1229\n",
      "CuF2 mp-1229\n",
      "CuF2 mp-1229\n",
      "CuF2 mp-1229\n"
     ]
    },
    {
     "name": "stderr",
     "output_type": "stream",
     "text": [
      "Retrieving ElectronicStructureDoc documents: 100%|██████████| 1/1 [00:00<00:00, 24818.37it/s]\n",
      " 66%|██████▌   | 657/1000 [11:46<08:32,  1.49s/it]"
     ]
    },
    {
     "name": "stdout",
     "output_type": "stream",
     "text": [
      "GeAs2 mp-17524\n",
      "GeAs2 mp-17524\n",
      "GeAs2 mp-17524\n"
     ]
    },
    {
     "name": "stderr",
     "output_type": "stream",
     "text": [
      "Retrieving ElectronicStructureDoc documents: 100%|██████████| 1/1 [00:00<00:00, 25266.89it/s]\n",
      "Retrieving ElectronicStructureDoc documents: 100%|██████████| 1/1 [00:00<00:00, 12483.05it/s]\n",
      "Retrieving ElectronicStructureDoc documents: 100%|██████████| 1/1 [00:00<00:00, 18001.30it/s]\n",
      "Retrieving ElectronicStructureDoc documents: 100%|██████████| 1/1 [00:00<00:00, 5017.11it/s]\n",
      " 66%|██████▌   | 661/1000 [11:51<07:54,  1.40s/it]"
     ]
    },
    {
     "name": "stdout",
     "output_type": "stream",
     "text": [
      "InBi mp-23313\n",
      "InBi mp-23313\n",
      "InBi mp-23313\n",
      "InBi mp-23313\n",
      "InBi mp-23313\n"
     ]
    },
    {
     "name": "stderr",
     "output_type": "stream",
     "text": [
      "Retrieving ElectronicStructureDoc documents: 100%|██████████| 1/1 [00:00<00:00, 11397.57it/s]\n",
      "Retrieving ElectronicStructureDoc documents: 100%|██████████| 1/1 [00:00<00:00, 12985.46it/s]\n",
      " 66%|██████▋   | 663/1000 [11:55<10:12,  1.82s/it]"
     ]
    },
    {
     "name": "stdout",
     "output_type": "stream",
     "text": [
      "CuF2 mp-1229\n",
      "CuF2 mp-1229\n",
      "CuF2 mp-1229\n",
      "CuF2 mp-1229\n",
      "CuF2 mp-1229\n",
      "CuF2 mp-1229\n"
     ]
    },
    {
     "name": "stderr",
     "output_type": "stream",
     "text": [
      "Retrieving ElectronicStructureDoc documents: 0it [00:00, ?it/s]\n",
      " 66%|██████▋   | 664/1000 [11:56<08:03,  1.44s/it]"
     ]
    },
    {
     "name": "stdout",
     "output_type": "stream",
     "text": [
      "Error retrieving band structure for mp-25643: No electronic structure data found.\n"
     ]
    },
    {
     "name": "stderr",
     "output_type": "stream",
     "text": [
      "Retrieving ElectronicStructureDoc documents: 100%|██████████| 1/1 [00:00<00:00, 17050.02it/s]\n",
      " 66%|██████▋   | 665/1000 [11:56<06:25,  1.15s/it]"
     ]
    },
    {
     "name": "stdout",
     "output_type": "stream",
     "text": [
      "TlF3 mp-2632\n",
      "TlF3 mp-2632\n",
      "TlF3 mp-2632\n",
      "TlF3 mp-2632\n",
      "TlF3 mp-2632\n"
     ]
    },
    {
     "name": "stderr",
     "output_type": "stream",
     "text": [
      "Retrieving ElectronicStructureDoc documents: 100%|██████████| 1/1 [00:00<00:00, 13273.11it/s]\n",
      "Retrieving ElectronicStructureDoc documents: 100%|██████████| 1/1 [00:00<00:00, 10922.67it/s]\n",
      " 67%|██████▋   | 667/1000 [11:58<05:53,  1.06s/it]"
     ]
    },
    {
     "name": "stdout",
     "output_type": "stream",
     "text": [
      "IO3 mp-23315\n",
      "IO3 mp-23315\n",
      "IO3 mp-23315\n",
      "IO3 mp-23315\n"
     ]
    },
    {
     "name": "stderr",
     "output_type": "stream",
     "text": [
      "Retrieving ElectronicStructureDoc documents: 100%|██████████| 1/1 [00:00<00:00, 18808.54it/s]\n",
      "Retrieving ElectronicStructureDoc documents: 0it [00:00, ?it/s]\n",
      " 67%|██████▋   | 669/1000 [12:00<04:54,  1.12it/s]"
     ]
    },
    {
     "name": "stdout",
     "output_type": "stream",
     "text": [
      "Error retrieving band structure for mvc-13941: No electronic structure data found.\n"
     ]
    },
    {
     "name": "stderr",
     "output_type": "stream",
     "text": [
      "Retrieving ElectronicStructureDoc documents: 100%|██████████| 1/1 [00:00<00:00, 17772.47it/s]\n",
      " 67%|██████▋   | 670/1000 [12:01<05:59,  1.09s/it]"
     ]
    },
    {
     "name": "stdout",
     "output_type": "stream",
     "text": [
      "GeAs mp-9548\n",
      "GeAs mp-9548\n"
     ]
    },
    {
     "name": "stderr",
     "output_type": "stream",
     "text": [
      "Retrieving ElectronicStructureDoc documents: 100%|██████████| 1/1 [00:00<00:00, 11335.96it/s]\n",
      " 67%|██████▋   | 671/1000 [12:02<05:56,  1.08s/it]"
     ]
    },
    {
     "name": "stdout",
     "output_type": "stream",
     "text": [
      "CrF2 mp-554340\n",
      "CrF2 mp-554340\n"
     ]
    },
    {
     "name": "stderr",
     "output_type": "stream",
     "text": [
      "Retrieving ElectronicStructureDoc documents: 100%|██████████| 1/1 [00:00<00:00, 23831.27it/s]\n",
      "Retrieving ElectronicStructureDoc documents: 100%|██████████| 1/1 [00:00<00:00, 10407.70it/s]\n",
      " 67%|██████▋   | 673/1000 [12:05<07:20,  1.35s/it]"
     ]
    },
    {
     "name": "stdout",
     "output_type": "stream",
     "text": [
      "Sn4Pd mp-2128\n",
      "Sn4Pd mp-2128\n",
      "Sn4Pd mp-2128\n"
     ]
    },
    {
     "name": "stderr",
     "output_type": "stream",
     "text": [
      "Retrieving ElectronicStructureDoc documents: 100%|██████████| 1/1 [00:00<00:00, 20560.31it/s]\n",
      " 67%|██████▋   | 674/1000 [12:06<05:48,  1.07s/it]"
     ]
    },
    {
     "name": "stdout",
     "output_type": "stream",
     "text": [
      "TlF3 mp-2632\n",
      "TlF3 mp-2632\n",
      "TlF3 mp-2632\n",
      "TlF3 mp-2632\n",
      "TlF3 mp-2632\n"
     ]
    },
    {
     "name": "stderr",
     "output_type": "stream",
     "text": [
      "Retrieving ElectronicStructureDoc documents: 100%|██████████| 1/1 [00:00<00:00, 15887.52it/s]\n",
      " 68%|██████▊   | 675/1000 [12:06<04:37,  1.17it/s]"
     ]
    },
    {
     "name": "stdout",
     "output_type": "stream",
     "text": [
      "Error retrieving band structure for mp-570325: No uniform band structure data found for mp-570325\n"
     ]
    },
    {
     "name": "stderr",
     "output_type": "stream",
     "text": [
      "Retrieving ElectronicStructureDoc documents: 100%|██████████| 1/1 [00:00<00:00, 24105.20it/s]\n",
      "Retrieving ElectronicStructureDoc documents: 0it [00:00, ?it/s]\n",
      " 68%|██████▊   | 677/1000 [12:07<04:14,  1.27it/s]"
     ]
    },
    {
     "name": "stdout",
     "output_type": "stream",
     "text": [
      "Error retrieving band structure for mvc-14464: No electronic structure data found.\n"
     ]
    },
    {
     "name": "stderr",
     "output_type": "stream",
     "text": [
      "Retrieving ElectronicStructureDoc documents: 100%|██████████| 1/1 [00:00<00:00, 14665.40it/s]\n",
      " 68%|██████▊   | 678/1000 [12:10<06:36,  1.23s/it]"
     ]
    },
    {
     "name": "stdout",
     "output_type": "stream",
     "text": [
      "Ca5Ir mp-570356\n",
      "Ca5Ir mp-570356\n",
      "Ca5Ir mp-570356\n",
      "Ca5Ir mp-570356\n"
     ]
    },
    {
     "name": "stderr",
     "output_type": "stream",
     "text": [
      "Retrieving ElectronicStructureDoc documents: 100%|██████████| 1/1 [00:00<00:00, 22795.13it/s]\n",
      " 68%|██████▊   | 679/1000 [12:11<06:40,  1.25s/it]"
     ]
    },
    {
     "name": "stdout",
     "output_type": "stream",
     "text": [
      "TlF mp-720\n",
      "TlF mp-720\n",
      "TlF mp-720\n",
      "TlF mp-720\n",
      "TlF mp-720\n",
      "TlF mp-720\n"
     ]
    },
    {
     "name": "stderr",
     "output_type": "stream",
     "text": [
      "Retrieving ElectronicStructureDoc documents: 100%|██████████| 1/1 [00:00<00:00, 18724.57it/s]\n",
      " 68%|██████▊   | 680/1000 [12:12<06:31,  1.22s/it]"
     ]
    },
    {
     "name": "stdout",
     "output_type": "stream",
     "text": [
      "Sn3F8 mp-1443\n",
      "Sn3F8 mp-1443\n"
     ]
    },
    {
     "name": "stderr",
     "output_type": "stream",
     "text": [
      "Retrieving ElectronicStructureDoc documents: 100%|██████████| 1/1 [00:00<00:00, 19691.57it/s]\n",
      " 68%|██████▊   | 681/1000 [12:14<06:46,  1.27s/it]"
     ]
    },
    {
     "name": "stdout",
     "output_type": "stream",
     "text": [
      "Bi2Pt mp-569581\n",
      "Bi2Pt mp-569581\n",
      "Bi2Pt mp-569581\n",
      "Bi2Pt mp-569581\n"
     ]
    },
    {
     "name": "stderr",
     "output_type": "stream",
     "text": [
      "Retrieving ElectronicStructureDoc documents: 0it [00:00, ?it/s]\n",
      " 68%|██████▊   | 682/1000 [12:14<05:35,  1.05s/it]"
     ]
    },
    {
     "name": "stdout",
     "output_type": "stream",
     "text": [
      "Error retrieving band structure for mp-765268: No electronic structure data found.\n"
     ]
    },
    {
     "name": "stderr",
     "output_type": "stream",
     "text": [
      "Retrieving ElectronicStructureDoc documents: 100%|██████████| 1/1 [00:00<00:00, 21290.88it/s]\n",
      "Retrieving ElectronicStructureDoc documents: 100%|██████████| 1/1 [00:00<00:00, 21290.88it/s]\n",
      " 68%|██████▊   | 684/1000 [12:17<06:39,  1.26s/it]"
     ]
    },
    {
     "name": "stdout",
     "output_type": "stream",
     "text": [
      "Bi2Pt mp-569581\n",
      "Bi2Pt mp-569581\n",
      "Bi2Pt mp-569581\n",
      "Bi2Pt mp-569581\n"
     ]
    },
    {
     "name": "stderr",
     "output_type": "stream",
     "text": [
      "Retrieving ElectronicStructureDoc documents: 0it [00:00, ?it/s]\n",
      " 68%|██████▊   | 685/1000 [12:18<05:25,  1.03s/it]"
     ]
    },
    {
     "name": "stdout",
     "output_type": "stream",
     "text": [
      "Error retrieving band structure for mvc-13239: No electronic structure data found.\n"
     ]
    },
    {
     "name": "stderr",
     "output_type": "stream",
     "text": [
      "Retrieving ElectronicStructureDoc documents: 0it [00:00, ?it/s]\n",
      " 69%|██████▊   | 686/1000 [12:18<04:16,  1.23it/s]"
     ]
    },
    {
     "name": "stdout",
     "output_type": "stream",
     "text": [
      "Error retrieving band structure for mvc-15980: No electronic structure data found.\n"
     ]
    },
    {
     "name": "stderr",
     "output_type": "stream",
     "text": [
      "Retrieving ElectronicStructureDoc documents: 0it [00:00, ?it/s]\n",
      " 69%|██████▊   | 687/1000 [12:19<03:56,  1.32it/s]"
     ]
    },
    {
     "name": "stdout",
     "output_type": "stream",
     "text": [
      "Error retrieving band structure for mp-765924: No electronic structure data found.\n"
     ]
    },
    {
     "name": "stderr",
     "output_type": "stream",
     "text": [
      "Retrieving ElectronicStructureDoc documents: 100%|██████████| 1/1 [00:00<00:00, 20971.52it/s]\n",
      "Retrieving ElectronicStructureDoc documents: 100%|██████████| 1/1 [00:00<00:00, 22919.69it/s]\n",
      "Retrieving ElectronicStructureDoc documents: 100%|██████████| 1/1 [00:00<00:00, 19878.22it/s]\n",
      "Retrieving ElectronicStructureDoc documents: 100%|██████████| 1/1 [00:00<00:00, 18236.10it/s]\n",
      "Retrieving ElectronicStructureDoc documents: 0it [00:00, ?it/s]\n",
      " 69%|██████▉   | 692/1000 [12:26<05:55,  1.15s/it]"
     ]
    },
    {
     "name": "stdout",
     "output_type": "stream",
     "text": [
      "Error retrieving band structure for mp-863847: No electronic structure data found.\n"
     ]
    },
    {
     "name": "stderr",
     "output_type": "stream",
     "text": [
      "Retrieving ElectronicStructureDoc documents: 0it [00:00, ?it/s]\n",
      " 69%|██████▉   | 693/1000 [12:27<04:36,  1.11it/s]"
     ]
    },
    {
     "name": "stdout",
     "output_type": "stream",
     "text": [
      "Error retrieving band structure for mvc-15178: No electronic structure data found.\n"
     ]
    },
    {
     "name": "stderr",
     "output_type": "stream",
     "text": [
      "Retrieving ElectronicStructureDoc documents: 0it [00:00, ?it/s]\n",
      " 69%|██████▉   | 694/1000 [12:27<03:59,  1.28it/s]"
     ]
    },
    {
     "name": "stdout",
     "output_type": "stream",
     "text": [
      "Error retrieving band structure for mvc-15907: No electronic structure data found.\n"
     ]
    },
    {
     "name": "stderr",
     "output_type": "stream",
     "text": [
      "Retrieving ElectronicStructureDoc documents: 100%|██████████| 1/1 [00:00<00:00, 18236.10it/s]\n",
      " 70%|██████▉   | 695/1000 [12:28<04:06,  1.24it/s]"
     ]
    },
    {
     "name": "stdout",
     "output_type": "stream",
     "text": [
      "Ta2I5 mp-32554\n",
      "Ta2I5 mp-32554\n",
      "Ta2I5 mp-32554\n"
     ]
    },
    {
     "name": "stderr",
     "output_type": "stream",
     "text": [
      "Retrieving ElectronicStructureDoc documents: 100%|██████████| 1/1 [00:00<00:00, 24818.37it/s]\n",
      " 70%|██████▉   | 696/1000 [12:29<03:53,  1.30it/s]"
     ]
    },
    {
     "name": "stdout",
     "output_type": "stream",
     "text": [
      "Error retrieving band structure for mp-643430: No uniform band structure data found for mp-643430\n"
     ]
    },
    {
     "name": "stderr",
     "output_type": "stream",
     "text": [
      "Retrieving ElectronicStructureDoc documents: 100%|██████████| 1/1 [00:00<00:00, 18396.07it/s]\n",
      "Retrieving ElectronicStructureDoc documents: 100%|██████████| 1/1 [00:00<00:00, 21076.90it/s]\n",
      "Retrieving ElectronicStructureDoc documents: 100%|██████████| 1/1 [00:00<00:00, 19878.22it/s]\n",
      "Retrieving ElectronicStructureDoc documents: 100%|██████████| 1/1 [00:00<00:00, 10837.99it/s]\n",
      "Retrieving ElectronicStructureDoc documents: 100%|██████████| 1/1 [00:00<00:00, 16131.94it/s]\n",
      " 70%|███████   | 701/1000 [12:38<07:22,  1.48s/it]"
     ]
    },
    {
     "name": "stdout",
     "output_type": "stream",
     "text": [
      "Bi2O3 mp-684617\n"
     ]
    },
    {
     "name": "stderr",
     "output_type": "stream",
     "text": [
      "Retrieving ElectronicStructureDoc documents: 100%|██████████| 1/1 [00:00<00:00, 9754.20it/s]\n",
      " 70%|███████   | 702/1000 [12:38<05:36,  1.13s/it]"
     ]
    },
    {
     "name": "stdout",
     "output_type": "stream",
     "text": [
      "Error retrieving band structure for mp-643430: No uniform band structure data found for mp-643430\n"
     ]
    },
    {
     "name": "stderr",
     "output_type": "stream",
     "text": [
      "Retrieving ElectronicStructureDoc documents: 100%|██████████| 1/1 [00:00<00:00, 25115.59it/s]\n",
      " 70%|███████   | 703/1000 [12:40<05:54,  1.19s/it]"
     ]
    },
    {
     "name": "stdout",
     "output_type": "stream",
     "text": [
      "BN mp-569655\n",
      "BN mp-569655\n",
      "BN mp-569655\n",
      "BN mp-569655\n",
      "BN mp-569655\n",
      "BN mp-569655\n"
     ]
    },
    {
     "name": "stderr",
     "output_type": "stream",
     "text": [
      "Retrieving ElectronicStructureDoc documents: 100%|██████████| 1/1 [00:00<00:00, 20164.92it/s]\n",
      " 70%|███████   | 704/1000 [12:41<05:59,  1.21s/it]"
     ]
    },
    {
     "name": "stdout",
     "output_type": "stream",
     "text": [
      "GaSe mp-568128\n"
     ]
    },
    {
     "name": "stderr",
     "output_type": "stream",
     "text": [
      "Retrieving ElectronicStructureDoc documents: 100%|██████████| 1/1 [00:00<00:00, 14768.68it/s]\n",
      " 70%|███████   | 705/1000 [12:45<10:41,  2.18s/it]"
     ]
    },
    {
     "name": "stdout",
     "output_type": "stream",
     "text": [
      "O2 mp-1056059\n",
      "O2 mp-1056059\n",
      "O2 mp-1056059\n",
      "O2 mp-1056059\n",
      "O2 mp-1056059\n",
      "O2 mp-1056059\n",
      "O2 mp-1056059\n"
     ]
    },
    {
     "name": "stderr",
     "output_type": "stream",
     "text": [
      "Retrieving ElectronicStructureDoc documents: 100%|██████████| 1/1 [00:00<00:00, 16777.22it/s]\n",
      "Retrieving ElectronicStructureDoc documents: 100%|██████████| 1/1 [00:00<00:00, 10155.70it/s]\n",
      " 71%|███████   | 707/1000 [12:47<07:39,  1.57s/it]"
     ]
    },
    {
     "name": "stdout",
     "output_type": "stream",
     "text": [
      "GaN mp-1007824\n"
     ]
    },
    {
     "name": "stderr",
     "output_type": "stream",
     "text": [
      "Retrieving ElectronicStructureDoc documents: 0it [00:00, ?it/s]\n",
      " 71%|███████   | 708/1000 [12:48<06:07,  1.26s/it]"
     ]
    },
    {
     "name": "stdout",
     "output_type": "stream",
     "text": [
      "Error retrieving band structure for mvc-13958: No electronic structure data found.\n"
     ]
    },
    {
     "name": "stderr",
     "output_type": "stream",
     "text": [
      "Retrieving ElectronicStructureDoc documents: 100%|██████████| 1/1 [00:00<00:00, 16448.25it/s]\n",
      "Retrieving ElectronicStructureDoc documents: 100%|██████████| 1/1 [00:00<00:00, 14926.35it/s]\n",
      " 71%|███████   | 710/1000 [12:49<04:29,  1.08it/s]"
     ]
    },
    {
     "name": "stdout",
     "output_type": "stream",
     "text": [
      "Error retrieving band structure for mp-684652: No uniform band structure data found for mp-684652\n"
     ]
    },
    {
     "name": "stderr",
     "output_type": "stream",
     "text": [
      "Retrieving ElectronicStructureDoc documents: 0it [00:00, ?it/s]\n",
      " 71%|███████   | 711/1000 [12:49<03:33,  1.35it/s]"
     ]
    },
    {
     "name": "stdout",
     "output_type": "stream",
     "text": [
      "Error retrieving band structure for mvc-13958: No electronic structure data found.\n"
     ]
    },
    {
     "name": "stderr",
     "output_type": "stream",
     "text": [
      "Retrieving ElectronicStructureDoc documents: 100%|██████████| 1/1 [00:00<00:00, 12905.55it/s]\n",
      "Retrieving ElectronicStructureDoc documents: 100%|██████████| 1/1 [00:00<00:00, 9341.43it/s]\n",
      " 71%|███████▏  | 713/1000 [12:51<03:53,  1.23it/s]"
     ]
    },
    {
     "name": "stdout",
     "output_type": "stream",
     "text": [
      "TmSb2 mp-1018120\n",
      "TmSb2 mp-1018120\n",
      "TmSb2 mp-1018120\n",
      "TmSb2 mp-1018120\n"
     ]
    },
    {
     "name": "stderr",
     "output_type": "stream",
     "text": [
      "Retrieving ElectronicStructureDoc documents: 100%|██████████| 1/1 [00:00<00:00, 20068.44it/s]\n",
      "Retrieving ElectronicStructureDoc documents: 100%|██████████| 1/1 [00:00<00:00, 22919.69it/s]\n",
      " 72%|███████▏  | 715/1000 [12:54<06:01,  1.27s/it]"
     ]
    },
    {
     "name": "stdout",
     "output_type": "stream",
     "text": [
      "ThCo5 mp-1072579\n",
      "ThCo5 mp-1072579\n",
      "ThCo5 mp-1072579\n"
     ]
    },
    {
     "name": "stderr",
     "output_type": "stream",
     "text": [
      "Retrieving ElectronicStructureDoc documents: 100%|██████████| 1/1 [00:00<00:00, 15650.39it/s]\n",
      "Retrieving ElectronicStructureDoc documents: 100%|██████████| 1/1 [00:00<00:00, 22671.91it/s]\n",
      "Retrieving ElectronicStructureDoc documents: 100%|██████████| 1/1 [00:00<00:00, 21290.88it/s]\n",
      " 72%|███████▏  | 718/1000 [12:56<04:29,  1.05it/s]"
     ]
    },
    {
     "name": "stdout",
     "output_type": "stream",
     "text": [
      "NaB(SO4)2 mp-1020658\n",
      "NaB(SO4)2 mp-1020658\n",
      "NaB(SO4)2 mp-1020658\n"
     ]
    },
    {
     "name": "stderr",
     "output_type": "stream",
     "text": [
      "Retrieving ElectronicStructureDoc documents: 100%|██████████| 1/1 [00:00<00:00, 17403.75it/s]\n",
      "Retrieving ElectronicStructureDoc documents: 100%|██████████| 1/1 [00:00<00:00, 16320.25it/s]\n",
      "Retrieving ElectronicStructureDoc documents: 100%|██████████| 1/1 [00:00<00:00, 9157.87it/s]\n",
      "Retrieving ElectronicStructureDoc documents: 0it [00:00, ?it/s]\n",
      " 72%|███████▏  | 722/1000 [13:05<08:08,  1.76s/it]"
     ]
    },
    {
     "name": "stdout",
     "output_type": "stream",
     "text": [
      "Error retrieving band structure for mp-763147: No electronic structure data found.\n"
     ]
    },
    {
     "name": "stderr",
     "output_type": "stream",
     "text": [
      "Retrieving ElectronicStructureDoc documents: 100%|██████████| 1/1 [00:00<00:00, 16194.22it/s]\n",
      "Retrieving ElectronicStructureDoc documents: 100%|██████████| 1/1 [00:00<00:00, 11618.57it/s]\n",
      " 72%|███████▏  | 724/1000 [13:07<06:48,  1.48s/it]"
     ]
    },
    {
     "name": "stdout",
     "output_type": "stream",
     "text": [
      "InBrO mp-27703\n",
      "InBrO mp-27703\n",
      "InBrO mp-27703\n",
      "InBrO mp-27703\n"
     ]
    },
    {
     "name": "stderr",
     "output_type": "stream",
     "text": [
      "Retrieving ElectronicStructureDoc documents: 100%|██████████| 1/1 [00:00<00:00, 12052.60it/s]\n",
      "Retrieving ElectronicStructureDoc documents: 100%|██████████| 1/1 [00:00<00:00, 13573.80it/s]\n",
      "Retrieving ElectronicStructureDoc documents: 100%|██████████| 1/1 [00:00<00:00, 20068.44it/s]\n",
      " 73%|███████▎  | 727/1000 [13:13<09:03,  1.99s/it]"
     ]
    },
    {
     "name": "stdout",
     "output_type": "stream",
     "text": [
      "Ce4C2Br5 mp-574262\n",
      "Ce4C2Br5 mp-574262\n",
      "Ce4C2Br5 mp-574262\n"
     ]
    },
    {
     "name": "stderr",
     "output_type": "stream",
     "text": [
      "Retrieving ElectronicStructureDoc documents: 0it [00:00, ?it/s]\n",
      " 73%|███████▎  | 728/1000 [13:13<07:03,  1.56s/it]"
     ]
    },
    {
     "name": "stdout",
     "output_type": "stream",
     "text": [
      "Error retrieving band structure for mp-554799: No electronic structure data found.\n"
     ]
    },
    {
     "name": "stderr",
     "output_type": "stream",
     "text": [
      "Retrieving ElectronicStructureDoc documents: 100%|██████████| 1/1 [00:00<00:00, 9731.56it/s]\n",
      " 73%|███████▎  | 729/1000 [13:16<08:49,  1.95s/it]"
     ]
    },
    {
     "name": "stdout",
     "output_type": "stream",
     "text": [
      "Al(HO)3 mp-560196\n",
      "Al(HO)3 mp-560196\n",
      "Al(HO)3 mp-560196\n",
      "Al(HO)3 mp-560196\n",
      "Al(HO)3 mp-560196\n"
     ]
    },
    {
     "name": "stderr",
     "output_type": "stream",
     "text": [
      "Retrieving ElectronicStructureDoc documents: 100%|██████████| 1/1 [00:00<00:00, 26214.40it/s]\n",
      " 73%|███████▎  | 730/1000 [13:17<07:25,  1.65s/it]"
     ]
    },
    {
     "name": "stdout",
     "output_type": "stream",
     "text": [
      "KH(CN2)3 mp-696886\n",
      "KH(CN2)3 mp-696886\n",
      "KH(CN2)3 mp-696886\n"
     ]
    },
    {
     "name": "stderr",
     "output_type": "stream",
     "text": [
      "Retrieving ElectronicStructureDoc documents: 100%|██████████| 1/1 [00:00<00:00, 9446.63it/s]\n",
      "Retrieving ElectronicStructureDoc documents: 100%|██████████| 1/1 [00:00<00:00, 9822.73it/s]\n",
      "Retrieving ElectronicStructureDoc documents: 0it [00:00, ?it/s]\n",
      " 73%|███████▎  | 733/1000 [13:21<05:04,  1.14s/it]"
     ]
    },
    {
     "name": "stdout",
     "output_type": "stream",
     "text": [
      "Error retrieving band structure for mp-763673: No electronic structure data found.\n"
     ]
    },
    {
     "name": "stderr",
     "output_type": "stream",
     "text": [
      "Retrieving ElectronicStructureDoc documents: 100%|██████████| 1/1 [00:00<00:00, 11335.96it/s]\n",
      " 73%|███████▎  | 734/1000 [13:21<03:52,  1.15it/s]"
     ]
    },
    {
     "name": "stdout",
     "output_type": "stream",
     "text": [
      "Error retrieving band structure for mp-684652: No uniform band structure data found for mp-684652\n"
     ]
    },
    {
     "name": "stderr",
     "output_type": "stream",
     "text": [
      "Retrieving ElectronicStructureDoc documents: 100%|██████████| 1/1 [00:00<00:00, 21845.33it/s]\n",
      "Retrieving ElectronicStructureDoc documents: 100%|██████████| 1/1 [00:00<00:00, 10205.12it/s]\n",
      " 74%|███████▎  | 736/1000 [13:23<04:05,  1.08it/s]"
     ]
    },
    {
     "name": "stdout",
     "output_type": "stream",
     "text": [
      "BaH9IO5 mp-766855\n",
      "BaH9IO5 mp-766855\n",
      "BaH9IO5 mp-766855\n"
     ]
    },
    {
     "name": "stderr",
     "output_type": "stream",
     "text": [
      "Retrieving ElectronicStructureDoc documents: 100%|██████████| 1/1 [00:00<00:00, 23696.63it/s]\n",
      "Retrieving ElectronicStructureDoc documents: 100%|██████████| 1/1 [00:00<00:00, 8738.13it/s]\n",
      " 74%|███████▍  | 738/1000 [13:26<05:23,  1.24s/it]"
     ]
    },
    {
     "name": "stdout",
     "output_type": "stream",
     "text": [
      "Error retrieving band structure for mp-753209: No uniform band structure data found for mp-753209\n"
     ]
    },
    {
     "name": "stderr",
     "output_type": "stream",
     "text": [
      "Retrieving ElectronicStructureDoc documents: 100%|██████████| 1/1 [00:00<00:00, 13888.42it/s]\n",
      "Retrieving ElectronicStructureDoc documents: 100%|██████████| 1/1 [00:00<00:00, 21732.15it/s]\n",
      "Retrieving ElectronicStructureDoc documents: 100%|██████████| 1/1 [00:00<00:00, 8473.34it/s]\n",
      " 74%|███████▍  | 741/1000 [13:29<04:38,  1.08s/it]"
     ]
    },
    {
     "name": "stdout",
     "output_type": "stream",
     "text": [
      "Ba2YI7 mp-768426\n"
     ]
    },
    {
     "name": "stderr",
     "output_type": "stream",
     "text": [
      "Retrieving ElectronicStructureDoc documents: 100%|██████████| 1/1 [00:00<00:00, 20460.02it/s]\n",
      "Retrieving ElectronicStructureDoc documents: 0it [00:00, ?it/s]\n",
      " 74%|███████▍  | 743/1000 [13:31<04:02,  1.06it/s]"
     ]
    },
    {
     "name": "stdout",
     "output_type": "stream",
     "text": [
      "Error retrieving band structure for mp-606382: No electronic structure data found.\n"
     ]
    },
    {
     "name": "stderr",
     "output_type": "stream",
     "text": [
      "Retrieving ElectronicStructureDoc documents: 100%|██████████| 1/1 [00:00<00:00, 25420.02it/s]\n",
      "Retrieving ElectronicStructureDoc documents: 100%|██████████| 1/1 [00:00<00:00, 7332.70it/s]\n",
      "Retrieving ElectronicStructureDoc documents: 0it [00:00, ?it/s]\n",
      " 75%|███████▍  | 746/1000 [13:33<03:17,  1.29it/s]"
     ]
    },
    {
     "name": "stdout",
     "output_type": "stream",
     "text": [
      "Error retrieving band structure for mvc-708: No electronic structure data found.\n"
     ]
    },
    {
     "name": "stderr",
     "output_type": "stream",
     "text": [
      "Retrieving ElectronicStructureDoc documents: 100%|██████████| 1/1 [00:00<00:00, 18724.57it/s]\n",
      "Retrieving ElectronicStructureDoc documents: 100%|██████████| 1/1 [00:00<00:00, 18396.07it/s]\n",
      "Retrieving ElectronicStructureDoc documents: 100%|██████████| 1/1 [00:00<00:00, 13273.11it/s]\n",
      "Retrieving ElectronicStructureDoc documents: 0it [00:00, ?it/s]\n",
      " 75%|███████▌  | 750/1000 [13:37<03:34,  1.16it/s]"
     ]
    },
    {
     "name": "stdout",
     "output_type": "stream",
     "text": [
      "Error retrieving band structure for mvc-15384: No electronic structure data found.\n"
     ]
    },
    {
     "name": "stderr",
     "output_type": "stream",
     "text": [
      "Retrieving ElectronicStructureDoc documents: 100%|██████████| 1/1 [00:00<00:00, 20971.52it/s]\n",
      "Retrieving ElectronicStructureDoc documents: 0it [00:00, ?it/s]\n",
      " 75%|███████▌  | 752/1000 [13:39<03:45,  1.10it/s]"
     ]
    },
    {
     "name": "stdout",
     "output_type": "stream",
     "text": [
      "Error retrieving band structure for mvc-14580: No electronic structure data found.\n"
     ]
    },
    {
     "name": "stderr",
     "output_type": "stream",
     "text": [
      "Retrieving ElectronicStructureDoc documents: 100%|██████████| 1/1 [00:00<00:00, 19784.45it/s]\n",
      "Retrieving ElectronicStructureDoc documents: 0it [00:00, ?it/s]\n",
      " 75%|███████▌  | 754/1000 [13:41<03:53,  1.05it/s]"
     ]
    },
    {
     "name": "stdout",
     "output_type": "stream",
     "text": [
      "Error retrieving band structure for mvc-3422: No electronic structure data found.\n"
     ]
    },
    {
     "name": "stderr",
     "output_type": "stream",
     "text": [
      "Retrieving ElectronicStructureDoc documents: 100%|██████████| 1/1 [00:00<00:00, 16070.13it/s]\n",
      "Retrieving ElectronicStructureDoc documents: 100%|██████████| 1/1 [00:00<00:00, 20262.34it/s]\n",
      " 76%|███████▌  | 756/1000 [13:44<04:21,  1.07s/it]"
     ]
    },
    {
     "name": "stdout",
     "output_type": "stream",
     "text": [
      "CdPSe3 mp-1079559\n",
      "CdPSe3 mp-1079559\n",
      "CdPSe3 mp-1079559\n",
      "CdPSe3 mp-1079559\n"
     ]
    },
    {
     "name": "stderr",
     "output_type": "stream",
     "text": [
      "Retrieving ElectronicStructureDoc documents: 100%|██████████| 1/1 [00:00<00:00, 20971.52it/s]\n",
      " 76%|███████▌  | 757/1000 [13:44<04:06,  1.02s/it]"
     ]
    },
    {
     "name": "stdout",
     "output_type": "stream",
     "text": [
      "Hg4P2O7 mp-29710\n",
      "Hg4P2O7 mp-29710\n",
      "Hg4P2O7 mp-29710\n"
     ]
    },
    {
     "name": "stderr",
     "output_type": "stream",
     "text": [
      "Retrieving ElectronicStructureDoc documents: 0it [00:00, ?it/s]\n",
      " 76%|███████▌  | 758/1000 [13:45<03:11,  1.26it/s]"
     ]
    },
    {
     "name": "stdout",
     "output_type": "stream",
     "text": [
      "Error retrieving band structure for mp-626876: No electronic structure data found.\n"
     ]
    },
    {
     "name": "stderr",
     "output_type": "stream",
     "text": [
      "Retrieving ElectronicStructureDoc documents: 100%|██████████| 1/1 [00:00<00:00, 18396.07it/s]\n",
      " 76%|███████▌  | 759/1000 [13:45<02:50,  1.41it/s]"
     ]
    },
    {
     "name": "stdout",
     "output_type": "stream",
     "text": [
      "Tl2SO3 mp-690541\n",
      "Tl2SO3 mp-690541\n"
     ]
    },
    {
     "name": "stderr",
     "output_type": "stream",
     "text": [
      "Retrieving ElectronicStructureDoc documents: 100%|██████████| 1/1 [00:00<00:00, 17772.47it/s]\n",
      " 76%|███████▌  | 760/1000 [13:47<04:28,  1.12s/it]"
     ]
    },
    {
     "name": "stdout",
     "output_type": "stream",
     "text": [
      "K2GeTe4 mp-28126\n",
      "K2GeTe4 mp-28126\n"
     ]
    },
    {
     "name": "stderr",
     "output_type": "stream",
     "text": [
      "Retrieving ElectronicStructureDoc documents: 100%|██████████| 1/1 [00:00<00:00, 11983.73it/s]\n",
      " 76%|███████▌  | 761/1000 [13:48<03:41,  1.08it/s]"
     ]
    },
    {
     "name": "stdout",
     "output_type": "stream",
     "text": [
      "AlBiCl6 mp-672273\n",
      "AlBiCl6 mp-672273\n"
     ]
    },
    {
     "name": "stderr",
     "output_type": "stream",
     "text": [
      "Retrieving ElectronicStructureDoc documents: 0it [00:00, ?it/s]\n",
      " 76%|███████▌  | 762/1000 [13:48<03:19,  1.19it/s]"
     ]
    },
    {
     "name": "stdout",
     "output_type": "stream",
     "text": [
      "Error retrieving band structure for mvc-2923: No electronic structure data found.\n"
     ]
    },
    {
     "name": "stderr",
     "output_type": "stream",
     "text": [
      "Retrieving ElectronicStructureDoc documents: 100%|██████████| 1/1 [00:00<00:00, 14563.56it/s]\n",
      " 76%|███████▋  | 763/1000 [13:49<03:25,  1.15it/s]"
     ]
    },
    {
     "name": "stdout",
     "output_type": "stream",
     "text": [
      "SiS mp-1023900\n",
      "SiS mp-1023900\n",
      "SiS mp-1023900\n"
     ]
    },
    {
     "name": "stderr",
     "output_type": "stream",
     "text": [
      "Retrieving ElectronicStructureDoc documents: 100%|██████████| 1/1 [00:00<00:00, 16194.22it/s]\n",
      " 76%|███████▋  | 764/1000 [13:51<04:08,  1.05s/it]"
     ]
    },
    {
     "name": "stdout",
     "output_type": "stream",
     "text": [
      "BPt2 mp-1077788\n",
      "BPt2 mp-1077788\n"
     ]
    },
    {
     "name": "stderr",
     "output_type": "stream",
     "text": [
      "Retrieving ElectronicStructureDoc documents: 100%|██████████| 1/1 [00:00<00:00, 21732.15it/s]\n",
      "Retrieving ElectronicStructureDoc documents: 100%|██████████| 1/1 [00:00<00:00, 20971.52it/s]\n",
      " 77%|███████▋  | 766/1000 [13:53<04:34,  1.17s/it]"
     ]
    },
    {
     "name": "stdout",
     "output_type": "stream",
     "text": [
      "BiSe mp-1078607\n",
      "BiSe mp-1078607\n",
      "BiSe mp-1078607\n"
     ]
    },
    {
     "name": "stderr",
     "output_type": "stream",
     "text": [
      "Retrieving ElectronicStructureDoc documents: 100%|██████████| 1/1 [00:00<00:00, 21183.35it/s]\n",
      "Retrieving ElectronicStructureDoc documents: 100%|██████████| 1/1 [00:00<00:00, 17549.39it/s]\n",
      " 77%|███████▋  | 768/1000 [13:55<03:44,  1.04it/s]"
     ]
    },
    {
     "name": "stdout",
     "output_type": "stream",
     "text": [
      "BiBr3 mp-610430\n",
      "BiBr3 mp-610430\n",
      "BiBr3 mp-610430\n"
     ]
    },
    {
     "name": "stderr",
     "output_type": "stream",
     "text": [
      "Retrieving ElectronicStructureDoc documents: 100%|██████████| 1/1 [00:00<00:00, 10155.70it/s]\n",
      " 77%|███████▋  | 769/1000 [13:58<05:52,  1.53s/it]"
     ]
    },
    {
     "name": "stdout",
     "output_type": "stream",
     "text": [
      "NbF4 mp-1416\n",
      "NbF4 mp-1416\n",
      "NbF4 mp-1416\n",
      "NbF4 mp-1416\n",
      "NbF4 mp-1416\n"
     ]
    },
    {
     "name": "stderr",
     "output_type": "stream",
     "text": [
      "Retrieving ElectronicStructureDoc documents: 100%|██████████| 1/1 [00:00<00:00, 22795.13it/s]\n",
      " 77%|███████▋  | 770/1000 [13:58<04:38,  1.21s/it]"
     ]
    },
    {
     "name": "stdout",
     "output_type": "stream",
     "text": [
      "Error retrieving band structure for mp-1379: No uniform band structure data found for mp-1379\n"
     ]
    },
    {
     "name": "stderr",
     "output_type": "stream",
     "text": [
      "Retrieving ElectronicStructureDoc documents: 100%|██████████| 1/1 [00:00<00:00, 20560.31it/s]\n",
      " 77%|███████▋  | 771/1000 [13:59<04:05,  1.07s/it]"
     ]
    },
    {
     "name": "stdout",
     "output_type": "stream",
     "text": [
      "SbI3 mp-569224\n",
      "SbI3 mp-569224\n",
      "SbI3 mp-569224\n"
     ]
    },
    {
     "name": "stderr",
     "output_type": "stream",
     "text": [
      "Retrieving ElectronicStructureDoc documents: 0it [00:00, ?it/s]\n",
      " 77%|███████▋  | 772/1000 [14:00<03:32,  1.07it/s]"
     ]
    },
    {
     "name": "stdout",
     "output_type": "stream",
     "text": [
      "Error retrieving band structure for mvc-13531: No electronic structure data found.\n"
     ]
    },
    {
     "name": "stderr",
     "output_type": "stream",
     "text": [
      "Retrieving ElectronicStructureDoc documents: 100%|██████████| 1/1 [00:00<00:00, 25890.77it/s]\n",
      " 77%|███████▋  | 773/1000 [14:01<03:42,  1.02it/s]"
     ]
    },
    {
     "name": "stdout",
     "output_type": "stream",
     "text": [
      "In4Se3 mp-19932\n",
      "In4Se3 mp-19932\n"
     ]
    },
    {
     "name": "stderr",
     "output_type": "stream",
     "text": [
      "Retrieving ElectronicStructureDoc documents: 100%|██████████| 1/1 [00:00<00:00, 11305.40it/s]\n",
      "Retrieving ElectronicStructureDoc documents: 100%|██████████| 1/1 [00:00<00:00, 22671.91it/s]\n",
      " 78%|███████▊  | 775/1000 [14:02<03:20,  1.12it/s]"
     ]
    },
    {
     "name": "stdout",
     "output_type": "stream",
     "text": [
      "As2S3 mp-641\n",
      "As2S3 mp-641\n"
     ]
    },
    {
     "name": "stderr",
     "output_type": "stream",
     "text": [
      "Retrieving ElectronicStructureDoc documents: 100%|██████████| 1/1 [00:00<00:00, 9799.78it/s]\n",
      "Retrieving ElectronicStructureDoc documents: 100%|██████████| 1/1 [00:00<00:00, 18236.10it/s]\n",
      "Retrieving ElectronicStructureDoc documents: 100%|██████████| 1/1 [00:00<00:00, 20763.88it/s]\n",
      "Retrieving ElectronicStructureDoc documents: 100%|██████████| 1/1 [00:00<00:00, 13443.28it/s]\n",
      " 78%|███████▊  | 779/1000 [14:09<06:18,  1.71s/it]"
     ]
    },
    {
     "name": "stdout",
     "output_type": "stream",
     "text": [
      "Ca5Ir mp-570356\n",
      "Ca5Ir mp-570356\n",
      "Ca5Ir mp-570356\n",
      "Ca5Ir mp-570356\n"
     ]
    },
    {
     "name": "stderr",
     "output_type": "stream",
     "text": [
      "Retrieving ElectronicStructureDoc documents: 100%|██████████| 1/1 [00:00<00:00, 17924.38it/s]\n",
      " 78%|███████▊  | 780/1000 [14:10<05:12,  1.42s/it]"
     ]
    },
    {
     "name": "stdout",
     "output_type": "stream",
     "text": [
      "TaSe3 mp-29652\n",
      "TaSe3 mp-29652\n",
      "TaSe3 mp-29652\n"
     ]
    },
    {
     "name": "stderr",
     "output_type": "stream",
     "text": [
      "Retrieving ElectronicStructureDoc documents: 100%|██████████| 1/1 [00:00<00:00, 24528.09it/s]\n",
      "Retrieving ElectronicStructureDoc documents: 100%|██████████| 1/1 [00:00<00:00, 21076.90it/s]\n",
      "Retrieving ElectronicStructureDoc documents: 100%|██████████| 1/1 [00:00<00:00, 14820.86it/s]\n",
      " 78%|███████▊  | 783/1000 [14:15<07:06,  1.96s/it]"
     ]
    },
    {
     "name": "stdout",
     "output_type": "stream",
     "text": [
      "TaS3 mp-30527\n",
      "TaS3 mp-30527\n"
     ]
    },
    {
     "name": "stderr",
     "output_type": "stream",
     "text": [
      "Retrieving ElectronicStructureDoc documents: 100%|██████████| 1/1 [00:00<00:00, 25266.89it/s]\n",
      "Retrieving ElectronicStructureDoc documents: 100%|██████████| 1/1 [00:00<00:00, 17119.61it/s]\n",
      " 78%|███████▊  | 785/1000 [14:18<06:02,  1.68s/it]"
     ]
    },
    {
     "name": "stdout",
     "output_type": "stream",
     "text": [
      "TeO2 mp-2125\n",
      "TeO2 mp-2125\n",
      "TeO2 mp-2125\n"
     ]
    },
    {
     "name": "stderr",
     "output_type": "stream",
     "text": [
      "Retrieving ElectronicStructureDoc documents: 100%|██████████| 1/1 [00:00<00:00, 20360.70it/s]\n",
      "Retrieving ElectronicStructureDoc documents: 0it [00:00, ?it/s]\n",
      " 79%|███████▊  | 787/1000 [14:19<03:50,  1.08s/it]"
     ]
    },
    {
     "name": "stdout",
     "output_type": "stream",
     "text": [
      "Error retrieving band structure for mp-765923: No electronic structure data found.\n"
     ]
    },
    {
     "name": "stderr",
     "output_type": "stream",
     "text": [
      "Retrieving ElectronicStructureDoc documents: 100%|██████████| 1/1 [00:00<00:00, 11983.73it/s]\n",
      " 79%|███████▉  | 788/1000 [14:20<03:26,  1.03it/s]"
     ]
    },
    {
     "name": "stdout",
     "output_type": "stream",
     "text": [
      "I2O5 mp-23261\n",
      "I2O5 mp-23261\n"
     ]
    },
    {
     "name": "stderr",
     "output_type": "stream",
     "text": [
      "Retrieving ElectronicStructureDoc documents: 100%|██████████| 1/1 [00:00<00:00, 13530.01it/s]\n",
      "Retrieving ElectronicStructureDoc documents: 100%|██████████| 1/1 [00:00<00:00, 17549.39it/s]\n",
      "Retrieving ElectronicStructureDoc documents: 100%|██████████| 1/1 [00:00<00:00, 8905.10it/s]\n",
      "Retrieving ElectronicStructureDoc documents: 100%|██████████| 1/1 [00:00<00:00, 19328.59it/s]\n",
      " 79%|███████▉  | 792/1000 [14:24<02:54,  1.19it/s]"
     ]
    },
    {
     "name": "stdout",
     "output_type": "stream",
     "text": [
      "TlP5 mp-27411\n",
      "TlP5 mp-27411\n",
      "TlP5 mp-27411\n"
     ]
    },
    {
     "name": "stderr",
     "output_type": "stream",
     "text": [
      "Retrieving ElectronicStructureDoc documents: 100%|██████████| 1/1 [00:00<00:00, 15947.92it/s]\n",
      " 79%|███████▉  | 793/1000 [14:25<03:03,  1.13it/s]"
     ]
    },
    {
     "name": "stdout",
     "output_type": "stream",
     "text": [
      "Nb2Se3 mp-2330\n",
      "Nb2Se3 mp-2330\n"
     ]
    },
    {
     "name": "stderr",
     "output_type": "stream",
     "text": [
      "Retrieving ElectronicStructureDoc documents: 100%|██████████| 1/1 [00:00<00:00, 8830.11it/s]\n",
      " 79%|███████▉  | 794/1000 [14:26<03:43,  1.08s/it]"
     ]
    },
    {
     "name": "stdout",
     "output_type": "stream",
     "text": [
      "TiBr3 mp-28214\n",
      "TiBr3 mp-28214\n",
      "TiBr3 mp-28214\n",
      "TiBr3 mp-28214\n"
     ]
    },
    {
     "name": "stderr",
     "output_type": "stream",
     "text": [
      "Retrieving ElectronicStructureDoc documents: 100%|██████████| 1/1 [00:00<00:00, 9341.43it/s]\n",
      "Retrieving ElectronicStructureDoc documents: 100%|██████████| 1/1 [00:00<00:00, 22075.28it/s]\n",
      " 80%|███████▉  | 796/1000 [14:28<03:14,  1.05it/s]"
     ]
    },
    {
     "name": "stdout",
     "output_type": "stream",
     "text": [
      "In2Te5 mp-582549\n"
     ]
    },
    {
     "name": "stderr",
     "output_type": "stream",
     "text": [
      "Retrieving ElectronicStructureDoc documents: 0it [00:00, ?it/s]\n",
      " 80%|███████▉  | 797/1000 [14:28<02:53,  1.17it/s]"
     ]
    },
    {
     "name": "stdout",
     "output_type": "stream",
     "text": [
      "Error retrieving band structure for mp-765924: No electronic structure data found.\n"
     ]
    },
    {
     "name": "stderr",
     "output_type": "stream",
     "text": [
      "Retrieving ElectronicStructureDoc documents: 100%|██████████| 1/1 [00:00<00:00, 22795.13it/s]\n",
      "Retrieving ElectronicStructureDoc documents: 100%|██████████| 1/1 [00:00<00:00, 22671.91it/s]\n",
      " 80%|███████▉  | 799/1000 [14:31<03:55,  1.17s/it]"
     ]
    },
    {
     "name": "stdout",
     "output_type": "stream",
     "text": [
      "NiTe mp-10264\n",
      "NiTe mp-10264\n",
      "NiTe mp-10264\n",
      "NiTe mp-10264\n",
      "NiTe mp-10264\n"
     ]
    },
    {
     "name": "stderr",
     "output_type": "stream",
     "text": [
      "Retrieving ElectronicStructureDoc documents: 100%|██████████| 1/1 [00:00<00:00, 12787.51it/s]\n",
      "Retrieving ElectronicStructureDoc documents: 100%|██████████| 1/1 [00:00<00:00, 14217.98it/s]\n",
      "Retrieving ElectronicStructureDoc documents: 0it [00:00, ?it/s]\n",
      " 80%|████████  | 802/1000 [14:34<02:56,  1.12it/s]"
     ]
    },
    {
     "name": "stdout",
     "output_type": "stream",
     "text": [
      "Error retrieving band structure for mp-667: No electronic structure data found.\n"
     ]
    },
    {
     "name": "stderr",
     "output_type": "stream",
     "text": [
      "Retrieving ElectronicStructureDoc documents: 100%|██████████| 1/1 [00:00<00:00, 14614.30it/s]\n",
      "Retrieving ElectronicStructureDoc documents: 0it [00:00, ?it/s]\n",
      " 80%|████████  | 804/1000 [14:35<02:15,  1.45it/s]"
     ]
    },
    {
     "name": "stdout",
     "output_type": "stream",
     "text": [
      "Error retrieving band structure for mp-765268: No electronic structure data found.\n"
     ]
    },
    {
     "name": "stderr",
     "output_type": "stream",
     "text": [
      "Retrieving ElectronicStructureDoc documents: 100%|██████████| 1/1 [00:00<00:00, 23831.27it/s]\n",
      " 80%|████████  | 805/1000 [14:36<02:34,  1.26it/s]"
     ]
    },
    {
     "name": "stdout",
     "output_type": "stream",
     "text": [
      "TlP5 mp-27411\n",
      "TlP5 mp-27411\n",
      "TlP5 mp-27411\n"
     ]
    },
    {
     "name": "stderr",
     "output_type": "stream",
     "text": [
      "Retrieving ElectronicStructureDoc documents: 100%|██████████| 1/1 [00:00<00:00, 10381.94it/s]\n",
      "Retrieving ElectronicStructureDoc documents: 100%|██████████| 1/1 [00:00<00:00, 17260.51it/s]\n",
      " 81%|████████  | 807/1000 [14:44<08:36,  2.68s/it]"
     ]
    },
    {
     "name": "stdout",
     "output_type": "stream",
     "text": [
      "CrTe3 mp-540922\n",
      "CrTe3 mp-540922\n",
      "CrTe3 mp-540922\n"
     ]
    },
    {
     "name": "stderr",
     "output_type": "stream",
     "text": [
      "Retrieving ElectronicStructureDoc documents: 100%|██████████| 1/1 [00:00<00:00, 25575.02it/s]\n",
      " 81%|████████  | 808/1000 [14:44<06:15,  1.96s/it]"
     ]
    },
    {
     "name": "stdout",
     "output_type": "stream",
     "text": [
      "Error retrieving band structure for mp-9254: No uniform band structure data found for mp-9254\n"
     ]
    },
    {
     "name": "stderr",
     "output_type": "stream",
     "text": [
      "Retrieving ElectronicStructureDoc documents: 100%|██████████| 1/1 [00:00<00:00, 21959.71it/s]\n",
      "Retrieving ElectronicStructureDoc documents: 100%|██████████| 1/1 [00:00<00:00, 20560.31it/s]\n",
      "Retrieving ElectronicStructureDoc documents: 100%|██████████| 1/1 [00:00<00:00, 21732.15it/s]\n",
      " 81%|████████  | 811/1000 [14:47<04:00,  1.27s/it]"
     ]
    },
    {
     "name": "stdout",
     "output_type": "stream",
     "text": [
      "BiBr3 mp-610430\n",
      "BiBr3 mp-610430\n",
      "BiBr3 mp-610430\n"
     ]
    },
    {
     "name": "stderr",
     "output_type": "stream",
     "text": [
      "Retrieving ElectronicStructureDoc documents: 0it [00:00, ?it/s]\n",
      " 81%|████████  | 812/1000 [14:47<03:03,  1.02it/s]"
     ]
    },
    {
     "name": "stdout",
     "output_type": "stream",
     "text": [
      "Error retrieving band structure for mvc-5746: No electronic structure data found.\n"
     ]
    },
    {
     "name": "stderr",
     "output_type": "stream",
     "text": [
      "Retrieving ElectronicStructureDoc documents: 100%|██████████| 1/1 [00:00<00:00, 22550.02it/s]\n",
      " 81%|████████▏ | 813/1000 [14:49<03:48,  1.22s/it]"
     ]
    },
    {
     "name": "stdout",
     "output_type": "stream",
     "text": [
      "CrI2 mp-27215\n",
      "CrI2 mp-27215\n",
      "CrI2 mp-27215\n"
     ]
    },
    {
     "name": "stderr",
     "output_type": "stream",
     "text": [
      "Retrieving ElectronicStructureDoc documents: 100%|██████████| 1/1 [00:00<00:00, 21959.71it/s]\n",
      " 81%|████████▏ | 814/1000 [14:50<03:17,  1.06s/it]"
     ]
    },
    {
     "name": "stdout",
     "output_type": "stream",
     "text": [
      "Error retrieving band structure for mp-1067644: No uniform band structure data found for mp-1067644\n"
     ]
    },
    {
     "name": "stderr",
     "output_type": "stream",
     "text": [
      "Retrieving ElectronicStructureDoc documents: 100%|██████████| 1/1 [00:00<00:00, 19972.88it/s]\n",
      "Retrieving ElectronicStructureDoc documents: 0it [00:00, ?it/s]\n",
      " 82%|████████▏ | 816/1000 [14:51<02:32,  1.21it/s]"
     ]
    },
    {
     "name": "stdout",
     "output_type": "stream",
     "text": [
      "Error retrieving band structure for mvc-13985: No electronic structure data found.\n"
     ]
    },
    {
     "name": "stderr",
     "output_type": "stream",
     "text": [
      "Retrieving ElectronicStructureDoc documents: 100%|██████████| 1/1 [00:00<00:00, 19508.39it/s]\n",
      "Retrieving ElectronicStructureDoc documents: 100%|██████████| 1/1 [00:00<00:00, 24105.20it/s]\n",
      "Retrieving ElectronicStructureDoc documents: 100%|██████████| 1/1 [00:00<00:00, 14768.68it/s]\n",
      " 82%|████████▏ | 819/1000 [14:55<03:23,  1.13s/it]"
     ]
    },
    {
     "name": "stdout",
     "output_type": "stream",
     "text": [
      "Error retrieving band structure for mp-978259: No uniform band structure data found for mp-978259\n"
     ]
    },
    {
     "name": "stderr",
     "output_type": "stream",
     "text": [
      "Retrieving ElectronicStructureDoc documents: 100%|██████████| 1/1 [00:00<00:00, 17549.39it/s]\n",
      " 82%|████████▏ | 820/1000 [14:56<03:31,  1.18s/it]"
     ]
    },
    {
     "name": "stdout",
     "output_type": "stream",
     "text": [
      "YS mp-22562\n",
      "YS mp-22562\n",
      "YS mp-22562\n",
      "YS mp-22562\n"
     ]
    },
    {
     "name": "stderr",
     "output_type": "stream",
     "text": [
      "Retrieving ElectronicStructureDoc documents: 100%|██████████| 1/1 [00:00<00:00, 21183.35it/s]\n",
      "Retrieving ElectronicStructureDoc documents: 100%|██████████| 1/1 [00:00<00:00, 14169.95it/s]\n",
      " 82%|████████▏ | 822/1000 [14:58<03:00,  1.01s/it]"
     ]
    },
    {
     "name": "stdout",
     "output_type": "stream",
     "text": [
      "Ta2I5 mp-32554\n",
      "Ta2I5 mp-32554\n",
      "Ta2I5 mp-32554\n"
     ]
    },
    {
     "name": "stderr",
     "output_type": "stream",
     "text": [
      "Retrieving ElectronicStructureDoc documents: 0it [00:00, ?it/s]\n",
      " 82%|████████▏ | 823/1000 [14:58<02:28,  1.19it/s]"
     ]
    },
    {
     "name": "stdout",
     "output_type": "stream",
     "text": [
      "Error retrieving band structure for mvc-13985: No electronic structure data found.\n"
     ]
    },
    {
     "name": "stderr",
     "output_type": "stream",
     "text": [
      "Retrieving ElectronicStructureDoc documents: 100%|██████████| 1/1 [00:00<00:00, 20971.52it/s]\n",
      "Retrieving ElectronicStructureDoc documents: 100%|██████████| 1/1 [00:00<00:00, 16912.52it/s]\n",
      " 82%|████████▎ | 825/1000 [15:00<02:24,  1.21it/s]"
     ]
    },
    {
     "name": "stdout",
     "output_type": "stream",
     "text": [
      "Error retrieving band structure for mp-643430: No uniform band structure data found for mp-643430\n"
     ]
    },
    {
     "name": "stderr",
     "output_type": "stream",
     "text": [
      "Retrieving ElectronicStructureDoc documents: 100%|██████████| 1/1 [00:00<00:00, 12409.18it/s]\n",
      "Retrieving ElectronicStructureDoc documents: 0it [00:00, ?it/s]\n",
      " 83%|████████▎ | 827/1000 [15:03<03:14,  1.13s/it]"
     ]
    },
    {
     "name": "stdout",
     "output_type": "stream",
     "text": [
      "Error retrieving band structure for mvc-10495: No electronic structure data found.\n"
     ]
    },
    {
     "name": "stderr",
     "output_type": "stream",
     "text": [
      "Retrieving ElectronicStructureDoc documents: 0it [00:00, ?it/s]\n",
      " 83%|████████▎ | 828/1000 [15:04<03:02,  1.06s/it]"
     ]
    },
    {
     "name": "stdout",
     "output_type": "stream",
     "text": [
      "Error retrieving band structure for mvc-13455: No electronic structure data found.\n"
     ]
    },
    {
     "name": "stderr",
     "output_type": "stream",
     "text": [
      "Retrieving ElectronicStructureDoc documents: 100%|██████████| 1/1 [00:00<00:00, 18978.75it/s]\n",
      " 83%|████████▎ | 829/1000 [15:05<02:31,  1.13it/s]"
     ]
    },
    {
     "name": "stdout",
     "output_type": "stream",
     "text": [
      "Al2S3 mp-699208\n"
     ]
    },
    {
     "name": "stderr",
     "output_type": "stream",
     "text": [
      "Retrieving ElectronicStructureDoc documents: 100%|██████████| 1/1 [00:00<00:00, 20560.31it/s]\n",
      "Retrieving ElectronicStructureDoc documents: 100%|██████████| 1/1 [00:00<00:00, 12446.01it/s]\n",
      " 83%|████████▎ | 831/1000 [15:07<03:25,  1.22s/it]"
     ]
    },
    {
     "name": "stdout",
     "output_type": "stream",
     "text": [
      "BN mp-569655\n",
      "BN mp-569655\n",
      "BN mp-569655\n",
      "BN mp-569655\n",
      "BN mp-569655\n",
      "BN mp-569655\n"
     ]
    },
    {
     "name": "stderr",
     "output_type": "stream",
     "text": [
      "Retrieving ElectronicStructureDoc documents: 100%|██████████| 1/1 [00:00<00:00, 18558.87it/s]\n",
      "Retrieving ElectronicStructureDoc documents: 100%|██████████| 1/1 [00:00<00:00, 27235.74it/s]\n",
      "Retrieving ElectronicStructureDoc documents: 100%|██████████| 1/1 [00:00<00:00, 21290.88it/s]\n",
      " 83%|████████▎ | 834/1000 [15:10<02:51,  1.03s/it]"
     ]
    },
    {
     "name": "stdout",
     "output_type": "stream",
     "text": [
      "Error retrieving band structure for mp-1067619: No uniform band structure data found for mp-1067619\n"
     ]
    },
    {
     "name": "stderr",
     "output_type": "stream",
     "text": [
      "Retrieving ElectronicStructureDoc documents: 100%|██████████| 1/1 [00:00<00:00, 16644.06it/s]\n",
      " 84%|████████▎ | 835/1000 [15:10<02:14,  1.23it/s]"
     ]
    },
    {
     "name": "stdout",
     "output_type": "stream",
     "text": [
      "Error retrieving band structure for mp-1094753: No uniform band structure data found for mp-1094753\n"
     ]
    },
    {
     "name": "stderr",
     "output_type": "stream",
     "text": [
      "Retrieving ElectronicStructureDoc documents: 100%|██████████| 1/1 [00:00<00:00, 16131.94it/s]\n",
      " 84%|████████▎ | 836/1000 [15:11<02:23,  1.14it/s]"
     ]
    },
    {
     "name": "stdout",
     "output_type": "stream",
     "text": [
      "HgNCl mp-1077462\n",
      "HgNCl mp-1077462\n",
      "HgNCl mp-1077462\n"
     ]
    },
    {
     "name": "stderr",
     "output_type": "stream",
     "text": [
      "Retrieving ElectronicStructureDoc documents: 100%|██████████| 1/1 [00:00<00:00, 21509.25it/s]\n",
      "Retrieving ElectronicStructureDoc documents: 100%|██████████| 1/1 [00:00<00:00, 18396.07it/s]\n",
      " 84%|████████▍ | 838/1000 [15:13<02:17,  1.18it/s]"
     ]
    },
    {
     "name": "stdout",
     "output_type": "stream",
     "text": [
      "SiS2 mp-1095294\n"
     ]
    },
    {
     "name": "stderr",
     "output_type": "stream",
     "text": [
      "Retrieving ElectronicStructureDoc documents: 100%|██████████| 1/1 [00:00<00:00, 17623.13it/s]\n",
      " 84%|████████▍ | 839/1000 [15:15<02:48,  1.05s/it]"
     ]
    },
    {
     "name": "stdout",
     "output_type": "stream",
     "text": [
      "HgSeO4 mp-10796\n",
      "HgSeO4 mp-10796\n",
      "HgSeO4 mp-10796\n",
      "HgSeO4 mp-10796\n",
      "HgSeO4 mp-10796\n"
     ]
    },
    {
     "name": "stderr",
     "output_type": "stream",
     "text": [
      "Retrieving ElectronicStructureDoc documents: 100%|██████████| 1/1 [00:00<00:00, 23431.87it/s]\n",
      "Retrieving ElectronicStructureDoc documents: 100%|██████████| 1/1 [00:00<00:00, 14716.86it/s]\n",
      " 84%|████████▍ | 841/1000 [15:16<02:17,  1.15it/s]"
     ]
    },
    {
     "name": "stdout",
     "output_type": "stream",
     "text": [
      "Error retrieving band structure for mp-1094362: No uniform band structure data found for mp-1094362\n"
     ]
    },
    {
     "name": "stderr",
     "output_type": "stream",
     "text": [
      "Retrieving ElectronicStructureDoc documents: 0it [00:00, ?it/s]\n",
      " 84%|████████▍ | 842/1000 [15:16<01:47,  1.48it/s]"
     ]
    },
    {
     "name": "stdout",
     "output_type": "stream",
     "text": [
      "Error retrieving band structure for mp-1072320: No electronic structure data found.\n"
     ]
    },
    {
     "name": "stderr",
     "output_type": "stream",
     "text": [
      "Retrieving ElectronicStructureDoc documents: 100%|██████████| 1/1 [00:00<00:00, 19784.45it/s]\n",
      " 84%|████████▍ | 843/1000 [15:19<03:29,  1.33s/it]"
     ]
    },
    {
     "name": "stdout",
     "output_type": "stream",
     "text": [
      "PaP2 mp-1018890\n",
      "PaP2 mp-1018890\n",
      "PaP2 mp-1018890\n",
      "PaP2 mp-1018890\n"
     ]
    },
    {
     "name": "stderr",
     "output_type": "stream",
     "text": [
      "Retrieving ElectronicStructureDoc documents: 100%|██████████| 1/1 [00:00<00:00, 24105.20it/s]\n",
      "Retrieving ElectronicStructureDoc documents: 100%|██████████| 1/1 [00:00<00:00, 22671.91it/s]\n",
      " 84%|████████▍ | 845/1000 [15:22<03:05,  1.20s/it]"
     ]
    },
    {
     "name": "stdout",
     "output_type": "stream",
     "text": [
      "CaThBr6 mp-29015\n",
      "CaThBr6 mp-29015\n",
      "CaThBr6 mp-29015\n"
     ]
    },
    {
     "name": "stderr",
     "output_type": "stream",
     "text": [
      "Retrieving ElectronicStructureDoc documents: 100%|██████████| 1/1 [00:00<00:00, 18893.26it/s]\n",
      "Retrieving ElectronicStructureDoc documents: 100%|██████████| 1/1 [00:00<00:00, 11244.78it/s]\n",
      " 85%|████████▍ | 847/1000 [15:25<03:33,  1.40s/it]"
     ]
    },
    {
     "name": "stdout",
     "output_type": "stream",
     "text": [
      "IO3 mp-23315\n",
      "IO3 mp-23315\n",
      "IO3 mp-23315\n",
      "IO3 mp-23315\n"
     ]
    },
    {
     "name": "stderr",
     "output_type": "stream",
     "text": [
      "Retrieving ElectronicStructureDoc documents: 100%|██████████| 1/1 [00:00<00:00, 14027.77it/s]\n",
      "Retrieving ElectronicStructureDoc documents: 100%|██████████| 1/1 [00:00<00:00, 22671.91it/s]\n",
      "Retrieving ElectronicStructureDoc documents: 100%|██████████| 1/1 [00:00<00:00, 21183.35it/s]\n",
      " 85%|████████▌ | 850/1000 [15:29<02:53,  1.16s/it]"
     ]
    },
    {
     "name": "stdout",
     "output_type": "stream",
     "text": [
      "HoBrO mp-752637\n",
      "HoBrO mp-752637\n",
      "HoBrO mp-752637\n",
      "HoBrO mp-752637\n",
      "HoBrO mp-752637\n"
     ]
    },
    {
     "name": "stderr",
     "output_type": "stream",
     "text": [
      "Retrieving ElectronicStructureDoc documents: 100%|██████████| 1/1 [00:00<00:00, 19599.55it/s]\n",
      "Retrieving ElectronicStructureDoc documents: 100%|██████████| 1/1 [00:00<00:00, 18978.75it/s]\n",
      " 85%|████████▌ | 852/1000 [15:30<02:16,  1.08it/s]"
     ]
    },
    {
     "name": "stdout",
     "output_type": "stream",
     "text": [
      "Bi3Se4 mp-542615\n",
      "Bi3Se4 mp-542615\n",
      "Bi3Se4 mp-542615\n",
      "Bi3Se4 mp-542615\n"
     ]
    },
    {
     "name": "stderr",
     "output_type": "stream",
     "text": [
      "Retrieving ElectronicStructureDoc documents: 100%|██████████| 1/1 [00:00<00:00, 20661.60it/s]\n",
      " 85%|████████▌ | 853/1000 [15:30<01:46,  1.38it/s]"
     ]
    },
    {
     "name": "stdout",
     "output_type": "stream",
     "text": [
      "Error retrieving band structure for mp-19402: No uniform band structure data found for mp-19402\n"
     ]
    },
    {
     "name": "stderr",
     "output_type": "stream",
     "text": [
      "Retrieving ElectronicStructureDoc documents: 0it [00:00, ?it/s]\n",
      " 85%|████████▌ | 854/1000 [15:31<01:58,  1.23it/s]"
     ]
    },
    {
     "name": "stdout",
     "output_type": "stream",
     "text": [
      "Error retrieving band structure for mp-19607: No electronic structure data found.\n"
     ]
    },
    {
     "name": "stderr",
     "output_type": "stream",
     "text": [
      "Retrieving ElectronicStructureDoc documents: 100%|██████████| 1/1 [00:00<00:00, 17924.38it/s]\n",
      " 86%|████████▌ | 855/1000 [15:32<01:43,  1.40it/s]"
     ]
    },
    {
     "name": "stdout",
     "output_type": "stream",
     "text": [
      "CaGeO3 mp-17761\n",
      "CaGeO3 mp-17761\n",
      "CaGeO3 mp-17761\n"
     ]
    },
    {
     "name": "stderr",
     "output_type": "stream",
     "text": [
      "Retrieving ElectronicStructureDoc documents: 100%|██████████| 1/1 [00:00<00:00, 25420.02it/s]\n",
      "Retrieving ElectronicStructureDoc documents: 100%|██████████| 1/1 [00:00<00:00, 21732.15it/s]\n",
      " 86%|████████▌ | 857/1000 [15:33<01:56,  1.23it/s]"
     ]
    },
    {
     "name": "stdout",
     "output_type": "stream",
     "text": [
      "Mg(BH4)2 mp-571156\n",
      "Mg(BH4)2 mp-571156\n",
      "Mg(BH4)2 mp-571156\n",
      "Mg(BH4)2 mp-571156\n"
     ]
    },
    {
     "name": "stderr",
     "output_type": "stream",
     "text": [
      "Retrieving ElectronicStructureDoc documents: 100%|██████████| 1/1 [00:00<00:00, 23301.69it/s]\n",
      " 86%|████████▌ | 858/1000 [15:34<01:49,  1.30it/s]"
     ]
    },
    {
     "name": "stdout",
     "output_type": "stream",
     "text": [
      "Li2V(PO4)2 mp-763559\n",
      "Li2V(PO4)2 mp-763559\n",
      "Li2V(PO4)2 mp-763559\n",
      "Li2V(PO4)2 mp-763559\n"
     ]
    },
    {
     "name": "stderr",
     "output_type": "stream",
     "text": [
      "Retrieving ElectronicStructureDoc documents: 100%|██████████| 1/1 [00:00<00:00, 20262.34it/s]\n",
      "Retrieving ElectronicStructureDoc documents: 100%|██████████| 1/1 [00:00<00:00, 23967.45it/s]\n",
      "Retrieving ElectronicStructureDoc documents: 100%|██████████| 1/1 [00:00<00:00, 25115.59it/s]\n",
      "Retrieving ElectronicStructureDoc documents: 0it [00:00, ?it/s]\n",
      " 86%|████████▌ | 862/1000 [15:41<03:03,  1.33s/it]"
     ]
    },
    {
     "name": "stdout",
     "output_type": "stream",
     "text": [
      "Error retrieving band structure for mp-771591: No electronic structure data found.\n"
     ]
    },
    {
     "name": "stderr",
     "output_type": "stream",
     "text": [
      "Retrieving ElectronicStructureDoc documents: 100%|██████████| 1/1 [00:00<00:00, 17260.51it/s]\n",
      " 86%|████████▋ | 863/1000 [15:42<02:48,  1.23s/it]"
     ]
    },
    {
     "name": "stdout",
     "output_type": "stream",
     "text": [
      "SrH4(SO4)3 mp-757723\n",
      "SrH4(SO4)3 mp-757723\n"
     ]
    },
    {
     "name": "stderr",
     "output_type": "stream",
     "text": [
      "Retrieving ElectronicStructureDoc documents: 100%|██████████| 1/1 [00:00<00:00, 20661.60it/s]\n",
      "Retrieving ElectronicStructureDoc documents: 100%|██████████| 1/1 [00:00<00:00, 21399.51it/s]\n",
      "Retrieving ElectronicStructureDoc documents: 100%|██████████| 1/1 [00:00<00:00, 18157.16it/s]\n",
      " 87%|████████▋ | 866/1000 [15:48<04:11,  1.88s/it]"
     ]
    },
    {
     "name": "stdout",
     "output_type": "stream",
     "text": [
      "NbFeTe2 mp-616481\n",
      "NbFeTe2 mp-616481\n"
     ]
    },
    {
     "name": "stderr",
     "output_type": "stream",
     "text": [
      "Retrieving ElectronicStructureDoc documents: 0it [00:00, ?it/s]\n",
      " 87%|████████▋ | 867/1000 [15:49<03:06,  1.40s/it]"
     ]
    },
    {
     "name": "stdout",
     "output_type": "stream",
     "text": [
      "Error retrieving band structure for mp-765848: No electronic structure data found.\n"
     ]
    },
    {
     "name": "stderr",
     "output_type": "stream",
     "text": [
      "Retrieving ElectronicStructureDoc documents: 0it [00:00, ?it/s]\n",
      " 87%|████████▋ | 868/1000 [15:49<02:21,  1.07s/it]"
     ]
    },
    {
     "name": "stdout",
     "output_type": "stream",
     "text": [
      "Error retrieving band structure for mvc-10874: No electronic structure data found.\n"
     ]
    },
    {
     "name": "stderr",
     "output_type": "stream",
     "text": [
      "Retrieving ElectronicStructureDoc documents: 100%|██████████| 1/1 [00:00<00:00, 19878.22it/s]\n",
      "Retrieving ElectronicStructureDoc documents: 100%|██████████| 1/1 [00:00<00:00, 24966.10it/s]\n",
      " 87%|████████▋ | 870/1000 [15:51<02:31,  1.17s/it]"
     ]
    },
    {
     "name": "stdout",
     "output_type": "stream",
     "text": [
      "Error retrieving band structure for mp-762337: No uniform band structure data found for mp-762337\n"
     ]
    },
    {
     "name": "stderr",
     "output_type": "stream",
     "text": [
      "Retrieving ElectronicStructureDoc documents: 100%|██████████| 1/1 [00:00<00:00, 18315.74it/s]\n",
      " 87%|████████▋ | 871/1000 [15:55<03:53,  1.81s/it]"
     ]
    },
    {
     "name": "stdout",
     "output_type": "stream",
     "text": [
      "FeTeCl7 mp-540997\n",
      "FeTeCl7 mp-540997\n"
     ]
    },
    {
     "name": "stderr",
     "output_type": "stream",
     "text": [
      "Retrieving ElectronicStructureDoc documents: 100%|██████████| 1/1 [00:00<00:00, 19328.59it/s]\n",
      " 87%|████████▋ | 872/1000 [15:58<04:34,  2.14s/it]"
     ]
    },
    {
     "name": "stdout",
     "output_type": "stream",
     "text": [
      "NpIO mp-556939\n",
      "NpIO mp-556939\n"
     ]
    },
    {
     "name": "stderr",
     "output_type": "stream",
     "text": [
      "Retrieving ElectronicStructureDoc documents: 100%|██████████| 1/1 [00:00<00:00, 18978.75it/s]\n",
      "Retrieving ElectronicStructureDoc documents: 100%|██████████| 1/1 [00:00<00:00, 19972.88it/s]\n",
      "Retrieving ElectronicStructureDoc documents: 100%|██████████| 1/1 [00:00<00:00, 23431.87it/s]\n",
      "Retrieving ElectronicStructureDoc documents: 0it [00:00, ?it/s]\n",
      " 88%|████████▊ | 876/1000 [16:01<02:33,  1.24s/it]"
     ]
    },
    {
     "name": "stdout",
     "output_type": "stream",
     "text": [
      "Error retrieving band structure for mvc-740: No electronic structure data found.\n"
     ]
    },
    {
     "name": "stderr",
     "output_type": "stream",
     "text": [
      "Retrieving ElectronicStructureDoc documents: 100%|██████████| 1/1 [00:00<00:00, 16513.01it/s]\n",
      " 88%|████████▊ | 877/1000 [16:02<02:04,  1.02s/it]"
     ]
    },
    {
     "name": "stdout",
     "output_type": "stream",
     "text": [
      "Ag2CN2 mp-574486\n",
      "Ag2CN2 mp-574486\n",
      "Ag2CN2 mp-574486\n",
      "Ag2CN2 mp-574486\n"
     ]
    },
    {
     "name": "stderr",
     "output_type": "stream",
     "text": [
      "Retrieving ElectronicStructureDoc documents: 100%|██████████| 1/1 [00:00<00:00, 19878.22it/s]\n",
      "Retrieving ElectronicStructureDoc documents: 100%|██████████| 1/1 [00:00<00:00, 11397.57it/s]\n",
      "Retrieving ElectronicStructureDoc documents: 0it [00:00, ?it/s]\n",
      " 88%|████████▊ | 880/1000 [16:07<02:25,  1.21s/it]"
     ]
    },
    {
     "name": "stdout",
     "output_type": "stream",
     "text": [
      "Error retrieving band structure for mp-23153: No electronic structure data found.\n"
     ]
    },
    {
     "name": "stderr",
     "output_type": "stream",
     "text": [
      "Retrieving ElectronicStructureDoc documents: 100%|██████████| 1/1 [00:00<00:00, 16912.52it/s]\n",
      " 88%|████████▊ | 881/1000 [16:12<05:01,  2.53s/it]"
     ]
    },
    {
     "name": "stdout",
     "output_type": "stream",
     "text": [
      "Dy2Te5O13 mp-555940\n",
      "Dy2Te5O13 mp-555940\n"
     ]
    },
    {
     "name": "stderr",
     "output_type": "stream",
     "text": [
      "Retrieving ElectronicStructureDoc documents: 100%|██████████| 1/1 [00:00<00:00, 14463.12it/s]\n",
      "Retrieving ElectronicStructureDoc documents: 100%|██████████| 1/1 [00:00<00:00, 19599.55it/s]\n",
      "Retrieving ElectronicStructureDoc documents: 100%|██████████| 1/1 [00:00<00:00, 10727.12it/s]\n",
      " 88%|████████▊ | 884/1000 [16:16<03:16,  1.70s/it]"
     ]
    },
    {
     "name": "stdout",
     "output_type": "stream",
     "text": [
      "Tm(HO)3 mp-754355\n",
      "Tm(HO)3 mp-754355\n",
      "Tm(HO)3 mp-754355\n",
      "Tm(HO)3 mp-754355\n",
      "Tm(HO)3 mp-754355\n"
     ]
    },
    {
     "name": "stderr",
     "output_type": "stream",
     "text": [
      "Retrieving ElectronicStructureDoc documents: 0it [00:00, ?it/s]\n",
      " 88%|████████▊ | 885/1000 [16:16<02:39,  1.38s/it]"
     ]
    },
    {
     "name": "stdout",
     "output_type": "stream",
     "text": [
      "Error retrieving band structure for mp-763769: No electronic structure data found.\n"
     ]
    },
    {
     "name": "stderr",
     "output_type": "stream",
     "text": [
      "Retrieving ElectronicStructureDoc documents: 100%|██████████| 1/1 [00:00<00:00, 21399.51it/s]\n",
      " 89%|████████▊ | 886/1000 [16:17<02:24,  1.27s/it]"
     ]
    },
    {
     "name": "stdout",
     "output_type": "stream",
     "text": [
      "AlPI8 mp-568423\n",
      "AlPI8 mp-568423\n",
      "AlPI8 mp-568423\n"
     ]
    },
    {
     "name": "stderr",
     "output_type": "stream",
     "text": [
      "Retrieving ElectronicStructureDoc documents: 100%|██████████| 1/1 [00:00<00:00, 21076.90it/s]\n",
      " 89%|████████▊ | 887/1000 [16:19<02:26,  1.30s/it]"
     ]
    },
    {
     "name": "stdout",
     "output_type": "stream",
     "text": [
      "LaTe3 mp-1078612\n"
     ]
    },
    {
     "name": "stderr",
     "output_type": "stream",
     "text": [
      "Retrieving ElectronicStructureDoc documents: 100%|██████████| 1/1 [00:00<00:00, 22075.28it/s]\n",
      "Retrieving ElectronicStructureDoc documents: 100%|██████████| 1/1 [00:00<00:00, 16070.13it/s]\n",
      " 89%|████████▉ | 889/1000 [16:20<01:52,  1.02s/it]"
     ]
    },
    {
     "name": "stdout",
     "output_type": "stream",
     "text": [
      "Error retrieving band structure for mp-1067619: No uniform band structure data found for mp-1067619\n"
     ]
    },
    {
     "name": "stderr",
     "output_type": "stream",
     "text": [
      "Retrieving ElectronicStructureDoc documents: 100%|██████████| 1/1 [00:00<00:00, 21620.12it/s]\n",
      " 89%|████████▉ | 890/1000 [16:21<01:48,  1.02it/s]"
     ]
    },
    {
     "name": "stdout",
     "output_type": "stream",
     "text": [
      "Error retrieving band structure for mp-1071032: No uniform band structure data found for mp-1071032\n"
     ]
    },
    {
     "name": "stderr",
     "output_type": "stream",
     "text": [
      "Retrieving ElectronicStructureDoc documents: 100%|██████████| 1/1 [00:00<00:00, 17260.51it/s]\n",
      "Retrieving ElectronicStructureDoc documents: 0it [00:00, ?it/s]\n",
      " 89%|████████▉ | 892/1000 [16:23<01:22,  1.31it/s]"
     ]
    },
    {
     "name": "stdout",
     "output_type": "stream",
     "text": [
      "Error retrieving band structure for mvc-13531: No electronic structure data found.\n"
     ]
    },
    {
     "name": "stderr",
     "output_type": "stream",
     "text": [
      "Retrieving ElectronicStructureDoc documents: 100%|██████████| 1/1 [00:00<00:00, 24385.49it/s]\n",
      "Retrieving ElectronicStructureDoc documents: 100%|██████████| 1/1 [00:00<00:00, 14413.42it/s]\n",
      "Retrieving ElectronicStructureDoc documents: 100%|██████████| 1/1 [00:00<00:00, 16008.79it/s]\n",
      " 90%|████████▉ | 895/1000 [16:25<01:25,  1.23it/s]"
     ]
    },
    {
     "name": "stdout",
     "output_type": "stream",
     "text": [
      "Zn(AsO2)2 mp-29509\n"
     ]
    },
    {
     "name": "stderr",
     "output_type": "stream",
     "text": [
      "Retrieving ElectronicStructureDoc documents: 100%|██████████| 1/1 [00:00<00:00, 11125.47it/s]\n",
      " 90%|████████▉ | 896/1000 [16:27<01:53,  1.09s/it]"
     ]
    },
    {
     "name": "stdout",
     "output_type": "stream",
     "text": [
      "TiBr3 mp-28214\n",
      "TiBr3 mp-28214\n",
      "TiBr3 mp-28214\n",
      "TiBr3 mp-28214\n"
     ]
    },
    {
     "name": "stderr",
     "output_type": "stream",
     "text": [
      "Retrieving ElectronicStructureDoc documents: 100%|██████████| 1/1 [00:00<00:00, 21183.35it/s]\n",
      "Retrieving ElectronicStructureDoc documents: 100%|██████████| 1/1 [00:00<00:00, 20867.18it/s]\n",
      "Retrieving ElectronicStructureDoc documents: 100%|██████████| 1/1 [00:00<00:00, 23696.63it/s]\n",
      "Retrieving ElectronicStructureDoc documents: 100%|██████████| 1/1 [00:00<00:00, 15307.68it/s]\n",
      "Retrieving ElectronicStructureDoc documents: 100%|██████████| 1/1 [00:00<00:00, 21845.33it/s]\n",
      "Retrieving ElectronicStructureDoc documents: 100%|██████████| 1/1 [00:00<00:00, 25575.02it/s]\n",
      "Retrieving ElectronicStructureDoc documents: 100%|██████████| 1/1 [00:00<00:00, 12192.74it/s]\n",
      "Retrieving ElectronicStructureDoc documents: 100%|██████████| 1/1 [00:00<00:00, 25266.89it/s]\n",
      " 90%|█████████ | 904/1000 [16:34<01:39,  1.04s/it]"
     ]
    },
    {
     "name": "stdout",
     "output_type": "stream",
     "text": [
      "ZrGe2 mp-2430\n",
      "ZrGe2 mp-2430\n",
      "ZrGe2 mp-2430\n",
      "ZrGe2 mp-2430\n"
     ]
    },
    {
     "name": "stderr",
     "output_type": "stream",
     "text": [
      "Retrieving ElectronicStructureDoc documents: 0it [00:00, ?it/s]\n",
      " 90%|█████████ | 905/1000 [16:34<01:15,  1.26it/s]"
     ]
    },
    {
     "name": "stdout",
     "output_type": "stream",
     "text": [
      "Error retrieving band structure for mvc-15980: No electronic structure data found.\n"
     ]
    },
    {
     "name": "stderr",
     "output_type": "stream",
     "text": [
      "Retrieving ElectronicStructureDoc documents: 100%|██████████| 1/1 [00:00<00:00, 9118.05it/s]\n",
      "Retrieving ElectronicStructureDoc documents: 100%|██████████| 1/1 [00:00<00:00, 15534.46it/s]\n",
      "Retrieving ElectronicStructureDoc documents: 100%|██████████| 1/1 [00:00<00:00, 25731.93it/s]\n",
      "Retrieving ElectronicStructureDoc documents: 100%|██████████| 1/1 [00:00<00:00, 11214.72it/s]\n",
      "Retrieving ElectronicStructureDoc documents: 100%|██████████| 1/1 [00:00<00:00, 21845.33it/s]\n",
      " 91%|█████████ | 910/1000 [16:39<01:28,  1.02it/s]"
     ]
    },
    {
     "name": "stdout",
     "output_type": "stream",
     "text": [
      "TiBr3 mp-28214\n",
      "TiBr3 mp-28214\n",
      "TiBr3 mp-28214\n",
      "TiBr3 mp-28214\n"
     ]
    },
    {
     "name": "stderr",
     "output_type": "stream",
     "text": [
      "Retrieving ElectronicStructureDoc documents: 100%|██████████| 1/1 [00:00<00:00, 14074.85it/s]\n",
      "Retrieving ElectronicStructureDoc documents: 100%|██████████| 1/1 [00:00<00:00, 17119.61it/s]\n",
      " 91%|█████████ | 912/1000 [16:41<01:12,  1.22it/s]"
     ]
    },
    {
     "name": "stdout",
     "output_type": "stream",
     "text": [
      "Error retrieving band structure for mp-1379: No uniform band structure data found for mp-1379\n"
     ]
    },
    {
     "name": "stderr",
     "output_type": "stream",
     "text": [
      "Retrieving ElectronicStructureDoc documents: 100%|██████████| 1/1 [00:00<00:00, 13981.01it/s]\n",
      "Retrieving ElectronicStructureDoc documents: 100%|██████████| 1/1 [00:00<00:00, 21732.15it/s]\n",
      "Retrieving ElectronicStructureDoc documents: 100%|██████████| 1/1 [00:00<00:00, 17189.77it/s]\n",
      " 92%|█████████▏| 915/1000 [16:43<01:04,  1.32it/s]"
     ]
    },
    {
     "name": "stdout",
     "output_type": "stream",
     "text": [
      "PbO mp-20878\n",
      "PbO mp-20878\n",
      "PbO mp-20878\n",
      "PbO mp-20878\n",
      "PbO mp-20878\n",
      "PbO mp-20878\n"
     ]
    },
    {
     "name": "stderr",
     "output_type": "stream",
     "text": [
      "Retrieving ElectronicStructureDoc documents: 100%|██████████| 1/1 [00:00<00:00, 13842.59it/s]\n",
      " 92%|█████████▏| 916/1000 [16:44<01:20,  1.04it/s]"
     ]
    },
    {
     "name": "stdout",
     "output_type": "stream",
     "text": [
      "SiP2 mp-9996\n",
      "SiP2 mp-9996\n",
      "SiP2 mp-9996\n"
     ]
    },
    {
     "name": "stderr",
     "output_type": "stream",
     "text": [
      "Retrieving ElectronicStructureDoc documents: 100%|██████████| 1/1 [00:00<00:00, 19878.22it/s]\n",
      "Retrieving ElectronicStructureDoc documents: 0it [00:00, ?it/s]\n",
      " 92%|█████████▏| 918/1000 [16:46<01:17,  1.06it/s]"
     ]
    },
    {
     "name": "stdout",
     "output_type": "stream",
     "text": [
      "Error retrieving band structure for mvc-15980: No electronic structure data found.\n"
     ]
    },
    {
     "name": "stderr",
     "output_type": "stream",
     "text": [
      "Retrieving ElectronicStructureDoc documents: 100%|██████████| 1/1 [00:00<00:00, 10205.12it/s]\n",
      " 92%|█████████▏| 919/1000 [16:48<01:46,  1.31s/it]"
     ]
    },
    {
     "name": "stdout",
     "output_type": "stream",
     "text": [
      "Ca5Ir mp-570356\n",
      "Ca5Ir mp-570356\n",
      "Ca5Ir mp-570356\n",
      "Ca5Ir mp-570356\n"
     ]
    },
    {
     "name": "stderr",
     "output_type": "stream",
     "text": [
      "Retrieving ElectronicStructureDoc documents: 0it [00:00, ?it/s]\n",
      " 92%|█████████▏| 920/1000 [16:49<01:21,  1.01s/it]"
     ]
    },
    {
     "name": "stdout",
     "output_type": "stream",
     "text": [
      "Error retrieving band structure for mp-765923: No electronic structure data found.\n"
     ]
    },
    {
     "name": "stderr",
     "output_type": "stream",
     "text": [
      "Retrieving ElectronicStructureDoc documents: 100%|██████████| 1/1 [00:00<00:00, 20460.02it/s]\n",
      "Retrieving ElectronicStructureDoc documents: 100%|██████████| 1/1 [00:00<00:00, 25266.89it/s]\n",
      "Retrieving ElectronicStructureDoc documents: 100%|██████████| 1/1 [00:00<00:00, 20262.34it/s]\n",
      "Retrieving ElectronicStructureDoc documents: 100%|██████████| 1/1 [00:00<00:00, 20360.70it/s]\n",
      "Retrieving ElectronicStructureDoc documents: 0it [00:00, ?it/s]\n",
      " 92%|█████████▎| 925/1000 [16:55<01:23,  1.11s/it]"
     ]
    },
    {
     "name": "stdout",
     "output_type": "stream",
     "text": [
      "Error retrieving band structure for mvc-14464: No electronic structure data found.\n"
     ]
    },
    {
     "name": "stderr",
     "output_type": "stream",
     "text": [
      "Retrieving ElectronicStructureDoc documents: 100%|██████████| 1/1 [00:00<00:00, 22429.43it/s]\n",
      " 93%|█████████▎| 926/1000 [16:56<01:24,  1.14s/it]"
     ]
    },
    {
     "name": "stdout",
     "output_type": "stream",
     "text": [
      "TlF mp-720\n",
      "TlF mp-720\n",
      "TlF mp-720\n",
      "TlF mp-720\n",
      "TlF mp-720\n",
      "TlF mp-720\n"
     ]
    },
    {
     "name": "stderr",
     "output_type": "stream",
     "text": [
      "Retrieving ElectronicStructureDoc documents: 100%|██████████| 1/1 [00:00<00:00, 24672.38it/s]\n",
      "Retrieving ElectronicStructureDoc documents: 100%|██████████| 1/1 [00:00<00:00, 10591.68it/s]\n",
      "Retrieving ElectronicStructureDoc documents: 0it [00:00, ?it/s]\n",
      " 93%|█████████▎| 929/1000 [16:58<00:54,  1.31it/s]"
     ]
    },
    {
     "name": "stdout",
     "output_type": "stream",
     "text": [
      "Error retrieving band structure for mp-765924: No electronic structure data found.\n"
     ]
    },
    {
     "name": "stderr",
     "output_type": "stream",
     "text": [
      "Retrieving ElectronicStructureDoc documents: 100%|██████████| 1/1 [00:00<00:00, 21399.51it/s]\n",
      " 93%|█████████▎| 930/1000 [16:59<00:50,  1.39it/s]"
     ]
    },
    {
     "name": "stdout",
     "output_type": "stream",
     "text": [
      "Error retrieving band structure for mp-542495: No uniform band structure data found for mp-542495\n"
     ]
    },
    {
     "name": "stderr",
     "output_type": "stream",
     "text": [
      "Retrieving ElectronicStructureDoc documents: 100%|██████████| 1/1 [00:00<00:00, 21732.15it/s]\n",
      "Retrieving ElectronicStructureDoc documents: 100%|██████████| 1/1 [00:00<00:00, 15363.75it/s]\n",
      "Retrieving ElectronicStructureDoc documents: 100%|██████████| 1/1 [00:00<00:00, 14217.98it/s]\n",
      "Retrieving ElectronicStructureDoc documents: 0it [00:00, ?it/s]\n",
      " 93%|█████████▎| 934/1000 [17:03<00:56,  1.18it/s]"
     ]
    },
    {
     "name": "stdout",
     "output_type": "stream",
     "text": [
      "Error retrieving band structure for mvc-6083: No electronic structure data found.\n"
     ]
    },
    {
     "name": "stderr",
     "output_type": "stream",
     "text": [
      "Retrieving ElectronicStructureDoc documents: 100%|██████████| 1/1 [00:00<00:00, 20661.60it/s]\n",
      " 94%|█████████▎| 935/1000 [17:04<00:58,  1.12it/s]"
     ]
    },
    {
     "name": "stdout",
     "output_type": "stream",
     "text": [
      "GaSe mp-568128\n"
     ]
    },
    {
     "name": "stderr",
     "output_type": "stream",
     "text": [
      "Retrieving ElectronicStructureDoc documents: 100%|██████████| 1/1 [00:00<00:00, 22192.08it/s]\n",
      "Retrieving ElectronicStructureDoc documents: 0it [00:00, ?it/s]\n",
      " 94%|█████████▎| 937/1000 [17:05<00:43,  1.46it/s]"
     ]
    },
    {
     "name": "stdout",
     "output_type": "stream",
     "text": [
      "Error retrieving band structure for mp-684706: No electronic structure data found.\n"
     ]
    },
    {
     "name": "stderr",
     "output_type": "stream",
     "text": [
      "Retrieving ElectronicStructureDoc documents: 100%|██████████| 1/1 [00:00<00:00, 20661.60it/s]\n",
      " 94%|█████████▍| 938/1000 [17:06<01:01,  1.00it/s]"
     ]
    },
    {
     "name": "stdout",
     "output_type": "stream",
     "text": [
      "Sb2O3 mp-560607\n",
      "Sb2O3 mp-560607\n",
      "Sb2O3 mp-560607\n"
     ]
    },
    {
     "name": "stderr",
     "output_type": "stream",
     "text": [
      "Retrieving ElectronicStructureDoc documents: 100%|██████████| 1/1 [00:00<00:00, 26214.40it/s]\n",
      " 94%|█████████▍| 939/1000 [17:07<00:54,  1.12it/s]"
     ]
    },
    {
     "name": "stdout",
     "output_type": "stream",
     "text": [
      "Error retrieving band structure for mp-978259: No uniform band structure data found for mp-978259\n"
     ]
    },
    {
     "name": "stderr",
     "output_type": "stream",
     "text": [
      "Retrieving ElectronicStructureDoc documents: 100%|██████████| 1/1 [00:00<00:00, 16912.52it/s]\n",
      " 94%|█████████▍| 940/1000 [17:08<00:56,  1.07it/s]"
     ]
    },
    {
     "name": "stdout",
     "output_type": "stream",
     "text": [
      "GaSe mp-568128\n"
     ]
    },
    {
     "name": "stderr",
     "output_type": "stream",
     "text": [
      "Retrieving ElectronicStructureDoc documents: 0it [00:00, ?it/s]\n",
      " 94%|█████████▍| 941/1000 [17:09<00:49,  1.20it/s]"
     ]
    },
    {
     "name": "stdout",
     "output_type": "stream",
     "text": [
      "Error retrieving band structure for mvc-14413: No electronic structure data found.\n"
     ]
    },
    {
     "name": "stderr",
     "output_type": "stream",
     "text": [
      "Retrieving ElectronicStructureDoc documents: 100%|██████████| 1/1 [00:00<00:00, 19784.45it/s]\n",
      "Retrieving ElectronicStructureDoc documents: 100%|██████████| 1/1 [00:00<00:00, 6668.21it/s]\n",
      " 94%|█████████▍| 943/1000 [17:11<00:50,  1.13it/s]"
     ]
    },
    {
     "name": "stdout",
     "output_type": "stream",
     "text": [
      "AlF3 mp-635425\n",
      "AlF3 mp-635425\n"
     ]
    },
    {
     "name": "stderr",
     "output_type": "stream",
     "text": [
      "Retrieving ElectronicStructureDoc documents: 100%|██████████| 1/1 [00:00<00:00, 12905.55it/s]\n",
      "Retrieving ElectronicStructureDoc documents: 0it [00:00, ?it/s]\n",
      " 94%|█████████▍| 945/1000 [17:12<00:37,  1.45it/s]"
     ]
    },
    {
     "name": "stdout",
     "output_type": "stream",
     "text": [
      "Error retrieving band structure for mvc-13958: No electronic structure data found.\n"
     ]
    },
    {
     "name": "stderr",
     "output_type": "stream",
     "text": [
      "Retrieving ElectronicStructureDoc documents: 100%|██████████| 1/1 [00:00<00:00, 22919.69it/s]\n",
      "Retrieving ElectronicStructureDoc documents: 100%|██████████| 1/1 [00:00<00:00, 17189.77it/s]\n",
      "Retrieving ElectronicStructureDoc documents: 100%|██████████| 1/1 [00:00<00:00, 22192.08it/s]\n",
      "Retrieving ElectronicStructureDoc documents: 100%|██████████| 1/1 [00:00<00:00, 26214.40it/s]\n",
      " 95%|█████████▍| 949/1000 [17:16<00:50,  1.01it/s]"
     ]
    },
    {
     "name": "stdout",
     "output_type": "stream",
     "text": [
      "MgCl2 mp-570782\n",
      "MgCl2 mp-570782\n",
      "MgCl2 mp-570782\n",
      "MgCl2 mp-570782\n"
     ]
    },
    {
     "name": "stderr",
     "output_type": "stream",
     "text": [
      "Retrieving ElectronicStructureDoc documents: 100%|██████████| 1/1 [00:00<00:00, 13357.66it/s]\n",
      "Retrieving ElectronicStructureDoc documents: 0it [00:00, ?it/s]\n",
      " 95%|█████████▌| 951/1000 [17:18<00:42,  1.15it/s]"
     ]
    },
    {
     "name": "stdout",
     "output_type": "stream",
     "text": [
      "Error retrieving band structure for mvc-15907: No electronic structure data found.\n"
     ]
    },
    {
     "name": "stderr",
     "output_type": "stream",
     "text": [
      "Retrieving ElectronicStructureDoc documents: 0it [00:00, ?it/s]\n",
      " 95%|█████████▌| 952/1000 [17:19<00:38,  1.26it/s]"
     ]
    },
    {
     "name": "stdout",
     "output_type": "stream",
     "text": [
      "Error retrieving band structure for mvc-9642: No electronic structure data found.\n"
     ]
    },
    {
     "name": "stderr",
     "output_type": "stream",
     "text": [
      "Retrieving ElectronicStructureDoc documents: 100%|██████████| 1/1 [00:00<00:00, 25115.59it/s]\n",
      " 95%|█████████▌| 953/1000 [17:19<00:37,  1.24it/s]"
     ]
    },
    {
     "name": "stdout",
     "output_type": "stream",
     "text": [
      "TlP5 mp-27411\n",
      "TlP5 mp-27411\n",
      "TlP5 mp-27411\n"
     ]
    },
    {
     "name": "stderr",
     "output_type": "stream",
     "text": [
      "Retrieving ElectronicStructureDoc documents: 100%|██████████| 1/1 [00:00<00:00, 14563.56it/s]\n",
      "Retrieving ElectronicStructureDoc documents: 100%|██████████| 1/1 [00:00<00:00, 18236.10it/s]\n",
      " 96%|█████████▌| 955/1000 [17:21<00:36,  1.23it/s]"
     ]
    },
    {
     "name": "stdout",
     "output_type": "stream",
     "text": [
      "Error retrieving band structure for mp-1094357: No uniform band structure data found for mp-1094357\n"
     ]
    },
    {
     "name": "stderr",
     "output_type": "stream",
     "text": [
      "Retrieving ElectronicStructureDoc documents: 100%|██████████| 1/1 [00:00<00:00, 27413.75it/s]\n",
      " 96%|█████████▌| 956/1000 [17:23<00:49,  1.12s/it]"
     ]
    },
    {
     "name": "stdout",
     "output_type": "stream",
     "text": [
      "V2H2O5 mp-1079538\n",
      "V2H2O5 mp-1079538\n",
      "V2H2O5 mp-1079538\n"
     ]
    },
    {
     "name": "stderr",
     "output_type": "stream",
     "text": [
      "Retrieving ElectronicStructureDoc documents: 100%|██████████| 1/1 [00:00<00:00, 14873.42it/s]\n",
      " 96%|█████████▌| 957/1000 [17:24<00:50,  1.16s/it]"
     ]
    },
    {
     "name": "stdout",
     "output_type": "stream",
     "text": [
      "PbS mp-1078944\n",
      "PbS mp-1078944\n"
     ]
    },
    {
     "name": "stderr",
     "output_type": "stream",
     "text": [
      "Retrieving ElectronicStructureDoc documents: 100%|██████████| 1/1 [00:00<00:00, 14217.98it/s]\n",
      "Retrieving ElectronicStructureDoc documents: 0it [00:00, ?it/s]\n",
      " 96%|█████████▌| 959/1000 [17:26<00:38,  1.06it/s]"
     ]
    },
    {
     "name": "stdout",
     "output_type": "stream",
     "text": [
      "Error retrieving band structure for mp-1079409: No electronic structure data found.\n"
     ]
    },
    {
     "name": "stderr",
     "output_type": "stream",
     "text": [
      "Retrieving ElectronicStructureDoc documents: 100%|██████████| 1/1 [00:00<00:00, 11491.24it/s]\n",
      " 96%|█████████▌| 960/1000 [17:31<01:28,  2.21s/it]"
     ]
    },
    {
     "name": "stdout",
     "output_type": "stream",
     "text": [
      "KH2N mp-24428\n",
      "KH2N mp-24428\n",
      "KH2N mp-24428\n",
      "KH2N mp-24428\n"
     ]
    },
    {
     "name": "stderr",
     "output_type": "stream",
     "text": [
      "Retrieving ElectronicStructureDoc documents: 100%|██████████| 1/1 [00:00<00:00, 17924.38it/s]\n",
      "Retrieving ElectronicStructureDoc documents: 100%|██████████| 1/1 [00:00<00:00, 15709.00it/s]\n",
      "Retrieving ElectronicStructureDoc documents: 100%|██████████| 1/1 [00:00<00:00, 22075.28it/s]\n",
      "Retrieving ElectronicStructureDoc documents: 100%|██████████| 1/1 [00:00<00:00, 24105.20it/s]\n",
      "Retrieving ElectronicStructureDoc documents: 100%|██████████| 1/1 [00:00<00:00, 11397.57it/s]\n",
      " 96%|█████████▋| 965/1000 [17:38<00:52,  1.49s/it]"
     ]
    },
    {
     "name": "stdout",
     "output_type": "stream",
     "text": [
      "CuHgSCl mp-23567\n"
     ]
    },
    {
     "name": "stderr",
     "output_type": "stream",
     "text": [
      "Retrieving ElectronicStructureDoc documents: 100%|██████████| 1/1 [00:00<00:00, 16320.25it/s]\n",
      "Retrieving ElectronicStructureDoc documents: 100%|██████████| 1/1 [00:00<00:00, 9709.04it/s]\n",
      " 97%|█████████▋| 967/1000 [17:39<00:37,  1.14s/it]"
     ]
    },
    {
     "name": "stdout",
     "output_type": "stream",
     "text": [
      "Ta3Te14Pd3 mp-505132\n"
     ]
    },
    {
     "name": "stderr",
     "output_type": "stream",
     "text": [
      "Retrieving ElectronicStructureDoc documents: 100%|██████████| 1/1 [00:00<00:00, 16777.22it/s]\n",
      " 97%|█████████▋| 968/1000 [17:41<00:42,  1.32s/it]"
     ]
    },
    {
     "name": "stdout",
     "output_type": "stream",
     "text": [
      "ErHCl mp-24051\n",
      "ErHCl mp-24051\n",
      "ErHCl mp-24051\n",
      "ErHCl mp-24051\n",
      "ErHCl mp-24051\n"
     ]
    },
    {
     "name": "stderr",
     "output_type": "stream",
     "text": [
      "Retrieving ElectronicStructureDoc documents: 100%|██████████| 1/1 [00:00<00:00, 27962.03it/s]\n",
      "Retrieving ElectronicStructureDoc documents: 100%|██████████| 1/1 [00:00<00:00, 17119.61it/s]\n",
      "Retrieving ElectronicStructureDoc documents: 0it [00:00, ?it/s]\n",
      " 97%|█████████▋| 971/1000 [17:44<00:26,  1.09it/s]"
     ]
    },
    {
     "name": "stdout",
     "output_type": "stream",
     "text": [
      "Error retrieving band structure for mp-552787: No electronic structure data found.\n"
     ]
    },
    {
     "name": "stderr",
     "output_type": "stream",
     "text": [
      "Retrieving ElectronicStructureDoc documents: 100%|██████████| 1/1 [00:00<00:00, 10645.44it/s]\n",
      "Retrieving ElectronicStructureDoc documents: 100%|██████████| 1/1 [00:00<00:00, 13189.64it/s]\n",
      "Retrieving ElectronicStructureDoc documents: 100%|██████████| 1/1 [00:00<00:00, 16644.06it/s]\n",
      "Retrieving ElectronicStructureDoc documents: 0it [00:00, ?it/s]\n",
      " 98%|█████████▊| 975/1000 [17:47<00:20,  1.24it/s]"
     ]
    },
    {
     "name": "stdout",
     "output_type": "stream",
     "text": [
      "Error retrieving band structure for mp-25497: No electronic structure data found.\n"
     ]
    },
    {
     "name": "stderr",
     "output_type": "stream",
     "text": [
      "Retrieving ElectronicStructureDoc documents: 100%|██████████| 1/1 [00:00<00:00, 17623.13it/s]\n",
      "Retrieving ElectronicStructureDoc documents: 0it [00:00, ?it/s]\n",
      " 98%|█████████▊| 977/1000 [17:49<00:18,  1.23it/s]"
     ]
    },
    {
     "name": "stdout",
     "output_type": "stream",
     "text": [
      "Error retrieving band structure for mvc-353: No electronic structure data found.\n"
     ]
    },
    {
     "name": "stderr",
     "output_type": "stream",
     "text": [
      "Retrieving ElectronicStructureDoc documents: 100%|██████████| 1/1 [00:00<00:00, 24966.10it/s]\n",
      "Retrieving ElectronicStructureDoc documents: 0it [00:00, ?it/s]\n",
      " 98%|█████████▊| 979/1000 [17:51<00:18,  1.13it/s]"
     ]
    },
    {
     "name": "stdout",
     "output_type": "stream",
     "text": [
      "Error retrieving band structure for mvc-1121: No electronic structure data found.\n"
     ]
    },
    {
     "name": "stderr",
     "output_type": "stream",
     "text": [
      "Retrieving ElectronicStructureDoc documents: 100%|██████████| 1/1 [00:00<00:00, 21732.15it/s]\n",
      " 98%|█████████▊| 980/1000 [17:54<00:31,  1.56s/it]"
     ]
    },
    {
     "name": "stdout",
     "output_type": "stream",
     "text": [
      "V2O5 mp-510568\n",
      "V2O5 mp-510568\n",
      "V2O5 mp-510568\n",
      "V2O5 mp-510568\n"
     ]
    },
    {
     "name": "stderr",
     "output_type": "stream",
     "text": [
      "Retrieving ElectronicStructureDoc documents: 100%|██████████| 1/1 [00:00<00:00, 14716.86it/s]\n",
      "Retrieving ElectronicStructureDoc documents: 100%|██████████| 1/1 [00:00<00:00, 14266.34it/s]\n",
      " 98%|█████████▊| 982/1000 [17:56<00:20,  1.16s/it]"
     ]
    },
    {
     "name": "stdout",
     "output_type": "stream",
     "text": [
      "Sr2Co(ClO)2 mp-560610\n",
      "Sr2Co(ClO)2 mp-560610\n"
     ]
    },
    {
     "name": "stderr",
     "output_type": "stream",
     "text": [
      "Retrieving ElectronicStructureDoc documents: 0it [00:00, ?it/s]\n",
      " 98%|█████████▊| 983/1000 [17:57<00:18,  1.09s/it]"
     ]
    },
    {
     "name": "stdout",
     "output_type": "stream",
     "text": [
      "Error retrieving band structure for mvc-8147: No electronic structure data found.\n"
     ]
    },
    {
     "name": "stderr",
     "output_type": "stream",
     "text": [
      "Retrieving ElectronicStructureDoc documents: 100%|██████████| 1/1 [00:00<00:00, 23967.45it/s]\n",
      "Retrieving ElectronicStructureDoc documents: 0it [00:00, ?it/s]\n",
      " 98%|█████████▊| 985/1000 [17:58<00:13,  1.12it/s]"
     ]
    },
    {
     "name": "stdout",
     "output_type": "stream",
     "text": [
      "Error retrieving band structure for mp-561909: No electronic structure data found.\n"
     ]
    },
    {
     "name": "stderr",
     "output_type": "stream",
     "text": [
      "Retrieving ElectronicStructureDoc documents: 100%|██████████| 1/1 [00:00<00:00, 23967.45it/s]\n",
      " 99%|█████████▊| 986/1000 [17:59<00:12,  1.17it/s]"
     ]
    },
    {
     "name": "stdout",
     "output_type": "stream",
     "text": [
      "LiB(HO2)2 mp-698205\n",
      "LiB(HO2)2 mp-698205\n",
      "LiB(HO2)2 mp-698205\n",
      "LiB(HO2)2 mp-698205\n"
     ]
    },
    {
     "name": "stderr",
     "output_type": "stream",
     "text": [
      "Retrieving ElectronicStructureDoc documents: 100%|██████████| 1/1 [00:00<00:00, 14413.42it/s]\n",
      "Retrieving ElectronicStructureDoc documents: 0it [00:00, ?it/s]\n",
      " 99%|█████████▉| 988/1000 [18:01<00:10,  1.15it/s]"
     ]
    },
    {
     "name": "stdout",
     "output_type": "stream",
     "text": [
      "Error retrieving band structure for mp-762466: No electronic structure data found.\n"
     ]
    },
    {
     "name": "stderr",
     "output_type": "stream",
     "text": [
      "Retrieving ElectronicStructureDoc documents: 100%|██████████| 1/1 [00:00<00:00, 19328.59it/s]\n",
      "Retrieving ElectronicStructureDoc documents: 100%|██████████| 1/1 [00:00<00:00, 21620.12it/s]\n",
      "Retrieving ElectronicStructureDoc documents: 0it [00:00, ?it/s]\n",
      " 99%|█████████▉| 991/1000 [18:05<00:10,  1.20s/it]"
     ]
    },
    {
     "name": "stdout",
     "output_type": "stream",
     "text": [
      "Error retrieving band structure for mvc-11686: No electronic structure data found.\n"
     ]
    },
    {
     "name": "stderr",
     "output_type": "stream",
     "text": [
      "Retrieving ElectronicStructureDoc documents: 0it [00:00, ?it/s]\n",
      " 99%|█████████▉| 992/1000 [18:06<00:07,  1.04it/s]"
     ]
    },
    {
     "name": "stdout",
     "output_type": "stream",
     "text": [
      "Error retrieving band structure for mp-505678: No electronic structure data found.\n"
     ]
    },
    {
     "name": "stderr",
     "output_type": "stream",
     "text": [
      "Retrieving ElectronicStructureDoc documents: 0it [00:00, ?it/s]\n",
      " 99%|█████████▉| 993/1000 [18:07<00:06,  1.09it/s]"
     ]
    },
    {
     "name": "stdout",
     "output_type": "stream",
     "text": [
      "Error retrieving band structure for mp-777222: No electronic structure data found.\n"
     ]
    },
    {
     "name": "stderr",
     "output_type": "stream",
     "text": [
      "Retrieving ElectronicStructureDoc documents: 100%|██████████| 1/1 [00:00<00:00, 22310.13it/s]\n",
      " 99%|█████████▉| 994/1000 [18:07<00:05,  1.12it/s]"
     ]
    },
    {
     "name": "stdout",
     "output_type": "stream",
     "text": [
      "Error retrieving band structure for mp-752721: No uniform band structure data found for mp-752721\n"
     ]
    },
    {
     "name": "stderr",
     "output_type": "stream",
     "text": [
      "Retrieving ElectronicStructureDoc documents: 100%|██████████| 1/1 [00:00<00:00, 23172.95it/s]\n",
      "100%|█████████▉| 995/1000 [18:09<00:05,  1.08s/it]"
     ]
    },
    {
     "name": "stdout",
     "output_type": "stream",
     "text": [
      "SrBi5O9 mp-753357\n",
      "SrBi5O9 mp-753357\n",
      "SrBi5O9 mp-753357\n"
     ]
    },
    {
     "name": "stderr",
     "output_type": "stream",
     "text": [
      "Retrieving ElectronicStructureDoc documents: 100%|██████████| 1/1 [00:00<00:00, 26379.27it/s]\n",
      "Retrieving ElectronicStructureDoc documents: 100%|██████████| 1/1 [00:00<00:00, 25890.77it/s]\n",
      "100%|█████████▉| 997/1000 [18:11<00:02,  1.11it/s]"
     ]
    },
    {
     "name": "stdout",
     "output_type": "stream",
     "text": [
      "As2Pb2O5 mp-505465\n",
      "As2Pb2O5 mp-505465\n"
     ]
    },
    {
     "name": "stderr",
     "output_type": "stream",
     "text": [
      "Retrieving ElectronicStructureDoc documents: 0it [00:00, ?it/s]\n",
      "100%|█████████▉| 998/1000 [18:11<00:01,  1.43it/s]"
     ]
    },
    {
     "name": "stdout",
     "output_type": "stream",
     "text": [
      "Error retrieving band structure for mp-765404: No electronic structure data found.\n"
     ]
    },
    {
     "name": "stderr",
     "output_type": "stream",
     "text": [
      "Retrieving ElectronicStructureDoc documents: 100%|██████████| 1/1 [00:00<00:00, 11184.81it/s]\n",
      "Retrieving ElectronicStructureDoc documents: 100%|██████████| 1/1 [00:00<00:00, 18477.11it/s]\n",
      "100%|██████████| 1000/1000 [18:13<00:00,  1.09s/it]"
     ]
    },
    {
     "name": "stdout",
     "output_type": "stream",
     "text": [
      "TbHO2 mp-504474\n",
      "TbHO2 mp-504474\n",
      "TbHO2 mp-504474\n",
      "TbHO2 mp-504474\n",
      "TbHO2 mp-504474\n",
      "TbHO2 mp-504474\n"
     ]
    },
    {
     "name": "stderr",
     "output_type": "stream",
     "text": [
      "\n"
     ]
    }
   ],
   "source": [
    "band_structs = []\n",
    "max_limit = 1000\n",
    "with MPRester(api_key=apikey) as mpr:\n",
    "    for item in tqdm(D2matdata['data'][:max_limit]):\n",
    "        mat_id = item['identifier']\n",
    "        material = item['formula']\n",
    "\n",
    "        try:\n",
    "            bandstructure = mpr.get_bandstructure_by_material_id(mat_id, line_mode=False)\n",
    "            kpt = np.array([kpt.frac_coords for kpt in bandstructure.kpoints ])\n",
    "            dim1 = np.unique(kpt[:,0])\n",
    "            dim2 = np.unique(kpt[:,1])\n",
    "            dim3 = np.unique(kpt[:,2])\n",
    "            z0 = np.min(np.abs(dim3))\n",
    "            \n",
    "            # print(len(dim1), dim1 )\n",
    "            # print(len(dim2), dim2 )\n",
    "            # print(len(dim3), dim3 )\n",
    "            # print(np.array(list(bandstructure.bands.values()))[0].shape)\n",
    "            for z in dim3:\n",
    "                if  len(kpt[kpt[:, 2] == z]) == len(dim1)*len(dim2) :\n",
    "                # if len(dim1) == len(dim2) :\n",
    "                    band_structs.append(\n",
    "                        [ (len(dim1), len(dim2)), len(dim3), kpt[kpt[:, 2] == z, :2], \n",
    "                        np.array(list(bandstructure.bands.values()))[0][:, kpt[:, 2] == z] ]\n",
    "                    )\n",
    "                    print(material, mat_id)\n",
    "\n",
    "        except Exception as e:\n",
    "            print(f\"Error retrieving band structure for {mat_id}: {e}\")\n",
    "    "
   ]
  },
  {
   "cell_type": "code",
   "execution_count": 95,
   "metadata": {},
   "outputs": [
    {
     "name": "stderr",
     "output_type": "stream",
     "text": [
      "Retrieving ElectronicStructureDoc documents: 100%|██████████| 1/1 [00:00<00:00, 10034.22it/s]\n",
      "  1%|          | 1/100 [00:06<09:56,  6.02s/it]"
     ]
    },
    {
     "name": "stdout",
     "output_type": "stream",
     "text": [
      "VCl3 mp-28117\n"
     ]
    },
    {
     "name": "stderr",
     "output_type": "stream",
     "text": [
      "Retrieving ElectronicStructureDoc documents: 100%|██████████| 1/1 [00:00<00:00, 17403.75it/s]\n",
      "Retrieving ElectronicStructureDoc documents: 100%|██████████| 1/1 [00:00<00:00, 20560.31it/s]\n",
      "Retrieving ElectronicStructureDoc documents: 100%|██████████| 1/1 [00:00<00:00, 17260.51it/s]\n",
      "Retrieving ElectronicStructureDoc documents: 100%|██████████| 1/1 [00:00<00:00, 6944.21it/s]\n",
      "  5%|▌         | 5/100 [00:09<02:07,  1.34s/it]"
     ]
    },
    {
     "name": "stdout",
     "output_type": "stream",
     "text": [
      "In2Te5 mp-582549\n"
     ]
    },
    {
     "name": "stderr",
     "output_type": "stream",
     "text": [
      "Retrieving ElectronicStructureDoc documents: 100%|██████████| 1/1 [00:00<00:00, 21959.71it/s]\n",
      "Retrieving ElectronicStructureDoc documents: 100%|██████████| 1/1 [00:00<00:00, 15141.89it/s]\n",
      "  7%|▋         | 7/100 [00:12<02:13,  1.43s/it]"
     ]
    },
    {
     "name": "stdout",
     "output_type": "stream",
     "text": [
      "CoSn3 mp-985707\n"
     ]
    },
    {
     "name": "stderr",
     "output_type": "stream",
     "text": [
      "Retrieving ElectronicStructureDoc documents: 100%|██████████| 1/1 [00:00<00:00, 12087.33it/s]\n",
      "  8%|▊         | 8/100 [00:13<02:01,  1.33s/it]"
     ]
    },
    {
     "name": "stdout",
     "output_type": "stream",
     "text": [
      "Hf3Te2 mp-28919\n"
     ]
    },
    {
     "name": "stderr",
     "output_type": "stream",
     "text": [
      "Retrieving ElectronicStructureDoc documents: 100%|██████████| 1/1 [00:00<00:00, 16912.52it/s]\n",
      "  9%|▉         | 9/100 [00:14<01:40,  1.10s/it]"
     ]
    },
    {
     "name": "stdout",
     "output_type": "stream",
     "text": [
      "Error retrieving band structure for mp-570325: No uniform band structure data found for mp-570325\n"
     ]
    },
    {
     "name": "stderr",
     "output_type": "stream",
     "text": [
      "Retrieving ElectronicStructureDoc documents: 100%|██████████| 1/1 [00:00<00:00, 20661.60it/s]\n",
      " 10%|█         | 10/100 [00:16<02:00,  1.34s/it]"
     ]
    },
    {
     "name": "stdout",
     "output_type": "stream",
     "text": [
      "PtPb4 mp-21296\n"
     ]
    },
    {
     "name": "stderr",
     "output_type": "stream",
     "text": [
      "Retrieving ElectronicStructureDoc documents: 100%|██████████| 1/1 [00:00<00:00, 14122.24it/s]\n",
      "Retrieving ElectronicStructureDoc documents: 100%|██████████| 1/1 [00:00<00:00, 11397.57it/s]\n",
      "Retrieving ElectronicStructureDoc documents: 100%|██████████| 1/1 [00:00<00:00, 25115.59it/s]\n",
      " 13%|█▎        | 13/100 [00:19<01:40,  1.15s/it]"
     ]
    },
    {
     "name": "stdout",
     "output_type": "stream",
     "text": [
      "Al2Ru mp-1009834\n"
     ]
    },
    {
     "name": "stderr",
     "output_type": "stream",
     "text": [
      "Retrieving ElectronicStructureDoc documents: 100%|██████████| 1/1 [00:00<00:00, 23431.87it/s]\n",
      " 14%|█▍        | 14/100 [00:20<01:43,  1.20s/it]"
     ]
    },
    {
     "name": "stdout",
     "output_type": "stream",
     "text": [
      "CoSn3 mp-985707\n"
     ]
    },
    {
     "name": "stderr",
     "output_type": "stream",
     "text": [
      "Retrieving ElectronicStructureDoc documents: 0it [00:00, ?it/s]\n",
      " 15%|█▌        | 15/100 [00:21<01:30,  1.06s/it]"
     ]
    },
    {
     "name": "stdout",
     "output_type": "stream",
     "text": [
      "Error retrieving band structure for mvc-14464: No electronic structure data found.\n"
     ]
    },
    {
     "name": "stderr",
     "output_type": "stream",
     "text": [
      "Retrieving ElectronicStructureDoc documents: 100%|██████████| 1/1 [00:00<00:00, 17848.10it/s]\n",
      " 16%|█▌        | 16/100 [00:22<01:26,  1.03s/it]"
     ]
    },
    {
     "name": "stdout",
     "output_type": "stream",
     "text": [
      "VSe mp-604914\n"
     ]
    },
    {
     "name": "stderr",
     "output_type": "stream",
     "text": [
      "Retrieving ElectronicStructureDoc documents: 100%|██████████| 1/1 [00:00<00:00, 19065.02it/s]\n",
      " 17%|█▋        | 17/100 [00:23<01:19,  1.05it/s]"
     ]
    },
    {
     "name": "stdout",
     "output_type": "stream",
     "text": [
      "PdSe2 mp-2418\n"
     ]
    },
    {
     "name": "stderr",
     "output_type": "stream",
     "text": [
      "Retrieving ElectronicStructureDoc documents: 100%|██████████| 1/1 [00:00<00:00, 8305.55it/s]\n",
      "Retrieving ElectronicStructureDoc documents: 100%|██████████| 1/1 [00:00<00:00, 21399.51it/s]\n",
      " 19%|█▉        | 19/100 [00:27<01:57,  1.45s/it]"
     ]
    },
    {
     "name": "stdout",
     "output_type": "stream",
     "text": [
      "PdS2 mp-13682\n"
     ]
    },
    {
     "name": "stderr",
     "output_type": "stream",
     "text": [
      "Retrieving ElectronicStructureDoc documents: 100%|██████████| 1/1 [00:00<00:00, 12557.80it/s]\n",
      " 20%|██        | 20/100 [00:28<01:46,  1.33s/it]"
     ]
    },
    {
     "name": "stdout",
     "output_type": "stream",
     "text": [
      "FeSi2 mp-20738\n"
     ]
    },
    {
     "name": "stderr",
     "output_type": "stream",
     "text": [
      "Retrieving ElectronicStructureDoc documents: 100%|██████████| 1/1 [00:00<00:00, 19691.57it/s]\n",
      "Retrieving ElectronicStructureDoc documents: 100%|██████████| 1/1 [00:00<00:00, 17260.51it/s]\n",
      "Retrieving ElectronicStructureDoc documents: 100%|██████████| 1/1 [00:00<00:00, 14315.03it/s]\n",
      "Retrieving ElectronicStructureDoc documents: 100%|██████████| 1/1 [00:00<00:00, 16777.22it/s]\n",
      "Retrieving ElectronicStructureDoc documents: 100%|██████████| 1/1 [00:00<00:00, 23831.27it/s]\n",
      "Retrieving ElectronicStructureDoc documents: 100%|██████████| 1/1 [00:00<00:00, 21183.35it/s]\n",
      " 26%|██▌       | 26/100 [00:33<01:15,  1.02s/it]"
     ]
    },
    {
     "name": "stdout",
     "output_type": "stream",
     "text": [
      "Bi4I mp-583234\n"
     ]
    },
    {
     "name": "stderr",
     "output_type": "stream",
     "text": [
      "Retrieving ElectronicStructureDoc documents: 100%|██████████| 1/1 [00:00<00:00, 11650.84it/s]\n",
      " 27%|██▋       | 27/100 [00:35<01:22,  1.13s/it]"
     ]
    },
    {
     "name": "stdout",
     "output_type": "stream",
     "text": [
      "LaI2 mp-23194\n"
     ]
    },
    {
     "name": "stderr",
     "output_type": "stream",
     "text": [
      "Retrieving ElectronicStructureDoc documents: 100%|██████████| 1/1 [00:00<00:00, 26379.27it/s]\n",
      " 28%|██▊       | 28/100 [00:36<01:33,  1.29s/it]"
     ]
    },
    {
     "name": "stdout",
     "output_type": "stream",
     "text": [
      "Error retrieving band structure for mp-1057015: No uniform band structure data found for mp-1057015\n"
     ]
    },
    {
     "name": "stderr",
     "output_type": "stream",
     "text": [
      "Retrieving ElectronicStructureDoc documents: 100%|██████████| 1/1 [00:00<00:00, 23431.87it/s]\n",
      " 29%|██▉       | 29/100 [00:37<01:26,  1.22s/it]"
     ]
    },
    {
     "name": "stdout",
     "output_type": "stream",
     "text": [
      "SnF4 mp-2706\n"
     ]
    },
    {
     "name": "stderr",
     "output_type": "stream",
     "text": [
      "Retrieving ElectronicStructureDoc documents: 100%|██████████| 1/1 [00:00<00:00, 26546.23it/s]\n",
      " 30%|███       | 30/100 [00:38<01:15,  1.07s/it]"
     ]
    },
    {
     "name": "stdout",
     "output_type": "stream",
     "text": [
      "TlF mp-557835\n"
     ]
    },
    {
     "name": "stderr",
     "output_type": "stream",
     "text": [
      "Retrieving ElectronicStructureDoc documents: 100%|██████████| 1/1 [00:00<00:00, 20068.44it/s]\n",
      " 31%|███       | 31/100 [00:39<01:03,  1.08it/s]"
     ]
    },
    {
     "name": "stdout",
     "output_type": "stream",
     "text": [
      "Error retrieving band structure for mp-850083: No uniform band structure data found for mp-850083\n"
     ]
    },
    {
     "name": "stderr",
     "output_type": "stream",
     "text": [
      "Retrieving ElectronicStructureDoc documents: 100%|██████████| 1/1 [00:00<00:00, 16710.37it/s]\n",
      " 32%|███▏      | 32/100 [00:40<01:00,  1.13it/s]"
     ]
    },
    {
     "name": "stdout",
     "output_type": "stream",
     "text": [
      "In2Te5 mp-582549\n"
     ]
    },
    {
     "name": "stderr",
     "output_type": "stream",
     "text": [
      "Retrieving ElectronicStructureDoc documents: 100%|██████████| 1/1 [00:00<00:00, 15709.00it/s]\n",
      "Retrieving ElectronicStructureDoc documents: 100%|██████████| 1/1 [00:00<00:00, 12595.51it/s]\n",
      " 34%|███▍      | 34/100 [00:42<01:02,  1.06it/s]"
     ]
    },
    {
     "name": "stdout",
     "output_type": "stream",
     "text": [
      "Ba2Hg mp-8094\n"
     ]
    },
    {
     "name": "stderr",
     "output_type": "stream",
     "text": [
      "Retrieving ElectronicStructureDoc documents: 0it [00:00, ?it/s]\n",
      " 35%|███▌      | 35/100 [00:42<00:53,  1.23it/s]"
     ]
    },
    {
     "name": "stdout",
     "output_type": "stream",
     "text": [
      "Error retrieving band structure for mvc-15384: No electronic structure data found.\n"
     ]
    },
    {
     "name": "stderr",
     "output_type": "stream",
     "text": [
      "Retrieving ElectronicStructureDoc documents: 100%|██████████| 1/1 [00:00<00:00, 7384.34it/s]\n",
      " 36%|███▌      | 36/100 [00:43<00:59,  1.08it/s]"
     ]
    },
    {
     "name": "stdout",
     "output_type": "stream",
     "text": [
      "ZrCl3 mp-1100795\n"
     ]
    },
    {
     "name": "stderr",
     "output_type": "stream",
     "text": [
      "Retrieving ElectronicStructureDoc documents: 100%|██████████| 1/1 [00:00<00:00, 13797.05it/s]\n",
      " 37%|███▋      | 37/100 [00:45<01:05,  1.05s/it]"
     ]
    },
    {
     "name": "stdout",
     "output_type": "stream",
     "text": [
      "GaSe mp-568128\n"
     ]
    },
    {
     "name": "stderr",
     "output_type": "stream",
     "text": [
      "Retrieving ElectronicStructureDoc documents: 100%|██████████| 1/1 [00:00<00:00, 22671.91it/s]\n",
      "Retrieving ElectronicStructureDoc documents: 100%|██████████| 1/1 [00:00<00:00, 22671.91it/s]\n",
      " 39%|███▉      | 39/100 [00:46<00:59,  1.03it/s]"
     ]
    },
    {
     "name": "stdout",
     "output_type": "stream",
     "text": [
      "Ta2I5 mp-32554\n"
     ]
    },
    {
     "name": "stderr",
     "output_type": "stream",
     "text": [
      "Retrieving ElectronicStructureDoc documents: 100%|██████████| 1/1 [00:00<00:00, 22429.43it/s]\n",
      "Retrieving ElectronicStructureDoc documents: 100%|██████████| 1/1 [00:00<00:00, 10754.63it/s]\n",
      "Retrieving ElectronicStructureDoc documents: 100%|██████████| 1/1 [00:00<00:00, 25575.02it/s]\n",
      " 42%|████▏     | 42/100 [00:49<00:52,  1.10it/s]"
     ]
    },
    {
     "name": "stdout",
     "output_type": "stream",
     "text": [
      "BiSe mp-570286\n"
     ]
    },
    {
     "name": "stderr",
     "output_type": "stream",
     "text": [
      "Retrieving ElectronicStructureDoc documents: 100%|██████████| 1/1 [00:00<00:00, 17331.83it/s]\n",
      " 43%|████▎     | 43/100 [00:50<00:50,  1.12it/s]"
     ]
    },
    {
     "name": "stdout",
     "output_type": "stream",
     "text": [
      "Ta2O5 mp-676422\n"
     ]
    },
    {
     "name": "stderr",
     "output_type": "stream",
     "text": [
      "Retrieving ElectronicStructureDoc documents: 100%|██████████| 1/1 [00:00<00:00, 13189.64it/s]\n",
      " 44%|████▍     | 44/100 [00:51<00:52,  1.07it/s]"
     ]
    },
    {
     "name": "stdout",
     "output_type": "stream",
     "text": [
      "YS mp-22562\n"
     ]
    },
    {
     "name": "stderr",
     "output_type": "stream",
     "text": [
      "Retrieving ElectronicStructureDoc documents: 100%|██████████| 1/1 [00:00<00:00, 13842.59it/s]\n",
      "Retrieving ElectronicStructureDoc documents: 100%|██████████| 1/1 [00:00<00:00, 9868.95it/s]\n",
      " 46%|████▌     | 46/100 [00:53<00:45,  1.18it/s]"
     ]
    },
    {
     "name": "stdout",
     "output_type": "stream",
     "text": [
      "SmS mp-1879\n"
     ]
    },
    {
     "name": "stderr",
     "output_type": "stream",
     "text": [
      "Retrieving ElectronicStructureDoc documents: 0it [00:00, ?it/s]\n",
      " 47%|████▋     | 47/100 [00:53<00:40,  1.32it/s]"
     ]
    },
    {
     "name": "stdout",
     "output_type": "stream",
     "text": [
      "Error retrieving band structure for mvc-13985: No electronic structure data found.\n"
     ]
    },
    {
     "name": "stderr",
     "output_type": "stream",
     "text": [
      "Retrieving ElectronicStructureDoc documents: 0it [00:00, ?it/s]\n",
      " 48%|████▊     | 48/100 [00:54<00:31,  1.66it/s]"
     ]
    },
    {
     "name": "stdout",
     "output_type": "stream",
     "text": [
      "Error retrieving band structure for mvc-14624: No electronic structure data found.\n"
     ]
    },
    {
     "name": "stderr",
     "output_type": "stream",
     "text": [
      "Retrieving ElectronicStructureDoc documents: 0it [00:00, ?it/s]\n",
      " 49%|████▉     | 49/100 [00:54<00:25,  2.00it/s]"
     ]
    },
    {
     "name": "stdout",
     "output_type": "stream",
     "text": [
      "Error retrieving band structure for mvc-13836: No electronic structure data found.\n"
     ]
    },
    {
     "name": "stderr",
     "output_type": "stream",
     "text": [
      "Retrieving ElectronicStructureDoc documents: 100%|██████████| 1/1 [00:00<00:00, 21183.35it/s]\n",
      "Retrieving ElectronicStructureDoc documents: 100%|██████████| 1/1 [00:00<00:00, 11683.30it/s]\n",
      "Retrieving ElectronicStructureDoc documents: 0it [00:00, ?it/s]\n",
      " 52%|█████▏    | 52/100 [00:56<00:31,  1.53it/s]"
     ]
    },
    {
     "name": "stdout",
     "output_type": "stream",
     "text": [
      "Error retrieving band structure for mvc-13455: No electronic structure data found.\n"
     ]
    },
    {
     "name": "stderr",
     "output_type": "stream",
     "text": [
      "Retrieving ElectronicStructureDoc documents: 100%|██████████| 1/1 [00:00<00:00, 8371.86it/s]\n",
      " 53%|█████▎    | 53/100 [00:57<00:35,  1.33it/s]"
     ]
    },
    {
     "name": "stdout",
     "output_type": "stream",
     "text": [
      "GaSe mp-568128\n"
     ]
    },
    {
     "name": "stderr",
     "output_type": "stream",
     "text": [
      "Retrieving ElectronicStructureDoc documents: 100%|██████████| 1/1 [00:00<00:00, 15534.46it/s]\n",
      " 54%|█████▍    | 54/100 [00:58<00:32,  1.44it/s]"
     ]
    },
    {
     "name": "stdout",
     "output_type": "stream",
     "text": [
      "Error retrieving band structure for mp-684652: No uniform band structure data found for mp-684652\n"
     ]
    },
    {
     "name": "stderr",
     "output_type": "stream",
     "text": [
      "Retrieving ElectronicStructureDoc documents: 100%|██████████| 1/1 [00:00<00:00, 5857.97it/s]\n",
      "Retrieving ElectronicStructureDoc documents: 0it [00:00, ?it/s]\n",
      " 56%|█████▌    | 56/100 [00:59<00:28,  1.54it/s]"
     ]
    },
    {
     "name": "stdout",
     "output_type": "stream",
     "text": [
      "Error retrieving band structure for mvc-13958: No electronic structure data found.\n"
     ]
    },
    {
     "name": "stderr",
     "output_type": "stream",
     "text": [
      "Retrieving ElectronicStructureDoc documents: 100%|██████████| 1/1 [00:00<00:00, 8594.89it/s]\n",
      " 57%|█████▋    | 57/100 [00:59<00:22,  1.89it/s]"
     ]
    },
    {
     "name": "stdout",
     "output_type": "stream",
     "text": [
      "Error retrieving band structure for mp-978259: No uniform band structure data found for mp-978259\n"
     ]
    },
    {
     "name": "stderr",
     "output_type": "stream",
     "text": [
      "Retrieving ElectronicStructureDoc documents: 100%|██████████| 1/1 [00:00<00:00, 10106.76it/s]\n",
      " 58%|█████▊    | 58/100 [01:00<00:26,  1.56it/s]"
     ]
    },
    {
     "name": "stdout",
     "output_type": "stream",
     "text": [
      "AgI2 mp-33154\n"
     ]
    },
    {
     "name": "stderr",
     "output_type": "stream",
     "text": [
      "Retrieving ElectronicStructureDoc documents: 0it [00:00, ?it/s]\n",
      " 59%|█████▉    | 59/100 [01:01<00:24,  1.65it/s]"
     ]
    },
    {
     "name": "stdout",
     "output_type": "stream",
     "text": [
      "Error retrieving band structure for mvc-13958: No electronic structure data found.\n"
     ]
    },
    {
     "name": "stderr",
     "output_type": "stream",
     "text": [
      "Retrieving ElectronicStructureDoc documents: 100%|██████████| 1/1 [00:00<00:00, 19239.93it/s]\n",
      "Retrieving ElectronicStructureDoc documents: 100%|██████████| 1/1 [00:00<00:00, 10407.70it/s]\n",
      "Retrieving ElectronicStructureDoc documents: 100%|██████████| 1/1 [00:00<00:00, 22795.13it/s]\n",
      " 62%|██████▏   | 62/100 [01:07<01:10,  1.86s/it]"
     ]
    },
    {
     "name": "stdout",
     "output_type": "stream",
     "text": [
      "MgO2 mp-1096803\n"
     ]
    },
    {
     "name": "stderr",
     "output_type": "stream",
     "text": [
      "Retrieving ElectronicStructureDoc documents: 100%|██████████| 1/1 [00:00<00:00, 13934.56it/s]\n",
      " 63%|██████▎   | 63/100 [01:09<01:10,  1.91s/it]"
     ]
    },
    {
     "name": "stdout",
     "output_type": "stream",
     "text": [
      "ThGe2 mp-10128\n"
     ]
    },
    {
     "name": "stderr",
     "output_type": "stream",
     "text": [
      "Retrieving ElectronicStructureDoc documents: 100%|██████████| 1/1 [00:00<00:00, 11305.40it/s]\n",
      " 64%|██████▍   | 64/100 [01:11<01:11,  2.00s/it]"
     ]
    },
    {
     "name": "stdout",
     "output_type": "stream",
     "text": [
      "Be2BO5 mp-1079124\n"
     ]
    },
    {
     "name": "stderr",
     "output_type": "stream",
     "text": [
      "Retrieving ElectronicStructureDoc documents: 100%|██████████| 1/1 [00:00<00:00, 9467.95it/s]\n",
      "Retrieving ElectronicStructureDoc documents: 100%|██████████| 1/1 [00:00<00:00, 11366.68it/s]\n",
      " 66%|██████▌   | 66/100 [01:13<00:48,  1.41s/it]"
     ]
    },
    {
     "name": "stdout",
     "output_type": "stream",
     "text": [
      "Li2AgSn2 mp-1080714\n"
     ]
    },
    {
     "name": "stderr",
     "output_type": "stream",
     "text": [
      "Retrieving ElectronicStructureDoc documents: 100%|██████████| 1/1 [00:00<00:00, 24385.49it/s]\n",
      "Retrieving ElectronicStructureDoc documents: 100%|██████████| 1/1 [00:00<00:00, 17050.02it/s]\n",
      "Retrieving ElectronicStructureDoc documents: 100%|██████████| 1/1 [00:00<00:00, 18396.07it/s]\n",
      " 69%|██████▉   | 69/100 [01:15<00:31,  1.02s/it]"
     ]
    },
    {
     "name": "stdout",
     "output_type": "stream",
     "text": [
      "UIN mp-27763\n"
     ]
    },
    {
     "name": "stderr",
     "output_type": "stream",
     "text": [
      "Retrieving ElectronicStructureDoc documents: 100%|██████████| 1/1 [00:00<00:00, 12264.05it/s]\n",
      "Retrieving ElectronicStructureDoc documents: 100%|██████████| 1/1 [00:00<00:00, 7319.90it/s]\n",
      " 71%|███████   | 71/100 [01:17<00:24,  1.18it/s]"
     ]
    },
    {
     "name": "stdout",
     "output_type": "stream",
     "text": [
      "CaH4SO6 mp-23690\n"
     ]
    },
    {
     "name": "stderr",
     "output_type": "stream",
     "text": [
      "Retrieving ElectronicStructureDoc documents: 100%|██████████| 1/1 [00:00<00:00, 11650.84it/s]\n",
      "Retrieving ElectronicStructureDoc documents: 100%|██████████| 1/1 [00:00<00:00, 9078.58it/s]\n",
      " 73%|███████▎  | 73/100 [01:19<00:25,  1.05it/s]"
     ]
    },
    {
     "name": "stdout",
     "output_type": "stream",
     "text": [
      "SnS mp-2231\n"
     ]
    },
    {
     "name": "stderr",
     "output_type": "stream",
     "text": [
      "Retrieving ElectronicStructureDoc documents: 100%|██████████| 1/1 [00:00<00:00, 9098.27it/s]\n",
      " 74%|███████▍  | 74/100 [01:20<00:25,  1.00it/s]"
     ]
    },
    {
     "name": "stdout",
     "output_type": "stream",
     "text": [
      "LuHCl mp-23896\n"
     ]
    },
    {
     "name": "stderr",
     "output_type": "stream",
     "text": [
      "Retrieving ElectronicStructureDoc documents: 0it [00:00, ?it/s]\n",
      " 75%|███████▌  | 75/100 [01:20<00:19,  1.27it/s]"
     ]
    },
    {
     "name": "stdout",
     "output_type": "stream",
     "text": [
      "Error retrieving band structure for mp-566907: No electronic structure data found.\n"
     ]
    },
    {
     "name": "stderr",
     "output_type": "stream",
     "text": [
      "Retrieving ElectronicStructureDoc documents: 100%|██████████| 1/1 [00:00<00:00, 12192.74it/s]\n",
      "Retrieving ElectronicStructureDoc documents: 100%|██████████| 1/1 [00:00<00:00, 11650.84it/s]\n",
      "Retrieving ElectronicStructureDoc documents: 0it [00:00, ?it/s]\n",
      " 78%|███████▊  | 78/100 [01:22<00:13,  1.58it/s]"
     ]
    },
    {
     "name": "stdout",
     "output_type": "stream",
     "text": [
      "Error retrieving band structure for mp-565201: No electronic structure data found.\n"
     ]
    },
    {
     "name": "stderr",
     "output_type": "stream",
     "text": [
      "Retrieving ElectronicStructureDoc documents: 0it [00:00, ?it/s]\n",
      " 79%|███████▉  | 79/100 [01:22<00:10,  1.95it/s]"
     ]
    },
    {
     "name": "stdout",
     "output_type": "stream",
     "text": [
      "Error retrieving band structure for mp-510584: No electronic structure data found.\n"
     ]
    },
    {
     "name": "stderr",
     "output_type": "stream",
     "text": [
      "Retrieving ElectronicStructureDoc documents: 100%|██████████| 1/1 [00:00<00:00, 18078.90it/s]\n",
      "Retrieving ElectronicStructureDoc documents: 100%|██████████| 1/1 [00:00<00:00, 20661.60it/s]\n",
      " 81%|████████  | 81/100 [01:26<00:20,  1.07s/it]"
     ]
    },
    {
     "name": "stdout",
     "output_type": "stream",
     "text": [
      "SrLaBr5 mp-756437\n"
     ]
    },
    {
     "name": "stderr",
     "output_type": "stream",
     "text": [
      "Retrieving ElectronicStructureDoc documents: 100%|██████████| 1/1 [00:00<00:00, 12671.61it/s]\n",
      "Retrieving ElectronicStructureDoc documents: 100%|██████████| 1/1 [00:00<00:00, 22310.13it/s]\n",
      "Retrieving ElectronicStructureDoc documents: 100%|██████████| 1/1 [00:00<00:00, 13189.64it/s]\n",
      "Retrieving ElectronicStructureDoc documents: 100%|██████████| 1/1 [00:00<00:00, 20560.31it/s]\n",
      "Retrieving ElectronicStructureDoc documents: 100%|██████████| 1/1 [00:00<00:00, 19599.55it/s]\n",
      "Retrieving ElectronicStructureDoc documents: 100%|██████████| 1/1 [00:00<00:00, 18001.30it/s]\n",
      " 87%|████████▋ | 87/100 [01:31<00:12,  1.06it/s]"
     ]
    },
    {
     "name": "stdout",
     "output_type": "stream",
     "text": [
      "Sm2(PPt2)3 mp-570141\n"
     ]
    },
    {
     "name": "stderr",
     "output_type": "stream",
     "text": [
      "Retrieving ElectronicStructureDoc documents: 100%|██████████| 1/1 [00:00<00:00, 16513.01it/s]\n",
      "Retrieving ElectronicStructureDoc documents: 100%|██████████| 1/1 [00:00<00:00, 22075.28it/s]\n",
      "Retrieving ElectronicStructureDoc documents: 0it [00:00, ?it/s]\n",
      " 90%|█████████ | 90/100 [01:35<00:10,  1.06s/it]"
     ]
    },
    {
     "name": "stdout",
     "output_type": "stream",
     "text": [
      "Error retrieving band structure for mp-573321: No electronic structure data found.\n"
     ]
    },
    {
     "name": "stderr",
     "output_type": "stream",
     "text": [
      "Retrieving ElectronicStructureDoc documents: 100%|██████████| 1/1 [00:00<00:00, 23172.95it/s]\n",
      "Retrieving ElectronicStructureDoc documents: 0it [00:00, ?it/s]\n",
      " 92%|█████████▏| 92/100 [01:36<00:07,  1.14it/s]"
     ]
    },
    {
     "name": "stdout",
     "output_type": "stream",
     "text": [
      "Error retrieving band structure for mvc-5328: No electronic structure data found.\n"
     ]
    },
    {
     "name": "stderr",
     "output_type": "stream",
     "text": [
      "Retrieving ElectronicStructureDoc documents: 100%|██████████| 1/1 [00:00<00:00, 19065.02it/s]\n",
      "Retrieving ElectronicStructureDoc documents: 100%|██████████| 1/1 [00:00<00:00, 19972.88it/s]\n",
      "Retrieving ElectronicStructureDoc documents: 0it [00:00, ?it/s]\n",
      " 95%|█████████▌| 95/100 [01:39<00:03,  1.32it/s]"
     ]
    },
    {
     "name": "stdout",
     "output_type": "stream",
     "text": [
      "Error retrieving band structure for mp-762810: No electronic structure data found.\n"
     ]
    },
    {
     "name": "stderr",
     "output_type": "stream",
     "text": [
      "Retrieving ElectronicStructureDoc documents: 100%|██████████| 1/1 [00:00<00:00, 17623.13it/s]\n",
      " 96%|█████████▌| 96/100 [01:40<00:04,  1.03s/it]"
     ]
    },
    {
     "name": "stdout",
     "output_type": "stream",
     "text": [
      "InSb2S4Br mp-559864\n"
     ]
    },
    {
     "name": "stderr",
     "output_type": "stream",
     "text": [
      "Retrieving ElectronicStructureDoc documents: 0it [00:00, ?it/s]\n",
      " 97%|█████████▋| 97/100 [01:41<00:02,  1.11it/s]"
     ]
    },
    {
     "name": "stdout",
     "output_type": "stream",
     "text": [
      "Error retrieving band structure for mvc-10495: No electronic structure data found.\n"
     ]
    },
    {
     "name": "stderr",
     "output_type": "stream",
     "text": [
      "Retrieving ElectronicStructureDoc documents: 100%|██████████| 1/1 [00:00<00:00, 16008.79it/s]\n",
      " 98%|█████████▊| 98/100 [01:42<00:02,  1.01s/it]"
     ]
    },
    {
     "name": "stdout",
     "output_type": "stream",
     "text": [
      "Mg5Sc mp-973147\n"
     ]
    },
    {
     "name": "stderr",
     "output_type": "stream",
     "text": [
      "Retrieving ElectronicStructureDoc documents: 0it [00:00, ?it/s]\n",
      " 99%|█████████▉| 99/100 [01:42<00:00,  1.29it/s]"
     ]
    },
    {
     "name": "stdout",
     "output_type": "stream",
     "text": [
      "Error retrieving band structure for mvc-2990: No electronic structure data found.\n"
     ]
    },
    {
     "name": "stderr",
     "output_type": "stream",
     "text": [
      "Retrieving ElectronicStructureDoc documents: 0it [00:00, ?it/s]\n",
      "100%|██████████| 100/100 [01:43<00:00,  1.03s/it]"
     ]
    },
    {
     "name": "stdout",
     "output_type": "stream",
     "text": [
      "Error retrieving band structure for mvc-15382: No electronic structure data found.\n"
     ]
    },
    {
     "name": "stderr",
     "output_type": "stream",
     "text": [
      "\n"
     ]
    }
   ],
   "source": [
    "# band_structs = []\n",
    "# max_limit = 100\n",
    "# with MPRester(api_key=apikey) as mpr:\n",
    "#     for item in tqdm(D2matdata['data'][:max_limit]):\n",
    "#         mat_id = item['identifier']\n",
    "#         material = item['formula']\n",
    "\n",
    "#         try:\n",
    "#             bandstructure = mpr.get_bandstructure_by_material_id(mat_id, line_mode=False)\n",
    "#             kpt = np.array([kpt.frac_coords for kpt in bandstructure.kpoints ])\n",
    "#             dim1 = np.unique(kpt[:,0])\n",
    "#             dim2 = np.unique(kpt[:,1])\n",
    "#             dim3 = np.unique(kpt[:,2])\n",
    "#             z0 = np.min(np.abs(dim3))\n",
    "            \n",
    "#             # print(len(dim1), dim1 )\n",
    "#             # print(len(dim2), dim2 )\n",
    "#             # print(len(dim3), dim3 )\n",
    "#             # print(np.array(list(bandstructure.bands.values()))[0].shape)\n",
    "#             # if len(dim1) == len(dim2) and len(kpt[kpt[:, 2] == z0]) == len(dim1)**2:\n",
    "#             if len(dim1) == len(dim2) :\n",
    "#                 band_structs.append(\n",
    "#                     [ (len(dim1), len(dim2)), len(dim3), kpt[kpt[:, 2] == z0, :2], \n",
    "#                      np.array(list(bandstructure.bands.values()))[0][:, kpt[:, 2] == z0] ]\n",
    "#                 )\n",
    "#                 print(material, mat_id)\n",
    "\n",
    "#         except Exception as e:\n",
    "#             print(f\"Error retrieving band structure for {mat_id}: {e}\")\n",
    "    "
   ]
  },
  {
   "cell_type": "code",
   "execution_count": 7,
   "metadata": {},
   "outputs": [
    {
     "data": {
      "text/plain": [
       "1011"
      ]
     },
     "execution_count": 7,
     "metadata": {},
     "output_type": "execute_result"
    }
   ],
   "source": [
    "len(band_structs)"
   ]
  },
  {
   "cell_type": "code",
   "execution_count": 71,
   "metadata": {},
   "outputs": [
    {
     "data": {
      "text/plain": [
       "315"
      ]
     },
     "execution_count": 71,
     "metadata": {},
     "output_type": "execute_result"
    }
   ],
   "source": [
    "bbb = [x for x in band_structs if np.min(x[2][:,0]) < -0.4 and np.max(x[2][:,0]) > 0.4 \n",
    "       and np.min(x[2][:,1]) < -0.4 and np.max(x[2][:,1]) > 0.4 ]\n",
    "len(bbb)"
   ]
  },
  {
   "cell_type": "code",
   "execution_count": 6,
   "metadata": {},
   "outputs": [],
   "source": [
    "with HDFArchive('bs1000.h5') as ar:\n",
    "    ar['data'] = band_structs"
   ]
  },
  {
   "cell_type": "code",
   "execution_count": 73,
   "metadata": {},
   "outputs": [
    {
     "data": {
      "image/png": "[encoded data removed]",
      "text/plain": [
       "<Figure size 500x500 with 1 Axes>"
      ]
     },
     "metadata": {},
     "output_type": "display_data"
    }
   ],
   "source": [
    "kpts = bbb[30][2]\n",
    "fig, ax = plt.subplots(figsize=(5,5))\n",
    "ax.scatter(kpts[:, 0], kpts[:, 1])\n",
    "ax.set_xlim((-1, 1))\n",
    "ax.set_ylim((-1, 1))\n",
    "plt.show()"
   ]
  },
  {
   "cell_type": "code",
   "execution_count": 19,
   "metadata": {},
   "outputs": [],
   "source": [
    "# sorted(band_structs, key=lambda x: x[0])"
   ]
  },
  {
   "cell_type": "code",
   "execution_count": 74,
   "metadata": {},
   "outputs": [
    {
     "data": {
      "text/plain": [
       "array([[ 0.        ,  0.        ,  0.        ],\n",
       "       [ 0.14285714,  0.        ,  0.        ],\n",
       "       [ 0.28571429,  0.        ,  0.        ],\n",
       "       [ 0.42857143,  0.        ,  0.        ],\n",
       "       [ 0.        ,  0.14285714,  0.        ],\n",
       "       [ 0.14285714,  0.14285714,  0.        ],\n",
       "       [ 0.28571429,  0.14285714,  0.        ],\n",
       "       [ 0.42857143,  0.14285714,  0.        ],\n",
       "       [-0.42857143,  0.14285714,  0.        ],\n",
       "       [-0.28571429,  0.14285714,  0.        ],\n",
       "       [-0.14285714,  0.14285714,  0.        ],\n",
       "       [ 0.        ,  0.28571429,  0.        ],\n",
       "       [ 0.14285714,  0.28571429,  0.        ],\n",
       "       [ 0.28571429,  0.28571429,  0.        ],\n",
       "       [ 0.42857143,  0.28571429,  0.        ],\n",
       "       [-0.42857143,  0.28571429,  0.        ],\n",
       "       [-0.28571429,  0.28571429,  0.        ],\n",
       "       [-0.14285714,  0.28571429,  0.        ],\n",
       "       [ 0.        ,  0.42857143,  0.        ],\n",
       "       [ 0.14285714,  0.42857143,  0.        ],\n",
       "       [ 0.28571429,  0.42857143,  0.        ],\n",
       "       [ 0.42857143,  0.42857143,  0.        ],\n",
       "       [-0.42857143,  0.42857143,  0.        ],\n",
       "       [-0.28571429,  0.42857143,  0.        ],\n",
       "       [-0.14285714,  0.42857143,  0.        ],\n",
       "       [ 0.        ,  0.        ,  0.125     ],\n",
       "       [ 0.14285714,  0.        ,  0.125     ],\n",
       "       [ 0.28571429,  0.        ,  0.125     ],\n",
       "       [ 0.42857143,  0.        ,  0.125     ],\n",
       "       [-0.42857143,  0.        ,  0.125     ],\n",
       "       [-0.28571429,  0.        ,  0.125     ],\n",
       "       [-0.14285714,  0.        ,  0.125     ],\n",
       "       [ 0.        ,  0.14285714,  0.125     ],\n",
       "       [ 0.14285714,  0.14285714,  0.125     ],\n",
       "       [ 0.28571429,  0.14285714,  0.125     ],\n",
       "       [ 0.42857143,  0.14285714,  0.125     ],\n",
       "       [-0.42857143,  0.14285714,  0.125     ],\n",
       "       [-0.28571429,  0.14285714,  0.125     ],\n",
       "       [-0.14285714,  0.14285714,  0.125     ],\n",
       "       [ 0.        ,  0.28571429,  0.125     ],\n",
       "       [ 0.14285714,  0.28571429,  0.125     ],\n",
       "       [ 0.28571429,  0.28571429,  0.125     ],\n",
       "       [ 0.42857143,  0.28571429,  0.125     ],\n",
       "       [-0.42857143,  0.28571429,  0.125     ],\n",
       "       [-0.28571429,  0.28571429,  0.125     ],\n",
       "       [-0.14285714,  0.28571429,  0.125     ],\n",
       "       [ 0.        ,  0.42857143,  0.125     ],\n",
       "       [ 0.14285714,  0.42857143,  0.125     ],\n",
       "       [ 0.28571429,  0.42857143,  0.125     ]])"
      ]
     },
     "execution_count": 74,
     "metadata": {},
     "output_type": "execute_result"
    }
   ],
   "source": [
    "BS_obj = band_structs[4]\n",
    "nkpt = len(np.unique(BS_obj[2][:,1]))\n",
    "bands_tmp = BS_obj[3][:, :nkpt**2]\n",
    "\n",
    "BS_obj[2][:nkpt**2]"
   ]
  },
  {
   "cell_type": "code",
   "execution_count": 74,
   "metadata": {},
   "outputs": [
    {
     "data": {
      "text/plain": [
       "15533"
      ]
     },
     "execution_count": 74,
     "metadata": {},
     "output_type": "execute_result"
    }
   ],
   "source": [
    "\n",
    "interesting_BSs = []\n",
    "for BS_obj in bbb:\n",
    "    nkpt = BS_obj[0][0]\n",
    "    bands_tmp = BS_obj[3]\n",
    "    # print(bands_tmp.shape)\n",
    "\n",
    "    bands_interest = [ [BS_obj[2], band] for band in bands_tmp if np.max(band)- np.min(band) > 0.5]\n",
    "    # print(bands_interest.shape)\n",
    "    interesting_BSs.extend( bands_interest)\n",
    "len(interesting_BSs)"
   ]
  },
  {
   "cell_type": "code",
   "execution_count": 114,
   "metadata": {},
   "outputs": [
    {
     "data": {
      "text/plain": [
       "15533"
      ]
     },
     "execution_count": 114,
     "metadata": {},
     "output_type": "execute_result"
    }
   ],
   "source": [
    "len(interesting_BSs)"
   ]
  },
  {
   "cell_type": "code",
   "execution_count": 75,
   "metadata": {},
   "outputs": [],
   "source": [
    "\n",
    "# def refine_BS(kpts,  BS):\n",
    "#     # kx = np.unique(kpts[:,0])\n",
    "#     # ky = np.unique(kpts[:,0])\n",
    "#     # print(kpts,  BS)\n",
    "#     interp = LinearNDInterpolator(kpts, BS)\n",
    "\n",
    "#     kx10 = np.linspace(-0.5, 0.5, 10)\n",
    "#     ky10 = np.linspace(-0.5, 0.5, 10)\n",
    "#     kX10, kY10 = np.meshgrid(kx10, ky10, indexing='ij')\n",
    "\n",
    "#     BS = interp((kX10, kY10))\n",
    "#     return BS\n",
    "    \n",
    "\n",
    "# refinedBSs = [refine_BS(kpts,  BS) for kpts, BS in interesting_BSs[:]]"
   ]
  },
  {
   "cell_type": "code",
   "execution_count": 76,
   "metadata": {},
   "outputs": [],
   "source": [
    "# kpts = interesting_BSs[0][0]\n",
    "# bnds = interesting_BSs[0][1]\n",
    "# sorted_indices = np.lexsort((kpts[:, 0], kpts[:, 1]))\n",
    "# kpts = kpts[sorted_indices]\n",
    "# bnds = bnds[sorted_indices]\n",
    "# kpts"
   ]
  },
  {
   "cell_type": "code",
   "execution_count": 115,
   "metadata": {},
   "outputs": [],
   "source": [
    "\n",
    "def refine_BS(kpts,  BS):\n",
    "    # kx = kpts\n",
    "    # ky = kpts\n",
    "\n",
    "    sorted_indices = np.lexsort((kpts[:, 0], kpts[:, 1]))\n",
    "    kpts = kpts[sorted_indices]\n",
    "    BS = BS[sorted_indices]\n",
    "\n",
    "    kx = np.unique(kpts[:,0])\n",
    "    ky = np.unique(kpts[:,1])\n",
    "    # print(kpts,  BS)\n",
    "    try:\n",
    "        interp = RegularGridInterpolator((kx, ky), BS.reshape(len(kx), len(ky)),\n",
    "                                    bounds_error=False, fill_value=None)\n",
    "\n",
    "        kx10 = np.linspace(-0.5, 0.5, 10)\n",
    "        ky10 = np.linspace(-0.5, 0.5, 10)\n",
    "        kX10, kY10 = np.meshgrid(kx10, ky10, indexing='ij')\n",
    "\n",
    "        BS = interp((kX10, kY10))\n",
    "        return BS\n",
    "    except Exception as e:\n",
    "        pass\n",
    "\n",
    "refinedBSs = [refine_BS(kpts,  BS) for kpts, BS in interesting_BSs[:]]"
   ]
  },
  {
   "cell_type": "code",
   "execution_count": 116,
   "metadata": {},
   "outputs": [
    {
     "data": {
      "text/plain": [
       "15533"
      ]
     },
     "execution_count": 116,
     "metadata": {},
     "output_type": "execute_result"
    }
   ],
   "source": [
    "len(refinedBSs)"
   ]
  },
  {
   "cell_type": "code",
   "execution_count": 118,
   "metadata": {},
   "outputs": [],
   "source": [
    "with HDFArchive('bs15533.h5') as ar:\n",
    "    ar['data'] = refinedBSs\n",
    "    ar['kx'] = np.linspace(-0.5, 0.5, 10)\n",
    "    ar['ky'] = np.linspace(-0.5, 0.5, 10)"
   ]
  },
  {
   "cell_type": "code",
   "execution_count": 82,
   "metadata": {},
   "outputs": [
    {
     "data": {
      "image/png": "[encoded data removed]",
      "text/plain": [
       "<Figure size 640x480 with 1 Axes>"
      ]
     },
     "metadata": {},
     "output_type": "display_data"
    }
   ],
   "source": [
    "i = 56\n",
    "\n",
    "fig = plt.figure()\n",
    "ax = fig.add_subplot(111, projection='3d')\n",
    "\n",
    "kx = np.linspace(-0.5, 0.5, 10)\n",
    "ky = np.linspace(-0.5, 0.5, 10)\n",
    "kx, ky = np.meshgrid(kx, ky)\n",
    "kpoints = np.array([kx.flatten(), ky.flatten()]).T\n",
    "\n",
    "# refinedBSs\n",
    "# bb = np.reshape(band, (6, 6))\n",
    "# Plot the surface\n",
    "ax.plot_surface(kx, ky, refinedBSs[i], cmap='viridis')\n",
    "\n",
    "# Add labels\n",
    "ax.set_xlabel('kx')\n",
    "ax.set_ylabel('ky')\n",
    "ax.set_zlabel('Energy')\n",
    "# ax.set_zlim((-4, 2))\n",
    "# Show the plot\n",
    "plt.show()"
   ]
  },
  {
   "cell_type": "code",
   "execution_count": 113,
   "metadata": {},
   "outputs": [
    {
     "data": {
      "image/png": "[encoded data removed]",
      "text/plain": [
       "<Figure size 800x600 with 2 Axes>"
      ]
     },
     "metadata": {},
     "output_type": "display_data"
    }
   ],
   "source": [
    "i=98\n",
    "kx = np.linspace(-0.5, 0.5, 10)\n",
    "ky = np.linspace(-0.5, 0.5, 10)\n",
    "kx, ky = np.meshgrid(kx, ky)\n",
    "kpoints = np.array([kx.flatten(), ky.flatten()]).T\n",
    "\n",
    "\n",
    "plt.figure(figsize=(8, 6))\n",
    "plt.contourf(kx, ky, refinedBSs[i], levels=20, cmap='viridis')\n",
    "plt.colorbar(label='Energy (lower band)')\n",
    "plt.title('Energy Band Structure (lower band)')\n",
    "plt.xlabel('$k_x$')\n",
    "plt.ylabel('$k_y$')\n",
    "plt.show()"
   ]
  },
  {
   "cell_type": "markdown",
   "metadata": {},
   "source": [
    "# Other"
   ]
  },
  {
   "cell_type": "code",
   "execution_count": null,
   "metadata": {},
   "outputs": [],
   "source": [
    "interesting_BSs"
   ]
  },
  {
   "cell_type": "code",
   "execution_count": 29,
   "metadata": {},
   "outputs": [
    {
     "data": {
      "text/plain": [
       "array([-2.3255, -2.2712, -2.1369, -1.9817, -1.9295, -2.0976, -2.2766,\n",
       "       -2.1966, -2.0484, -1.9333, -1.8939, -2.032 , -1.9139, -1.9355,\n",
       "       -2.0372, -2.184 , -2.1738, -2.1504, -2.049 , -2.0168, -1.924 ,\n",
       "       -1.865 , -1.8726, -1.9181, -1.9852, -2.0427, -2.0278, -2.038 ,\n",
       "       -1.9948, -2.0462, -1.9983, -1.9176, -1.8806, -1.8913, -1.9168,\n",
       "       -1.9413, -1.9028, -1.9504, -1.9894, -2.0172, -2.0207, -1.9739,\n",
       "       -1.8868, -1.8322, -1.8446, -1.9027, -1.9129, -1.8529, -1.9171,\n",
       "       -1.9809, -2.0932, -2.0263, -1.9395, -1.8381, -1.8335, -2.0365,\n",
       "       -2.3246, -2.2775, -2.1454, -1.9868, -1.9375, -2.1005, -2.0928,\n",
       "       -1.9223, -1.9671, -2.1241, -2.2629, -2.2698, -2.1814, -2.0414,\n",
       "       -1.944 , -1.9047, -2.0372, -1.9121, -1.8981, -2.0256, -2.1721,\n",
       "       -2.1868, -2.1427, -2.0422, -2.0021, -1.9209, -1.8422, -1.8335,\n",
       "       -1.8682, -1.9589, -2.0375, -2.0388, -2.0387, -1.9889, -2.0128,\n",
       "       -1.9878, -1.9184, -1.8449, -1.8504, -1.9052, -1.958 , -1.9447,\n",
       "       -1.9673, -1.9669, -1.9781, -1.9992, -1.9876, -1.9112, -1.8175,\n",
       "       -1.8575, -1.9136, -1.9138, -1.8836, -1.9029, -1.938 , -2.0977,\n",
       "       -2.0238, -1.975 , -1.8717, -1.8351, -2.0384, -2.0308, -1.8379,\n",
       "       -1.8361, -1.8931])"
      ]
     },
     "execution_count": 29,
     "metadata": {},
     "output_type": "execute_result"
    }
   ],
   "source": [
    "interesting_BSs[0][1]"
   ]
  },
  {
   "cell_type": "code",
   "execution_count": 123,
   "metadata": {},
   "outputs": [
    {
     "name": "stdout",
     "output_type": "stream",
     "text": [
      "6 [0.         0.09090909 0.18181818 0.27272727 0.36363636 0.45454545]\n",
      "6 [0.         0.09090909 0.18181818 0.27272727 0.36363636 0.45454545]\n",
      "4 [0.         0.16666667 0.33333333 0.5       ]\n"
     ]
    }
   ],
   "source": [
    "kpt = np.array([kpt.frac_coords for kpt in band_structs[1][2].kpoints ])\n",
    "dim1 = np.unique(kpt[:,0])\n",
    "dim2 = np.unique(kpt[:,1])\n",
    "dim3 = np.unique(kpt[:,2])\n",
    "print(len(dim1), dim1 )\n",
    "print(len(dim2), dim2 )\n",
    "print(len(dim3), dim3 )"
   ]
  },
  {
   "cell_type": "code",
   "execution_count": 125,
   "metadata": {},
   "outputs": [
    {
     "name": "stdout",
     "output_type": "stream",
     "text": [
      "(178, 36)\n",
      "(14, 36)\n"
     ]
    }
   ],
   "source": []
  },
  {
   "cell_type": "code",
   "execution_count": 38,
   "metadata": {},
   "outputs": [
    {
     "name": "stdout",
     "output_type": "stream",
     "text": [
      "9 [0.     0.0625 0.125  0.1875 0.25   0.3125 0.375  0.4375 0.5   ]\n",
      "4 [0.         0.16666667 0.33333333 0.5       ]\n",
      "3 [0.  0.2 0.4]\n"
     ]
    }
   ],
   "source": [
    "kpt = np.array([kpt.frac_coords for kpt in bandstructure.kpoints ])\n",
    "dim1 = np.unique(kpt[:,0])\n",
    "dim2 = np.unique(kpt[:,1])\n",
    "dim3 = np.unique(kpt[:,2])\n",
    "print(len(dim1), dim1 )\n",
    "print(len(dim2), dim2 )\n",
    "print(len(dim3), dim3 )"
   ]
  },
  {
   "cell_type": "code",
   "execution_count": 89,
   "metadata": {},
   "outputs": [],
   "source": [
    "from mpl_toolkits.mplot3d import Axes3D\n"
   ]
  },
  {
   "cell_type": "code",
   "execution_count": 98,
   "metadata": {},
   "outputs": [
    {
     "name": "stderr",
     "output_type": "stream",
     "text": [
      "Retrieving ElectronicStructureDoc documents: 100%|██████████| 1/1 [00:00<00:00, 18477.11it/s]\n",
      "Retrieving ElectronicStructureDoc documents: 100%|██████████| 1/1 [00:00<00:00, 22310.13it/s]\n",
      "Retrieving ElectronicStructureDoc documents: 100%|██████████| 1/1 [00:00<00:00, 22310.13it/s]\n",
      "Retrieving ElectronicStructureDoc documents: 100%|██████████| 1/1 [00:00<00:00, 16256.99it/s]\n",
      "Retrieving ElectronicStructureDoc documents: 100%|██████████| 1/1 [00:00<00:00, 12945.38it/s]\n",
      "Retrieving ElectronicStructureDoc documents: 100%|██████████| 1/1 [00:00<00:00, 12300.01it/s]\n",
      "Retrieving ElectronicStructureDoc documents: 100%|██████████| 1/1 [00:00<00:00, 25575.02it/s]\n",
      "Retrieving ElectronicStructureDoc documents: 100%|██████████| 1/1 [00:00<00:00, 18893.26it/s]\n",
      "Retrieving ElectronicStructureDoc documents: 100%|██████████| 1/1 [00:00<00:00, 20971.52it/s]\n",
      "Retrieving ElectronicStructureDoc documents: 100%|██████████| 1/1 [00:00<00:00, 20763.88it/s]\n",
      "Retrieving ElectronicStructureDoc documents: 100%|██████████| 1/1 [00:00<00:00, 21183.35it/s]\n",
      "Retrieving ElectronicStructureDoc documents: 100%|██████████| 1/1 [00:00<00:00, 17189.77it/s]\n",
      "Retrieving ElectronicStructureDoc documents: 100%|██████████| 1/1 [00:00<00:00, 20560.31it/s]\n",
      "Retrieving ElectronicStructureDoc documents: 100%|██████████| 1/1 [00:00<00:00, 20560.31it/s]\n",
      "Retrieving ElectronicStructureDoc documents: 100%|██████████| 1/1 [00:00<00:00, 19878.22it/s]\n",
      "Retrieving ElectronicStructureDoc documents: 100%|██████████| 1/1 [00:00<00:00, 7384.34it/s]\n",
      "Retrieving ElectronicStructureDoc documents: 100%|██████████| 1/1 [00:00<00:00, 18315.74it/s]\n",
      "Retrieving ElectronicStructureDoc documents: 100%|██████████| 1/1 [00:00<00:00, 18157.16it/s]\n",
      "Retrieving ElectronicStructureDoc documents: 100%|██████████| 1/1 [00:00<00:00, 15141.89it/s]\n",
      "Retrieving ElectronicStructureDoc documents: 100%|██████████| 1/1 [00:00<00:00, 17623.13it/s]\n",
      "Retrieving ElectronicStructureDoc documents: 100%|██████████| 1/1 [00:00<00:00, 14217.98it/s]\n",
      "Retrieving ElectronicStructureDoc documents: 100%|██████████| 1/1 [00:00<00:00, 11459.85it/s]\n",
      "Retrieving ElectronicStructureDoc documents: 100%|██████████| 1/1 [00:00<00:00, 6326.25it/s]\n",
      "  2%|▏         | 22/1000 [00:34<25:31,  1.57s/it]"
     ]
    },
    {
     "name": "stdout",
     "output_type": "stream",
     "text": [
      "Sn3Pd mp-1371\n"
     ]
    },
    {
     "name": "stderr",
     "output_type": "stream",
     "text": [
      "\n"
     ]
    }
   ],
   "source": [
    "max_limit = 1000\n",
    "with MPRester(api_key=apikey) as mpr:\n",
    "    for item in tqdm(D2matdata['data'][:max_limit]):\n",
    "        mat_id = item['identifier']\n",
    "        material = item['formula']\n",
    "\n",
    "        try:\n",
    "            bandstructure = mpr.get_bandstructure_by_material_id(mat_id, line_mode=False)\n",
    "            kpt = np.array([kpt.frac_coords for kpt in bandstructure.kpoints ])\n",
    "            dim1 = np.unique(kpt[:,0])\n",
    "            dim2 = np.unique(kpt[:,1])\n",
    "            dim3 = np.unique(kpt[:,2])\n",
    "            z0 = np.min(np.abs(dim3))\n",
    "            \n",
    "            # print(len(dim1), dim1 )\n",
    "            # print(len(dim2), dim2 )\n",
    "            # print(len(dim3), dim3 )\n",
    "            # print(np.array(list(bandstructure.bands.values()))[0].shape)\n",
    "            \n",
    "            if  len(kpt[kpt[:, 2] == z0]) == len(dim1)*len(dim2) and np.min(kpt[:,0]) < -0.4 \\\n",
    "                    and np.max(kpt[:,0]) > 0.4 and np.min(kpt[:,1]) < -0.4 and np.max(kpt[:,1]) > 0.4:\n",
    "                print(material, mat_id)\n",
    "                break\n",
    "        except Exception as e:\n",
    "            print(f\"Error retrieving band structure for {mat_id}: {e}\")\n",
    "    "
   ]
  },
  {
   "cell_type": "code",
   "execution_count": 99,
   "metadata": {},
   "outputs": [
    {
     "name": "stderr",
     "output_type": "stream",
     "text": [
      "Retrieving ElectronicStructureDoc documents: 100%|██████████| 1/1 [00:00<00:00, 9198.04it/s]\n"
     ]
    },
    {
     "name": "stdout",
     "output_type": "stream",
     "text": [
      "6 [-0.41666667 -0.25       -0.08333333  0.08333333  0.25        0.41666667]\n",
      "6 [-0.41666667 -0.25       -0.08333333  0.08333333  0.25        0.41666667]\n",
      "4 [0.0625 0.1875 0.3125 0.4375]\n"
     ]
    }
   ],
   "source": [
    "with MPRester(api_key=apikey) as mpr:\n",
    "    bandstructure = mpr.get_bandstructure_by_material_id('mp-1371', line_mode=False)\n",
    "\n",
    "kpt = np.array([kpt.frac_coords for kpt in bandstructure.kpoints ])\n",
    "dim1 = np.unique(kpt[:,0])\n",
    "dim2 = np.unique(kpt[:,1])\n",
    "dim3 = np.unique(kpt[:,2])\n",
    "print(len(dim1), dim1 )\n",
    "print(len(dim2), dim2 )\n",
    "print(len(dim3), dim3 )"
   ]
  },
  {
   "cell_type": "code",
   "execution_count": 101,
   "metadata": {},
   "outputs": [
    {
     "data": {
      "image/png": "[encoded data removed]",
      "text/plain": [
       "<Figure size 640x480 with 1 Axes>"
      ]
     },
     "metadata": {},
     "output_type": "display_data"
    }
   ],
   "source": [
    "fig = plt.figure()\n",
    "ax = fig.add_subplot(111, projection='3d')\n",
    "\n",
    "kx = np.linspace(-0.5, 0.5, 6)\n",
    "ky = np.linspace(-0.5, 0.5, 6)\n",
    "kx, ky = np.meshgrid(kx, ky)\n",
    "kpoints = np.array([kx.flatten(), ky.flatten()]).T\n",
    "\n",
    "# bb = np.reshape(band, (6, 6))\n",
    "\n",
    "for i in range(14):\n",
    "    band = list(bandstructure.bands.values())[0][i][:36]\n",
    "    # band =bands_refined[i]\n",
    "    bb = np.reshape(band, (6, 6))\n",
    "# Plot the surface\n",
    "    ax.plot_surface(kx, ky, bb, cmap='viridis')\n",
    "\n",
    "# Add labels\n",
    "ax.set_xlabel('kx')\n",
    "ax.set_ylabel('ky')\n",
    "ax.set_zlabel('Energy')\n",
    "# ax.set_zlim((-4, 2))\n",
    "# Show the plot\n",
    "plt.show()"
   ]
  },
  {
   "cell_type": "code",
   "execution_count": 129,
   "metadata": {},
   "outputs": [
    {
     "data": {
      "image/png": "[encoded data removed]",
      "text/plain": [
       "<Figure size 640x480 with 1 Axes>"
      ]
     },
     "metadata": {},
     "output_type": "display_data"
    }
   ],
   "source": [
    "fig = plt.figure()\n",
    "ax = fig.add_subplot(111, projection='3d')\n",
    "\n",
    "\n",
    "for i in range(14):\n",
    "    band = list(bandstructure.bands.values())[0][i][:36]\n",
    "    # band =bands_refined[i]\n",
    "    bb = np.reshape(band, (6, 6))\n",
    "# Plot the surface\n",
    "    ax.plot_surface(kx, ky, bb, cmap='viridis')\n",
    "\n",
    "# Add labels\n",
    "ax.set_xlabel('kx')\n",
    "ax.set_ylabel('ky')\n",
    "ax.set_zlabel('Energy')\n",
    "# ax.set_zlim((-4, 2))\n",
    "# Show the plot\n",
    "plt.show()"
   ]
  },
  {
   "cell_type": "code",
   "execution_count": 83,
   "metadata": {},
   "outputs": [],
   "source": [
    "band = list(bandstructure.bands.values())[0][80][:36]"
   ]
  },
  {
   "cell_type": "code",
   "execution_count": 46,
   "metadata": {},
   "outputs": [],
   "source": [
    "kx = np.linspace(0, 0.5, 6)\n",
    "ky = np.linspace(0, 0.5, 6)\n",
    "kx, ky = np.meshgrid(kx, ky)\n",
    "kpoints = np.array([kx.flatten(), ky.flatten()]).T\n",
    "\n",
    "# bb = np.reshape(band, (6, 6))"
   ]
  },
  {
   "cell_type": "code",
   "execution_count": 47,
   "metadata": {},
   "outputs": [
    {
     "data": {
      "text/plain": [
       "array([[0. , 0.1, 0.2, 0.3, 0.4, 0.5],\n",
       "       [0. , 0.1, 0.2, 0.3, 0.4, 0.5],\n",
       "       [0. , 0.1, 0.2, 0.3, 0.4, 0.5],\n",
       "       [0. , 0.1, 0.2, 0.3, 0.4, 0.5],\n",
       "       [0. , 0.1, 0.2, 0.3, 0.4, 0.5],\n",
       "       [0. , 0.1, 0.2, 0.3, 0.4, 0.5]])"
      ]
     },
     "execution_count": 47,
     "metadata": {},
     "output_type": "execute_result"
    }
   ],
   "source": [
    "kx"
   ]
  },
  {
   "cell_type": "code",
   "execution_count": 88,
   "metadata": {},
   "outputs": [
    {
     "data": {
      "image/png": "[encoded data removed]",
      "text/plain": [
       "<Figure size 800x600 with 2 Axes>"
      ]
     },
     "metadata": {},
     "output_type": "display_data"
    }
   ],
   "source": [
    "plt.figure(figsize=(8, 6))\n",
    "plt.contourf(kx, ky, bb, levels=100, cmap='viridis')\n",
    "plt.colorbar(label='Energy (lower band)')\n",
    "plt.title('Energy Band Structure (lower band)')\n",
    "plt.xlabel('$k_x$')\n",
    "plt.ylabel('$k_y$')\n",
    "plt.show()"
   ]
  },
  {
   "cell_type": "code",
   "execution_count": 87,
   "metadata": {},
   "outputs": [
    {
     "data": {
      "text/plain": [
       "array([[-2.0758, -2.0459, -1.9572, -1.813 , -1.6194, -1.3884],\n",
       "       [-2.0515, -2.0219, -1.9338, -1.7909, -1.5992, -1.3713],\n",
       "       [-1.9793, -1.9503, -1.8644, -1.7252, -1.5398, -1.3215],\n",
       "       [-1.8609, -1.833 , -1.7508, -1.6185, -1.4442, -1.2437],\n",
       "       [-1.6993, -1.6732, -1.5967, -1.4749, -1.3184, -1.1466],\n",
       "       [-1.499 , -1.4756, -1.4073, -1.3013, -1.172 , -1.0445]])"
      ]
     },
     "execution_count": 87,
     "metadata": {},
     "output_type": "execute_result"
    }
   ],
   "source": [
    "bb = np.reshape(band, (6, 6))\n",
    "bb"
   ]
  },
  {
   "cell_type": "code",
   "execution_count": 20,
   "metadata": {},
   "outputs": [],
   "source": [
    "import plotly.graph_objects as go\n",
    "import numpy as np\n"
   ]
  },
  {
   "cell_type": "code",
   "execution_count": 25,
   "metadata": {},
   "outputs": [
    {
     "data": {
      "application/vnd.plotly.v1+json": {
       "config": {
        "plotlyServerURL": "https://plot.ly"
       },
       "data": [
        {
         "hoverinfo": "all",
         "hovertemplate": "Аргумент: %{x}<br>Функция: %{y}",
         "marker": {
          "opacity": 0.7,
          "size": 3
         },
         "mode": "markers",
         "type": "scatter3d",
         "x": [
          0,
          0.0625,
          0.125,
          0.1875,
          0.25,
          0.3125,
          0.375,
          0.4375,
          0.5,
          0,
          0.0625,
          0.125,
          0.1875,
          0.25,
          0.3125,
          0.375,
          0.4375,
          0.5,
          0,
          0.0625,
          0.125,
          0.1875,
          0.25,
          0.3125,
          0.375,
          0.4375,
          0.5,
          0,
          0.0625,
          0.125,
          0.1875,
          0.25,
          0.3125,
          0.375,
          0.4375,
          0.5,
          0,
          0.0625,
          0.125,
          0.1875,
          0.25,
          0.3125,
          0.375,
          0.4375,
          0.5,
          0,
          0.0625,
          0.125,
          0.1875,
          0.25,
          0.3125,
          0.375,
          0.4375,
          0.5,
          0,
          0.0625,
          0.125,
          0.1875,
          0.25,
          0.3125,
          0.375,
          0.4375,
          0.5,
          0,
          0.0625,
          0.125,
          0.1875,
          0.25,
          0.3125,
          0.375,
          0.4375,
          0.5,
          0,
          0.0625,
          0.125,
          0.1875,
          0.25,
          0.3125,
          0.375,
          0.4375,
          0.5,
          0,
          0.0625,
          0.125,
          0.1875,
          0.25,
          0.3125,
          0.375,
          0.4375,
          0.5,
          0,
          0.0625,
          0.125,
          0.1875,
          0.25,
          0.3125,
          0.375,
          0.4375,
          0.5,
          0,
          0.0625,
          0.125,
          0.1875,
          0.25,
          0.3125,
          0.375,
          0.4375,
          0.5
         ],
         "y": [
          0,
          0,
          0,
          0,
          0,
          0,
          0,
          0,
          0,
          0.16666667,
          0.16666667,
          0.16666667,
          0.16666667,
          0.16666667,
          0.16666667,
          0.16666667,
          0.16666667,
          0.16666667,
          0.33333333,
          0.33333333,
          0.33333333,
          0.33333333,
          0.33333333,
          0.33333333,
          0.33333333,
          0.33333333,
          0.33333333,
          0.5,
          0.5,
          0.5,
          0.5,
          0.5,
          0.5,
          0.5,
          0.5,
          0.5,
          0,
          0,
          0,
          0,
          0,
          0,
          0,
          0,
          0,
          0.16666667,
          0.16666667,
          0.16666667,
          0.16666667,
          0.16666667,
          0.16666667,
          0.16666667,
          0.16666667,
          0.16666667,
          0.33333333,
          0.33333333,
          0.33333333,
          0.33333333,
          0.33333333,
          0.33333333,
          0.33333333,
          0.33333333,
          0.33333333,
          0.5,
          0.5,
          0.5,
          0.5,
          0.5,
          0.5,
          0.5,
          0.5,
          0.5,
          0,
          0,
          0,
          0,
          0,
          0,
          0,
          0,
          0,
          0.16666667,
          0.16666667,
          0.16666667,
          0.16666667,
          0.16666667,
          0.16666667,
          0.16666667,
          0.16666667,
          0.16666667,
          0.33333333,
          0.33333333,
          0.33333333,
          0.33333333,
          0.33333333,
          0.33333333,
          0.33333333,
          0.33333333,
          0.33333333,
          0.5,
          0.5,
          0.5,
          0.5,
          0.5,
          0.5,
          0.5,
          0.5,
          0.5
         ],
         "z": [
          0,
          0,
          0,
          0,
          0,
          0,
          0,
          0,
          0,
          0,
          0,
          0,
          0,
          0,
          0,
          0,
          0,
          0,
          0,
          0,
          0,
          0,
          0,
          0,
          0,
          0,
          0,
          0,
          0,
          0,
          0,
          0,
          0,
          0,
          0,
          0,
          0.2,
          0.2,
          0.2,
          0.2,
          0.2,
          0.2,
          0.2,
          0.2,
          0.2,
          0.2,
          0.2,
          0.2,
          0.2,
          0.2,
          0.2,
          0.2,
          0.2,
          0.2,
          0.2,
          0.2,
          0.2,
          0.2,
          0.2,
          0.2,
          0.2,
          0.2,
          0.2,
          0.2,
          0.2,
          0.2,
          0.2,
          0.2,
          0.2,
          0.2,
          0.2,
          0.2,
          0.4,
          0.4,
          0.4,
          0.4,
          0.4,
          0.4,
          0.4,
          0.4,
          0.4,
          0.4,
          0.4,
          0.4,
          0.4,
          0.4,
          0.4,
          0.4,
          0.4,
          0.4,
          0.4,
          0.4,
          0.4,
          0.4,
          0.4,
          0.4,
          0.4,
          0.4,
          0.4,
          0.4,
          0.4,
          0.4,
          0.4,
          0.4,
          0.4,
          0.4,
          0.4,
          0.4
         ]
        }
       ],
       "layout": {
        "hovermode": "x",
        "legend": {
         "orientation": "h",
         "x": 0.5,
         "xanchor": "center"
        },
        "margin": {
         "b": 0,
         "l": 0,
         "r": 0,
         "t": 0
        },
        "scene": {
         "xaxis": {
          "nticks": 4,
          "range": [
           -1,
           1
          ]
         },
         "yaxis": {
          "nticks": 4,
          "range": [
           -1,
           1
          ]
         },
         "zaxis": {
          "nticks": 4,
          "range": [
           -1,
           1
          ]
         }
        },
        "template": {
         "data": {
          "bar": [
           {
            "error_x": {
             "color": "rgb(36,36,36)"
            },
            "error_y": {
             "color": "rgb(36,36,36)"
            },
            "marker": {
             "line": {
              "color": "white",
              "width": 0.5
             },
             "pattern": {
              "fillmode": "overlay",
              "size": 10,
              "solidity": 0.2
             }
            },
            "type": "bar"
           }
          ],
          "barpolar": [
           {
            "marker": {
             "line": {
              "color": "white",
              "width": 0.5
             },
             "pattern": {
              "fillmode": "overlay",
              "size": 10,
              "solidity": 0.2
             }
            },
            "type": "barpolar"
           }
          ],
          "carpet": [
           {
            "aaxis": {
             "endlinecolor": "rgb(36,36,36)",
             "gridcolor": "white",
             "linecolor": "white",
             "minorgridcolor": "white",
             "startlinecolor": "rgb(36,36,36)"
            },
            "baxis": {
             "endlinecolor": "rgb(36,36,36)",
             "gridcolor": "white",
             "linecolor": "white",
             "minorgridcolor": "white",
             "startlinecolor": "rgb(36,36,36)"
            },
            "type": "carpet"
           }
          ],
          "choropleth": [
           {
            "colorbar": {
             "outlinewidth": 1,
             "tickcolor": "rgb(36,36,36)",
             "ticks": "outside"
            },
            "type": "choropleth"
           }
          ],
          "contour": [
           {
            "colorbar": {
             "outlinewidth": 1,
             "tickcolor": "rgb(36,36,36)",
             "ticks": "outside"
            },
            "colorscale": [
             [
              0,
              "#440154"
             ],
             [
              0.1111111111111111,
              "#482878"
             ],
             [
              0.2222222222222222,
              "#3e4989"
             ],
             [
              0.3333333333333333,
              "#31688e"
             ],
             [
              0.4444444444444444,
              "#26828e"
             ],
             [
              0.5555555555555556,
              "#1f9e89"
             ],
             [
              0.6666666666666666,
              "#35b779"
             ],
             [
              0.7777777777777778,
              "#6ece58"
             ],
             [
              0.8888888888888888,
              "#b5de2b"
             ],
             [
              1,
              "#fde725"
             ]
            ],
            "type": "contour"
           }
          ],
          "contourcarpet": [
           {
            "colorbar": {
             "outlinewidth": 1,
             "tickcolor": "rgb(36,36,36)",
             "ticks": "outside"
            },
            "type": "contourcarpet"
           }
          ],
          "heatmap": [
           {
            "colorbar": {
             "outlinewidth": 1,
             "tickcolor": "rgb(36,36,36)",
             "ticks": "outside"
            },
            "colorscale": [
             [
              0,
              "#440154"
             ],
             [
              0.1111111111111111,
              "#482878"
             ],
             [
              0.2222222222222222,
              "#3e4989"
             ],
             [
              0.3333333333333333,
              "#31688e"
             ],
             [
              0.4444444444444444,
              "#26828e"
             ],
             [
              0.5555555555555556,
              "#1f9e89"
             ],
             [
              0.6666666666666666,
              "#35b779"
             ],
             [
              0.7777777777777778,
              "#6ece58"
             ],
             [
              0.8888888888888888,
              "#b5de2b"
             ],
             [
              1,
              "#fde725"
             ]
            ],
            "type": "heatmap"
           }
          ],
          "heatmapgl": [
           {
            "colorbar": {
             "outlinewidth": 1,
             "tickcolor": "rgb(36,36,36)",
             "ticks": "outside"
            },
            "colorscale": [
             [
              0,
              "#440154"
             ],
             [
              0.1111111111111111,
              "#482878"
             ],
             [
              0.2222222222222222,
              "#3e4989"
             ],
             [
              0.3333333333333333,
              "#31688e"
             ],
             [
              0.4444444444444444,
              "#26828e"
             ],
             [
              0.5555555555555556,
              "#1f9e89"
             ],
             [
              0.6666666666666666,
              "#35b779"
             ],
             [
              0.7777777777777778,
              "#6ece58"
             ],
             [
              0.8888888888888888,
              "#b5de2b"
             ],
             [
              1,
              "#fde725"
             ]
            ],
            "type": "heatmapgl"
           }
          ],
          "histogram": [
           {
            "marker": {
             "line": {
              "color": "white",
              "width": 0.6
             }
            },
            "type": "histogram"
           }
          ],
          "histogram2d": [
           {
            "colorbar": {
             "outlinewidth": 1,
             "tickcolor": "rgb(36,36,36)",
             "ticks": "outside"
            },
            "colorscale": [
             [
              0,
              "#440154"
             ],
             [
              0.1111111111111111,
              "#482878"
             ],
             [
              0.2222222222222222,
              "#3e4989"
             ],
             [
              0.3333333333333333,
              "#31688e"
             ],
             [
              0.4444444444444444,
              "#26828e"
             ],
             [
              0.5555555555555556,
              "#1f9e89"
             ],
             [
              0.6666666666666666,
              "#35b779"
             ],
             [
              0.7777777777777778,
              "#6ece58"
             ],
             [
              0.8888888888888888,
              "#b5de2b"
             ],
             [
              1,
              "#fde725"
             ]
            ],
            "type": "histogram2d"
           }
          ],
          "histogram2dcontour": [
           {
            "colorbar": {
             "outlinewidth": 1,
             "tickcolor": "rgb(36,36,36)",
             "ticks": "outside"
            },
            "colorscale": [
             [
              0,
              "#440154"
             ],
             [
              0.1111111111111111,
              "#482878"
             ],
             [
              0.2222222222222222,
              "#3e4989"
             ],
             [
              0.3333333333333333,
              "#31688e"
             ],
             [
              0.4444444444444444,
              "#26828e"
             ],
             [
              0.5555555555555556,
              "#1f9e89"
             ],
             [
              0.6666666666666666,
              "#35b779"
             ],
             [
              0.7777777777777778,
              "#6ece58"
             ],
             [
              0.8888888888888888,
              "#b5de2b"
             ],
             [
              1,
              "#fde725"
             ]
            ],
            "type": "histogram2dcontour"
           }
          ],
          "mesh3d": [
           {
            "colorbar": {
             "outlinewidth": 1,
             "tickcolor": "rgb(36,36,36)",
             "ticks": "outside"
            },
            "type": "mesh3d"
           }
          ],
          "parcoords": [
           {
            "line": {
             "colorbar": {
              "outlinewidth": 1,
              "tickcolor": "rgb(36,36,36)",
              "ticks": "outside"
             }
            },
            "type": "parcoords"
           }
          ],
          "pie": [
           {
            "automargin": true,
            "type": "pie"
           }
          ],
          "scatter": [
           {
            "fillpattern": {
             "fillmode": "overlay",
             "size": 10,
             "solidity": 0.2
            },
            "type": "scatter"
           }
          ],
          "scatter3d": [
           {
            "line": {
             "colorbar": {
              "outlinewidth": 1,
              "tickcolor": "rgb(36,36,36)",
              "ticks": "outside"
             }
            },
            "marker": {
             "colorbar": {
              "outlinewidth": 1,
              "tickcolor": "rgb(36,36,36)",
              "ticks": "outside"
             }
            },
            "type": "scatter3d"
           }
          ],
          "scattercarpet": [
           {
            "marker": {
             "colorbar": {
              "outlinewidth": 1,
              "tickcolor": "rgb(36,36,36)",
              "ticks": "outside"
             }
            },
            "type": "scattercarpet"
           }
          ],
          "scattergeo": [
           {
            "marker": {
             "colorbar": {
              "outlinewidth": 1,
              "tickcolor": "rgb(36,36,36)",
              "ticks": "outside"
             }
            },
            "type": "scattergeo"
           }
          ],
          "scattergl": [
           {
            "marker": {
             "colorbar": {
              "outlinewidth": 1,
              "tickcolor": "rgb(36,36,36)",
              "ticks": "outside"
             }
            },
            "type": "scattergl"
           }
          ],
          "scattermapbox": [
           {
            "marker": {
             "colorbar": {
              "outlinewidth": 1,
              "tickcolor": "rgb(36,36,36)",
              "ticks": "outside"
             }
            },
            "type": "scattermapbox"
           }
          ],
          "scatterpolar": [
           {
            "marker": {
             "colorbar": {
              "outlinewidth": 1,
              "tickcolor": "rgb(36,36,36)",
              "ticks": "outside"
             }
            },
            "type": "scatterpolar"
           }
          ],
          "scatterpolargl": [
           {
            "marker": {
             "colorbar": {
              "outlinewidth": 1,
              "tickcolor": "rgb(36,36,36)",
              "ticks": "outside"
             }
            },
            "type": "scatterpolargl"
           }
          ],
          "scatterternary": [
           {
            "marker": {
             "colorbar": {
              "outlinewidth": 1,
              "tickcolor": "rgb(36,36,36)",
              "ticks": "outside"
             }
            },
            "type": "scatterternary"
           }
          ],
          "surface": [
           {
            "colorbar": {
             "outlinewidth": 1,
             "tickcolor": "rgb(36,36,36)",
             "ticks": "outside"
            },
            "colorscale": [
             [
              0,
              "#440154"
             ],
             [
              0.1111111111111111,
              "#482878"
             ],
             [
              0.2222222222222222,
              "#3e4989"
             ],
             [
              0.3333333333333333,
              "#31688e"
             ],
             [
              0.4444444444444444,
              "#26828e"
             ],
             [
              0.5555555555555556,
              "#1f9e89"
             ],
             [
              0.6666666666666666,
              "#35b779"
             ],
             [
              0.7777777777777778,
              "#6ece58"
             ],
             [
              0.8888888888888888,
              "#b5de2b"
             ],
             [
              1,
              "#fde725"
             ]
            ],
            "type": "surface"
           }
          ],
          "table": [
           {
            "cells": {
             "fill": {
              "color": "rgb(237,237,237)"
             },
             "line": {
              "color": "white"
             }
            },
            "header": {
             "fill": {
              "color": "rgb(217,217,217)"
             },
             "line": {
              "color": "white"
             }
            },
            "type": "table"
           }
          ]
         },
         "layout": {
          "annotationdefaults": {
           "arrowhead": 0,
           "arrowwidth": 1
          },
          "autotypenumbers": "strict",
          "coloraxis": {
           "colorbar": {
            "outlinewidth": 1,
            "tickcolor": "rgb(36,36,36)",
            "ticks": "outside"
           }
          },
          "colorscale": {
           "diverging": [
            [
             0,
             "rgb(103,0,31)"
            ],
            [
             0.1,
             "rgb(178,24,43)"
            ],
            [
             0.2,
             "rgb(214,96,77)"
            ],
            [
             0.3,
             "rgb(244,165,130)"
            ],
            [
             0.4,
             "rgb(253,219,199)"
            ],
            [
             0.5,
             "rgb(247,247,247)"
            ],
            [
             0.6,
             "rgb(209,229,240)"
            ],
            [
             0.7,
             "rgb(146,197,222)"
            ],
            [
             0.8,
             "rgb(67,147,195)"
            ],
            [
             0.9,
             "rgb(33,102,172)"
            ],
            [
             1,
             "rgb(5,48,97)"
            ]
           ],
           "sequential": [
            [
             0,
             "#440154"
            ],
            [
             0.1111111111111111,
             "#482878"
            ],
            [
             0.2222222222222222,
             "#3e4989"
            ],
            [
             0.3333333333333333,
             "#31688e"
            ],
            [
             0.4444444444444444,
             "#26828e"
            ],
            [
             0.5555555555555556,
             "#1f9e89"
            ],
            [
             0.6666666666666666,
             "#35b779"
            ],
            [
             0.7777777777777778,
             "#6ece58"
            ],
            [
             0.8888888888888888,
             "#b5de2b"
            ],
            [
             1,
             "#fde725"
            ]
           ],
           "sequentialminus": [
            [
             0,
             "#440154"
            ],
            [
             0.1111111111111111,
             "#482878"
            ],
            [
             0.2222222222222222,
             "#3e4989"
            ],
            [
             0.3333333333333333,
             "#31688e"
            ],
            [
             0.4444444444444444,
             "#26828e"
            ],
            [
             0.5555555555555556,
             "#1f9e89"
            ],
            [
             0.6666666666666666,
             "#35b779"
            ],
            [
             0.7777777777777778,
             "#6ece58"
            ],
            [
             0.8888888888888888,
             "#b5de2b"
            ],
            [
             1,
             "#fde725"
            ]
           ]
          },
          "colorway": [
           "#1F77B4",
           "#FF7F0E",
           "#2CA02C",
           "#D62728",
           "#9467BD",
           "#8C564B",
           "#E377C2",
           "#7F7F7F",
           "#BCBD22",
           "#17BECF"
          ],
          "font": {
           "color": "rgb(36,36,36)"
          },
          "geo": {
           "bgcolor": "white",
           "lakecolor": "white",
           "landcolor": "white",
           "showlakes": true,
           "showland": true,
           "subunitcolor": "white"
          },
          "hoverlabel": {
           "align": "left"
          },
          "hovermode": "closest",
          "mapbox": {
           "style": "light"
          },
          "paper_bgcolor": "white",
          "plot_bgcolor": "white",
          "polar": {
           "angularaxis": {
            "gridcolor": "rgb(232,232,232)",
            "linecolor": "rgb(36,36,36)",
            "showgrid": false,
            "showline": true,
            "ticks": "outside"
           },
           "bgcolor": "white",
           "radialaxis": {
            "gridcolor": "rgb(232,232,232)",
            "linecolor": "rgb(36,36,36)",
            "showgrid": false,
            "showline": true,
            "ticks": "outside"
           }
          },
          "scene": {
           "xaxis": {
            "backgroundcolor": "white",
            "gridcolor": "rgb(232,232,232)",
            "gridwidth": 2,
            "linecolor": "rgb(36,36,36)",
            "showbackground": true,
            "showgrid": false,
            "showline": true,
            "ticks": "outside",
            "zeroline": false,
            "zerolinecolor": "rgb(36,36,36)"
           },
           "yaxis": {
            "backgroundcolor": "white",
            "gridcolor": "rgb(232,232,232)",
            "gridwidth": 2,
            "linecolor": "rgb(36,36,36)",
            "showbackground": true,
            "showgrid": false,
            "showline": true,
            "ticks": "outside",
            "zeroline": false,
            "zerolinecolor": "rgb(36,36,36)"
           },
           "zaxis": {
            "backgroundcolor": "white",
            "gridcolor": "rgb(232,232,232)",
            "gridwidth": 2,
            "linecolor": "rgb(36,36,36)",
            "showbackground": true,
            "showgrid": false,
            "showline": true,
            "ticks": "outside",
            "zeroline": false,
            "zerolinecolor": "rgb(36,36,36)"
           }
          },
          "shapedefaults": {
           "fillcolor": "black",
           "line": {
            "width": 0
           },
           "opacity": 0.3
          },
          "ternary": {
           "aaxis": {
            "gridcolor": "rgb(232,232,232)",
            "linecolor": "rgb(36,36,36)",
            "showgrid": false,
            "showline": true,
            "ticks": "outside"
           },
           "baxis": {
            "gridcolor": "rgb(232,232,232)",
            "linecolor": "rgb(36,36,36)",
            "showgrid": false,
            "showline": true,
            "ticks": "outside"
           },
           "bgcolor": "white",
           "caxis": {
            "gridcolor": "rgb(232,232,232)",
            "linecolor": "rgb(36,36,36)",
            "showgrid": false,
            "showline": true,
            "ticks": "outside"
           }
          },
          "title": {
           "x": 0.05
          },
          "xaxis": {
           "automargin": true,
           "gridcolor": "rgb(232,232,232)",
           "linecolor": "rgb(36,36,36)",
           "showgrid": false,
           "showline": true,
           "ticks": "outside",
           "title": {
            "standoff": 15
           },
           "zeroline": false,
           "zerolinecolor": "rgb(36,36,36)"
          },
          "yaxis": {
           "automargin": true,
           "gridcolor": "rgb(232,232,232)",
           "linecolor": "rgb(36,36,36)",
           "showgrid": false,
           "showline": true,
           "ticks": "outside",
           "title": {
            "standoff": 15
           },
           "zeroline": false,
           "zerolinecolor": "rgb(36,36,36)"
          }
         }
        },
        "width": 700
       }
      }
     },
     "metadata": {},
     "output_type": "display_data"
    }
   ],
   "source": [
    "def plot_conf(conf):\n",
    "    Sx = conf[:,0].flatten()\n",
    "    Sy = conf[:,1].flatten()\n",
    "    Sz = conf[:,2].flatten()\n",
    "\n",
    "    fig = go.Figure()\n",
    "    # fig.update_xaxes(range=[-1, 1])\n",
    "    # fig.update_yaxes(range=[-1, 1])\n",
    "    # fig.update_zaxes(range=[-1, 1])\n",
    "    fig.add_trace(\n",
    "        go.Scatter3d(x=Sx, y=Sy, z=Sz,\n",
    "                    mode='markers',\n",
    "                    #  size=np.ones(len(SSS))*1\n",
    "                    marker=dict(\n",
    "                                size=3.0,\n",
    "                                # color=z,                # set color to an array/list of desired values\n",
    "                                # colorscale='Viridis',   # choose a colorscale\n",
    "                                opacity=0.7\n",
    "                            )\n",
    "                    )\n",
    "        )\n",
    "    fig.update_layout(scene = dict(\n",
    "                        xaxis = dict(nticks=4, range=[-1,1],),\n",
    "                        yaxis = dict(nticks=4, range=[-1,1],),\n",
    "                        zaxis = dict(nticks=4, range=[-1,1],),),\n",
    "                    width=700,\n",
    "                    legend_orientation=\"h\",\n",
    "                    legend=dict(x=.5, xanchor=\"center\"),\n",
    "                    hovermode=\"x\",\n",
    "                    margin=dict(l=0, r=0, t=0, b=0))\n",
    "\n",
    "\n",
    "    fig.update_traces(hoverinfo=\"all\", hovertemplate=\"Аргумент: %{x}<br>Функция: %{y}\")\n",
    "    fig.show()\n",
    "\n",
    "kkp = np.array([kpt.frac_coords for kpt in bandstructure.kpoints])\n",
    "plot_conf(kkp)"
   ]
  },
  {
   "cell_type": "code",
   "execution_count": 22,
   "metadata": {},
   "outputs": [
    {
     "data": {
      "text/plain": [
       "array([[0.        , 0.        , 0.        ],\n",
       "       [0.09090909, 0.        , 0.        ],\n",
       "       [0.18181818, 0.        , 0.        ],\n",
       "       [0.27272727, 0.        , 0.        ],\n",
       "       [0.36363636, 0.        , 0.        ],\n",
       "       [0.45454545, 0.        , 0.        ],\n",
       "       [0.        , 0.09090909, 0.        ],\n",
       "       [0.09090909, 0.09090909, 0.        ],\n",
       "       [0.18181818, 0.09090909, 0.        ],\n",
       "       [0.27272727, 0.09090909, 0.        ],\n",
       "       [0.36363636, 0.09090909, 0.        ],\n",
       "       [0.45454545, 0.09090909, 0.        ],\n",
       "       [0.        , 0.18181818, 0.        ],\n",
       "       [0.09090909, 0.18181818, 0.        ],\n",
       "       [0.18181818, 0.18181818, 0.        ],\n",
       "       [0.27272727, 0.18181818, 0.        ],\n",
       "       [0.36363636, 0.18181818, 0.        ],\n",
       "       [0.45454545, 0.18181818, 0.        ],\n",
       "       [0.        , 0.27272727, 0.        ],\n",
       "       [0.09090909, 0.27272727, 0.        ],\n",
       "       [0.18181818, 0.27272727, 0.        ],\n",
       "       [0.27272727, 0.27272727, 0.        ],\n",
       "       [0.36363636, 0.27272727, 0.        ],\n",
       "       [0.45454545, 0.27272727, 0.        ],\n",
       "       [0.        , 0.36363636, 0.        ],\n",
       "       [0.09090909, 0.36363636, 0.        ],\n",
       "       [0.18181818, 0.36363636, 0.        ],\n",
       "       [0.27272727, 0.36363636, 0.        ],\n",
       "       [0.36363636, 0.36363636, 0.        ],\n",
       "       [0.45454545, 0.36363636, 0.        ],\n",
       "       [0.        , 0.45454545, 0.        ],\n",
       "       [0.09090909, 0.45454545, 0.        ],\n",
       "       [0.18181818, 0.45454545, 0.        ],\n",
       "       [0.27272727, 0.45454545, 0.        ],\n",
       "       [0.36363636, 0.45454545, 0.        ],\n",
       "       [0.45454545, 0.45454545, 0.        ],\n",
       "       [0.        , 0.        , 0.16666667],\n",
       "       [0.09090909, 0.        , 0.16666667],\n",
       "       [0.18181818, 0.        , 0.16666667],\n",
       "       [0.27272727, 0.        , 0.16666667],\n",
       "       [0.36363636, 0.        , 0.16666667],\n",
       "       [0.45454545, 0.        , 0.16666667],\n",
       "       [0.        , 0.09090909, 0.16666667],\n",
       "       [0.09090909, 0.09090909, 0.16666667],\n",
       "       [0.18181818, 0.09090909, 0.16666667],\n",
       "       [0.27272727, 0.09090909, 0.16666667],\n",
       "       [0.36363636, 0.09090909, 0.16666667],\n",
       "       [0.45454545, 0.09090909, 0.16666667],\n",
       "       [0.        , 0.18181818, 0.16666667],\n",
       "       [0.09090909, 0.18181818, 0.16666667],\n",
       "       [0.18181818, 0.18181818, 0.16666667],\n",
       "       [0.27272727, 0.18181818, 0.16666667],\n",
       "       [0.36363636, 0.18181818, 0.16666667],\n",
       "       [0.45454545, 0.18181818, 0.16666667],\n",
       "       [0.        , 0.27272727, 0.16666667],\n",
       "       [0.09090909, 0.27272727, 0.16666667],\n",
       "       [0.18181818, 0.27272727, 0.16666667],\n",
       "       [0.27272727, 0.27272727, 0.16666667],\n",
       "       [0.36363636, 0.27272727, 0.16666667],\n",
       "       [0.45454545, 0.27272727, 0.16666667],\n",
       "       [0.        , 0.36363636, 0.16666667],\n",
       "       [0.09090909, 0.36363636, 0.16666667],\n",
       "       [0.18181818, 0.36363636, 0.16666667],\n",
       "       [0.27272727, 0.36363636, 0.16666667],\n",
       "       [0.36363636, 0.36363636, 0.16666667],\n",
       "       [0.45454545, 0.36363636, 0.16666667],\n",
       "       [0.        , 0.45454545, 0.16666667],\n",
       "       [0.09090909, 0.45454545, 0.16666667],\n",
       "       [0.18181818, 0.45454545, 0.16666667],\n",
       "       [0.27272727, 0.45454545, 0.16666667],\n",
       "       [0.36363636, 0.45454545, 0.16666667],\n",
       "       [0.45454545, 0.45454545, 0.16666667],\n",
       "       [0.        , 0.        , 0.33333333],\n",
       "       [0.09090909, 0.        , 0.33333333],\n",
       "       [0.18181818, 0.        , 0.33333333],\n",
       "       [0.27272727, 0.        , 0.33333333],\n",
       "       [0.36363636, 0.        , 0.33333333],\n",
       "       [0.45454545, 0.        , 0.33333333],\n",
       "       [0.        , 0.09090909, 0.33333333],\n",
       "       [0.09090909, 0.09090909, 0.33333333],\n",
       "       [0.18181818, 0.09090909, 0.33333333],\n",
       "       [0.27272727, 0.09090909, 0.33333333],\n",
       "       [0.36363636, 0.09090909, 0.33333333],\n",
       "       [0.45454545, 0.09090909, 0.33333333],\n",
       "       [0.        , 0.18181818, 0.33333333],\n",
       "       [0.09090909, 0.18181818, 0.33333333],\n",
       "       [0.18181818, 0.18181818, 0.33333333],\n",
       "       [0.27272727, 0.18181818, 0.33333333],\n",
       "       [0.36363636, 0.18181818, 0.33333333],\n",
       "       [0.45454545, 0.18181818, 0.33333333],\n",
       "       [0.        , 0.27272727, 0.33333333],\n",
       "       [0.09090909, 0.27272727, 0.33333333],\n",
       "       [0.18181818, 0.27272727, 0.33333333],\n",
       "       [0.27272727, 0.27272727, 0.33333333],\n",
       "       [0.36363636, 0.27272727, 0.33333333],\n",
       "       [0.45454545, 0.27272727, 0.33333333],\n",
       "       [0.        , 0.36363636, 0.33333333],\n",
       "       [0.09090909, 0.36363636, 0.33333333],\n",
       "       [0.18181818, 0.36363636, 0.33333333],\n",
       "       [0.27272727, 0.36363636, 0.33333333],\n",
       "       [0.36363636, 0.36363636, 0.33333333],\n",
       "       [0.45454545, 0.36363636, 0.33333333],\n",
       "       [0.        , 0.45454545, 0.33333333],\n",
       "       [0.09090909, 0.45454545, 0.33333333],\n",
       "       [0.18181818, 0.45454545, 0.33333333],\n",
       "       [0.27272727, 0.45454545, 0.33333333],\n",
       "       [0.36363636, 0.45454545, 0.33333333],\n",
       "       [0.45454545, 0.45454545, 0.33333333],\n",
       "       [0.        , 0.        , 0.5       ],\n",
       "       [0.09090909, 0.        , 0.5       ],\n",
       "       [0.18181818, 0.        , 0.5       ],\n",
       "       [0.27272727, 0.        , 0.5       ],\n",
       "       [0.36363636, 0.        , 0.5       ],\n",
       "       [0.45454545, 0.        , 0.5       ],\n",
       "       [0.        , 0.09090909, 0.5       ],\n",
       "       [0.09090909, 0.09090909, 0.5       ],\n",
       "       [0.18181818, 0.09090909, 0.5       ],\n",
       "       [0.27272727, 0.09090909, 0.5       ],\n",
       "       [0.36363636, 0.09090909, 0.5       ],\n",
       "       [0.45454545, 0.09090909, 0.5       ],\n",
       "       [0.        , 0.18181818, 0.5       ],\n",
       "       [0.09090909, 0.18181818, 0.5       ],\n",
       "       [0.18181818, 0.18181818, 0.5       ],\n",
       "       [0.27272727, 0.18181818, 0.5       ],\n",
       "       [0.36363636, 0.18181818, 0.5       ],\n",
       "       [0.45454545, 0.18181818, 0.5       ],\n",
       "       [0.        , 0.27272727, 0.5       ],\n",
       "       [0.09090909, 0.27272727, 0.5       ],\n",
       "       [0.18181818, 0.27272727, 0.5       ],\n",
       "       [0.27272727, 0.27272727, 0.5       ],\n",
       "       [0.36363636, 0.27272727, 0.5       ],\n",
       "       [0.45454545, 0.27272727, 0.5       ],\n",
       "       [0.        , 0.36363636, 0.5       ],\n",
       "       [0.09090909, 0.36363636, 0.5       ],\n",
       "       [0.18181818, 0.36363636, 0.5       ],\n",
       "       [0.27272727, 0.36363636, 0.5       ],\n",
       "       [0.36363636, 0.36363636, 0.5       ],\n",
       "       [0.45454545, 0.36363636, 0.5       ],\n",
       "       [0.        , 0.45454545, 0.5       ],\n",
       "       [0.09090909, 0.45454545, 0.5       ],\n",
       "       [0.18181818, 0.45454545, 0.5       ],\n",
       "       [0.27272727, 0.45454545, 0.5       ],\n",
       "       [0.36363636, 0.45454545, 0.5       ],\n",
       "       [0.45454545, 0.45454545, 0.5       ]])"
      ]
     },
     "execution_count": 22,
     "metadata": {},
     "output_type": "execute_result"
    }
   ],
   "source": [
    "kkp"
   ]
  },
  {
   "cell_type": "code",
   "execution_count": 44,
   "metadata": {},
   "outputs": [
    {
     "data": {
      "text/plain": [
       "[[64, array([0.   , 0.   , 0.125])],\n",
       " [65, array([0.06666667, 0.        , 0.125     ])],\n",
       " [66, array([0.13333333, 0.        , 0.125     ])],\n",
       " [67, array([0.2  , 0.   , 0.125])],\n",
       " [68, array([0.26666667, 0.        , 0.125     ])],\n",
       " [69, array([0.33333333, 0.        , 0.125     ])],\n",
       " [70, array([0.4  , 0.   , 0.125])],\n",
       " [71, array([0.46666667, 0.        , 0.125     ])],\n",
       " [72, array([-0.46666667,  0.        ,  0.125     ])],\n",
       " [73, array([-0.4  ,  0.   ,  0.125])],\n",
       " [74, array([-0.33333333,  0.        ,  0.125     ])],\n",
       " [75, array([-0.26666667,  0.        ,  0.125     ])],\n",
       " [76, array([-0.2  ,  0.   ,  0.125])],\n",
       " [77, array([-0.13333333,  0.        ,  0.125     ])],\n",
       " [78, array([-0.06666667,  0.        ,  0.125     ])]]"
      ]
     },
     "execution_count": 44,
     "metadata": {},
     "output_type": "execute_result"
    }
   ],
   "source": [
    "kline = [ [ind ,kpt.frac_coords] for ind, kpt in enumerate(bandstructure.kpoints) if kpt.frac_coords[1] == 0 and kpt.frac_coords[2] == 0.125 ]\n",
    "kline"
   ]
  },
  {
   "cell_type": "code",
   "execution_count": 45,
   "metadata": {},
   "outputs": [
    {
     "data": {
      "text/plain": [
       "array([ 0.        ,  0.06666667,  0.13333333,  0.2       ,  0.26666667,\n",
       "        0.33333333,  0.4       ,  0.46666667, -0.46666667, -0.4       ,\n",
       "       -0.33333333, -0.26666667, -0.2       , -0.13333333, -0.06666667])"
      ]
     },
     "execution_count": 45,
     "metadata": {},
     "output_type": "execute_result"
    }
   ],
   "source": [
    "inds  = [kk[0] for kk in kline] \n",
    "kpts  = [kk[1] for kk in kline] \n",
    "kpts = np.array(kpts)[:, 0]\n",
    "kpts"
   ]
  },
  {
   "cell_type": "code",
   "execution_count": 25,
   "metadata": {},
   "outputs": [
    {
     "ename": "ValueError",
     "evalue": "setting an array element with a sequence. The requested array has an inhomogeneous shape after 2 dimensions. The detected shape was (8, 2) + inhomogeneous part.",
     "output_type": "error",
     "traceback": [
      "\u001b[0;31m---------------------------------------------------------------------------\u001b[0m",
      "\u001b[0;31mValueError\u001b[0m                                Traceback (most recent call last)",
      "Cell \u001b[0;32mIn[25], line 1\u001b[0m\n\u001b[0;32m----> 1\u001b[0m \u001b[43mnp\u001b[49m\u001b[38;5;241;43m.\u001b[39;49m\u001b[43marray\u001b[49m\u001b[43m(\u001b[49m\u001b[43mkline\u001b[49m\u001b[43m)\u001b[49m\n",
      "\u001b[0;31mValueError\u001b[0m: setting an array element with a sequence. The requested array has an inhomogeneous shape after 2 dimensions. The detected shape was (8, 2) + inhomogeneous part."
     ]
    }
   ],
   "source": [
    "np.array(kline)"
   ]
  },
  {
   "cell_type": "code",
   "execution_count": 29,
   "metadata": {},
   "outputs": [
    {
     "data": {
      "text/plain": [
       "array([-5.0251, -5.0659, -5.157 , -5.2596, -5.3258, -5.3164, -5.3057,\n",
       "       -5.2977])"
      ]
     },
     "execution_count": 29,
     "metadata": {},
     "output_type": "execute_result"
    }
   ],
   "source": [
    "list(bandstructure.bands.values())[0][15][inds]"
   ]
  },
  {
   "cell_type": "code",
   "execution_count": 56,
   "metadata": {},
   "outputs": [
    {
     "data": {
      "text/plain": [
       "array([2.6742, 2.7984, 3.065 , 3.45  , 3.9229, 4.4433, 4.9452, 5.264 ,\n",
       "       5.1279, 4.6822, 4.1587, 3.6527, 3.2175, 2.8921, 2.7056])"
      ]
     },
     "execution_count": 56,
     "metadata": {},
     "output_type": "execute_result"
    }
   ],
   "source": [
    "# band = list(bandstructure.bands.values())[0][15] - bandstructure.efermi\n",
    "band = list(bandstructure.bands.values())[0][29][inds]\n",
    "band"
   ]
  },
  {
   "cell_type": "code",
   "execution_count": 57,
   "metadata": {},
   "outputs": [
    {
     "data": {
      "image/png": "[encoded data removed]",
      "text/plain": [
       "<Figure size 640x480 with 1 Axes>"
      ]
     },
     "metadata": {},
     "output_type": "display_data"
    }
   ],
   "source": [
    "# random_band = generate(model)\n",
    "# ks = list(np.linspace(-torch.pi, torch.pi, 1000 ))\n",
    "# p_eval = np.polyval(poly_band.T, ks)\n",
    "plt.plot(kpts, band)\n",
    "# plt.ylim((-500, 200))\n",
    "plt.show()"
   ]
  },
  {
   "cell_type": "code",
   "execution_count": 11,
   "metadata": {},
   "outputs": [
    {
     "data": {
      "text/plain": [
       "array([[ 0.        ,  0.        ,  0.        ],\n",
       "       [ 0.1010767 ,  0.        ,  0.0316198 ],\n",
       "       [ 0.20215339,  0.        ,  0.06323959],\n",
       "       ...,\n",
       "       [-0.60646019,  0.60646019,  0.47429695],\n",
       "       [ 0.70753689,  0.70753689,  0.91697411],\n",
       "       [-0.70753689,  0.70753689,  0.47429695]])"
      ]
     },
     "execution_count": 11,
     "metadata": {},
     "output_type": "execute_result"
    }
   ],
   "source": [
    "kkp"
   ]
  },
  {
   "cell_type": "code",
   "execution_count": 13,
   "metadata": {},
   "outputs": [
    {
     "data": {
      "text/plain": [
       "<bound method BandStructure.get_sym_eq_kpoints of <pymatgen.electronic_structure.bandstructure.BandStructureSymmLine object at 0x7374912a8c80>>"
      ]
     },
     "execution_count": 13,
     "metadata": {},
     "output_type": "execute_result"
    }
   ],
   "source": [
    "bandstructure.kpoints"
   ]
  },
  {
   "cell_type": "code",
   "execution_count": null,
   "metadata": {},
   "outputs": [],
   "source": [
    "for element in bandstructure.bands:\n",
    "    for i in range(bandstructure.nb_bands):\n",
    "        band = list(bandstructure.bands.values())[0][i] - bandstructure.efermi\n",
    "        krange = np.linspace(-np.pi, np.pi, len(band))\n",
    "        poly_coeffs = np.polyfit(krange, band, 20)\n",
    "        print(band)\n",
    "    break"
   ]
  }
 ],
 "metadata": {
  "kernelspec": {
   "display_name": "triqs",
   "language": "python",
   "name": "python3"
  },
  "language_info": {
   "codemirror_mode": {
    "name": "ipython",
    "version": 3
   },
   "file_extension": ".py",
   "mimetype": "text/x-python",
   "name": "python",
   "nbconvert_exporter": "python",
   "pygments_lexer": "ipython3",
   "version": "3.12.1"
  }
 },
 "nbformat": 4,
 "nbformat_minor": 2
}
